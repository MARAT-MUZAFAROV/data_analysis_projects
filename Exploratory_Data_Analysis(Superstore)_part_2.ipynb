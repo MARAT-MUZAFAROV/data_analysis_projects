{
 "cells": [
  {
   "cell_type": "code",
   "execution_count": 40,
   "id": "e22eb310-501a-478f-8fca-7b03f34f1047",
   "metadata": {},
   "outputs": [],
   "source": [
    "import pandas as pd\n",
    "import numpy as np\n",
    "import matplotlib.pyplot as plt\n",
    "import plotly.express as px\n",
    "import warnings\n",
    "warnings.filterwarnings(\"ignore\", message=\"The default of observed=False is deprecated\")"
   ]
  },
  {
   "cell_type": "code",
   "execution_count": 41,
   "id": "37822c7b-0e7c-4b86-960f-3cd8caef8ade",
   "metadata": {},
   "outputs": [],
   "source": [
    "Superstore = pd.read_csv(r'C:\\Users\\Марат\\Jupiter projects\\research analysis\\Sample - Superstore.csv', sep = ',', encoding = 'ISO-8859-1')"
   ]
  },
  {
   "cell_type": "code",
   "execution_count": 42,
   "id": "5092fb69-74f3-4529-ad00-d5a59821f591",
   "metadata": {},
   "outputs": [
    {
     "name": "stdout",
     "output_type": "stream",
     "text": [
      "<class 'pandas.core.frame.DataFrame'>\n",
      "RangeIndex: 9994 entries, 0 to 9993\n",
      "Data columns (total 21 columns):\n",
      " #   Column         Non-Null Count  Dtype         \n",
      "---  ------         --------------  -----         \n",
      " 0   Row ID         9994 non-null   int64         \n",
      " 1   Order ID       9994 non-null   object        \n",
      " 2   Order Date     9994 non-null   datetime64[ns]\n",
      " 3   Ship Date      9994 non-null   object        \n",
      " 4   Ship Mode      9994 non-null   object        \n",
      " 5   Customer ID    9994 non-null   object        \n",
      " 6   Customer Name  9994 non-null   object        \n",
      " 7   Segment        9994 non-null   object        \n",
      " 8   Country        9994 non-null   object        \n",
      " 9   City           9994 non-null   object        \n",
      " 10  State          9994 non-null   object        \n",
      " 11  Postal Code    9994 non-null   int64         \n",
      " 12  Region         9994 non-null   object        \n",
      " 13  Product ID     9994 non-null   object        \n",
      " 14  Category       9994 non-null   object        \n",
      " 15  Sub-Category   9994 non-null   object        \n",
      " 16  Product Name   9994 non-null   object        \n",
      " 17  Sales          9994 non-null   float64       \n",
      " 18  Quantity       9994 non-null   int64         \n",
      " 19  Discount       9994 non-null   float64       \n",
      " 20  Profit         9994 non-null   float64       \n",
      "dtypes: datetime64[ns](1), float64(3), int64(3), object(14)\n",
      "memory usage: 1.6+ MB\n"
     ]
    }
   ],
   "source": [
    "Superstore['Order Date'] = Superstore['Order Date'].astype('datetime64[ns]')\n",
    "Superstore.info()"
   ]
  },
  {
   "cell_type": "code",
   "execution_count": 43,
   "id": "087c4897-87c4-4c47-99ea-ac378e68f679",
   "metadata": {},
   "outputs": [],
   "source": [
    "Superstore['year'] = Superstore['Order Date'].dt.year\n",
    "Superstore['month'] = Superstore['Order Date'].dt.month\n",
    "Superstore['day'] = Superstore['Order Date'].dt.day"
   ]
  },
  {
   "cell_type": "code",
   "execution_count": 44,
   "id": "6ccbb468-5cdd-44b7-a97d-7c4e0c6f3bc0",
   "metadata": {},
   "outputs": [
    {
     "name": "stdout",
     "output_type": "stream",
     "text": [
      "\u001b[1mСегментация по стране:\u001b[0m\n",
      "\n",
      "         Country  Customer ID\n",
      "0  United States         9994\n",
      "\n",
      "\u001b[1mСегментация по регионам:\u001b[0m\n",
      "\n",
      "    Region  Customer ID\n",
      "0     West         3203\n",
      "1     East         2848\n",
      "2  Central         2323\n",
      "3    South         1620\n",
      "\n",
      "\u001b[1mСегментация по штатам:\u001b[0m\n",
      "\n",
      "     year                 State  Customer ID        Sales\n",
      "0    2017            California          663  146388.3445\n",
      "1    2016            California          526  131551.9115\n",
      "2    2014            California          415   91303.5310\n",
      "3    2015            California          397   88443.8445\n",
      "4    2017              New York          352   93922.9950\n",
      "..    ...                   ...          ...          ...\n",
      "176  2014                  Iowa            2    1190.8400\n",
      "177  2015               Vermont            2    5120.1000\n",
      "178  2017  District of Columbia            2      77.7600\n",
      "179  2016                 Maine            2     547.3300\n",
      "180  2016               Wyoming            1    1603.1360\n",
      "\n",
      "[181 rows x 4 columns]\n",
      "\n",
      "\u001b[1mСегментация по городам:\u001b[0m\n",
      "\n",
      "              City  Customer ID\n",
      "0    New York City          915\n",
      "1      Los Angeles          747\n",
      "2     Philadelphia          537\n",
      "3    San Francisco          510\n",
      "4          Seattle          428\n",
      "..             ...          ...\n",
      "526   Redwood City            1\n",
      "527        Holyoke            1\n",
      "528        Redding            1\n",
      "529      Iowa City            1\n",
      "530       Aberdeen            1\n",
      "\n",
      "[531 rows x 2 columns]\n"
     ]
    }
   ],
   "source": [
    "# 1) распределение клиентской базы\n",
    "# по географическому признаку: Country, City, State, Region\n",
    "Country = Superstore.groupby('Country').agg({'Customer ID':'count'}).reset_index()\n",
    "City = Superstore.groupby('City').agg({'Customer ID':'count'}).sort_values(by = 'Customer ID', ascending = False).reset_index()\n",
    "State = Superstore.groupby(['year','State']).agg({'Customer ID':'count', 'Sales':'sum'}).sort_values(by = 'Customer ID', ascending = False).reset_index()\n",
    "Region = Superstore.groupby('Region').agg({'Customer ID':'count'}).sort_values(by = 'Customer ID', ascending = False).reset_index()\n",
    "\n",
    "print(\n",
    "    f'\\033[1mСегментация по стране:\\033[0m',\n",
    "    f'{Country}',\n",
    "    f'\\033[1mСегментация по регионам:\\033[0m',\n",
    "    f'{Region}',\n",
    "    f'\\033[1mСегментация по штатам:\\033[0m',\n",
    "    f'{State}',\n",
    "    f'\\033[1mСегментация по городам:\\033[0m',\n",
    "    f'{City}',\n",
    "    sep='\\n\\n'\n",
    ")"
   ]
  },
  {
   "cell_type": "code",
   "execution_count": 45,
   "id": "49ed8a9b-e8b3-4112-aabc-adb35ea7a2f8",
   "metadata": {},
   "outputs": [
    {
     "data": {
      "text/html": [
       "<div>\n",
       "<style scoped>\n",
       "    .dataframe tbody tr th:only-of-type {\n",
       "        vertical-align: middle;\n",
       "    }\n",
       "\n",
       "    .dataframe tbody tr th {\n",
       "        vertical-align: top;\n",
       "    }\n",
       "\n",
       "    .dataframe thead th {\n",
       "        text-align: right;\n",
       "    }\n",
       "</style>\n",
       "<table border=\"1\" class=\"dataframe\">\n",
       "  <thead>\n",
       "    <tr style=\"text-align: right;\">\n",
       "      <th></th>\n",
       "      <th>Segment</th>\n",
       "      <th>Customer ID</th>\n",
       "    </tr>\n",
       "  </thead>\n",
       "  <tbody>\n",
       "    <tr>\n",
       "      <th>0</th>\n",
       "      <td>Consumer</td>\n",
       "      <td>5191</td>\n",
       "    </tr>\n",
       "    <tr>\n",
       "      <th>1</th>\n",
       "      <td>Corporate</td>\n",
       "      <td>3020</td>\n",
       "    </tr>\n",
       "    <tr>\n",
       "      <th>2</th>\n",
       "      <td>Home Office</td>\n",
       "      <td>1783</td>\n",
       "    </tr>\n",
       "  </tbody>\n",
       "</table>\n",
       "</div>"
      ],
      "text/plain": [
       "       Segment  Customer ID\n",
       "0     Consumer         5191\n",
       "1    Corporate         3020\n",
       "2  Home Office         1783"
      ]
     },
     "execution_count": 45,
     "metadata": {},
     "output_type": "execute_result"
    }
   ],
   "source": [
    "# так как датасет сам разделяет клиентов по полю Segment посмотрим как они разделяются в самом датасете\n",
    "user_segment = Superstore.groupby('Segment').agg({'Customer ID':'count'}).reset_index()\n",
    "user_segment"
   ]
  },
  {
   "cell_type": "code",
   "execution_count": 46,
   "id": "e32dbc03-8f99-4fce-935b-6391ddf91b04",
   "metadata": {},
   "outputs": [
    {
     "data": {
      "text/html": [
       "<div>\n",
       "<style scoped>\n",
       "    .dataframe tbody tr th:only-of-type {\n",
       "        vertical-align: middle;\n",
       "    }\n",
       "\n",
       "    .dataframe tbody tr th {\n",
       "        vertical-align: top;\n",
       "    }\n",
       "\n",
       "    .dataframe thead th {\n",
       "        text-align: right;\n",
       "    }\n",
       "</style>\n",
       "<table border=\"1\" class=\"dataframe\">\n",
       "  <thead>\n",
       "    <tr style=\"text-align: right;\">\n",
       "      <th></th>\n",
       "      <th>Row ID</th>\n",
       "      <th>Order ID</th>\n",
       "      <th>Order Date</th>\n",
       "      <th>Ship Date</th>\n",
       "      <th>Customer ID</th>\n",
       "      <th>Segment</th>\n",
       "      <th>Country</th>\n",
       "      <th>City</th>\n",
       "      <th>Region</th>\n",
       "      <th>Category</th>\n",
       "      <th>Sub-Category</th>\n",
       "      <th>Product Name</th>\n",
       "      <th>Sales</th>\n",
       "      <th>Profit</th>\n",
       "      <th>Quantity</th>\n",
       "      <th>Profit Category</th>\n",
       "    </tr>\n",
       "  </thead>\n",
       "  <tbody>\n",
       "    <tr>\n",
       "      <th>0</th>\n",
       "      <td>1</td>\n",
       "      <td>CA-2016-152156</td>\n",
       "      <td>2016-11-08</td>\n",
       "      <td>11/11/2016</td>\n",
       "      <td>CG-12520</td>\n",
       "      <td>Consumer</td>\n",
       "      <td>United States</td>\n",
       "      <td>Henderson</td>\n",
       "      <td>South</td>\n",
       "      <td>Furniture</td>\n",
       "      <td>Bookcases</td>\n",
       "      <td>Bush Somerset Collection Bookcase</td>\n",
       "      <td>261.9600</td>\n",
       "      <td>41.9136</td>\n",
       "      <td>2</td>\n",
       "      <td>Very High</td>\n",
       "    </tr>\n",
       "    <tr>\n",
       "      <th>1</th>\n",
       "      <td>2</td>\n",
       "      <td>CA-2016-152156</td>\n",
       "      <td>2016-11-08</td>\n",
       "      <td>11/11/2016</td>\n",
       "      <td>CG-12520</td>\n",
       "      <td>Consumer</td>\n",
       "      <td>United States</td>\n",
       "      <td>Henderson</td>\n",
       "      <td>South</td>\n",
       "      <td>Furniture</td>\n",
       "      <td>Chairs</td>\n",
       "      <td>Hon Deluxe Fabric Upholstered Stacking Chairs,...</td>\n",
       "      <td>731.9400</td>\n",
       "      <td>219.5820</td>\n",
       "      <td>3</td>\n",
       "      <td>Very High</td>\n",
       "    </tr>\n",
       "    <tr>\n",
       "      <th>2</th>\n",
       "      <td>3</td>\n",
       "      <td>CA-2016-138688</td>\n",
       "      <td>2016-06-12</td>\n",
       "      <td>6/16/2016</td>\n",
       "      <td>DV-13045</td>\n",
       "      <td>Corporate</td>\n",
       "      <td>United States</td>\n",
       "      <td>Los Angeles</td>\n",
       "      <td>West</td>\n",
       "      <td>Office Supplies</td>\n",
       "      <td>Labels</td>\n",
       "      <td>Self-Adhesive Address Labels for Typewriters b...</td>\n",
       "      <td>14.6200</td>\n",
       "      <td>6.8714</td>\n",
       "      <td>2</td>\n",
       "      <td>Middle</td>\n",
       "    </tr>\n",
       "    <tr>\n",
       "      <th>3</th>\n",
       "      <td>4</td>\n",
       "      <td>US-2015-108966</td>\n",
       "      <td>2015-10-11</td>\n",
       "      <td>10/18/2015</td>\n",
       "      <td>SO-20335</td>\n",
       "      <td>Consumer</td>\n",
       "      <td>United States</td>\n",
       "      <td>Fort Lauderdale</td>\n",
       "      <td>South</td>\n",
       "      <td>Furniture</td>\n",
       "      <td>Tables</td>\n",
       "      <td>Bretford CR4500 Series Slim Rectangular Table</td>\n",
       "      <td>957.5775</td>\n",
       "      <td>-383.0310</td>\n",
       "      <td>5</td>\n",
       "      <td>Lower</td>\n",
       "    </tr>\n",
       "    <tr>\n",
       "      <th>4</th>\n",
       "      <td>5</td>\n",
       "      <td>US-2015-108966</td>\n",
       "      <td>2015-10-11</td>\n",
       "      <td>10/18/2015</td>\n",
       "      <td>SO-20335</td>\n",
       "      <td>Consumer</td>\n",
       "      <td>United States</td>\n",
       "      <td>Fort Lauderdale</td>\n",
       "      <td>South</td>\n",
       "      <td>Office Supplies</td>\n",
       "      <td>Storage</td>\n",
       "      <td>Eldon Fold 'N Roll Cart System</td>\n",
       "      <td>22.3680</td>\n",
       "      <td>2.5164</td>\n",
       "      <td>2</td>\n",
       "      <td>Middle</td>\n",
       "    </tr>\n",
       "    <tr>\n",
       "      <th>...</th>\n",
       "      <td>...</td>\n",
       "      <td>...</td>\n",
       "      <td>...</td>\n",
       "      <td>...</td>\n",
       "      <td>...</td>\n",
       "      <td>...</td>\n",
       "      <td>...</td>\n",
       "      <td>...</td>\n",
       "      <td>...</td>\n",
       "      <td>...</td>\n",
       "      <td>...</td>\n",
       "      <td>...</td>\n",
       "      <td>...</td>\n",
       "      <td>...</td>\n",
       "      <td>...</td>\n",
       "      <td>...</td>\n",
       "    </tr>\n",
       "    <tr>\n",
       "      <th>9989</th>\n",
       "      <td>9990</td>\n",
       "      <td>CA-2014-110422</td>\n",
       "      <td>2014-01-21</td>\n",
       "      <td>1/23/2014</td>\n",
       "      <td>TB-21400</td>\n",
       "      <td>Consumer</td>\n",
       "      <td>United States</td>\n",
       "      <td>Miami</td>\n",
       "      <td>South</td>\n",
       "      <td>Furniture</td>\n",
       "      <td>Furnishings</td>\n",
       "      <td>Ultra Door Pull Handle</td>\n",
       "      <td>25.2480</td>\n",
       "      <td>4.1028</td>\n",
       "      <td>3</td>\n",
       "      <td>Middle</td>\n",
       "    </tr>\n",
       "    <tr>\n",
       "      <th>9990</th>\n",
       "      <td>9991</td>\n",
       "      <td>CA-2017-121258</td>\n",
       "      <td>2017-02-26</td>\n",
       "      <td>3/3/2017</td>\n",
       "      <td>DB-13060</td>\n",
       "      <td>Consumer</td>\n",
       "      <td>United States</td>\n",
       "      <td>Costa Mesa</td>\n",
       "      <td>West</td>\n",
       "      <td>Furniture</td>\n",
       "      <td>Furnishings</td>\n",
       "      <td>Tenex B1-RE Series Chair Mats for Low Pile Car...</td>\n",
       "      <td>91.9600</td>\n",
       "      <td>15.6332</td>\n",
       "      <td>2</td>\n",
       "      <td>High</td>\n",
       "    </tr>\n",
       "    <tr>\n",
       "      <th>9991</th>\n",
       "      <td>9992</td>\n",
       "      <td>CA-2017-121258</td>\n",
       "      <td>2017-02-26</td>\n",
       "      <td>3/3/2017</td>\n",
       "      <td>DB-13060</td>\n",
       "      <td>Consumer</td>\n",
       "      <td>United States</td>\n",
       "      <td>Costa Mesa</td>\n",
       "      <td>West</td>\n",
       "      <td>Technology</td>\n",
       "      <td>Phones</td>\n",
       "      <td>Aastra 57i VoIP phone</td>\n",
       "      <td>258.5760</td>\n",
       "      <td>19.3932</td>\n",
       "      <td>2</td>\n",
       "      <td>High</td>\n",
       "    </tr>\n",
       "    <tr>\n",
       "      <th>9992</th>\n",
       "      <td>9993</td>\n",
       "      <td>CA-2017-121258</td>\n",
       "      <td>2017-02-26</td>\n",
       "      <td>3/3/2017</td>\n",
       "      <td>DB-13060</td>\n",
       "      <td>Consumer</td>\n",
       "      <td>United States</td>\n",
       "      <td>Costa Mesa</td>\n",
       "      <td>West</td>\n",
       "      <td>Office Supplies</td>\n",
       "      <td>Paper</td>\n",
       "      <td>It's Hot Message Books with Stickers, 2 3/4\" x 5\"</td>\n",
       "      <td>29.6000</td>\n",
       "      <td>13.3200</td>\n",
       "      <td>4</td>\n",
       "      <td>High</td>\n",
       "    </tr>\n",
       "    <tr>\n",
       "      <th>9993</th>\n",
       "      <td>9994</td>\n",
       "      <td>CA-2017-119914</td>\n",
       "      <td>2017-05-04</td>\n",
       "      <td>5/9/2017</td>\n",
       "      <td>CC-12220</td>\n",
       "      <td>Consumer</td>\n",
       "      <td>United States</td>\n",
       "      <td>Westminster</td>\n",
       "      <td>West</td>\n",
       "      <td>Office Supplies</td>\n",
       "      <td>Appliances</td>\n",
       "      <td>Acco 7-Outlet Masterpiece Power Center, Wihtou...</td>\n",
       "      <td>243.1600</td>\n",
       "      <td>72.9480</td>\n",
       "      <td>2</td>\n",
       "      <td>Very High</td>\n",
       "    </tr>\n",
       "  </tbody>\n",
       "</table>\n",
       "<p>9994 rows × 16 columns</p>\n",
       "</div>"
      ],
      "text/plain": [
       "      Row ID        Order ID Order Date   Ship Date Customer ID    Segment  \\\n",
       "0          1  CA-2016-152156 2016-11-08  11/11/2016    CG-12520   Consumer   \n",
       "1          2  CA-2016-152156 2016-11-08  11/11/2016    CG-12520   Consumer   \n",
       "2          3  CA-2016-138688 2016-06-12   6/16/2016    DV-13045  Corporate   \n",
       "3          4  US-2015-108966 2015-10-11  10/18/2015    SO-20335   Consumer   \n",
       "4          5  US-2015-108966 2015-10-11  10/18/2015    SO-20335   Consumer   \n",
       "...      ...             ...        ...         ...         ...        ...   \n",
       "9989    9990  CA-2014-110422 2014-01-21   1/23/2014    TB-21400   Consumer   \n",
       "9990    9991  CA-2017-121258 2017-02-26    3/3/2017    DB-13060   Consumer   \n",
       "9991    9992  CA-2017-121258 2017-02-26    3/3/2017    DB-13060   Consumer   \n",
       "9992    9993  CA-2017-121258 2017-02-26    3/3/2017    DB-13060   Consumer   \n",
       "9993    9994  CA-2017-119914 2017-05-04    5/9/2017    CC-12220   Consumer   \n",
       "\n",
       "            Country             City Region         Category Sub-Category  \\\n",
       "0     United States        Henderson  South        Furniture    Bookcases   \n",
       "1     United States        Henderson  South        Furniture       Chairs   \n",
       "2     United States      Los Angeles   West  Office Supplies       Labels   \n",
       "3     United States  Fort Lauderdale  South        Furniture       Tables   \n",
       "4     United States  Fort Lauderdale  South  Office Supplies      Storage   \n",
       "...             ...              ...    ...              ...          ...   \n",
       "9989  United States            Miami  South        Furniture  Furnishings   \n",
       "9990  United States       Costa Mesa   West        Furniture  Furnishings   \n",
       "9991  United States       Costa Mesa   West       Technology       Phones   \n",
       "9992  United States       Costa Mesa   West  Office Supplies        Paper   \n",
       "9993  United States      Westminster   West  Office Supplies   Appliances   \n",
       "\n",
       "                                           Product Name     Sales    Profit  \\\n",
       "0                     Bush Somerset Collection Bookcase  261.9600   41.9136   \n",
       "1     Hon Deluxe Fabric Upholstered Stacking Chairs,...  731.9400  219.5820   \n",
       "2     Self-Adhesive Address Labels for Typewriters b...   14.6200    6.8714   \n",
       "3         Bretford CR4500 Series Slim Rectangular Table  957.5775 -383.0310   \n",
       "4                        Eldon Fold 'N Roll Cart System   22.3680    2.5164   \n",
       "...                                                 ...       ...       ...   \n",
       "9989                             Ultra Door Pull Handle   25.2480    4.1028   \n",
       "9990  Tenex B1-RE Series Chair Mats for Low Pile Car...   91.9600   15.6332   \n",
       "9991                              Aastra 57i VoIP phone  258.5760   19.3932   \n",
       "9992  It's Hot Message Books with Stickers, 2 3/4\" x 5\"   29.6000   13.3200   \n",
       "9993  Acco 7-Outlet Masterpiece Power Center, Wihtou...  243.1600   72.9480   \n",
       "\n",
       "      Quantity Profit Category  \n",
       "0            2       Very High  \n",
       "1            3       Very High  \n",
       "2            2          Middle  \n",
       "3            5           Lower  \n",
       "4            2          Middle  \n",
       "...        ...             ...  \n",
       "9989         3          Middle  \n",
       "9990         2            High  \n",
       "9991         2            High  \n",
       "9992         4            High  \n",
       "9993         2       Very High  \n",
       "\n",
       "[9994 rows x 16 columns]"
      ]
     },
     "execution_count": 46,
     "metadata": {},
     "output_type": "execute_result"
    }
   ],
   "source": [
    "# создадим столбец с категорией товаров на основе прибыли и посмотрим количество пользователей в каждом сегменте\n",
    "Superstore['Profit Category'] = ''\n",
    "\n",
    "Superstore.loc[Superstore['Profit'] <= 1.728750, 'Profit Category'] = 'Lower' # изучить метод query\n",
    "Superstore.loc[(Superstore['Profit'] > 1.728750) & (Superstore['Profit'] <= 8.666500), 'Profit Category'] = 'Middle'\n",
    "Superstore.loc[(Superstore['Profit'] > 8.666500) & (Superstore['Profit'] <= 29.364000), 'Profit Category'] = 'High'\n",
    "Superstore.loc[Superstore['Profit'] > 29.364000, 'Profit Category'] = 'Very High'\n",
    "\n",
    "Superstore.loc[:, ['Row ID', 'Order ID', 'Order Date', 'Ship Date', 'Customer ID', 'Segment', 'Country', 'City', 'Region', 'Category', 'Sub-Category', 'Product Name', 'Sales', 'Profit', 'Quantity', 'Profit Category']]"
   ]
  },
  {
   "cell_type": "code",
   "execution_count": 47,
   "id": "dc33446d-fd8d-462b-861d-f12195894626",
   "metadata": {},
   "outputs": [
    {
     "name": "stdout",
     "output_type": "stream",
     "text": [
      "Количество клиентов по категориям товаров на основе прибыли: \n"
     ]
    },
    {
     "data": {
      "text/html": [
       "<div>\n",
       "<style scoped>\n",
       "    .dataframe tbody tr th:only-of-type {\n",
       "        vertical-align: middle;\n",
       "    }\n",
       "\n",
       "    .dataframe tbody tr th {\n",
       "        vertical-align: top;\n",
       "    }\n",
       "\n",
       "    .dataframe thead th {\n",
       "        text-align: right;\n",
       "    }\n",
       "</style>\n",
       "<table border=\"1\" class=\"dataframe\">\n",
       "  <thead>\n",
       "    <tr style=\"text-align: right;\">\n",
       "      <th></th>\n",
       "      <th>Profit Category</th>\n",
       "      <th>Total_customer</th>\n",
       "      <th>Total_profit</th>\n",
       "    </tr>\n",
       "  </thead>\n",
       "  <tbody>\n",
       "    <tr>\n",
       "      <th>0</th>\n",
       "      <td>High</td>\n",
       "      <td>2501</td>\n",
       "      <td>41011.4636</td>\n",
       "    </tr>\n",
       "    <tr>\n",
       "      <th>1</th>\n",
       "      <td>Lower</td>\n",
       "      <td>2499</td>\n",
       "      <td>-155564.4284</td>\n",
       "    </tr>\n",
       "    <tr>\n",
       "      <th>2</th>\n",
       "      <td>Middle</td>\n",
       "      <td>2498</td>\n",
       "      <td>12149.9140</td>\n",
       "    </tr>\n",
       "    <tr>\n",
       "      <th>3</th>\n",
       "      <td>Very High</td>\n",
       "      <td>2496</td>\n",
       "      <td>388800.0725</td>\n",
       "    </tr>\n",
       "  </tbody>\n",
       "</table>\n",
       "</div>"
      ],
      "text/plain": [
       "  Profit Category  Total_customer  Total_profit\n",
       "0            High            2501    41011.4636\n",
       "1           Lower            2499  -155564.4284\n",
       "2          Middle            2498    12149.9140\n",
       "3       Very High            2496   388800.0725"
      ]
     },
     "execution_count": 47,
     "metadata": {},
     "output_type": "execute_result"
    }
   ],
   "source": [
    "profit_category = Superstore.groupby('Profit Category').agg(\n",
    "    Total_customer = ('Customer ID', 'count'),\n",
    "    Total_profit = ('Profit', 'sum')\n",
    "    ).reset_index()\n",
    "profit_category = profit_category.sort_values('Total_customer', ascending = False)\n",
    "print('Количество клиентов по категориям товаров на основе прибыли: ')\n",
    "profit_category"
   ]
  },
  {
   "cell_type": "code",
   "execution_count": 48,
   "id": "b81e01bc-a4c9-4e2b-9f0d-f98ae63e3fb7",
   "metadata": {},
   "outputs": [
    {
     "data": {
      "text/html": [
       "<div>\n",
       "<style scoped>\n",
       "    .dataframe tbody tr th:only-of-type {\n",
       "        vertical-align: middle;\n",
       "    }\n",
       "\n",
       "    .dataframe tbody tr th {\n",
       "        vertical-align: top;\n",
       "    }\n",
       "\n",
       "    .dataframe thead th {\n",
       "        text-align: right;\n",
       "    }\n",
       "</style>\n",
       "<table border=\"1\" class=\"dataframe\">\n",
       "  <thead>\n",
       "    <tr style=\"text-align: right;\">\n",
       "      <th></th>\n",
       "      <th>Category</th>\n",
       "      <th>Sub-Category</th>\n",
       "      <th>Total_customers</th>\n",
       "    </tr>\n",
       "  </thead>\n",
       "  <tbody>\n",
       "    <tr>\n",
       "      <th>0</th>\n",
       "      <td>Furniture</td>\n",
       "      <td>Bookcases</td>\n",
       "      <td>228</td>\n",
       "    </tr>\n",
       "    <tr>\n",
       "      <th>1</th>\n",
       "      <td>Furniture</td>\n",
       "      <td>Chairs</td>\n",
       "      <td>617</td>\n",
       "    </tr>\n",
       "    <tr>\n",
       "      <th>2</th>\n",
       "      <td>Furniture</td>\n",
       "      <td>Furnishings</td>\n",
       "      <td>957</td>\n",
       "    </tr>\n",
       "    <tr>\n",
       "      <th>3</th>\n",
       "      <td>Furniture</td>\n",
       "      <td>Tables</td>\n",
       "      <td>319</td>\n",
       "    </tr>\n",
       "    <tr>\n",
       "      <th>17</th>\n",
       "      <td>Furniture</td>\n",
       "      <td>Total</td>\n",
       "      <td>2121</td>\n",
       "    </tr>\n",
       "    <tr>\n",
       "      <th>4</th>\n",
       "      <td>Office Supplies</td>\n",
       "      <td>Appliances</td>\n",
       "      <td>466</td>\n",
       "    </tr>\n",
       "    <tr>\n",
       "      <th>5</th>\n",
       "      <td>Office Supplies</td>\n",
       "      <td>Art</td>\n",
       "      <td>796</td>\n",
       "    </tr>\n",
       "    <tr>\n",
       "      <th>6</th>\n",
       "      <td>Office Supplies</td>\n",
       "      <td>Binders</td>\n",
       "      <td>1523</td>\n",
       "    </tr>\n",
       "    <tr>\n",
       "      <th>7</th>\n",
       "      <td>Office Supplies</td>\n",
       "      <td>Envelopes</td>\n",
       "      <td>254</td>\n",
       "    </tr>\n",
       "    <tr>\n",
       "      <th>8</th>\n",
       "      <td>Office Supplies</td>\n",
       "      <td>Fasteners</td>\n",
       "      <td>217</td>\n",
       "    </tr>\n",
       "    <tr>\n",
       "      <th>9</th>\n",
       "      <td>Office Supplies</td>\n",
       "      <td>Labels</td>\n",
       "      <td>364</td>\n",
       "    </tr>\n",
       "    <tr>\n",
       "      <th>10</th>\n",
       "      <td>Office Supplies</td>\n",
       "      <td>Paper</td>\n",
       "      <td>1370</td>\n",
       "    </tr>\n",
       "    <tr>\n",
       "      <th>11</th>\n",
       "      <td>Office Supplies</td>\n",
       "      <td>Storage</td>\n",
       "      <td>846</td>\n",
       "    </tr>\n",
       "    <tr>\n",
       "      <th>12</th>\n",
       "      <td>Office Supplies</td>\n",
       "      <td>Supplies</td>\n",
       "      <td>190</td>\n",
       "    </tr>\n",
       "    <tr>\n",
       "      <th>18</th>\n",
       "      <td>Office Supplies</td>\n",
       "      <td>Total</td>\n",
       "      <td>6026</td>\n",
       "    </tr>\n",
       "    <tr>\n",
       "      <th>13</th>\n",
       "      <td>Technology</td>\n",
       "      <td>Accessories</td>\n",
       "      <td>775</td>\n",
       "    </tr>\n",
       "    <tr>\n",
       "      <th>14</th>\n",
       "      <td>Technology</td>\n",
       "      <td>Copiers</td>\n",
       "      <td>68</td>\n",
       "    </tr>\n",
       "    <tr>\n",
       "      <th>15</th>\n",
       "      <td>Technology</td>\n",
       "      <td>Machines</td>\n",
       "      <td>115</td>\n",
       "    </tr>\n",
       "    <tr>\n",
       "      <th>16</th>\n",
       "      <td>Technology</td>\n",
       "      <td>Phones</td>\n",
       "      <td>889</td>\n",
       "    </tr>\n",
       "    <tr>\n",
       "      <th>19</th>\n",
       "      <td>Technology</td>\n",
       "      <td>Total</td>\n",
       "      <td>1847</td>\n",
       "    </tr>\n",
       "  </tbody>\n",
       "</table>\n",
       "</div>"
      ],
      "text/plain": [
       "           Category Sub-Category  Total_customers\n",
       "0         Furniture    Bookcases              228\n",
       "1         Furniture       Chairs              617\n",
       "2         Furniture  Furnishings              957\n",
       "3         Furniture       Tables              319\n",
       "17        Furniture        Total             2121\n",
       "4   Office Supplies   Appliances              466\n",
       "5   Office Supplies          Art              796\n",
       "6   Office Supplies      Binders             1523\n",
       "7   Office Supplies    Envelopes              254\n",
       "8   Office Supplies    Fasteners              217\n",
       "9   Office Supplies       Labels              364\n",
       "10  Office Supplies        Paper             1370\n",
       "11  Office Supplies      Storage              846\n",
       "12  Office Supplies     Supplies              190\n",
       "18  Office Supplies        Total             6026\n",
       "13       Technology  Accessories              775\n",
       "14       Technology      Copiers               68\n",
       "15       Technology     Machines              115\n",
       "16       Technology       Phones              889\n",
       "19       Technology        Total             1847"
      ]
     },
     "execution_count": 48,
     "metadata": {},
     "output_type": "execute_result"
    }
   ],
   "source": [
    "# количество клиентов по категориям и подкатегориям товаров\n",
    "Sub_Category = (\n",
    "    Superstore.groupby(['Category', 'Sub-Category'])\n",
    "    .agg(Total_customers = ('Customer ID', 'count'))\n",
    "    .reset_index()\n",
    "                        )\n",
    "\n",
    "Category = (\n",
    "    Sub_Category.groupby('Category')\n",
    "    .agg(Total_customers = ('Total_customers', 'sum'))\n",
    "    .assign(**{'Sub-Category':'Total'})\n",
    "    .reset_index()\n",
    "                        )\n",
    "\n",
    "product_segmentation = pd.concat([Sub_Category, Category], ignore_index=True)\n",
    "product_segmentation = product_segmentation.sort_values(['Category', 'Sub-Category'])\n",
    "product_segmentation"
   ]
  },
  {
   "cell_type": "code",
   "execution_count": 49,
   "id": "82665f58-7e71-4047-aaa1-19263b1a8719",
   "metadata": {},
   "outputs": [
    {
     "data": {
      "application/vnd.plotly.v1+json": {
       "config": {
        "plotlyServerURL": "https://plot.ly"
       },
       "data": [
        {
         "alignmentgroup": "True",
         "hovertemplate": "State=California<br>year=%{x}<br>Total_Customers=%{y}<extra></extra>",
         "legendgroup": "California",
         "marker": {
          "color": "#636efa",
          "pattern": {
           "shape": ""
          }
         },
         "name": "California",
         "offsetgroup": "California",
         "orientation": "v",
         "showlegend": true,
         "textposition": "auto",
         "type": "bar",
         "x": [
          2014,
          2015,
          2016,
          2017
         ],
         "xaxis": "x",
         "y": [
          415,
          397,
          526,
          663
         ],
         "yaxis": "y"
        },
        {
         "alignmentgroup": "True",
         "hovertemplate": "State=Florida<br>year=%{x}<br>Total_Customers=%{y}<extra></extra>",
         "legendgroup": "Florida",
         "marker": {
          "color": "#EF553B",
          "pattern": {
           "shape": ""
          }
         },
         "name": "Florida",
         "offsetgroup": "Florida",
         "orientation": "v",
         "showlegend": true,
         "textposition": "auto",
         "type": "bar",
         "x": [
          2014,
          2015,
          2016,
          2017
         ],
         "xaxis": "x",
         "y": [
          86,
          85,
          86,
          126
         ],
         "yaxis": "y"
        },
        {
         "alignmentgroup": "True",
         "hovertemplate": "State=Illinois<br>year=%{x}<br>Total_Customers=%{y}<extra></extra>",
         "legendgroup": "Illinois",
         "marker": {
          "color": "#00cc96",
          "pattern": {
           "shape": ""
          }
         },
         "name": "Illinois",
         "offsetgroup": "Illinois",
         "orientation": "v",
         "showlegend": true,
         "textposition": "auto",
         "type": "bar",
         "x": [
          2014,
          2015,
          2016,
          2017
         ],
         "xaxis": "x",
         "y": [
          105,
          94,
          121,
          172
         ],
         "yaxis": "y"
        },
        {
         "alignmentgroup": "True",
         "hovertemplate": "State=New York<br>year=%{x}<br>Total_Customers=%{y}<extra></extra>",
         "legendgroup": "New York",
         "marker": {
          "color": "#ab63fa",
          "pattern": {
           "shape": ""
          }
         },
         "name": "New York",
         "offsetgroup": "New York",
         "orientation": "v",
         "showlegend": true,
         "textposition": "auto",
         "type": "bar",
         "x": [
          2014,
          2015,
          2016,
          2017
         ],
         "xaxis": "x",
         "y": [
          194,
          262,
          320,
          352
         ],
         "yaxis": "y"
        },
        {
         "alignmentgroup": "True",
         "hovertemplate": "State=Ohio<br>year=%{x}<br>Total_Customers=%{y}<extra></extra>",
         "legendgroup": "Ohio",
         "marker": {
          "color": "#FFA15A",
          "pattern": {
           "shape": ""
          }
         },
         "name": "Ohio",
         "offsetgroup": "Ohio",
         "orientation": "v",
         "showlegend": true,
         "textposition": "auto",
         "type": "bar",
         "x": [
          2014,
          2015,
          2016,
          2017
         ],
         "xaxis": "x",
         "y": [
          93,
          83,
          132,
          161
         ],
         "yaxis": "y"
        },
        {
         "alignmentgroup": "True",
         "hovertemplate": "State=Pennsylvania<br>year=%{x}<br>Total_Customers=%{y}<extra></extra>",
         "legendgroup": "Pennsylvania",
         "marker": {
          "color": "#19d3f3",
          "pattern": {
           "shape": ""
          }
         },
         "name": "Pennsylvania",
         "offsetgroup": "Pennsylvania",
         "orientation": "v",
         "showlegend": true,
         "textposition": "auto",
         "type": "bar",
         "x": [
          2014,
          2015,
          2016,
          2017
         ],
         "xaxis": "x",
         "y": [
          115,
          137,
          138,
          197
         ],
         "yaxis": "y"
        },
        {
         "alignmentgroup": "True",
         "hovertemplate": "State=Texas<br>year=%{x}<br>Total_Customers=%{y}<extra></extra>",
         "legendgroup": "Texas",
         "marker": {
          "color": "#FF6692",
          "pattern": {
           "shape": ""
          }
         },
         "name": "Texas",
         "offsetgroup": "Texas",
         "orientation": "v",
         "showlegend": true,
         "textposition": "auto",
         "type": "bar",
         "x": [
          2014,
          2015,
          2016,
          2017
         ],
         "xaxis": "x",
         "y": [
          217,
          203,
          248,
          317
         ],
         "yaxis": "y"
        },
        {
         "alignmentgroup": "True",
         "hovertemplate": "State=Virginia<br>year=%{x}<br>Total_Customers=%{y}<extra></extra>",
         "legendgroup": "Virginia",
         "marker": {
          "color": "#B6E880",
          "pattern": {
           "shape": ""
          }
         },
         "name": "Virginia",
         "offsetgroup": "Virginia",
         "orientation": "v",
         "showlegend": true,
         "textposition": "auto",
         "type": "bar",
         "x": [
          2014,
          2015,
          2016
         ],
         "xaxis": "x",
         "y": [
          70,
          50,
          61
         ],
         "yaxis": "y"
        },
        {
         "alignmentgroup": "True",
         "hovertemplate": "State=Washington<br>year=%{x}<br>Total_Customers=%{y}<extra></extra>",
         "legendgroup": "Washington",
         "marker": {
          "color": "#FF97FF",
          "pattern": {
           "shape": ""
          }
         },
         "name": "Washington",
         "offsetgroup": "Washington",
         "orientation": "v",
         "showlegend": true,
         "textposition": "auto",
         "type": "bar",
         "x": [
          2014,
          2015,
          2016,
          2017
         ],
         "xaxis": "x",
         "y": [
          94,
          75,
          122,
          215
         ],
         "yaxis": "y"
        },
        {
         "alignmentgroup": "True",
         "hovertemplate": "State=Arizona<br>year=%{x}<br>Total_Customers=%{y}<extra></extra>",
         "legendgroup": "Arizona",
         "marker": {
          "color": "#FECB52",
          "pattern": {
           "shape": ""
          }
         },
         "name": "Arizona",
         "offsetgroup": "Arizona",
         "orientation": "v",
         "showlegend": true,
         "textposition": "auto",
         "type": "bar",
         "x": [
          2015,
          2017
         ],
         "xaxis": "x",
         "y": [
          63,
          70
         ],
         "yaxis": "y"
        },
        {
         "alignmentgroup": "True",
         "hovertemplate": "State=Michigan<br>year=%{x}<br>Total_Customers=%{y}<extra></extra>",
         "legendgroup": "Michigan",
         "marker": {
          "color": "#636efa",
          "pattern": {
           "shape": ""
          }
         },
         "name": "Michigan",
         "offsetgroup": "Michigan",
         "orientation": "v",
         "showlegend": true,
         "textposition": "auto",
         "type": "bar",
         "x": [
          2015,
          2016,
          2017
         ],
         "xaxis": "x",
         "y": [
          69,
          71,
          67
         ],
         "yaxis": "y"
        },
        {
         "alignmentgroup": "True",
         "hovertemplate": "State=Colorado<br>year=%{x}<br>Total_Customers=%{y}<extra></extra>",
         "legendgroup": "Colorado",
         "marker": {
          "color": "#EF553B",
          "pattern": {
           "shape": ""
          }
         },
         "name": "Colorado",
         "offsetgroup": "Colorado",
         "orientation": "v",
         "showlegend": true,
         "textposition": "auto",
         "type": "bar",
         "x": [
          2016,
          2017
         ],
         "xaxis": "x",
         "y": [
          52,
          61
         ],
         "yaxis": "y"
        },
        {
         "alignmentgroup": "True",
         "hovertemplate": "State=Georgia<br>year=%{x}<br>Total_Customers=%{y}<extra></extra>",
         "legendgroup": "Georgia",
         "marker": {
          "color": "#00cc96",
          "pattern": {
           "shape": ""
          }
         },
         "name": "Georgia",
         "offsetgroup": "Georgia",
         "orientation": "v",
         "showlegend": true,
         "textposition": "auto",
         "type": "bar",
         "x": [
          2016,
          2017
         ],
         "xaxis": "x",
         "y": [
          53,
          62
         ],
         "yaxis": "y"
        },
        {
         "alignmentgroup": "True",
         "hovertemplate": "State=North Carolina<br>year=%{x}<br>Total_Customers=%{y}<extra></extra>",
         "legendgroup": "North Carolina",
         "marker": {
          "color": "#ab63fa",
          "pattern": {
           "shape": ""
          }
         },
         "name": "North Carolina",
         "offsetgroup": "North Carolina",
         "orientation": "v",
         "showlegend": true,
         "textposition": "auto",
         "type": "bar",
         "x": [
          2016,
          2017
         ],
         "xaxis": "x",
         "y": [
          74,
          85
         ],
         "yaxis": "y"
        },
        {
         "alignmentgroup": "True",
         "hovertemplate": "State=Indiana<br>year=%{x}<br>Total_Customers=%{y}<extra></extra>",
         "legendgroup": "Indiana",
         "marker": {
          "color": "#FFA15A",
          "pattern": {
           "shape": ""
          }
         },
         "name": "Indiana",
         "offsetgroup": "Indiana",
         "orientation": "v",
         "showlegend": true,
         "textposition": "auto",
         "type": "bar",
         "x": [
          2017
         ],
         "xaxis": "x",
         "y": [
          61
         ],
         "yaxis": "y"
        },
        {
         "alignmentgroup": "True",
         "hovertemplate": "State=Kentucky<br>year=%{x}<br>Total_Customers=%{y}<extra></extra>",
         "legendgroup": "Kentucky",
         "marker": {
          "color": "#19d3f3",
          "pattern": {
           "shape": ""
          }
         },
         "name": "Kentucky",
         "offsetgroup": "Kentucky",
         "orientation": "v",
         "showlegend": true,
         "textposition": "auto",
         "type": "bar",
         "x": [
          2017
         ],
         "xaxis": "x",
         "y": [
          51
         ],
         "yaxis": "y"
        },
        {
         "alignmentgroup": "True",
         "hovertemplate": "State=Tennessee<br>year=%{x}<br>Total_Customers=%{y}<extra></extra>",
         "legendgroup": "Tennessee",
         "marker": {
          "color": "#FF6692",
          "pattern": {
           "shape": ""
          }
         },
         "name": "Tennessee",
         "offsetgroup": "Tennessee",
         "orientation": "v",
         "showlegend": true,
         "textposition": "auto",
         "type": "bar",
         "x": [
          2017
         ],
         "xaxis": "x",
         "y": [
          81
         ],
         "yaxis": "y"
        }
       ],
       "layout": {
        "autosize": true,
        "barmode": "relative",
        "legend": {
         "title": {
          "text": "State"
         },
         "tracegroupgap": 0
        },
        "template": {
         "data": {
          "bar": [
           {
            "error_x": {
             "color": "#2a3f5f"
            },
            "error_y": {
             "color": "#2a3f5f"
            },
            "marker": {
             "line": {
              "color": "#E5ECF6",
              "width": 0.5
             },
             "pattern": {
              "fillmode": "overlay",
              "size": 10,
              "solidity": 0.2
             }
            },
            "type": "bar"
           }
          ],
          "barpolar": [
           {
            "marker": {
             "line": {
              "color": "#E5ECF6",
              "width": 0.5
             },
             "pattern": {
              "fillmode": "overlay",
              "size": 10,
              "solidity": 0.2
             }
            },
            "type": "barpolar"
           }
          ],
          "carpet": [
           {
            "aaxis": {
             "endlinecolor": "#2a3f5f",
             "gridcolor": "white",
             "linecolor": "white",
             "minorgridcolor": "white",
             "startlinecolor": "#2a3f5f"
            },
            "baxis": {
             "endlinecolor": "#2a3f5f",
             "gridcolor": "white",
             "linecolor": "white",
             "minorgridcolor": "white",
             "startlinecolor": "#2a3f5f"
            },
            "type": "carpet"
           }
          ],
          "choropleth": [
           {
            "colorbar": {
             "outlinewidth": 0,
             "ticks": ""
            },
            "type": "choropleth"
           }
          ],
          "contour": [
           {
            "colorbar": {
             "outlinewidth": 0,
             "ticks": ""
            },
            "colorscale": [
             [
              0,
              "#0d0887"
             ],
             [
              0.1111111111111111,
              "#46039f"
             ],
             [
              0.2222222222222222,
              "#7201a8"
             ],
             [
              0.3333333333333333,
              "#9c179e"
             ],
             [
              0.4444444444444444,
              "#bd3786"
             ],
             [
              0.5555555555555556,
              "#d8576b"
             ],
             [
              0.6666666666666666,
              "#ed7953"
             ],
             [
              0.7777777777777778,
              "#fb9f3a"
             ],
             [
              0.8888888888888888,
              "#fdca26"
             ],
             [
              1,
              "#f0f921"
             ]
            ],
            "type": "contour"
           }
          ],
          "contourcarpet": [
           {
            "colorbar": {
             "outlinewidth": 0,
             "ticks": ""
            },
            "type": "contourcarpet"
           }
          ],
          "heatmap": [
           {
            "colorbar": {
             "outlinewidth": 0,
             "ticks": ""
            },
            "colorscale": [
             [
              0,
              "#0d0887"
             ],
             [
              0.1111111111111111,
              "#46039f"
             ],
             [
              0.2222222222222222,
              "#7201a8"
             ],
             [
              0.3333333333333333,
              "#9c179e"
             ],
             [
              0.4444444444444444,
              "#bd3786"
             ],
             [
              0.5555555555555556,
              "#d8576b"
             ],
             [
              0.6666666666666666,
              "#ed7953"
             ],
             [
              0.7777777777777778,
              "#fb9f3a"
             ],
             [
              0.8888888888888888,
              "#fdca26"
             ],
             [
              1,
              "#f0f921"
             ]
            ],
            "type": "heatmap"
           }
          ],
          "heatmapgl": [
           {
            "colorbar": {
             "outlinewidth": 0,
             "ticks": ""
            },
            "colorscale": [
             [
              0,
              "#0d0887"
             ],
             [
              0.1111111111111111,
              "#46039f"
             ],
             [
              0.2222222222222222,
              "#7201a8"
             ],
             [
              0.3333333333333333,
              "#9c179e"
             ],
             [
              0.4444444444444444,
              "#bd3786"
             ],
             [
              0.5555555555555556,
              "#d8576b"
             ],
             [
              0.6666666666666666,
              "#ed7953"
             ],
             [
              0.7777777777777778,
              "#fb9f3a"
             ],
             [
              0.8888888888888888,
              "#fdca26"
             ],
             [
              1,
              "#f0f921"
             ]
            ],
            "type": "heatmapgl"
           }
          ],
          "histogram": [
           {
            "marker": {
             "pattern": {
              "fillmode": "overlay",
              "size": 10,
              "solidity": 0.2
             }
            },
            "type": "histogram"
           }
          ],
          "histogram2d": [
           {
            "colorbar": {
             "outlinewidth": 0,
             "ticks": ""
            },
            "colorscale": [
             [
              0,
              "#0d0887"
             ],
             [
              0.1111111111111111,
              "#46039f"
             ],
             [
              0.2222222222222222,
              "#7201a8"
             ],
             [
              0.3333333333333333,
              "#9c179e"
             ],
             [
              0.4444444444444444,
              "#bd3786"
             ],
             [
              0.5555555555555556,
              "#d8576b"
             ],
             [
              0.6666666666666666,
              "#ed7953"
             ],
             [
              0.7777777777777778,
              "#fb9f3a"
             ],
             [
              0.8888888888888888,
              "#fdca26"
             ],
             [
              1,
              "#f0f921"
             ]
            ],
            "type": "histogram2d"
           }
          ],
          "histogram2dcontour": [
           {
            "colorbar": {
             "outlinewidth": 0,
             "ticks": ""
            },
            "colorscale": [
             [
              0,
              "#0d0887"
             ],
             [
              0.1111111111111111,
              "#46039f"
             ],
             [
              0.2222222222222222,
              "#7201a8"
             ],
             [
              0.3333333333333333,
              "#9c179e"
             ],
             [
              0.4444444444444444,
              "#bd3786"
             ],
             [
              0.5555555555555556,
              "#d8576b"
             ],
             [
              0.6666666666666666,
              "#ed7953"
             ],
             [
              0.7777777777777778,
              "#fb9f3a"
             ],
             [
              0.8888888888888888,
              "#fdca26"
             ],
             [
              1,
              "#f0f921"
             ]
            ],
            "type": "histogram2dcontour"
           }
          ],
          "mesh3d": [
           {
            "colorbar": {
             "outlinewidth": 0,
             "ticks": ""
            },
            "type": "mesh3d"
           }
          ],
          "parcoords": [
           {
            "line": {
             "colorbar": {
              "outlinewidth": 0,
              "ticks": ""
             }
            },
            "type": "parcoords"
           }
          ],
          "pie": [
           {
            "automargin": true,
            "type": "pie"
           }
          ],
          "scatter": [
           {
            "fillpattern": {
             "fillmode": "overlay",
             "size": 10,
             "solidity": 0.2
            },
            "type": "scatter"
           }
          ],
          "scatter3d": [
           {
            "line": {
             "colorbar": {
              "outlinewidth": 0,
              "ticks": ""
             }
            },
            "marker": {
             "colorbar": {
              "outlinewidth": 0,
              "ticks": ""
             }
            },
            "type": "scatter3d"
           }
          ],
          "scattercarpet": [
           {
            "marker": {
             "colorbar": {
              "outlinewidth": 0,
              "ticks": ""
             }
            },
            "type": "scattercarpet"
           }
          ],
          "scattergeo": [
           {
            "marker": {
             "colorbar": {
              "outlinewidth": 0,
              "ticks": ""
             }
            },
            "type": "scattergeo"
           }
          ],
          "scattergl": [
           {
            "marker": {
             "colorbar": {
              "outlinewidth": 0,
              "ticks": ""
             }
            },
            "type": "scattergl"
           }
          ],
          "scattermapbox": [
           {
            "marker": {
             "colorbar": {
              "outlinewidth": 0,
              "ticks": ""
             }
            },
            "type": "scattermapbox"
           }
          ],
          "scatterpolar": [
           {
            "marker": {
             "colorbar": {
              "outlinewidth": 0,
              "ticks": ""
             }
            },
            "type": "scatterpolar"
           }
          ],
          "scatterpolargl": [
           {
            "marker": {
             "colorbar": {
              "outlinewidth": 0,
              "ticks": ""
             }
            },
            "type": "scatterpolargl"
           }
          ],
          "scatterternary": [
           {
            "marker": {
             "colorbar": {
              "outlinewidth": 0,
              "ticks": ""
             }
            },
            "type": "scatterternary"
           }
          ],
          "surface": [
           {
            "colorbar": {
             "outlinewidth": 0,
             "ticks": ""
            },
            "colorscale": [
             [
              0,
              "#0d0887"
             ],
             [
              0.1111111111111111,
              "#46039f"
             ],
             [
              0.2222222222222222,
              "#7201a8"
             ],
             [
              0.3333333333333333,
              "#9c179e"
             ],
             [
              0.4444444444444444,
              "#bd3786"
             ],
             [
              0.5555555555555556,
              "#d8576b"
             ],
             [
              0.6666666666666666,
              "#ed7953"
             ],
             [
              0.7777777777777778,
              "#fb9f3a"
             ],
             [
              0.8888888888888888,
              "#fdca26"
             ],
             [
              1,
              "#f0f921"
             ]
            ],
            "type": "surface"
           }
          ],
          "table": [
           {
            "cells": {
             "fill": {
              "color": "#EBF0F8"
             },
             "line": {
              "color": "white"
             }
            },
            "header": {
             "fill": {
              "color": "#C8D4E3"
             },
             "line": {
              "color": "white"
             }
            },
            "type": "table"
           }
          ]
         },
         "layout": {
          "annotationdefaults": {
           "arrowcolor": "#2a3f5f",
           "arrowhead": 0,
           "arrowwidth": 1
          },
          "autotypenumbers": "strict",
          "coloraxis": {
           "colorbar": {
            "outlinewidth": 0,
            "ticks": ""
           }
          },
          "colorscale": {
           "diverging": [
            [
             0,
             "#8e0152"
            ],
            [
             0.1,
             "#c51b7d"
            ],
            [
             0.2,
             "#de77ae"
            ],
            [
             0.3,
             "#f1b6da"
            ],
            [
             0.4,
             "#fde0ef"
            ],
            [
             0.5,
             "#f7f7f7"
            ],
            [
             0.6,
             "#e6f5d0"
            ],
            [
             0.7,
             "#b8e186"
            ],
            [
             0.8,
             "#7fbc41"
            ],
            [
             0.9,
             "#4d9221"
            ],
            [
             1,
             "#276419"
            ]
           ],
           "sequential": [
            [
             0,
             "#0d0887"
            ],
            [
             0.1111111111111111,
             "#46039f"
            ],
            [
             0.2222222222222222,
             "#7201a8"
            ],
            [
             0.3333333333333333,
             "#9c179e"
            ],
            [
             0.4444444444444444,
             "#bd3786"
            ],
            [
             0.5555555555555556,
             "#d8576b"
            ],
            [
             0.6666666666666666,
             "#ed7953"
            ],
            [
             0.7777777777777778,
             "#fb9f3a"
            ],
            [
             0.8888888888888888,
             "#fdca26"
            ],
            [
             1,
             "#f0f921"
            ]
           ],
           "sequentialminus": [
            [
             0,
             "#0d0887"
            ],
            [
             0.1111111111111111,
             "#46039f"
            ],
            [
             0.2222222222222222,
             "#7201a8"
            ],
            [
             0.3333333333333333,
             "#9c179e"
            ],
            [
             0.4444444444444444,
             "#bd3786"
            ],
            [
             0.5555555555555556,
             "#d8576b"
            ],
            [
             0.6666666666666666,
             "#ed7953"
            ],
            [
             0.7777777777777778,
             "#fb9f3a"
            ],
            [
             0.8888888888888888,
             "#fdca26"
            ],
            [
             1,
             "#f0f921"
            ]
           ]
          },
          "colorway": [
           "#636efa",
           "#EF553B",
           "#00cc96",
           "#ab63fa",
           "#FFA15A",
           "#19d3f3",
           "#FF6692",
           "#B6E880",
           "#FF97FF",
           "#FECB52"
          ],
          "font": {
           "color": "#2a3f5f"
          },
          "geo": {
           "bgcolor": "white",
           "lakecolor": "white",
           "landcolor": "#E5ECF6",
           "showlakes": true,
           "showland": true,
           "subunitcolor": "white"
          },
          "hoverlabel": {
           "align": "left"
          },
          "hovermode": "closest",
          "mapbox": {
           "style": "light"
          },
          "paper_bgcolor": "white",
          "plot_bgcolor": "#E5ECF6",
          "polar": {
           "angularaxis": {
            "gridcolor": "white",
            "linecolor": "white",
            "ticks": ""
           },
           "bgcolor": "#E5ECF6",
           "radialaxis": {
            "gridcolor": "white",
            "linecolor": "white",
            "ticks": ""
           }
          },
          "scene": {
           "xaxis": {
            "backgroundcolor": "#E5ECF6",
            "gridcolor": "white",
            "gridwidth": 2,
            "linecolor": "white",
            "showbackground": true,
            "ticks": "",
            "zerolinecolor": "white"
           },
           "yaxis": {
            "backgroundcolor": "#E5ECF6",
            "gridcolor": "white",
            "gridwidth": 2,
            "linecolor": "white",
            "showbackground": true,
            "ticks": "",
            "zerolinecolor": "white"
           },
           "zaxis": {
            "backgroundcolor": "#E5ECF6",
            "gridcolor": "white",
            "gridwidth": 2,
            "linecolor": "white",
            "showbackground": true,
            "ticks": "",
            "zerolinecolor": "white"
           }
          },
          "shapedefaults": {
           "line": {
            "color": "#2a3f5f"
           }
          },
          "ternary": {
           "aaxis": {
            "gridcolor": "white",
            "linecolor": "white",
            "ticks": ""
           },
           "baxis": {
            "gridcolor": "white",
            "linecolor": "white",
            "ticks": ""
           },
           "bgcolor": "#E5ECF6",
           "caxis": {
            "gridcolor": "white",
            "linecolor": "white",
            "ticks": ""
           }
          },
          "title": {
           "x": 0.05
          },
          "xaxis": {
           "automargin": true,
           "gridcolor": "white",
           "linecolor": "white",
           "ticks": "",
           "title": {
            "standoff": 15
           },
           "zerolinecolor": "white",
           "zerolinewidth": 2
          },
          "yaxis": {
           "automargin": true,
           "gridcolor": "white",
           "linecolor": "white",
           "ticks": "",
           "title": {
            "standoff": 15
           },
           "zerolinecolor": "white",
           "zerolinewidth": 2
          }
         }
        },
        "title": {
         "text": "Сегментация клиентов по штатам"
        },
        "xaxis": {
         "anchor": "y",
         "autorange": true,
         "domain": [
          0,
          1
         ],
         "range": [
          2013.5,
          2017.5
         ],
         "title": {
          "text": "year"
         },
         "type": "linear"
        },
        "yaxis": {
         "anchor": "x",
         "autorange": true,
         "domain": [
          0,
          1
         ],
         "range": [
          0,
          2885.2631578947367
         ],
         "title": {
          "text": "Total_Customers"
         },
         "type": "linear"
        }
       }
      },
      "image/png": "[encoded data removed]",
      "text/html": [
       "<div>                            <div id=\"13dfd22d-498d-4659-b095-4931b2712c94\" class=\"plotly-graph-div\" style=\"height:525px; width:100%;\"></div>            <script type=\"text/javascript\">                require([\"plotly\"], function(Plotly) {                    window.PLOTLYENV=window.PLOTLYENV || {};                                    if (document.getElementById(\"13dfd22d-498d-4659-b095-4931b2712c94\")) {                    Plotly.newPlot(                        \"13dfd22d-498d-4659-b095-4931b2712c94\",                        [{\"alignmentgroup\":\"True\",\"hovertemplate\":\"State=California<br>year=%{x}<br>Total_Customers=%{y}<extra></extra>\",\"legendgroup\":\"California\",\"marker\":{\"color\":\"#636efa\",\"pattern\":{\"shape\":\"\"}},\"name\":\"California\",\"offsetgroup\":\"California\",\"orientation\":\"v\",\"showlegend\":true,\"textposition\":\"auto\",\"x\":[2014,2015,2016,2017],\"xaxis\":\"x\",\"y\":[415,397,526,663],\"yaxis\":\"y\",\"type\":\"bar\"},{\"alignmentgroup\":\"True\",\"hovertemplate\":\"State=Florida<br>year=%{x}<br>Total_Customers=%{y}<extra></extra>\",\"legendgroup\":\"Florida\",\"marker\":{\"color\":\"#EF553B\",\"pattern\":{\"shape\":\"\"}},\"name\":\"Florida\",\"offsetgroup\":\"Florida\",\"orientation\":\"v\",\"showlegend\":true,\"textposition\":\"auto\",\"x\":[2014,2015,2016,2017],\"xaxis\":\"x\",\"y\":[86,85,86,126],\"yaxis\":\"y\",\"type\":\"bar\"},{\"alignmentgroup\":\"True\",\"hovertemplate\":\"State=Illinois<br>year=%{x}<br>Total_Customers=%{y}<extra></extra>\",\"legendgroup\":\"Illinois\",\"marker\":{\"color\":\"#00cc96\",\"pattern\":{\"shape\":\"\"}},\"name\":\"Illinois\",\"offsetgroup\":\"Illinois\",\"orientation\":\"v\",\"showlegend\":true,\"textposition\":\"auto\",\"x\":[2014,2015,2016,2017],\"xaxis\":\"x\",\"y\":[105,94,121,172],\"yaxis\":\"y\",\"type\":\"bar\"},{\"alignmentgroup\":\"True\",\"hovertemplate\":\"State=New York<br>year=%{x}<br>Total_Customers=%{y}<extra></extra>\",\"legendgroup\":\"New York\",\"marker\":{\"color\":\"#ab63fa\",\"pattern\":{\"shape\":\"\"}},\"name\":\"New York\",\"offsetgroup\":\"New York\",\"orientation\":\"v\",\"showlegend\":true,\"textposition\":\"auto\",\"x\":[2014,2015,2016,2017],\"xaxis\":\"x\",\"y\":[194,262,320,352],\"yaxis\":\"y\",\"type\":\"bar\"},{\"alignmentgroup\":\"True\",\"hovertemplate\":\"State=Ohio<br>year=%{x}<br>Total_Customers=%{y}<extra></extra>\",\"legendgroup\":\"Ohio\",\"marker\":{\"color\":\"#FFA15A\",\"pattern\":{\"shape\":\"\"}},\"name\":\"Ohio\",\"offsetgroup\":\"Ohio\",\"orientation\":\"v\",\"showlegend\":true,\"textposition\":\"auto\",\"x\":[2014,2015,2016,2017],\"xaxis\":\"x\",\"y\":[93,83,132,161],\"yaxis\":\"y\",\"type\":\"bar\"},{\"alignmentgroup\":\"True\",\"hovertemplate\":\"State=Pennsylvania<br>year=%{x}<br>Total_Customers=%{y}<extra></extra>\",\"legendgroup\":\"Pennsylvania\",\"marker\":{\"color\":\"#19d3f3\",\"pattern\":{\"shape\":\"\"}},\"name\":\"Pennsylvania\",\"offsetgroup\":\"Pennsylvania\",\"orientation\":\"v\",\"showlegend\":true,\"textposition\":\"auto\",\"x\":[2014,2015,2016,2017],\"xaxis\":\"x\",\"y\":[115,137,138,197],\"yaxis\":\"y\",\"type\":\"bar\"},{\"alignmentgroup\":\"True\",\"hovertemplate\":\"State=Texas<br>year=%{x}<br>Total_Customers=%{y}<extra></extra>\",\"legendgroup\":\"Texas\",\"marker\":{\"color\":\"#FF6692\",\"pattern\":{\"shape\":\"\"}},\"name\":\"Texas\",\"offsetgroup\":\"Texas\",\"orientation\":\"v\",\"showlegend\":true,\"textposition\":\"auto\",\"x\":[2014,2015,2016,2017],\"xaxis\":\"x\",\"y\":[217,203,248,317],\"yaxis\":\"y\",\"type\":\"bar\"},{\"alignmentgroup\":\"True\",\"hovertemplate\":\"State=Virginia<br>year=%{x}<br>Total_Customers=%{y}<extra></extra>\",\"legendgroup\":\"Virginia\",\"marker\":{\"color\":\"#B6E880\",\"pattern\":{\"shape\":\"\"}},\"name\":\"Virginia\",\"offsetgroup\":\"Virginia\",\"orientation\":\"v\",\"showlegend\":true,\"textposition\":\"auto\",\"x\":[2014,2015,2016],\"xaxis\":\"x\",\"y\":[70,50,61],\"yaxis\":\"y\",\"type\":\"bar\"},{\"alignmentgroup\":\"True\",\"hovertemplate\":\"State=Washington<br>year=%{x}<br>Total_Customers=%{y}<extra></extra>\",\"legendgroup\":\"Washington\",\"marker\":{\"color\":\"#FF97FF\",\"pattern\":{\"shape\":\"\"}},\"name\":\"Washington\",\"offsetgroup\":\"Washington\",\"orientation\":\"v\",\"showlegend\":true,\"textposition\":\"auto\",\"x\":[2014,2015,2016,2017],\"xaxis\":\"x\",\"y\":[94,75,122,215],\"yaxis\":\"y\",\"type\":\"bar\"},{\"alignmentgroup\":\"True\",\"hovertemplate\":\"State=Arizona<br>year=%{x}<br>Total_Customers=%{y}<extra></extra>\",\"legendgroup\":\"Arizona\",\"marker\":{\"color\":\"#FECB52\",\"pattern\":{\"shape\":\"\"}},\"name\":\"Arizona\",\"offsetgroup\":\"Arizona\",\"orientation\":\"v\",\"showlegend\":true,\"textposition\":\"auto\",\"x\":[2015,2017],\"xaxis\":\"x\",\"y\":[63,70],\"yaxis\":\"y\",\"type\":\"bar\"},{\"alignmentgroup\":\"True\",\"hovertemplate\":\"State=Michigan<br>year=%{x}<br>Total_Customers=%{y}<extra></extra>\",\"legendgroup\":\"Michigan\",\"marker\":{\"color\":\"#636efa\",\"pattern\":{\"shape\":\"\"}},\"name\":\"Michigan\",\"offsetgroup\":\"Michigan\",\"orientation\":\"v\",\"showlegend\":true,\"textposition\":\"auto\",\"x\":[2015,2016,2017],\"xaxis\":\"x\",\"y\":[69,71,67],\"yaxis\":\"y\",\"type\":\"bar\"},{\"alignmentgroup\":\"True\",\"hovertemplate\":\"State=Colorado<br>year=%{x}<br>Total_Customers=%{y}<extra></extra>\",\"legendgroup\":\"Colorado\",\"marker\":{\"color\":\"#EF553B\",\"pattern\":{\"shape\":\"\"}},\"name\":\"Colorado\",\"offsetgroup\":\"Colorado\",\"orientation\":\"v\",\"showlegend\":true,\"textposition\":\"auto\",\"x\":[2016,2017],\"xaxis\":\"x\",\"y\":[52,61],\"yaxis\":\"y\",\"type\":\"bar\"},{\"alignmentgroup\":\"True\",\"hovertemplate\":\"State=Georgia<br>year=%{x}<br>Total_Customers=%{y}<extra></extra>\",\"legendgroup\":\"Georgia\",\"marker\":{\"color\":\"#00cc96\",\"pattern\":{\"shape\":\"\"}},\"name\":\"Georgia\",\"offsetgroup\":\"Georgia\",\"orientation\":\"v\",\"showlegend\":true,\"textposition\":\"auto\",\"x\":[2016,2017],\"xaxis\":\"x\",\"y\":[53,62],\"yaxis\":\"y\",\"type\":\"bar\"},{\"alignmentgroup\":\"True\",\"hovertemplate\":\"State=North Carolina<br>year=%{x}<br>Total_Customers=%{y}<extra></extra>\",\"legendgroup\":\"North Carolina\",\"marker\":{\"color\":\"#ab63fa\",\"pattern\":{\"shape\":\"\"}},\"name\":\"North Carolina\",\"offsetgroup\":\"North Carolina\",\"orientation\":\"v\",\"showlegend\":true,\"textposition\":\"auto\",\"x\":[2016,2017],\"xaxis\":\"x\",\"y\":[74,85],\"yaxis\":\"y\",\"type\":\"bar\"},{\"alignmentgroup\":\"True\",\"hovertemplate\":\"State=Indiana<br>year=%{x}<br>Total_Customers=%{y}<extra></extra>\",\"legendgroup\":\"Indiana\",\"marker\":{\"color\":\"#FFA15A\",\"pattern\":{\"shape\":\"\"}},\"name\":\"Indiana\",\"offsetgroup\":\"Indiana\",\"orientation\":\"v\",\"showlegend\":true,\"textposition\":\"auto\",\"x\":[2017],\"xaxis\":\"x\",\"y\":[61],\"yaxis\":\"y\",\"type\":\"bar\"},{\"alignmentgroup\":\"True\",\"hovertemplate\":\"State=Kentucky<br>year=%{x}<br>Total_Customers=%{y}<extra></extra>\",\"legendgroup\":\"Kentucky\",\"marker\":{\"color\":\"#19d3f3\",\"pattern\":{\"shape\":\"\"}},\"name\":\"Kentucky\",\"offsetgroup\":\"Kentucky\",\"orientation\":\"v\",\"showlegend\":true,\"textposition\":\"auto\",\"x\":[2017],\"xaxis\":\"x\",\"y\":[51],\"yaxis\":\"y\",\"type\":\"bar\"},{\"alignmentgroup\":\"True\",\"hovertemplate\":\"State=Tennessee<br>year=%{x}<br>Total_Customers=%{y}<extra></extra>\",\"legendgroup\":\"Tennessee\",\"marker\":{\"color\":\"#FF6692\",\"pattern\":{\"shape\":\"\"}},\"name\":\"Tennessee\",\"offsetgroup\":\"Tennessee\",\"orientation\":\"v\",\"showlegend\":true,\"textposition\":\"auto\",\"x\":[2017],\"xaxis\":\"x\",\"y\":[81],\"yaxis\":\"y\",\"type\":\"bar\"}],                        {\"template\":{\"data\":{\"histogram2dcontour\":[{\"type\":\"histogram2dcontour\",\"colorbar\":{\"outlinewidth\":0,\"ticks\":\"\"},\"colorscale\":[[0.0,\"#0d0887\"],[0.1111111111111111,\"#46039f\"],[0.2222222222222222,\"#7201a8\"],[0.3333333333333333,\"#9c179e\"],[0.4444444444444444,\"#bd3786\"],[0.5555555555555556,\"#d8576b\"],[0.6666666666666666,\"#ed7953\"],[0.7777777777777778,\"#fb9f3a\"],[0.8888888888888888,\"#fdca26\"],[1.0,\"#f0f921\"]]}],\"choropleth\":[{\"type\":\"choropleth\",\"colorbar\":{\"outlinewidth\":0,\"ticks\":\"\"}}],\"histogram2d\":[{\"type\":\"histogram2d\",\"colorbar\":{\"outlinewidth\":0,\"ticks\":\"\"},\"colorscale\":[[0.0,\"#0d0887\"],[0.1111111111111111,\"#46039f\"],[0.2222222222222222,\"#7201a8\"],[0.3333333333333333,\"#9c179e\"],[0.4444444444444444,\"#bd3786\"],[0.5555555555555556,\"#d8576b\"],[0.6666666666666666,\"#ed7953\"],[0.7777777777777778,\"#fb9f3a\"],[0.8888888888888888,\"#fdca26\"],[1.0,\"#f0f921\"]]}],\"heatmap\":[{\"type\":\"heatmap\",\"colorbar\":{\"outlinewidth\":0,\"ticks\":\"\"},\"colorscale\":[[0.0,\"#0d0887\"],[0.1111111111111111,\"#46039f\"],[0.2222222222222222,\"#7201a8\"],[0.3333333333333333,\"#9c179e\"],[0.4444444444444444,\"#bd3786\"],[0.5555555555555556,\"#d8576b\"],[0.6666666666666666,\"#ed7953\"],[0.7777777777777778,\"#fb9f3a\"],[0.8888888888888888,\"#fdca26\"],[1.0,\"#f0f921\"]]}],\"heatmapgl\":[{\"type\":\"heatmapgl\",\"colorbar\":{\"outlinewidth\":0,\"ticks\":\"\"},\"colorscale\":[[0.0,\"#0d0887\"],[0.1111111111111111,\"#46039f\"],[0.2222222222222222,\"#7201a8\"],[0.3333333333333333,\"#9c179e\"],[0.4444444444444444,\"#bd3786\"],[0.5555555555555556,\"#d8576b\"],[0.6666666666666666,\"#ed7953\"],[0.7777777777777778,\"#fb9f3a\"],[0.8888888888888888,\"#fdca26\"],[1.0,\"#f0f921\"]]}],\"contourcarpet\":[{\"type\":\"contourcarpet\",\"colorbar\":{\"outlinewidth\":0,\"ticks\":\"\"}}],\"contour\":[{\"type\":\"contour\",\"colorbar\":{\"outlinewidth\":0,\"ticks\":\"\"},\"colorscale\":[[0.0,\"#0d0887\"],[0.1111111111111111,\"#46039f\"],[0.2222222222222222,\"#7201a8\"],[0.3333333333333333,\"#9c179e\"],[0.4444444444444444,\"#bd3786\"],[0.5555555555555556,\"#d8576b\"],[0.6666666666666666,\"#ed7953\"],[0.7777777777777778,\"#fb9f3a\"],[0.8888888888888888,\"#fdca26\"],[1.0,\"#f0f921\"]]}],\"surface\":[{\"type\":\"surface\",\"colorbar\":{\"outlinewidth\":0,\"ticks\":\"\"},\"colorscale\":[[0.0,\"#0d0887\"],[0.1111111111111111,\"#46039f\"],[0.2222222222222222,\"#7201a8\"],[0.3333333333333333,\"#9c179e\"],[0.4444444444444444,\"#bd3786\"],[0.5555555555555556,\"#d8576b\"],[0.6666666666666666,\"#ed7953\"],[0.7777777777777778,\"#fb9f3a\"],[0.8888888888888888,\"#fdca26\"],[1.0,\"#f0f921\"]]}],\"mesh3d\":[{\"type\":\"mesh3d\",\"colorbar\":{\"outlinewidth\":0,\"ticks\":\"\"}}],\"scatter\":[{\"fillpattern\":{\"fillmode\":\"overlay\",\"size\":10,\"solidity\":0.2},\"type\":\"scatter\"}],\"parcoords\":[{\"type\":\"parcoords\",\"line\":{\"colorbar\":{\"outlinewidth\":0,\"ticks\":\"\"}}}],\"scatterpolargl\":[{\"type\":\"scatterpolargl\",\"marker\":{\"colorbar\":{\"outlinewidth\":0,\"ticks\":\"\"}}}],\"bar\":[{\"error_x\":{\"color\":\"#2a3f5f\"},\"error_y\":{\"color\":\"#2a3f5f\"},\"marker\":{\"line\":{\"color\":\"#E5ECF6\",\"width\":0.5},\"pattern\":{\"fillmode\":\"overlay\",\"size\":10,\"solidity\":0.2}},\"type\":\"bar\"}],\"scattergeo\":[{\"type\":\"scattergeo\",\"marker\":{\"colorbar\":{\"outlinewidth\":0,\"ticks\":\"\"}}}],\"scatterpolar\":[{\"type\":\"scatterpolar\",\"marker\":{\"colorbar\":{\"outlinewidth\":0,\"ticks\":\"\"}}}],\"histogram\":[{\"marker\":{\"pattern\":{\"fillmode\":\"overlay\",\"size\":10,\"solidity\":0.2}},\"type\":\"histogram\"}],\"scattergl\":[{\"type\":\"scattergl\",\"marker\":{\"colorbar\":{\"outlinewidth\":0,\"ticks\":\"\"}}}],\"scatter3d\":[{\"type\":\"scatter3d\",\"line\":{\"colorbar\":{\"outlinewidth\":0,\"ticks\":\"\"}},\"marker\":{\"colorbar\":{\"outlinewidth\":0,\"ticks\":\"\"}}}],\"scattermapbox\":[{\"type\":\"scattermapbox\",\"marker\":{\"colorbar\":{\"outlinewidth\":0,\"ticks\":\"\"}}}],\"scatterternary\":[{\"type\":\"scatterternary\",\"marker\":{\"colorbar\":{\"outlinewidth\":0,\"ticks\":\"\"}}}],\"scattercarpet\":[{\"type\":\"scattercarpet\",\"marker\":{\"colorbar\":{\"outlinewidth\":0,\"ticks\":\"\"}}}],\"carpet\":[{\"aaxis\":{\"endlinecolor\":\"#2a3f5f\",\"gridcolor\":\"white\",\"linecolor\":\"white\",\"minorgridcolor\":\"white\",\"startlinecolor\":\"#2a3f5f\"},\"baxis\":{\"endlinecolor\":\"#2a3f5f\",\"gridcolor\":\"white\",\"linecolor\":\"white\",\"minorgridcolor\":\"white\",\"startlinecolor\":\"#2a3f5f\"},\"type\":\"carpet\"}],\"table\":[{\"cells\":{\"fill\":{\"color\":\"#EBF0F8\"},\"line\":{\"color\":\"white\"}},\"header\":{\"fill\":{\"color\":\"#C8D4E3\"},\"line\":{\"color\":\"white\"}},\"type\":\"table\"}],\"barpolar\":[{\"marker\":{\"line\":{\"color\":\"#E5ECF6\",\"width\":0.5},\"pattern\":{\"fillmode\":\"overlay\",\"size\":10,\"solidity\":0.2}},\"type\":\"barpolar\"}],\"pie\":[{\"automargin\":true,\"type\":\"pie\"}]},\"layout\":{\"autotypenumbers\":\"strict\",\"colorway\":[\"#636efa\",\"#EF553B\",\"#00cc96\",\"#ab63fa\",\"#FFA15A\",\"#19d3f3\",\"#FF6692\",\"#B6E880\",\"#FF97FF\",\"#FECB52\"],\"font\":{\"color\":\"#2a3f5f\"},\"hovermode\":\"closest\",\"hoverlabel\":{\"align\":\"left\"},\"paper_bgcolor\":\"white\",\"plot_bgcolor\":\"#E5ECF6\",\"polar\":{\"bgcolor\":\"#E5ECF6\",\"angularaxis\":{\"gridcolor\":\"white\",\"linecolor\":\"white\",\"ticks\":\"\"},\"radialaxis\":{\"gridcolor\":\"white\",\"linecolor\":\"white\",\"ticks\":\"\"}},\"ternary\":{\"bgcolor\":\"#E5ECF6\",\"aaxis\":{\"gridcolor\":\"white\",\"linecolor\":\"white\",\"ticks\":\"\"},\"baxis\":{\"gridcolor\":\"white\",\"linecolor\":\"white\",\"ticks\":\"\"},\"caxis\":{\"gridcolor\":\"white\",\"linecolor\":\"white\",\"ticks\":\"\"}},\"coloraxis\":{\"colorbar\":{\"outlinewidth\":0,\"ticks\":\"\"}},\"colorscale\":{\"sequential\":[[0.0,\"#0d0887\"],[0.1111111111111111,\"#46039f\"],[0.2222222222222222,\"#7201a8\"],[0.3333333333333333,\"#9c179e\"],[0.4444444444444444,\"#bd3786\"],[0.5555555555555556,\"#d8576b\"],[0.6666666666666666,\"#ed7953\"],[0.7777777777777778,\"#fb9f3a\"],[0.8888888888888888,\"#fdca26\"],[1.0,\"#f0f921\"]],\"sequentialminus\":[[0.0,\"#0d0887\"],[0.1111111111111111,\"#46039f\"],[0.2222222222222222,\"#7201a8\"],[0.3333333333333333,\"#9c179e\"],[0.4444444444444444,\"#bd3786\"],[0.5555555555555556,\"#d8576b\"],[0.6666666666666666,\"#ed7953\"],[0.7777777777777778,\"#fb9f3a\"],[0.8888888888888888,\"#fdca26\"],[1.0,\"#f0f921\"]],\"diverging\":[[0,\"#8e0152\"],[0.1,\"#c51b7d\"],[0.2,\"#de77ae\"],[0.3,\"#f1b6da\"],[0.4,\"#fde0ef\"],[0.5,\"#f7f7f7\"],[0.6,\"#e6f5d0\"],[0.7,\"#b8e186\"],[0.8,\"#7fbc41\"],[0.9,\"#4d9221\"],[1,\"#276419\"]]},\"xaxis\":{\"gridcolor\":\"white\",\"linecolor\":\"white\",\"ticks\":\"\",\"title\":{\"standoff\":15},\"zerolinecolor\":\"white\",\"automargin\":true,\"zerolinewidth\":2},\"yaxis\":{\"gridcolor\":\"white\",\"linecolor\":\"white\",\"ticks\":\"\",\"title\":{\"standoff\":15},\"zerolinecolor\":\"white\",\"automargin\":true,\"zerolinewidth\":2},\"scene\":{\"xaxis\":{\"backgroundcolor\":\"#E5ECF6\",\"gridcolor\":\"white\",\"linecolor\":\"white\",\"showbackground\":true,\"ticks\":\"\",\"zerolinecolor\":\"white\",\"gridwidth\":2},\"yaxis\":{\"backgroundcolor\":\"#E5ECF6\",\"gridcolor\":\"white\",\"linecolor\":\"white\",\"showbackground\":true,\"ticks\":\"\",\"zerolinecolor\":\"white\",\"gridwidth\":2},\"zaxis\":{\"backgroundcolor\":\"#E5ECF6\",\"gridcolor\":\"white\",\"linecolor\":\"white\",\"showbackground\":true,\"ticks\":\"\",\"zerolinecolor\":\"white\",\"gridwidth\":2}},\"shapedefaults\":{\"line\":{\"color\":\"#2a3f5f\"}},\"annotationdefaults\":{\"arrowcolor\":\"#2a3f5f\",\"arrowhead\":0,\"arrowwidth\":1},\"geo\":{\"bgcolor\":\"white\",\"landcolor\":\"#E5ECF6\",\"subunitcolor\":\"white\",\"showland\":true,\"showlakes\":true,\"lakecolor\":\"white\"},\"title\":{\"x\":0.05},\"mapbox\":{\"style\":\"light\"}}},\"xaxis\":{\"anchor\":\"y\",\"domain\":[0.0,1.0],\"title\":{\"text\":\"year\"}},\"yaxis\":{\"anchor\":\"x\",\"domain\":[0.0,1.0],\"title\":{\"text\":\"Total_Customers\"}},\"legend\":{\"title\":{\"text\":\"State\"},\"tracegroupgap\":0},\"title\":{\"text\":\"\\u0421\\u0435\\u0433\\u043c\\u0435\\u043d\\u0442\\u0430\\u0446\\u0438\\u044f \\u043a\\u043b\\u0438\\u0435\\u043d\\u0442\\u043e\\u0432 \\u043f\\u043e \\u0448\\u0442\\u0430\\u0442\\u0430\\u043c\"},\"barmode\":\"relative\"},                        {\"responsive\": true}                    ).then(function(){\n",
       "                            \n",
       "var gd = document.getElementById('13dfd22d-498d-4659-b095-4931b2712c94');\n",
       "var x = new MutationObserver(function (mutations, observer) {{\n",
       "        var display = window.getComputedStyle(gd).display;\n",
       "        if (!display || display === 'none') {{\n",
       "            console.log([gd, 'removed!']);\n",
       "            Plotly.purge(gd);\n",
       "            observer.disconnect();\n",
       "        }}\n",
       "}});\n",
       "\n",
       "// Listen for the removal of the full notebook cells\n",
       "var notebookContainer = gd.closest('#notebook-container');\n",
       "if (notebookContainer) {{\n",
       "    x.observe(notebookContainer, {childList: true});\n",
       "}}\n",
       "\n",
       "// Listen for the clearing of the current output cell\n",
       "var outputEl = gd.closest('.output');\n",
       "if (outputEl) {{\n",
       "    x.observe(outputEl, {childList: true});\n",
       "}}\n",
       "\n",
       "                        })                };                });            </script>        </div>"
      ]
     },
     "metadata": {},
     "output_type": "display_data"
    }
   ],
   "source": [
    "# посмотреть динамику выручки и прибыли по всем сегментам\n",
    "#State.describe()\n",
    "State_group = State.groupby(['year', 'State']).agg(Total_Customers=('Customer ID', 'sum')).reset_index()\n",
    "\n",
    "State_filter = State_group[State_group['Total_Customers'] >= 50] # добавить сортировку\n",
    "#State_filter['year'].unique()\n",
    "graf = px.bar(\n",
    "     State_filter,\n",
    "     x = 'year',\n",
    "     y = 'Total_Customers',\n",
    "     color = 'State',\n",
    "     title = 'Сегментация клиентов по штатам'\n",
    "    )\n",
    "\n",
    "graf.show() # пофиксить нумерацию годов"
   ]
  },
  {
   "cell_type": "code",
   "execution_count": 50,
   "id": "e6638300-7109-44c6-aa2b-92bbc2deb016",
   "metadata": {},
   "outputs": [
    {
     "data": {
      "application/vnd.plotly.v1+json": {
       "config": {
        "plotlyServerURL": "https://plot.ly"
       },
       "data": [
        {
         "alignmentgroup": "True",
         "hovertemplate": "State=California<br>year=%{x}<br>Total_Sales=%{y}<extra></extra>",
         "legendgroup": "California",
         "marker": {
          "color": "#636efa",
          "pattern": {
           "shape": ""
          }
         },
         "name": "California",
         "offsetgroup": "California",
         "orientation": "v",
         "showlegend": true,
         "textposition": "auto",
         "type": "bar",
         "x": [
          2017,
          2016,
          2014,
          2015
         ],
         "xaxis": "x",
         "y": [
          146388.3445,
          131551.91150000002,
          91303.531,
          88443.8445
         ],
         "yaxis": "y"
        },
        {
         "alignmentgroup": "True",
         "hovertemplate": "State=New York<br>year=%{x}<br>Total_Sales=%{y}<extra></extra>",
         "legendgroup": "New York",
         "marker": {
          "color": "#EF553B",
          "pattern": {
           "shape": ""
          }
         },
         "name": "New York",
         "offsetgroup": "New York",
         "orientation": "v",
         "showlegend": true,
         "textposition": "auto",
         "type": "bar",
         "x": [
          2017,
          2015,
          2016,
          2014
         ],
         "xaxis": "x",
         "y": [
          93922.995,
          80320.687,
          71844.102,
          64788.487
         ],
         "yaxis": "y"
        },
        {
         "alignmentgroup": "True",
         "hovertemplate": "State=Washington<br>year=%{x}<br>Total_Sales=%{y}<extra></extra>",
         "legendgroup": "Washington",
         "marker": {
          "color": "#00cc96",
          "pattern": {
           "shape": ""
          }
         },
         "name": "Washington",
         "offsetgroup": "Washington",
         "orientation": "v",
         "showlegend": true,
         "textposition": "auto",
         "type": "bar",
         "x": [
          2017,
          2014,
          2015,
          2016
         ],
         "xaxis": "x",
         "y": [
          65539.896,
          29871.576,
          23415.514,
          19814.284
         ],
         "yaxis": "y"
        },
        {
         "alignmentgroup": "True",
         "hovertemplate": "State=Texas<br>year=%{x}<br>Total_Sales=%{y}<extra></extra>",
         "legendgroup": "Texas",
         "marker": {
          "color": "#ab63fa",
          "pattern": {
           "shape": ""
          }
         },
         "name": "Texas",
         "offsetgroup": "Texas",
         "orientation": "v",
         "showlegend": true,
         "textposition": "auto",
         "type": "bar",
         "x": [
          2014,
          2017,
          2016,
          2015
         ],
         "xaxis": "x",
         "y": [
          50625.1766,
          43421.7582,
          41686.152,
          34454.959
         ],
         "yaxis": "y"
        },
        {
         "alignmentgroup": "True",
         "hovertemplate": "State=Pennsylvania<br>year=%{x}<br>Total_Sales=%{y}<extra></extra>",
         "legendgroup": "Pennsylvania",
         "marker": {
          "color": "#FFA15A",
          "pattern": {
           "shape": ""
          }
         },
         "name": "Pennsylvania",
         "offsetgroup": "Pennsylvania",
         "orientation": "v",
         "showlegend": true,
         "textposition": "auto",
         "type": "bar",
         "x": [
          2017,
          2016,
          2015,
          2014
         ],
         "xaxis": "x",
         "y": [
          42688.306000000004,
          33066.644,
          20510.816,
          20246.148
         ],
         "yaxis": "y"
        },
        {
         "alignmentgroup": "True",
         "hovertemplate": "State=Florida<br>year=%{x}<br>Total_Sales=%{y}<extra></extra>",
         "legendgroup": "Florida",
         "marker": {
          "color": "#19d3f3",
          "pattern": {
           "shape": ""
          }
         },
         "name": "Florida",
         "offsetgroup": "Florida",
         "orientation": "v",
         "showlegend": true,
         "textposition": "auto",
         "type": "bar",
         "x": [
          2014,
          2017,
          2015,
          2016
         ],
         "xaxis": "x",
         "y": [
          34248.2605,
          26444.7155,
          15177.4485,
          13603.2835
         ],
         "yaxis": "y"
        },
        {
         "alignmentgroup": "True",
         "hovertemplate": "State=Michigan<br>year=%{x}<br>Total_Sales=%{y}<extra></extra>",
         "legendgroup": "Michigan",
         "marker": {
          "color": "#FF6692",
          "pattern": {
           "shape": ""
          }
         },
         "name": "Michigan",
         "offsetgroup": "Michigan",
         "orientation": "v",
         "showlegend": true,
         "textposition": "auto",
         "type": "bar",
         "x": [
          2016,
          2017,
          2015,
          2014
         ],
         "xaxis": "x",
         "y": [
          27420.035,
          25833.649,
          16843.679,
          6172.251
         ],
         "yaxis": "y"
        },
        {
         "alignmentgroup": "True",
         "hovertemplate": "State=Virginia<br>year=%{x}<br>Total_Sales=%{y}<extra></extra>",
         "legendgroup": "Virginia",
         "marker": {
          "color": "#B6E880",
          "pattern": {
           "shape": ""
          }
         },
         "name": "Virginia",
         "offsetgroup": "Virginia",
         "orientation": "v",
         "showlegend": true,
         "textposition": "auto",
         "type": "bar",
         "x": [
          2016,
          2014,
          2015,
          2017
         ],
         "xaxis": "x",
         "y": [
          26691.05,
          25802.05,
          10543.42,
          7600.2
         ],
         "yaxis": "y"
        },
        {
         "alignmentgroup": "True",
         "hovertemplate": "State=Indiana<br>year=%{x}<br>Total_Sales=%{y}<extra></extra>",
         "legendgroup": "Indiana",
         "marker": {
          "color": "#FF97FF",
          "pattern": {
           "shape": ""
          }
         },
         "name": "Indiana",
         "offsetgroup": "Indiana",
         "orientation": "v",
         "showlegend": true,
         "textposition": "auto",
         "type": "bar",
         "x": [
          2016,
          2017,
          2015,
          2014
         ],
         "xaxis": "x",
         "y": [
          25461.780000000002,
          18516.45,
          6640.32,
          2936.81
         ],
         "yaxis": "y"
        },
        {
         "alignmentgroup": "True",
         "hovertemplate": "State=Ohio<br>year=%{x}<br>Total_Sales=%{y}<extra></extra>",
         "legendgroup": "Ohio",
         "marker": {
          "color": "#FECB52",
          "pattern": {
           "shape": ""
          }
         },
         "name": "Ohio",
         "offsetgroup": "Ohio",
         "orientation": "v",
         "showlegend": true,
         "textposition": "auto",
         "type": "bar",
         "x": [
          2016,
          2017,
          2015,
          2014
         ],
         "xaxis": "x",
         "y": [
          24748.01,
          23264.85,
          16110.426,
          14134.85
         ],
         "yaxis": "y"
        },
        {
         "alignmentgroup": "True",
         "hovertemplate": "State=Illinois<br>year=%{x}<br>Total_Sales=%{y}<extra></extra>",
         "legendgroup": "Illinois",
         "marker": {
          "color": "#636efa",
          "pattern": {
           "shape": ""
          }
         },
         "name": "Illinois",
         "offsetgroup": "Illinois",
         "orientation": "v",
         "showlegend": true,
         "textposition": "auto",
         "type": "bar",
         "x": [
          2017,
          2016,
          2015,
          2014
         ],
         "xaxis": "x",
         "y": [
          24351.611,
          21033.719,
          18578.064,
          16202.707
         ],
         "yaxis": "y"
        },
        {
         "alignmentgroup": "True",
         "hovertemplate": "State=North Carolina<br>year=%{x}<br>Total_Sales=%{y}<extra></extra>",
         "legendgroup": "North Carolina",
         "marker": {
          "color": "#EF553B",
          "pattern": {
           "shape": ""
          }
         },
         "name": "North Carolina",
         "offsetgroup": "North Carolina",
         "orientation": "v",
         "showlegend": true,
         "textposition": "auto",
         "type": "bar",
         "x": [
          2017,
          2016,
          2014,
          2015
         ],
         "xaxis": "x",
         "y": [
          23456.828999999998,
          14967.296,
          8620.741,
          8558.298
         ],
         "yaxis": "y"
        },
        {
         "alignmentgroup": "True",
         "hovertemplate": "State=Georgia<br>year=%{x}<br>Total_Sales=%{y}<extra></extra>",
         "legendgroup": "Georgia",
         "marker": {
          "color": "#00cc96",
          "pattern": {
           "shape": ""
          }
         },
         "name": "Georgia",
         "offsetgroup": "Georgia",
         "orientation": "v",
         "showlegend": true,
         "textposition": "auto",
         "type": "bar",
         "x": [
          2017,
          2016,
          2015,
          2014
         ],
         "xaxis": "x",
         "y": [
          19160.02,
          14057.67,
          11338.05,
          4540.1
         ],
         "yaxis": "y"
        },
        {
         "alignmentgroup": "True",
         "hovertemplate": "State=New Jersey<br>year=%{x}<br>Total_Sales=%{y}<extra></extra>",
         "legendgroup": "New Jersey",
         "marker": {
          "color": "#ab63fa",
          "pattern": {
           "shape": ""
          }
         },
         "name": "New Jersey",
         "offsetgroup": "New Jersey",
         "orientation": "v",
         "showlegend": true,
         "textposition": "auto",
         "type": "bar",
         "x": [
          2016,
          2017,
          2014,
          2015
         ],
         "xaxis": "x",
         "y": [
          17983.392,
          9483.55,
          4192.28,
          4105.089999999999
         ],
         "yaxis": "y"
        },
        {
         "alignmentgroup": "True",
         "hovertemplate": "State=Tennessee<br>year=%{x}<br>Total_Sales=%{y}<extra></extra>",
         "legendgroup": "Tennessee",
         "marker": {
          "color": "#FFA15A",
          "pattern": {
           "shape": ""
          }
         },
         "name": "Tennessee",
         "offsetgroup": "Tennessee",
         "orientation": "v",
         "showlegend": true,
         "textposition": "auto",
         "type": "bar",
         "x": [
          2017,
          2015,
          2016,
          2014
         ],
         "xaxis": "x",
         "y": [
          16113.823,
          8366.044,
          3130.494,
          3051.5119999999997
         ],
         "yaxis": "y"
        },
        {
         "alignmentgroup": "True",
         "hovertemplate": "State=Minnesota<br>year=%{x}<br>Total_Sales=%{y}<extra></extra>",
         "legendgroup": "Minnesota",
         "marker": {
          "color": "#19d3f3",
          "pattern": {
           "shape": ""
          }
         },
         "name": "Minnesota",
         "offsetgroup": "Minnesota",
         "orientation": "v",
         "showlegend": true,
         "textposition": "auto",
         "type": "bar",
         "x": [
          2014,
          2017,
          2015,
          2016
         ],
         "xaxis": "x",
         "y": [
          15883.330000000002,
          6728.25,
          5724.1900000000005,
          1527.38
         ],
         "yaxis": "y"
        },
        {
         "alignmentgroup": "True",
         "hovertemplate": "State=Kentucky<br>year=%{x}<br>Total_Sales=%{y}<extra></extra>",
         "legendgroup": "Kentucky",
         "marker": {
          "color": "#FF6692",
          "pattern": {
           "shape": ""
          }
         },
         "name": "Kentucky",
         "offsetgroup": "Kentucky",
         "orientation": "v",
         "showlegend": true,
         "textposition": "auto",
         "type": "bar",
         "x": [
          2017,
          2014,
          2015,
          2016
         ],
         "xaxis": "x",
         "y": [
          15534.84,
          8280.460000000001,
          7673.56,
          5102.89
         ],
         "yaxis": "y"
        },
        {
         "alignmentgroup": "True",
         "hovertemplate": "State=Delaware<br>year=%{x}<br>Total_Sales=%{y}<extra></extra>",
         "legendgroup": "Delaware",
         "marker": {
          "color": "#B6E880",
          "pattern": {
           "shape": ""
          }
         },
         "name": "Delaware",
         "offsetgroup": "Delaware",
         "orientation": "v",
         "showlegend": true,
         "textposition": "auto",
         "type": "bar",
         "x": [
          2017,
          2015,
          2014,
          2016
         ],
         "xaxis": "x",
         "y": [
          13754.983,
          6190.336,
          4786.03,
          2719.72
         ],
         "yaxis": "y"
        },
        {
         "alignmentgroup": "True",
         "hovertemplate": "State=Wisconsin<br>year=%{x}<br>Total_Sales=%{y}<extra></extra>",
         "legendgroup": "Wisconsin",
         "marker": {
          "color": "#FF97FF",
          "pattern": {
           "shape": ""
          }
         },
         "name": "Wisconsin",
         "offsetgroup": "Wisconsin",
         "orientation": "v",
         "showlegend": true,
         "textposition": "auto",
         "type": "bar",
         "x": [
          2016,
          2015,
          2017,
          2014
         ],
         "xaxis": "x",
         "y": [
          13337.62,
          8361.81,
          5567.469999999999,
          4847.71
         ],
         "yaxis": "y"
        },
        {
         "alignmentgroup": "True",
         "hovertemplate": "State=Rhode Island<br>year=%{x}<br>Total_Sales=%{y}<extra></extra>",
         "legendgroup": "Rhode Island",
         "marker": {
          "color": "#FECB52",
          "pattern": {
           "shape": ""
          }
         },
         "name": "Rhode Island",
         "offsetgroup": "Rhode Island",
         "orientation": "v",
         "showlegend": true,
         "textposition": "auto",
         "type": "bar",
         "x": [
          2016,
          2014,
          2017,
          2015
         ],
         "xaxis": "x",
         "y": [
          13085.6,
          5015.686,
          3427.1099999999997,
          1099.56
         ],
         "yaxis": "y"
        },
        {
         "alignmentgroup": "True",
         "hovertemplate": "State=Arizona<br>year=%{x}<br>Total_Sales=%{y}<extra></extra>",
         "legendgroup": "Arizona",
         "marker": {
          "color": "#636efa",
          "pattern": {
           "shape": ""
          }
         },
         "name": "Arizona",
         "offsetgroup": "Arizona",
         "orientation": "v",
         "showlegend": true,
         "textposition": "auto",
         "type": "bar",
         "x": [
          2017,
          2015,
          2014,
          2016
         ],
         "xaxis": "x",
         "y": [
          11133.537,
          9611.21,
          8295.235,
          6242.019
         ],
         "yaxis": "y"
        },
        {
         "alignmentgroup": "True",
         "hovertemplate": "State=Colorado<br>year=%{x}<br>Total_Sales=%{y}<extra></extra>",
         "legendgroup": "Colorado",
         "marker": {
          "color": "#EF553B",
          "pattern": {
           "shape": ""
          }
         },
         "name": "Colorado",
         "offsetgroup": "Colorado",
         "orientation": "v",
         "showlegend": true,
         "textposition": "auto",
         "type": "bar",
         "x": [
          2016,
          2017,
          2014,
          2015
         ],
         "xaxis": "x",
         "y": [
          10666.741,
          10299.813,
          6502.294,
          4639.2699999999995
         ],
         "yaxis": "y"
        },
        {
         "alignmentgroup": "True",
         "hovertemplate": "State=Massachusetts<br>year=%{x}<br>Total_Sales=%{y}<extra></extra>",
         "legendgroup": "Massachusetts",
         "marker": {
          "color": "#00cc96",
          "pattern": {
           "shape": ""
          }
         },
         "name": "Massachusetts",
         "offsetgroup": "Massachusetts",
         "orientation": "v",
         "showlegend": true,
         "textposition": "auto",
         "type": "bar",
         "x": [
          2014,
          2017,
          2015,
          2016
         ],
         "xaxis": "x",
         "y": [
          9900.106,
          8143.076,
          6625.988,
          3965.264
         ],
         "yaxis": "y"
        },
        {
         "alignmentgroup": "True",
         "hovertemplate": "State=Maryland<br>year=%{x}<br>Total_Sales=%{y}<extra></extra>",
         "legendgroup": "Maryland",
         "marker": {
          "color": "#ab63fa",
          "pattern": {
           "shape": ""
          }
         },
         "name": "Maryland",
         "offsetgroup": "Maryland",
         "orientation": "v",
         "showlegend": true,
         "textposition": "auto",
         "type": "bar",
         "x": [
          2017,
          2015,
          2016,
          2014
         ],
         "xaxis": "x",
         "y": [
          9451.6,
          7843.11,
          4709.563,
          1701.25
         ],
         "yaxis": "y"
        },
        {
         "alignmentgroup": "True",
         "hovertemplate": "State=Missouri<br>year=%{x}<br>Total_Sales=%{y}<extra></extra>",
         "legendgroup": "Missouri",
         "marker": {
          "color": "#FFA15A",
          "pattern": {
           "shape": ""
          }
         },
         "name": "Missouri",
         "offsetgroup": "Missouri",
         "orientation": "v",
         "showlegend": true,
         "textposition": "auto",
         "type": "bar",
         "x": [
          2017,
          2015,
          2016,
          2014
         ],
         "xaxis": "x",
         "y": [
          9350.8,
          6985.210000000001,
          4221.11,
          1648.03
         ],
         "yaxis": "y"
        },
        {
         "alignmentgroup": "True",
         "hovertemplate": "State=Nevada<br>year=%{x}<br>Total_Sales=%{y}<extra></extra>",
         "legendgroup": "Nevada",
         "marker": {
          "color": "#19d3f3",
          "pattern": {
           "shape": ""
          }
         },
         "name": "Nevada",
         "offsetgroup": "Nevada",
         "orientation": "v",
         "showlegend": true,
         "textposition": "auto",
         "type": "bar",
         "x": [
          2016,
          2017,
          2014,
          2015
         ],
         "xaxis": "x",
         "y": [
          9081.272,
          3138.158,
          2561.21,
          1948.462
         ],
         "yaxis": "y"
        },
        {
         "alignmentgroup": "True",
         "hovertemplate": "State=Oklahoma<br>year=%{x}<br>Total_Sales=%{y}<extra></extra>",
         "legendgroup": "Oklahoma",
         "marker": {
          "color": "#FF6692",
          "pattern": {
           "shape": ""
          }
         },
         "name": "Oklahoma",
         "offsetgroup": "Oklahoma",
         "orientation": "v",
         "showlegend": true,
         "textposition": "auto",
         "type": "bar",
         "x": [
          2016,
          2017,
          2015,
          2014
         ],
         "xaxis": "x",
         "y": [
          8009.79,
          6225.91,
          2808.34,
          2639.35
         ],
         "yaxis": "y"
        },
        {
         "alignmentgroup": "True",
         "hovertemplate": "State=Alabama<br>year=%{x}<br>Total_Sales=%{y}<extra></extra>",
         "legendgroup": "Alabama",
         "marker": {
          "color": "#B6E880",
          "pattern": {
           "shape": ""
          }
         },
         "name": "Alabama",
         "offsetgroup": "Alabama",
         "orientation": "v",
         "showlegend": true,
         "textposition": "auto",
         "type": "bar",
         "x": [
          2016,
          2014,
          2015,
          2017
         ],
         "xaxis": "x",
         "y": [
          7651.33,
          6139.09,
          3891.97,
          1828.25
         ],
         "yaxis": "y"
        },
        {
         "alignmentgroup": "True",
         "hovertemplate": "State=Arkansas<br>year=%{x}<br>Total_Sales=%{y}<extra></extra>",
         "legendgroup": "Arkansas",
         "marker": {
          "color": "#FF97FF",
          "pattern": {
           "shape": ""
          }
         },
         "name": "Arkansas",
         "offsetgroup": "Arkansas",
         "orientation": "v",
         "showlegend": true,
         "textposition": "auto",
         "type": "bar",
         "x": [
          2014,
          2017,
          2016,
          2015
         ],
         "xaxis": "x",
         "y": [
          6302.6900000000005,
          2707.64,
          2224.19,
          443.61
         ],
         "yaxis": "y"
        },
        {
         "alignmentgroup": "True",
         "hovertemplate": "State=Louisiana<br>year=%{x}<br>Total_Sales=%{y}<extra></extra>",
         "legendgroup": "Louisiana",
         "marker": {
          "color": "#FECB52",
          "pattern": {
           "shape": ""
          }
         },
         "name": "Louisiana",
         "offsetgroup": "Louisiana",
         "orientation": "v",
         "showlegend": true,
         "textposition": "auto",
         "type": "bar",
         "x": [
          2017,
          2014,
          2015,
          2016
         ],
         "xaxis": "x",
         "y": [
          5501.55,
          2534.92,
          917.8,
          262.76
         ],
         "yaxis": "y"
        },
        {
         "alignmentgroup": "True",
         "hovertemplate": "State=Oregon<br>year=%{x}<br>Total_Sales=%{y}<extra></extra>",
         "legendgroup": "Oregon",
         "marker": {
          "color": "#636efa",
          "pattern": {
           "shape": ""
          }
         },
         "name": "Oregon",
         "offsetgroup": "Oregon",
         "orientation": "v",
         "showlegend": true,
         "textposition": "auto",
         "type": "bar",
         "x": [
          2016,
          2014,
          2015,
          2017
         ],
         "xaxis": "x",
         "y": [
          5450.837,
          4807.783,
          4285.937,
          2886.593
         ],
         "yaxis": "y"
        },
        {
         "alignmentgroup": "True",
         "hovertemplate": "State=Mississippi<br>year=%{x}<br>Total_Sales=%{y}<extra></extra>",
         "legendgroup": "Mississippi",
         "marker": {
          "color": "#EF553B",
          "pattern": {
           "shape": ""
          }
         },
         "name": "Mississippi",
         "offsetgroup": "Mississippi",
         "orientation": "v",
         "showlegend": true,
         "textposition": "auto",
         "type": "bar",
         "x": [
          2016,
          2017,
          2014,
          2015
         ],
         "xaxis": "x",
         "y": [
          5416.78,
          2997.2400000000002,
          2055.16,
          302.15999999999997
         ],
         "yaxis": "y"
        },
        {
         "alignmentgroup": "True",
         "hovertemplate": "State=Connecticut<br>year=%{x}<br>Total_Sales=%{y}<extra></extra>",
         "legendgroup": "Connecticut",
         "marker": {
          "color": "#00cc96",
          "pattern": {
           "shape": ""
          }
         },
         "name": "Connecticut",
         "offsetgroup": "Connecticut",
         "orientation": "v",
         "showlegend": true,
         "textposition": "auto",
         "type": "bar",
         "x": [
          2017,
          2016,
          2014,
          2015
         ],
         "xaxis": "x",
         "y": [
          5307.21,
          3998.487,
          2794.02,
          1284.6399999999999
         ],
         "yaxis": "y"
        },
        {
         "alignmentgroup": "True",
         "hovertemplate": "State=Vermont<br>year=%{x}<br>Total_Sales=%{y}<extra></extra>",
         "legendgroup": "Vermont",
         "marker": {
          "color": "#ab63fa",
          "pattern": {
           "shape": ""
          }
         },
         "name": "Vermont",
         "offsetgroup": "Vermont",
         "orientation": "v",
         "showlegend": true,
         "textposition": "auto",
         "type": "bar",
         "x": [
          2015,
          2016,
          2017
         ],
         "xaxis": "x",
         "y": [
          5120.099999999999,
          2967.06,
          842.21
         ],
         "yaxis": "y"
        },
        {
         "alignmentgroup": "True",
         "hovertemplate": "State=New Hampshire<br>year=%{x}<br>Total_Sales=%{y}<extra></extra>",
         "legendgroup": "New Hampshire",
         "marker": {
          "color": "#FFA15A",
          "pattern": {
           "shape": ""
          }
         },
         "name": "New Hampshire",
         "offsetgroup": "New Hampshire",
         "orientation": "v",
         "showlegend": true,
         "textposition": "auto",
         "type": "bar",
         "x": [
          2015,
          2017,
          2016,
          2014
         ],
         "xaxis": "x",
         "y": [
          4345.034,
          1509.43,
          933.58,
          504.48
         ],
         "yaxis": "y"
        },
        {
         "alignmentgroup": "True",
         "hovertemplate": "State=Montana<br>year=%{x}<br>Total_Sales=%{y}<extra></extra>",
         "legendgroup": "Montana",
         "marker": {
          "color": "#19d3f3",
          "pattern": {
           "shape": ""
          }
         },
         "name": "Montana",
         "offsetgroup": "Montana",
         "orientation": "v",
         "showlegend": true,
         "textposition": "auto",
         "type": "bar",
         "x": [
          2017,
          2015,
          2014
         ],
         "xaxis": "x",
         "y": [
          4229.28,
          935.584,
          424.488
         ],
         "yaxis": "y"
        },
        {
         "alignmentgroup": "True",
         "hovertemplate": "State=South Carolina<br>year=%{x}<br>Total_Sales=%{y}<extra></extra>",
         "legendgroup": "South Carolina",
         "marker": {
          "color": "#FF6692",
          "pattern": {
           "shape": ""
          }
         },
         "name": "South Carolina",
         "offsetgroup": "South Carolina",
         "orientation": "v",
         "showlegend": true,
         "textposition": "auto",
         "type": "bar",
         "x": [
          2015,
          2014,
          2017,
          2016
         ],
         "xaxis": "x",
         "y": [
          4147.62,
          2270.86,
          1560.75,
          502.48
         ],
         "yaxis": "y"
        },
        {
         "alignmentgroup": "True",
         "hovertemplate": "State=Utah<br>year=%{x}<br>Total_Sales=%{y}<extra></extra>",
         "legendgroup": "Utah",
         "marker": {
          "color": "#B6E880",
          "pattern": {
           "shape": ""
          }
         },
         "name": "Utah",
         "offsetgroup": "Utah",
         "orientation": "v",
         "showlegend": true,
         "textposition": "auto",
         "type": "bar",
         "x": [
          2015,
          2014,
          2017,
          2016
         ],
         "xaxis": "x",
         "y": [
          3993.32,
          2943.688,
          2460.638,
          1822.41
         ],
         "yaxis": "y"
        },
        {
         "alignmentgroup": "True",
         "hovertemplate": "State=Nebraska<br>year=%{x}<br>Total_Sales=%{y}<extra></extra>",
         "legendgroup": "Nebraska",
         "marker": {
          "color": "#FF97FF",
          "pattern": {
           "shape": ""
          }
         },
         "name": "Nebraska",
         "offsetgroup": "Nebraska",
         "orientation": "v",
         "showlegend": true,
         "textposition": "auto",
         "type": "bar",
         "x": [
          2017,
          2016,
          2015,
          2014
         ],
         "xaxis": "x",
         "y": [
          3579.35,
          3081.42,
          594.1400000000001,
          210.01999999999998
         ],
         "yaxis": "y"
        },
        {
         "alignmentgroup": "True",
         "hovertemplate": "State=New Mexico<br>year=%{x}<br>Total_Sales=%{y}<extra></extra>",
         "legendgroup": "New Mexico",
         "marker": {
          "color": "#FECB52",
          "pattern": {
           "shape": ""
          }
         },
         "name": "New Mexico",
         "offsetgroup": "New Mexico",
         "orientation": "v",
         "showlegend": true,
         "textposition": "auto",
         "type": "bar",
         "x": [
          2017,
          2015,
          2014,
          2016
         ],
         "xaxis": "x",
         "y": [
          2818.558,
          1192.872,
          708.012,
          64.08
         ],
         "yaxis": "y"
        },
        {
         "alignmentgroup": "True",
         "hovertemplate": "State=District of Columbia<br>year=%{x}<br>Total_Sales=%{y}<extra></extra>",
         "legendgroup": "District of Columbia",
         "marker": {
          "color": "#636efa",
          "pattern": {
           "shape": ""
          }
         },
         "name": "District of Columbia",
         "offsetgroup": "District of Columbia",
         "orientation": "v",
         "showlegend": true,
         "textposition": "auto",
         "type": "bar",
         "x": [
          2015,
          2016,
          2017
         ],
         "xaxis": "x",
         "y": [
          2670.19,
          117.07,
          77.75999999999999
         ],
         "yaxis": "y"
        },
        {
         "alignmentgroup": "True",
         "hovertemplate": "State=Iowa<br>year=%{x}<br>Total_Sales=%{y}<extra></extra>",
         "legendgroup": "Iowa",
         "marker": {
          "color": "#EF553B",
          "pattern": {
           "shape": ""
          }
         },
         "name": "Iowa",
         "offsetgroup": "Iowa",
         "orientation": "v",
         "showlegend": true,
         "textposition": "auto",
         "type": "bar",
         "x": [
          2015,
          2014,
          2016,
          2017
         ],
         "xaxis": "x",
         "y": [
          1713.1999999999998,
          1190.84,
          959.31,
          716.41
         ],
         "yaxis": "y"
        },
        {
         "alignmentgroup": "True",
         "hovertemplate": "State=Wyoming<br>year=%{x}<br>Total_Sales=%{y}<extra></extra>",
         "legendgroup": "Wyoming",
         "marker": {
          "color": "#00cc96",
          "pattern": {
           "shape": ""
          }
         },
         "name": "Wyoming",
         "offsetgroup": "Wyoming",
         "orientation": "v",
         "showlegend": true,
         "textposition": "auto",
         "type": "bar",
         "x": [
          2016
         ],
         "xaxis": "x",
         "y": [
          1603.136
         ],
         "yaxis": "y"
        },
        {
         "alignmentgroup": "True",
         "hovertemplate": "State=Idaho<br>year=%{x}<br>Total_Sales=%{y}<extra></extra>",
         "legendgroup": "Idaho",
         "marker": {
          "color": "#ab63fa",
          "pattern": {
           "shape": ""
          }
         },
         "name": "Idaho",
         "offsetgroup": "Idaho",
         "orientation": "v",
         "showlegend": true,
         "textposition": "auto",
         "type": "bar",
         "x": [
          2015,
          2017,
          2016,
          2014
         ],
         "xaxis": "x",
         "y": [
          1500.2359999999999,
          1233.548,
          1183.486,
          465.216
         ],
         "yaxis": "y"
        },
        {
         "alignmentgroup": "True",
         "hovertemplate": "State=Kansas<br>year=%{x}<br>Total_Sales=%{y}<extra></extra>",
         "legendgroup": "Kansas",
         "marker": {
          "color": "#FFA15A",
          "pattern": {
           "shape": ""
          }
         },
         "name": "Kansas",
         "offsetgroup": "Kansas",
         "orientation": "v",
         "showlegend": true,
         "textposition": "auto",
         "type": "bar",
         "x": [
          2014,
          2017,
          2016,
          2015
         ],
         "xaxis": "x",
         "y": [
          1319.79,
          733.15,
          691.06,
          170.30999999999997
         ],
         "yaxis": "y"
        },
        {
         "alignmentgroup": "True",
         "hovertemplate": "State=West Virginia<br>year=%{x}<br>Total_Sales=%{y}<extra></extra>",
         "legendgroup": "West Virginia",
         "marker": {
          "color": "#19d3f3",
          "pattern": {
           "shape": ""
          }
         },
         "name": "West Virginia",
         "offsetgroup": "West Virginia",
         "orientation": "v",
         "showlegend": true,
         "textposition": "auto",
         "type": "bar",
         "x": [
          2017
         ],
         "xaxis": "x",
         "y": [
          1209.824
         ],
         "yaxis": "y"
        },
        {
         "alignmentgroup": "True",
         "hovertemplate": "State=South Dakota<br>year=%{x}<br>Total_Sales=%{y}<extra></extra>",
         "legendgroup": "South Dakota",
         "marker": {
          "color": "#FF6692",
          "pattern": {
           "shape": ""
          }
         },
         "name": "South Dakota",
         "offsetgroup": "South Dakota",
         "orientation": "v",
         "showlegend": true,
         "textposition": "auto",
         "type": "bar",
         "x": [
          2017,
          2014
         ],
         "xaxis": "x",
         "y": [
          1153.41,
          162.15
         ],
         "yaxis": "y"
        },
        {
         "alignmentgroup": "True",
         "hovertemplate": "State=North Dakota<br>year=%{x}<br>Total_Sales=%{y}<extra></extra>",
         "legendgroup": "North Dakota",
         "marker": {
          "color": "#B6E880",
          "pattern": {
           "shape": ""
          }
         },
         "name": "North Dakota",
         "offsetgroup": "North Dakota",
         "orientation": "v",
         "showlegend": true,
         "textposition": "auto",
         "type": "bar",
         "x": [
          2017
         ],
         "xaxis": "x",
         "y": [
          919.91
         ],
         "yaxis": "y"
        },
        {
         "alignmentgroup": "True",
         "hovertemplate": "State=Maine<br>year=%{x}<br>Total_Sales=%{y}<extra></extra>",
         "legendgroup": "Maine",
         "marker": {
          "color": "#FF97FF",
          "pattern": {
           "shape": ""
          }
         },
         "name": "Maine",
         "offsetgroup": "Maine",
         "orientation": "v",
         "showlegend": true,
         "textposition": "auto",
         "type": "bar",
         "x": [
          2014,
          2016,
          2015
         ],
         "xaxis": "x",
         "y": [
          617.12,
          547.33,
          106.08000000000001
         ],
         "yaxis": "y"
        }
       ],
       "layout": {
        "autosize": true,
        "barmode": "relative",
        "legend": {
         "title": {
          "text": "State"
         },
         "tracegroupgap": 0
        },
        "template": {
         "data": {
          "bar": [
           {
            "error_x": {
             "color": "#2a3f5f"
            },
            "error_y": {
             "color": "#2a3f5f"
            },
            "marker": {
             "line": {
              "color": "#E5ECF6",
              "width": 0.5
             },
             "pattern": {
              "fillmode": "overlay",
              "size": 10,
              "solidity": 0.2
             }
            },
            "type": "bar"
           }
          ],
          "barpolar": [
           {
            "marker": {
             "line": {
              "color": "#E5ECF6",
              "width": 0.5
             },
             "pattern": {
              "fillmode": "overlay",
              "size": 10,
              "solidity": 0.2
             }
            },
            "type": "barpolar"
           }
          ],
          "carpet": [
           {
            "aaxis": {
             "endlinecolor": "#2a3f5f",
             "gridcolor": "white",
             "linecolor": "white",
             "minorgridcolor": "white",
             "startlinecolor": "#2a3f5f"
            },
            "baxis": {
             "endlinecolor": "#2a3f5f",
             "gridcolor": "white",
             "linecolor": "white",
             "minorgridcolor": "white",
             "startlinecolor": "#2a3f5f"
            },
            "type": "carpet"
           }
          ],
          "choropleth": [
           {
            "colorbar": {
             "outlinewidth": 0,
             "ticks": ""
            },
            "type": "choropleth"
           }
          ],
          "contour": [
           {
            "colorbar": {
             "outlinewidth": 0,
             "ticks": ""
            },
            "colorscale": [
             [
              0,
              "#0d0887"
             ],
             [
              0.1111111111111111,
              "#46039f"
             ],
             [
              0.2222222222222222,
              "#7201a8"
             ],
             [
              0.3333333333333333,
              "#9c179e"
             ],
             [
              0.4444444444444444,
              "#bd3786"
             ],
             [
              0.5555555555555556,
              "#d8576b"
             ],
             [
              0.6666666666666666,
              "#ed7953"
             ],
             [
              0.7777777777777778,
              "#fb9f3a"
             ],
             [
              0.8888888888888888,
              "#fdca26"
             ],
             [
              1,
              "#f0f921"
             ]
            ],
            "type": "contour"
           }
          ],
          "contourcarpet": [
           {
            "colorbar": {
             "outlinewidth": 0,
             "ticks": ""
            },
            "type": "contourcarpet"
           }
          ],
          "heatmap": [
           {
            "colorbar": {
             "outlinewidth": 0,
             "ticks": ""
            },
            "colorscale": [
             [
              0,
              "#0d0887"
             ],
             [
              0.1111111111111111,
              "#46039f"
             ],
             [
              0.2222222222222222,
              "#7201a8"
             ],
             [
              0.3333333333333333,
              "#9c179e"
             ],
             [
              0.4444444444444444,
              "#bd3786"
             ],
             [
              0.5555555555555556,
              "#d8576b"
             ],
             [
              0.6666666666666666,
              "#ed7953"
             ],
             [
              0.7777777777777778,
              "#fb9f3a"
             ],
             [
              0.8888888888888888,
              "#fdca26"
             ],
             [
              1,
              "#f0f921"
             ]
            ],
            "type": "heatmap"
           }
          ],
          "heatmapgl": [
           {
            "colorbar": {
             "outlinewidth": 0,
             "ticks": ""
            },
            "colorscale": [
             [
              0,
              "#0d0887"
             ],
             [
              0.1111111111111111,
              "#46039f"
             ],
             [
              0.2222222222222222,
              "#7201a8"
             ],
             [
              0.3333333333333333,
              "#9c179e"
             ],
             [
              0.4444444444444444,
              "#bd3786"
             ],
             [
              0.5555555555555556,
              "#d8576b"
             ],
             [
              0.6666666666666666,
              "#ed7953"
             ],
             [
              0.7777777777777778,
              "#fb9f3a"
             ],
             [
              0.8888888888888888,
              "#fdca26"
             ],
             [
              1,
              "#f0f921"
             ]
            ],
            "type": "heatmapgl"
           }
          ],
          "histogram": [
           {
            "marker": {
             "pattern": {
              "fillmode": "overlay",
              "size": 10,
              "solidity": 0.2
             }
            },
            "type": "histogram"
           }
          ],
          "histogram2d": [
           {
            "colorbar": {
             "outlinewidth": 0,
             "ticks": ""
            },
            "colorscale": [
             [
              0,
              "#0d0887"
             ],
             [
              0.1111111111111111,
              "#46039f"
             ],
             [
              0.2222222222222222,
              "#7201a8"
             ],
             [
              0.3333333333333333,
              "#9c179e"
             ],
             [
              0.4444444444444444,
              "#bd3786"
             ],
             [
              0.5555555555555556,
              "#d8576b"
             ],
             [
              0.6666666666666666,
              "#ed7953"
             ],
             [
              0.7777777777777778,
              "#fb9f3a"
             ],
             [
              0.8888888888888888,
              "#fdca26"
             ],
             [
              1,
              "#f0f921"
             ]
            ],
            "type": "histogram2d"
           }
          ],
          "histogram2dcontour": [
           {
            "colorbar": {
             "outlinewidth": 0,
             "ticks": ""
            },
            "colorscale": [
             [
              0,
              "#0d0887"
             ],
             [
              0.1111111111111111,
              "#46039f"
             ],
             [
              0.2222222222222222,
              "#7201a8"
             ],
             [
              0.3333333333333333,
              "#9c179e"
             ],
             [
              0.4444444444444444,
              "#bd3786"
             ],
             [
              0.5555555555555556,
              "#d8576b"
             ],
             [
              0.6666666666666666,
              "#ed7953"
             ],
             [
              0.7777777777777778,
              "#fb9f3a"
             ],
             [
              0.8888888888888888,
              "#fdca26"
             ],
             [
              1,
              "#f0f921"
             ]
            ],
            "type": "histogram2dcontour"
           }
          ],
          "mesh3d": [
           {
            "colorbar": {
             "outlinewidth": 0,
             "ticks": ""
            },
            "type": "mesh3d"
           }
          ],
          "parcoords": [
           {
            "line": {
             "colorbar": {
              "outlinewidth": 0,
              "ticks": ""
             }
            },
            "type": "parcoords"
           }
          ],
          "pie": [
           {
            "automargin": true,
            "type": "pie"
           }
          ],
          "scatter": [
           {
            "fillpattern": {
             "fillmode": "overlay",
             "size": 10,
             "solidity": 0.2
            },
            "type": "scatter"
           }
          ],
          "scatter3d": [
           {
            "line": {
             "colorbar": {
              "outlinewidth": 0,
              "ticks": ""
             }
            },
            "marker": {
             "colorbar": {
              "outlinewidth": 0,
              "ticks": ""
             }
            },
            "type": "scatter3d"
           }
          ],
          "scattercarpet": [
           {
            "marker": {
             "colorbar": {
              "outlinewidth": 0,
              "ticks": ""
             }
            },
            "type": "scattercarpet"
           }
          ],
          "scattergeo": [
           {
            "marker": {
             "colorbar": {
              "outlinewidth": 0,
              "ticks": ""
             }
            },
            "type": "scattergeo"
           }
          ],
          "scattergl": [
           {
            "marker": {
             "colorbar": {
              "outlinewidth": 0,
              "ticks": ""
             }
            },
            "type": "scattergl"
           }
          ],
          "scattermapbox": [
           {
            "marker": {
             "colorbar": {
              "outlinewidth": 0,
              "ticks": ""
             }
            },
            "type": "scattermapbox"
           }
          ],
          "scatterpolar": [
           {
            "marker": {
             "colorbar": {
              "outlinewidth": 0,
              "ticks": ""
             }
            },
            "type": "scatterpolar"
           }
          ],
          "scatterpolargl": [
           {
            "marker": {
             "colorbar": {
              "outlinewidth": 0,
              "ticks": ""
             }
            },
            "type": "scatterpolargl"
           }
          ],
          "scatterternary": [
           {
            "marker": {
             "colorbar": {
              "outlinewidth": 0,
              "ticks": ""
             }
            },
            "type": "scatterternary"
           }
          ],
          "surface": [
           {
            "colorbar": {
             "outlinewidth": 0,
             "ticks": ""
            },
            "colorscale": [
             [
              0,
              "#0d0887"
             ],
             [
              0.1111111111111111,
              "#46039f"
             ],
             [
              0.2222222222222222,
              "#7201a8"
             ],
             [
              0.3333333333333333,
              "#9c179e"
             ],
             [
              0.4444444444444444,
              "#bd3786"
             ],
             [
              0.5555555555555556,
              "#d8576b"
             ],
             [
              0.6666666666666666,
              "#ed7953"
             ],
             [
              0.7777777777777778,
              "#fb9f3a"
             ],
             [
              0.8888888888888888,
              "#fdca26"
             ],
             [
              1,
              "#f0f921"
             ]
            ],
            "type": "surface"
           }
          ],
          "table": [
           {
            "cells": {
             "fill": {
              "color": "#EBF0F8"
             },
             "line": {
              "color": "white"
             }
            },
            "header": {
             "fill": {
              "color": "#C8D4E3"
             },
             "line": {
              "color": "white"
             }
            },
            "type": "table"
           }
          ]
         },
         "layout": {
          "annotationdefaults": {
           "arrowcolor": "#2a3f5f",
           "arrowhead": 0,
           "arrowwidth": 1
          },
          "autotypenumbers": "strict",
          "coloraxis": {
           "colorbar": {
            "outlinewidth": 0,
            "ticks": ""
           }
          },
          "colorscale": {
           "diverging": [
            [
             0,
             "#8e0152"
            ],
            [
             0.1,
             "#c51b7d"
            ],
            [
             0.2,
             "#de77ae"
            ],
            [
             0.3,
             "#f1b6da"
            ],
            [
             0.4,
             "#fde0ef"
            ],
            [
             0.5,
             "#f7f7f7"
            ],
            [
             0.6,
             "#e6f5d0"
            ],
            [
             0.7,
             "#b8e186"
            ],
            [
             0.8,
             "#7fbc41"
            ],
            [
             0.9,
             "#4d9221"
            ],
            [
             1,
             "#276419"
            ]
           ],
           "sequential": [
            [
             0,
             "#0d0887"
            ],
            [
             0.1111111111111111,
             "#46039f"
            ],
            [
             0.2222222222222222,
             "#7201a8"
            ],
            [
             0.3333333333333333,
             "#9c179e"
            ],
            [
             0.4444444444444444,
             "#bd3786"
            ],
            [
             0.5555555555555556,
             "#d8576b"
            ],
            [
             0.6666666666666666,
             "#ed7953"
            ],
            [
             0.7777777777777778,
             "#fb9f3a"
            ],
            [
             0.8888888888888888,
             "#fdca26"
            ],
            [
             1,
             "#f0f921"
            ]
           ],
           "sequentialminus": [
            [
             0,
             "#0d0887"
            ],
            [
             0.1111111111111111,
             "#46039f"
            ],
            [
             0.2222222222222222,
             "#7201a8"
            ],
            [
             0.3333333333333333,
             "#9c179e"
            ],
            [
             0.4444444444444444,
             "#bd3786"
            ],
            [
             0.5555555555555556,
             "#d8576b"
            ],
            [
             0.6666666666666666,
             "#ed7953"
            ],
            [
             0.7777777777777778,
             "#fb9f3a"
            ],
            [
             0.8888888888888888,
             "#fdca26"
            ],
            [
             1,
             "#f0f921"
            ]
           ]
          },
          "colorway": [
           "#636efa",
           "#EF553B",
           "#00cc96",
           "#ab63fa",
           "#FFA15A",
           "#19d3f3",
           "#FF6692",
           "#B6E880",
           "#FF97FF",
           "#FECB52"
          ],
          "font": {
           "color": "#2a3f5f"
          },
          "geo": {
           "bgcolor": "white",
           "lakecolor": "white",
           "landcolor": "#E5ECF6",
           "showlakes": true,
           "showland": true,
           "subunitcolor": "white"
          },
          "hoverlabel": {
           "align": "left"
          },
          "hovermode": "closest",
          "mapbox": {
           "style": "light"
          },
          "paper_bgcolor": "white",
          "plot_bgcolor": "#E5ECF6",
          "polar": {
           "angularaxis": {
            "gridcolor": "white",
            "linecolor": "white",
            "ticks": ""
           },
           "bgcolor": "#E5ECF6",
           "radialaxis": {
            "gridcolor": "white",
            "linecolor": "white",
            "ticks": ""
           }
          },
          "scene": {
           "xaxis": {
            "backgroundcolor": "#E5ECF6",
            "gridcolor": "white",
            "gridwidth": 2,
            "linecolor": "white",
            "showbackground": true,
            "ticks": "",
            "zerolinecolor": "white"
           },
           "yaxis": {
            "backgroundcolor": "#E5ECF6",
            "gridcolor": "white",
            "gridwidth": 2,
            "linecolor": "white",
            "showbackground": true,
            "ticks": "",
            "zerolinecolor": "white"
           },
           "zaxis": {
            "backgroundcolor": "#E5ECF6",
            "gridcolor": "white",
            "gridwidth": 2,
            "linecolor": "white",
            "showbackground": true,
            "ticks": "",
            "zerolinecolor": "white"
           }
          },
          "shapedefaults": {
           "line": {
            "color": "#2a3f5f"
           }
          },
          "ternary": {
           "aaxis": {
            "gridcolor": "white",
            "linecolor": "white",
            "ticks": ""
           },
           "baxis": {
            "gridcolor": "white",
            "linecolor": "white",
            "ticks": ""
           },
           "bgcolor": "#E5ECF6",
           "caxis": {
            "gridcolor": "white",
            "linecolor": "white",
            "ticks": ""
           }
          },
          "title": {
           "x": 0.05
          },
          "xaxis": {
           "automargin": true,
           "gridcolor": "white",
           "linecolor": "white",
           "ticks": "",
           "title": {
            "standoff": 15
           },
           "zerolinecolor": "white",
           "zerolinewidth": 2
          },
          "yaxis": {
           "automargin": true,
           "gridcolor": "white",
           "linecolor": "white",
           "ticks": "",
           "title": {
            "standoff": 15
           },
           "zerolinecolor": "white",
           "zerolinewidth": 2
          }
         }
        },
        "title": {
         "text": "Сегментация продаж по штатам"
        },
        "xaxis": {
         "anchor": "y",
         "autorange": true,
         "domain": [
          0,
          1
         ],
         "range": [
          2013.5,
          2017.5
         ],
         "title": {
          "text": "year"
         },
         "type": "linear"
        },
        "yaxis": {
         "anchor": "x",
         "autorange": true,
         "domain": [
          0,
          1
         ],
         "range": [
          0,
          771805.5317894738
         ],
         "title": {
          "text": "Total_Sales"
         },
         "type": "linear"
        }
       }
      },
      "image/png": "[encoded data removed]",
      "text/html": [
       "<div>                            <div id=\"3eb4e0f1-bdc4-4572-8c18-149812315721\" class=\"plotly-graph-div\" style=\"height:525px; width:100%;\"></div>            <script type=\"text/javascript\">                require([\"plotly\"], function(Plotly) {                    window.PLOTLYENV=window.PLOTLYENV || {};                                    if (document.getElementById(\"3eb4e0f1-bdc4-4572-8c18-149812315721\")) {                    Plotly.newPlot(                        \"3eb4e0f1-bdc4-4572-8c18-149812315721\",                        [{\"alignmentgroup\":\"True\",\"hovertemplate\":\"State=California<br>year=%{x}<br>Total_Sales=%{y}<extra></extra>\",\"legendgroup\":\"California\",\"marker\":{\"color\":\"#636efa\",\"pattern\":{\"shape\":\"\"}},\"name\":\"California\",\"offsetgroup\":\"California\",\"orientation\":\"v\",\"showlegend\":true,\"textposition\":\"auto\",\"x\":[2017,2016,2014,2015],\"xaxis\":\"x\",\"y\":[146388.3445,131551.91150000002,91303.531,88443.8445],\"yaxis\":\"y\",\"type\":\"bar\"},{\"alignmentgroup\":\"True\",\"hovertemplate\":\"State=New York<br>year=%{x}<br>Total_Sales=%{y}<extra></extra>\",\"legendgroup\":\"New York\",\"marker\":{\"color\":\"#EF553B\",\"pattern\":{\"shape\":\"\"}},\"name\":\"New York\",\"offsetgroup\":\"New York\",\"orientation\":\"v\",\"showlegend\":true,\"textposition\":\"auto\",\"x\":[2017,2015,2016,2014],\"xaxis\":\"x\",\"y\":[93922.995,80320.687,71844.102,64788.487],\"yaxis\":\"y\",\"type\":\"bar\"},{\"alignmentgroup\":\"True\",\"hovertemplate\":\"State=Washington<br>year=%{x}<br>Total_Sales=%{y}<extra></extra>\",\"legendgroup\":\"Washington\",\"marker\":{\"color\":\"#00cc96\",\"pattern\":{\"shape\":\"\"}},\"name\":\"Washington\",\"offsetgroup\":\"Washington\",\"orientation\":\"v\",\"showlegend\":true,\"textposition\":\"auto\",\"x\":[2017,2014,2015,2016],\"xaxis\":\"x\",\"y\":[65539.896,29871.576,23415.514,19814.284],\"yaxis\":\"y\",\"type\":\"bar\"},{\"alignmentgroup\":\"True\",\"hovertemplate\":\"State=Texas<br>year=%{x}<br>Total_Sales=%{y}<extra></extra>\",\"legendgroup\":\"Texas\",\"marker\":{\"color\":\"#ab63fa\",\"pattern\":{\"shape\":\"\"}},\"name\":\"Texas\",\"offsetgroup\":\"Texas\",\"orientation\":\"v\",\"showlegend\":true,\"textposition\":\"auto\",\"x\":[2014,2017,2016,2015],\"xaxis\":\"x\",\"y\":[50625.1766,43421.7582,41686.152,34454.959],\"yaxis\":\"y\",\"type\":\"bar\"},{\"alignmentgroup\":\"True\",\"hovertemplate\":\"State=Pennsylvania<br>year=%{x}<br>Total_Sales=%{y}<extra></extra>\",\"legendgroup\":\"Pennsylvania\",\"marker\":{\"color\":\"#FFA15A\",\"pattern\":{\"shape\":\"\"}},\"name\":\"Pennsylvania\",\"offsetgroup\":\"Pennsylvania\",\"orientation\":\"v\",\"showlegend\":true,\"textposition\":\"auto\",\"x\":[2017,2016,2015,2014],\"xaxis\":\"x\",\"y\":[42688.306000000004,33066.644,20510.816,20246.148],\"yaxis\":\"y\",\"type\":\"bar\"},{\"alignmentgroup\":\"True\",\"hovertemplate\":\"State=Florida<br>year=%{x}<br>Total_Sales=%{y}<extra></extra>\",\"legendgroup\":\"Florida\",\"marker\":{\"color\":\"#19d3f3\",\"pattern\":{\"shape\":\"\"}},\"name\":\"Florida\",\"offsetgroup\":\"Florida\",\"orientation\":\"v\",\"showlegend\":true,\"textposition\":\"auto\",\"x\":[2014,2017,2015,2016],\"xaxis\":\"x\",\"y\":[34248.2605,26444.7155,15177.4485,13603.2835],\"yaxis\":\"y\",\"type\":\"bar\"},{\"alignmentgroup\":\"True\",\"hovertemplate\":\"State=Michigan<br>year=%{x}<br>Total_Sales=%{y}<extra></extra>\",\"legendgroup\":\"Michigan\",\"marker\":{\"color\":\"#FF6692\",\"pattern\":{\"shape\":\"\"}},\"name\":\"Michigan\",\"offsetgroup\":\"Michigan\",\"orientation\":\"v\",\"showlegend\":true,\"textposition\":\"auto\",\"x\":[2016,2017,2015,2014],\"xaxis\":\"x\",\"y\":[27420.035,25833.649,16843.679,6172.251],\"yaxis\":\"y\",\"type\":\"bar\"},{\"alignmentgroup\":\"True\",\"hovertemplate\":\"State=Virginia<br>year=%{x}<br>Total_Sales=%{y}<extra></extra>\",\"legendgroup\":\"Virginia\",\"marker\":{\"color\":\"#B6E880\",\"pattern\":{\"shape\":\"\"}},\"name\":\"Virginia\",\"offsetgroup\":\"Virginia\",\"orientation\":\"v\",\"showlegend\":true,\"textposition\":\"auto\",\"x\":[2016,2014,2015,2017],\"xaxis\":\"x\",\"y\":[26691.05,25802.05,10543.42,7600.2],\"yaxis\":\"y\",\"type\":\"bar\"},{\"alignmentgroup\":\"True\",\"hovertemplate\":\"State=Indiana<br>year=%{x}<br>Total_Sales=%{y}<extra></extra>\",\"legendgroup\":\"Indiana\",\"marker\":{\"color\":\"#FF97FF\",\"pattern\":{\"shape\":\"\"}},\"name\":\"Indiana\",\"offsetgroup\":\"Indiana\",\"orientation\":\"v\",\"showlegend\":true,\"textposition\":\"auto\",\"x\":[2016,2017,2015,2014],\"xaxis\":\"x\",\"y\":[25461.780000000002,18516.45,6640.32,2936.81],\"yaxis\":\"y\",\"type\":\"bar\"},{\"alignmentgroup\":\"True\",\"hovertemplate\":\"State=Ohio<br>year=%{x}<br>Total_Sales=%{y}<extra></extra>\",\"legendgroup\":\"Ohio\",\"marker\":{\"color\":\"#FECB52\",\"pattern\":{\"shape\":\"\"}},\"name\":\"Ohio\",\"offsetgroup\":\"Ohio\",\"orientation\":\"v\",\"showlegend\":true,\"textposition\":\"auto\",\"x\":[2016,2017,2015,2014],\"xaxis\":\"x\",\"y\":[24748.01,23264.85,16110.426,14134.85],\"yaxis\":\"y\",\"type\":\"bar\"},{\"alignmentgroup\":\"True\",\"hovertemplate\":\"State=Illinois<br>year=%{x}<br>Total_Sales=%{y}<extra></extra>\",\"legendgroup\":\"Illinois\",\"marker\":{\"color\":\"#636efa\",\"pattern\":{\"shape\":\"\"}},\"name\":\"Illinois\",\"offsetgroup\":\"Illinois\",\"orientation\":\"v\",\"showlegend\":true,\"textposition\":\"auto\",\"x\":[2017,2016,2015,2014],\"xaxis\":\"x\",\"y\":[24351.611,21033.719,18578.064,16202.707],\"yaxis\":\"y\",\"type\":\"bar\"},{\"alignmentgroup\":\"True\",\"hovertemplate\":\"State=North Carolina<br>year=%{x}<br>Total_Sales=%{y}<extra></extra>\",\"legendgroup\":\"North Carolina\",\"marker\":{\"color\":\"#EF553B\",\"pattern\":{\"shape\":\"\"}},\"name\":\"North Carolina\",\"offsetgroup\":\"North Carolina\",\"orientation\":\"v\",\"showlegend\":true,\"textposition\":\"auto\",\"x\":[2017,2016,2014,2015],\"xaxis\":\"x\",\"y\":[23456.828999999998,14967.296,8620.741,8558.298],\"yaxis\":\"y\",\"type\":\"bar\"},{\"alignmentgroup\":\"True\",\"hovertemplate\":\"State=Georgia<br>year=%{x}<br>Total_Sales=%{y}<extra></extra>\",\"legendgroup\":\"Georgia\",\"marker\":{\"color\":\"#00cc96\",\"pattern\":{\"shape\":\"\"}},\"name\":\"Georgia\",\"offsetgroup\":\"Georgia\",\"orientation\":\"v\",\"showlegend\":true,\"textposition\":\"auto\",\"x\":[2017,2016,2015,2014],\"xaxis\":\"x\",\"y\":[19160.02,14057.67,11338.05,4540.1],\"yaxis\":\"y\",\"type\":\"bar\"},{\"alignmentgroup\":\"True\",\"hovertemplate\":\"State=New Jersey<br>year=%{x}<br>Total_Sales=%{y}<extra></extra>\",\"legendgroup\":\"New Jersey\",\"marker\":{\"color\":\"#ab63fa\",\"pattern\":{\"shape\":\"\"}},\"name\":\"New Jersey\",\"offsetgroup\":\"New Jersey\",\"orientation\":\"v\",\"showlegend\":true,\"textposition\":\"auto\",\"x\":[2016,2017,2014,2015],\"xaxis\":\"x\",\"y\":[17983.392,9483.55,4192.28,4105.089999999999],\"yaxis\":\"y\",\"type\":\"bar\"},{\"alignmentgroup\":\"True\",\"hovertemplate\":\"State=Tennessee<br>year=%{x}<br>Total_Sales=%{y}<extra></extra>\",\"legendgroup\":\"Tennessee\",\"marker\":{\"color\":\"#FFA15A\",\"pattern\":{\"shape\":\"\"}},\"name\":\"Tennessee\",\"offsetgroup\":\"Tennessee\",\"orientation\":\"v\",\"showlegend\":true,\"textposition\":\"auto\",\"x\":[2017,2015,2016,2014],\"xaxis\":\"x\",\"y\":[16113.823,8366.044,3130.494,3051.5119999999997],\"yaxis\":\"y\",\"type\":\"bar\"},{\"alignmentgroup\":\"True\",\"hovertemplate\":\"State=Minnesota<br>year=%{x}<br>Total_Sales=%{y}<extra></extra>\",\"legendgroup\":\"Minnesota\",\"marker\":{\"color\":\"#19d3f3\",\"pattern\":{\"shape\":\"\"}},\"name\":\"Minnesota\",\"offsetgroup\":\"Minnesota\",\"orientation\":\"v\",\"showlegend\":true,\"textposition\":\"auto\",\"x\":[2014,2017,2015,2016],\"xaxis\":\"x\",\"y\":[15883.330000000002,6728.25,5724.1900000000005,1527.38],\"yaxis\":\"y\",\"type\":\"bar\"},{\"alignmentgroup\":\"True\",\"hovertemplate\":\"State=Kentucky<br>year=%{x}<br>Total_Sales=%{y}<extra></extra>\",\"legendgroup\":\"Kentucky\",\"marker\":{\"color\":\"#FF6692\",\"pattern\":{\"shape\":\"\"}},\"name\":\"Kentucky\",\"offsetgroup\":\"Kentucky\",\"orientation\":\"v\",\"showlegend\":true,\"textposition\":\"auto\",\"x\":[2017,2014,2015,2016],\"xaxis\":\"x\",\"y\":[15534.84,8280.460000000001,7673.56,5102.89],\"yaxis\":\"y\",\"type\":\"bar\"},{\"alignmentgroup\":\"True\",\"hovertemplate\":\"State=Delaware<br>year=%{x}<br>Total_Sales=%{y}<extra></extra>\",\"legendgroup\":\"Delaware\",\"marker\":{\"color\":\"#B6E880\",\"pattern\":{\"shape\":\"\"}},\"name\":\"Delaware\",\"offsetgroup\":\"Delaware\",\"orientation\":\"v\",\"showlegend\":true,\"textposition\":\"auto\",\"x\":[2017,2015,2014,2016],\"xaxis\":\"x\",\"y\":[13754.983,6190.336,4786.03,2719.72],\"yaxis\":\"y\",\"type\":\"bar\"},{\"alignmentgroup\":\"True\",\"hovertemplate\":\"State=Wisconsin<br>year=%{x}<br>Total_Sales=%{y}<extra></extra>\",\"legendgroup\":\"Wisconsin\",\"marker\":{\"color\":\"#FF97FF\",\"pattern\":{\"shape\":\"\"}},\"name\":\"Wisconsin\",\"offsetgroup\":\"Wisconsin\",\"orientation\":\"v\",\"showlegend\":true,\"textposition\":\"auto\",\"x\":[2016,2015,2017,2014],\"xaxis\":\"x\",\"y\":[13337.62,8361.81,5567.469999999999,4847.71],\"yaxis\":\"y\",\"type\":\"bar\"},{\"alignmentgroup\":\"True\",\"hovertemplate\":\"State=Rhode Island<br>year=%{x}<br>Total_Sales=%{y}<extra></extra>\",\"legendgroup\":\"Rhode Island\",\"marker\":{\"color\":\"#FECB52\",\"pattern\":{\"shape\":\"\"}},\"name\":\"Rhode Island\",\"offsetgroup\":\"Rhode Island\",\"orientation\":\"v\",\"showlegend\":true,\"textposition\":\"auto\",\"x\":[2016,2014,2017,2015],\"xaxis\":\"x\",\"y\":[13085.6,5015.686,3427.1099999999997,1099.56],\"yaxis\":\"y\",\"type\":\"bar\"},{\"alignmentgroup\":\"True\",\"hovertemplate\":\"State=Arizona<br>year=%{x}<br>Total_Sales=%{y}<extra></extra>\",\"legendgroup\":\"Arizona\",\"marker\":{\"color\":\"#636efa\",\"pattern\":{\"shape\":\"\"}},\"name\":\"Arizona\",\"offsetgroup\":\"Arizona\",\"orientation\":\"v\",\"showlegend\":true,\"textposition\":\"auto\",\"x\":[2017,2015,2014,2016],\"xaxis\":\"x\",\"y\":[11133.537,9611.21,8295.235,6242.019],\"yaxis\":\"y\",\"type\":\"bar\"},{\"alignmentgroup\":\"True\",\"hovertemplate\":\"State=Colorado<br>year=%{x}<br>Total_Sales=%{y}<extra></extra>\",\"legendgroup\":\"Colorado\",\"marker\":{\"color\":\"#EF553B\",\"pattern\":{\"shape\":\"\"}},\"name\":\"Colorado\",\"offsetgroup\":\"Colorado\",\"orientation\":\"v\",\"showlegend\":true,\"textposition\":\"auto\",\"x\":[2016,2017,2014,2015],\"xaxis\":\"x\",\"y\":[10666.741,10299.813,6502.294,4639.2699999999995],\"yaxis\":\"y\",\"type\":\"bar\"},{\"alignmentgroup\":\"True\",\"hovertemplate\":\"State=Massachusetts<br>year=%{x}<br>Total_Sales=%{y}<extra></extra>\",\"legendgroup\":\"Massachusetts\",\"marker\":{\"color\":\"#00cc96\",\"pattern\":{\"shape\":\"\"}},\"name\":\"Massachusetts\",\"offsetgroup\":\"Massachusetts\",\"orientation\":\"v\",\"showlegend\":true,\"textposition\":\"auto\",\"x\":[2014,2017,2015,2016],\"xaxis\":\"x\",\"y\":[9900.106,8143.076,6625.988,3965.264],\"yaxis\":\"y\",\"type\":\"bar\"},{\"alignmentgroup\":\"True\",\"hovertemplate\":\"State=Maryland<br>year=%{x}<br>Total_Sales=%{y}<extra></extra>\",\"legendgroup\":\"Maryland\",\"marker\":{\"color\":\"#ab63fa\",\"pattern\":{\"shape\":\"\"}},\"name\":\"Maryland\",\"offsetgroup\":\"Maryland\",\"orientation\":\"v\",\"showlegend\":true,\"textposition\":\"auto\",\"x\":[2017,2015,2016,2014],\"xaxis\":\"x\",\"y\":[9451.6,7843.11,4709.563,1701.25],\"yaxis\":\"y\",\"type\":\"bar\"},{\"alignmentgroup\":\"True\",\"hovertemplate\":\"State=Missouri<br>year=%{x}<br>Total_Sales=%{y}<extra></extra>\",\"legendgroup\":\"Missouri\",\"marker\":{\"color\":\"#FFA15A\",\"pattern\":{\"shape\":\"\"}},\"name\":\"Missouri\",\"offsetgroup\":\"Missouri\",\"orientation\":\"v\",\"showlegend\":true,\"textposition\":\"auto\",\"x\":[2017,2015,2016,2014],\"xaxis\":\"x\",\"y\":[9350.8,6985.210000000001,4221.11,1648.03],\"yaxis\":\"y\",\"type\":\"bar\"},{\"alignmentgroup\":\"True\",\"hovertemplate\":\"State=Nevada<br>year=%{x}<br>Total_Sales=%{y}<extra></extra>\",\"legendgroup\":\"Nevada\",\"marker\":{\"color\":\"#19d3f3\",\"pattern\":{\"shape\":\"\"}},\"name\":\"Nevada\",\"offsetgroup\":\"Nevada\",\"orientation\":\"v\",\"showlegend\":true,\"textposition\":\"auto\",\"x\":[2016,2017,2014,2015],\"xaxis\":\"x\",\"y\":[9081.272,3138.158,2561.21,1948.462],\"yaxis\":\"y\",\"type\":\"bar\"},{\"alignmentgroup\":\"True\",\"hovertemplate\":\"State=Oklahoma<br>year=%{x}<br>Total_Sales=%{y}<extra></extra>\",\"legendgroup\":\"Oklahoma\",\"marker\":{\"color\":\"#FF6692\",\"pattern\":{\"shape\":\"\"}},\"name\":\"Oklahoma\",\"offsetgroup\":\"Oklahoma\",\"orientation\":\"v\",\"showlegend\":true,\"textposition\":\"auto\",\"x\":[2016,2017,2015,2014],\"xaxis\":\"x\",\"y\":[8009.79,6225.91,2808.34,2639.35],\"yaxis\":\"y\",\"type\":\"bar\"},{\"alignmentgroup\":\"True\",\"hovertemplate\":\"State=Alabama<br>year=%{x}<br>Total_Sales=%{y}<extra></extra>\",\"legendgroup\":\"Alabama\",\"marker\":{\"color\":\"#B6E880\",\"pattern\":{\"shape\":\"\"}},\"name\":\"Alabama\",\"offsetgroup\":\"Alabama\",\"orientation\":\"v\",\"showlegend\":true,\"textposition\":\"auto\",\"x\":[2016,2014,2015,2017],\"xaxis\":\"x\",\"y\":[7651.33,6139.09,3891.97,1828.25],\"yaxis\":\"y\",\"type\":\"bar\"},{\"alignmentgroup\":\"True\",\"hovertemplate\":\"State=Arkansas<br>year=%{x}<br>Total_Sales=%{y}<extra></extra>\",\"legendgroup\":\"Arkansas\",\"marker\":{\"color\":\"#FF97FF\",\"pattern\":{\"shape\":\"\"}},\"name\":\"Arkansas\",\"offsetgroup\":\"Arkansas\",\"orientation\":\"v\",\"showlegend\":true,\"textposition\":\"auto\",\"x\":[2014,2017,2016,2015],\"xaxis\":\"x\",\"y\":[6302.6900000000005,2707.64,2224.19,443.61],\"yaxis\":\"y\",\"type\":\"bar\"},{\"alignmentgroup\":\"True\",\"hovertemplate\":\"State=Louisiana<br>year=%{x}<br>Total_Sales=%{y}<extra></extra>\",\"legendgroup\":\"Louisiana\",\"marker\":{\"color\":\"#FECB52\",\"pattern\":{\"shape\":\"\"}},\"name\":\"Louisiana\",\"offsetgroup\":\"Louisiana\",\"orientation\":\"v\",\"showlegend\":true,\"textposition\":\"auto\",\"x\":[2017,2014,2015,2016],\"xaxis\":\"x\",\"y\":[5501.55,2534.92,917.8,262.76],\"yaxis\":\"y\",\"type\":\"bar\"},{\"alignmentgroup\":\"True\",\"hovertemplate\":\"State=Oregon<br>year=%{x}<br>Total_Sales=%{y}<extra></extra>\",\"legendgroup\":\"Oregon\",\"marker\":{\"color\":\"#636efa\",\"pattern\":{\"shape\":\"\"}},\"name\":\"Oregon\",\"offsetgroup\":\"Oregon\",\"orientation\":\"v\",\"showlegend\":true,\"textposition\":\"auto\",\"x\":[2016,2014,2015,2017],\"xaxis\":\"x\",\"y\":[5450.837,4807.783,4285.937,2886.593],\"yaxis\":\"y\",\"type\":\"bar\"},{\"alignmentgroup\":\"True\",\"hovertemplate\":\"State=Mississippi<br>year=%{x}<br>Total_Sales=%{y}<extra></extra>\",\"legendgroup\":\"Mississippi\",\"marker\":{\"color\":\"#EF553B\",\"pattern\":{\"shape\":\"\"}},\"name\":\"Mississippi\",\"offsetgroup\":\"Mississippi\",\"orientation\":\"v\",\"showlegend\":true,\"textposition\":\"auto\",\"x\":[2016,2017,2014,2015],\"xaxis\":\"x\",\"y\":[5416.78,2997.2400000000002,2055.16,302.15999999999997],\"yaxis\":\"y\",\"type\":\"bar\"},{\"alignmentgroup\":\"True\",\"hovertemplate\":\"State=Connecticut<br>year=%{x}<br>Total_Sales=%{y}<extra></extra>\",\"legendgroup\":\"Connecticut\",\"marker\":{\"color\":\"#00cc96\",\"pattern\":{\"shape\":\"\"}},\"name\":\"Connecticut\",\"offsetgroup\":\"Connecticut\",\"orientation\":\"v\",\"showlegend\":true,\"textposition\":\"auto\",\"x\":[2017,2016,2014,2015],\"xaxis\":\"x\",\"y\":[5307.21,3998.487,2794.02,1284.6399999999999],\"yaxis\":\"y\",\"type\":\"bar\"},{\"alignmentgroup\":\"True\",\"hovertemplate\":\"State=Vermont<br>year=%{x}<br>Total_Sales=%{y}<extra></extra>\",\"legendgroup\":\"Vermont\",\"marker\":{\"color\":\"#ab63fa\",\"pattern\":{\"shape\":\"\"}},\"name\":\"Vermont\",\"offsetgroup\":\"Vermont\",\"orientation\":\"v\",\"showlegend\":true,\"textposition\":\"auto\",\"x\":[2015,2016,2017],\"xaxis\":\"x\",\"y\":[5120.099999999999,2967.06,842.21],\"yaxis\":\"y\",\"type\":\"bar\"},{\"alignmentgroup\":\"True\",\"hovertemplate\":\"State=New Hampshire<br>year=%{x}<br>Total_Sales=%{y}<extra></extra>\",\"legendgroup\":\"New Hampshire\",\"marker\":{\"color\":\"#FFA15A\",\"pattern\":{\"shape\":\"\"}},\"name\":\"New Hampshire\",\"offsetgroup\":\"New Hampshire\",\"orientation\":\"v\",\"showlegend\":true,\"textposition\":\"auto\",\"x\":[2015,2017,2016,2014],\"xaxis\":\"x\",\"y\":[4345.034,1509.43,933.58,504.48],\"yaxis\":\"y\",\"type\":\"bar\"},{\"alignmentgroup\":\"True\",\"hovertemplate\":\"State=Montana<br>year=%{x}<br>Total_Sales=%{y}<extra></extra>\",\"legendgroup\":\"Montana\",\"marker\":{\"color\":\"#19d3f3\",\"pattern\":{\"shape\":\"\"}},\"name\":\"Montana\",\"offsetgroup\":\"Montana\",\"orientation\":\"v\",\"showlegend\":true,\"textposition\":\"auto\",\"x\":[2017,2015,2014],\"xaxis\":\"x\",\"y\":[4229.28,935.584,424.488],\"yaxis\":\"y\",\"type\":\"bar\"},{\"alignmentgroup\":\"True\",\"hovertemplate\":\"State=South Carolina<br>year=%{x}<br>Total_Sales=%{y}<extra></extra>\",\"legendgroup\":\"South Carolina\",\"marker\":{\"color\":\"#FF6692\",\"pattern\":{\"shape\":\"\"}},\"name\":\"South Carolina\",\"offsetgroup\":\"South Carolina\",\"orientation\":\"v\",\"showlegend\":true,\"textposition\":\"auto\",\"x\":[2015,2014,2017,2016],\"xaxis\":\"x\",\"y\":[4147.62,2270.86,1560.75,502.48],\"yaxis\":\"y\",\"type\":\"bar\"},{\"alignmentgroup\":\"True\",\"hovertemplate\":\"State=Utah<br>year=%{x}<br>Total_Sales=%{y}<extra></extra>\",\"legendgroup\":\"Utah\",\"marker\":{\"color\":\"#B6E880\",\"pattern\":{\"shape\":\"\"}},\"name\":\"Utah\",\"offsetgroup\":\"Utah\",\"orientation\":\"v\",\"showlegend\":true,\"textposition\":\"auto\",\"x\":[2015,2014,2017,2016],\"xaxis\":\"x\",\"y\":[3993.32,2943.688,2460.638,1822.41],\"yaxis\":\"y\",\"type\":\"bar\"},{\"alignmentgroup\":\"True\",\"hovertemplate\":\"State=Nebraska<br>year=%{x}<br>Total_Sales=%{y}<extra></extra>\",\"legendgroup\":\"Nebraska\",\"marker\":{\"color\":\"#FF97FF\",\"pattern\":{\"shape\":\"\"}},\"name\":\"Nebraska\",\"offsetgroup\":\"Nebraska\",\"orientation\":\"v\",\"showlegend\":true,\"textposition\":\"auto\",\"x\":[2017,2016,2015,2014],\"xaxis\":\"x\",\"y\":[3579.35,3081.42,594.1400000000001,210.01999999999998],\"yaxis\":\"y\",\"type\":\"bar\"},{\"alignmentgroup\":\"True\",\"hovertemplate\":\"State=New Mexico<br>year=%{x}<br>Total_Sales=%{y}<extra></extra>\",\"legendgroup\":\"New Mexico\",\"marker\":{\"color\":\"#FECB52\",\"pattern\":{\"shape\":\"\"}},\"name\":\"New Mexico\",\"offsetgroup\":\"New Mexico\",\"orientation\":\"v\",\"showlegend\":true,\"textposition\":\"auto\",\"x\":[2017,2015,2014,2016],\"xaxis\":\"x\",\"y\":[2818.558,1192.872,708.012,64.08],\"yaxis\":\"y\",\"type\":\"bar\"},{\"alignmentgroup\":\"True\",\"hovertemplate\":\"State=District of Columbia<br>year=%{x}<br>Total_Sales=%{y}<extra></extra>\",\"legendgroup\":\"District of Columbia\",\"marker\":{\"color\":\"#636efa\",\"pattern\":{\"shape\":\"\"}},\"name\":\"District of Columbia\",\"offsetgroup\":\"District of Columbia\",\"orientation\":\"v\",\"showlegend\":true,\"textposition\":\"auto\",\"x\":[2015,2016,2017],\"xaxis\":\"x\",\"y\":[2670.19,117.07,77.75999999999999],\"yaxis\":\"y\",\"type\":\"bar\"},{\"alignmentgroup\":\"True\",\"hovertemplate\":\"State=Iowa<br>year=%{x}<br>Total_Sales=%{y}<extra></extra>\",\"legendgroup\":\"Iowa\",\"marker\":{\"color\":\"#EF553B\",\"pattern\":{\"shape\":\"\"}},\"name\":\"Iowa\",\"offsetgroup\":\"Iowa\",\"orientation\":\"v\",\"showlegend\":true,\"textposition\":\"auto\",\"x\":[2015,2014,2016,2017],\"xaxis\":\"x\",\"y\":[1713.1999999999998,1190.84,959.31,716.41],\"yaxis\":\"y\",\"type\":\"bar\"},{\"alignmentgroup\":\"True\",\"hovertemplate\":\"State=Wyoming<br>year=%{x}<br>Total_Sales=%{y}<extra></extra>\",\"legendgroup\":\"Wyoming\",\"marker\":{\"color\":\"#00cc96\",\"pattern\":{\"shape\":\"\"}},\"name\":\"Wyoming\",\"offsetgroup\":\"Wyoming\",\"orientation\":\"v\",\"showlegend\":true,\"textposition\":\"auto\",\"x\":[2016],\"xaxis\":\"x\",\"y\":[1603.136],\"yaxis\":\"y\",\"type\":\"bar\"},{\"alignmentgroup\":\"True\",\"hovertemplate\":\"State=Idaho<br>year=%{x}<br>Total_Sales=%{y}<extra></extra>\",\"legendgroup\":\"Idaho\",\"marker\":{\"color\":\"#ab63fa\",\"pattern\":{\"shape\":\"\"}},\"name\":\"Idaho\",\"offsetgroup\":\"Idaho\",\"orientation\":\"v\",\"showlegend\":true,\"textposition\":\"auto\",\"x\":[2015,2017,2016,2014],\"xaxis\":\"x\",\"y\":[1500.2359999999999,1233.548,1183.486,465.216],\"yaxis\":\"y\",\"type\":\"bar\"},{\"alignmentgroup\":\"True\",\"hovertemplate\":\"State=Kansas<br>year=%{x}<br>Total_Sales=%{y}<extra></extra>\",\"legendgroup\":\"Kansas\",\"marker\":{\"color\":\"#FFA15A\",\"pattern\":{\"shape\":\"\"}},\"name\":\"Kansas\",\"offsetgroup\":\"Kansas\",\"orientation\":\"v\",\"showlegend\":true,\"textposition\":\"auto\",\"x\":[2014,2017,2016,2015],\"xaxis\":\"x\",\"y\":[1319.79,733.15,691.06,170.30999999999997],\"yaxis\":\"y\",\"type\":\"bar\"},{\"alignmentgroup\":\"True\",\"hovertemplate\":\"State=West Virginia<br>year=%{x}<br>Total_Sales=%{y}<extra></extra>\",\"legendgroup\":\"West Virginia\",\"marker\":{\"color\":\"#19d3f3\",\"pattern\":{\"shape\":\"\"}},\"name\":\"West Virginia\",\"offsetgroup\":\"West Virginia\",\"orientation\":\"v\",\"showlegend\":true,\"textposition\":\"auto\",\"x\":[2017],\"xaxis\":\"x\",\"y\":[1209.824],\"yaxis\":\"y\",\"type\":\"bar\"},{\"alignmentgroup\":\"True\",\"hovertemplate\":\"State=South Dakota<br>year=%{x}<br>Total_Sales=%{y}<extra></extra>\",\"legendgroup\":\"South Dakota\",\"marker\":{\"color\":\"#FF6692\",\"pattern\":{\"shape\":\"\"}},\"name\":\"South Dakota\",\"offsetgroup\":\"South Dakota\",\"orientation\":\"v\",\"showlegend\":true,\"textposition\":\"auto\",\"x\":[2017,2014],\"xaxis\":\"x\",\"y\":[1153.41,162.15],\"yaxis\":\"y\",\"type\":\"bar\"},{\"alignmentgroup\":\"True\",\"hovertemplate\":\"State=North Dakota<br>year=%{x}<br>Total_Sales=%{y}<extra></extra>\",\"legendgroup\":\"North Dakota\",\"marker\":{\"color\":\"#B6E880\",\"pattern\":{\"shape\":\"\"}},\"name\":\"North Dakota\",\"offsetgroup\":\"North Dakota\",\"orientation\":\"v\",\"showlegend\":true,\"textposition\":\"auto\",\"x\":[2017],\"xaxis\":\"x\",\"y\":[919.91],\"yaxis\":\"y\",\"type\":\"bar\"},{\"alignmentgroup\":\"True\",\"hovertemplate\":\"State=Maine<br>year=%{x}<br>Total_Sales=%{y}<extra></extra>\",\"legendgroup\":\"Maine\",\"marker\":{\"color\":\"#FF97FF\",\"pattern\":{\"shape\":\"\"}},\"name\":\"Maine\",\"offsetgroup\":\"Maine\",\"orientation\":\"v\",\"showlegend\":true,\"textposition\":\"auto\",\"x\":[2014,2016,2015],\"xaxis\":\"x\",\"y\":[617.12,547.33,106.08000000000001],\"yaxis\":\"y\",\"type\":\"bar\"}],                        {\"template\":{\"data\":{\"histogram2dcontour\":[{\"type\":\"histogram2dcontour\",\"colorbar\":{\"outlinewidth\":0,\"ticks\":\"\"},\"colorscale\":[[0.0,\"#0d0887\"],[0.1111111111111111,\"#46039f\"],[0.2222222222222222,\"#7201a8\"],[0.3333333333333333,\"#9c179e\"],[0.4444444444444444,\"#bd3786\"],[0.5555555555555556,\"#d8576b\"],[0.6666666666666666,\"#ed7953\"],[0.7777777777777778,\"#fb9f3a\"],[0.8888888888888888,\"#fdca26\"],[1.0,\"#f0f921\"]]}],\"choropleth\":[{\"type\":\"choropleth\",\"colorbar\":{\"outlinewidth\":0,\"ticks\":\"\"}}],\"histogram2d\":[{\"type\":\"histogram2d\",\"colorbar\":{\"outlinewidth\":0,\"ticks\":\"\"},\"colorscale\":[[0.0,\"#0d0887\"],[0.1111111111111111,\"#46039f\"],[0.2222222222222222,\"#7201a8\"],[0.3333333333333333,\"#9c179e\"],[0.4444444444444444,\"#bd3786\"],[0.5555555555555556,\"#d8576b\"],[0.6666666666666666,\"#ed7953\"],[0.7777777777777778,\"#fb9f3a\"],[0.8888888888888888,\"#fdca26\"],[1.0,\"#f0f921\"]]}],\"heatmap\":[{\"type\":\"heatmap\",\"colorbar\":{\"outlinewidth\":0,\"ticks\":\"\"},\"colorscale\":[[0.0,\"#0d0887\"],[0.1111111111111111,\"#46039f\"],[0.2222222222222222,\"#7201a8\"],[0.3333333333333333,\"#9c179e\"],[0.4444444444444444,\"#bd3786\"],[0.5555555555555556,\"#d8576b\"],[0.6666666666666666,\"#ed7953\"],[0.7777777777777778,\"#fb9f3a\"],[0.8888888888888888,\"#fdca26\"],[1.0,\"#f0f921\"]]}],\"heatmapgl\":[{\"type\":\"heatmapgl\",\"colorbar\":{\"outlinewidth\":0,\"ticks\":\"\"},\"colorscale\":[[0.0,\"#0d0887\"],[0.1111111111111111,\"#46039f\"],[0.2222222222222222,\"#7201a8\"],[0.3333333333333333,\"#9c179e\"],[0.4444444444444444,\"#bd3786\"],[0.5555555555555556,\"#d8576b\"],[0.6666666666666666,\"#ed7953\"],[0.7777777777777778,\"#fb9f3a\"],[0.8888888888888888,\"#fdca26\"],[1.0,\"#f0f921\"]]}],\"contourcarpet\":[{\"type\":\"contourcarpet\",\"colorbar\":{\"outlinewidth\":0,\"ticks\":\"\"}}],\"contour\":[{\"type\":\"contour\",\"colorbar\":{\"outlinewidth\":0,\"ticks\":\"\"},\"colorscale\":[[0.0,\"#0d0887\"],[0.1111111111111111,\"#46039f\"],[0.2222222222222222,\"#7201a8\"],[0.3333333333333333,\"#9c179e\"],[0.4444444444444444,\"#bd3786\"],[0.5555555555555556,\"#d8576b\"],[0.6666666666666666,\"#ed7953\"],[0.7777777777777778,\"#fb9f3a\"],[0.8888888888888888,\"#fdca26\"],[1.0,\"#f0f921\"]]}],\"surface\":[{\"type\":\"surface\",\"colorbar\":{\"outlinewidth\":0,\"ticks\":\"\"},\"colorscale\":[[0.0,\"#0d0887\"],[0.1111111111111111,\"#46039f\"],[0.2222222222222222,\"#7201a8\"],[0.3333333333333333,\"#9c179e\"],[0.4444444444444444,\"#bd3786\"],[0.5555555555555556,\"#d8576b\"],[0.6666666666666666,\"#ed7953\"],[0.7777777777777778,\"#fb9f3a\"],[0.8888888888888888,\"#fdca26\"],[1.0,\"#f0f921\"]]}],\"mesh3d\":[{\"type\":\"mesh3d\",\"colorbar\":{\"outlinewidth\":0,\"ticks\":\"\"}}],\"scatter\":[{\"fillpattern\":{\"fillmode\":\"overlay\",\"size\":10,\"solidity\":0.2},\"type\":\"scatter\"}],\"parcoords\":[{\"type\":\"parcoords\",\"line\":{\"colorbar\":{\"outlinewidth\":0,\"ticks\":\"\"}}}],\"scatterpolargl\":[{\"type\":\"scatterpolargl\",\"marker\":{\"colorbar\":{\"outlinewidth\":0,\"ticks\":\"\"}}}],\"bar\":[{\"error_x\":{\"color\":\"#2a3f5f\"},\"error_y\":{\"color\":\"#2a3f5f\"},\"marker\":{\"line\":{\"color\":\"#E5ECF6\",\"width\":0.5},\"pattern\":{\"fillmode\":\"overlay\",\"size\":10,\"solidity\":0.2}},\"type\":\"bar\"}],\"scattergeo\":[{\"type\":\"scattergeo\",\"marker\":{\"colorbar\":{\"outlinewidth\":0,\"ticks\":\"\"}}}],\"scatterpolar\":[{\"type\":\"scatterpolar\",\"marker\":{\"colorbar\":{\"outlinewidth\":0,\"ticks\":\"\"}}}],\"histogram\":[{\"marker\":{\"pattern\":{\"fillmode\":\"overlay\",\"size\":10,\"solidity\":0.2}},\"type\":\"histogram\"}],\"scattergl\":[{\"type\":\"scattergl\",\"marker\":{\"colorbar\":{\"outlinewidth\":0,\"ticks\":\"\"}}}],\"scatter3d\":[{\"type\":\"scatter3d\",\"line\":{\"colorbar\":{\"outlinewidth\":0,\"ticks\":\"\"}},\"marker\":{\"colorbar\":{\"outlinewidth\":0,\"ticks\":\"\"}}}],\"scattermapbox\":[{\"type\":\"scattermapbox\",\"marker\":{\"colorbar\":{\"outlinewidth\":0,\"ticks\":\"\"}}}],\"scatterternary\":[{\"type\":\"scatterternary\",\"marker\":{\"colorbar\":{\"outlinewidth\":0,\"ticks\":\"\"}}}],\"scattercarpet\":[{\"type\":\"scattercarpet\",\"marker\":{\"colorbar\":{\"outlinewidth\":0,\"ticks\":\"\"}}}],\"carpet\":[{\"aaxis\":{\"endlinecolor\":\"#2a3f5f\",\"gridcolor\":\"white\",\"linecolor\":\"white\",\"minorgridcolor\":\"white\",\"startlinecolor\":\"#2a3f5f\"},\"baxis\":{\"endlinecolor\":\"#2a3f5f\",\"gridcolor\":\"white\",\"linecolor\":\"white\",\"minorgridcolor\":\"white\",\"startlinecolor\":\"#2a3f5f\"},\"type\":\"carpet\"}],\"table\":[{\"cells\":{\"fill\":{\"color\":\"#EBF0F8\"},\"line\":{\"color\":\"white\"}},\"header\":{\"fill\":{\"color\":\"#C8D4E3\"},\"line\":{\"color\":\"white\"}},\"type\":\"table\"}],\"barpolar\":[{\"marker\":{\"line\":{\"color\":\"#E5ECF6\",\"width\":0.5},\"pattern\":{\"fillmode\":\"overlay\",\"size\":10,\"solidity\":0.2}},\"type\":\"barpolar\"}],\"pie\":[{\"automargin\":true,\"type\":\"pie\"}]},\"layout\":{\"autotypenumbers\":\"strict\",\"colorway\":[\"#636efa\",\"#EF553B\",\"#00cc96\",\"#ab63fa\",\"#FFA15A\",\"#19d3f3\",\"#FF6692\",\"#B6E880\",\"#FF97FF\",\"#FECB52\"],\"font\":{\"color\":\"#2a3f5f\"},\"hovermode\":\"closest\",\"hoverlabel\":{\"align\":\"left\"},\"paper_bgcolor\":\"white\",\"plot_bgcolor\":\"#E5ECF6\",\"polar\":{\"bgcolor\":\"#E5ECF6\",\"angularaxis\":{\"gridcolor\":\"white\",\"linecolor\":\"white\",\"ticks\":\"\"},\"radialaxis\":{\"gridcolor\":\"white\",\"linecolor\":\"white\",\"ticks\":\"\"}},\"ternary\":{\"bgcolor\":\"#E5ECF6\",\"aaxis\":{\"gridcolor\":\"white\",\"linecolor\":\"white\",\"ticks\":\"\"},\"baxis\":{\"gridcolor\":\"white\",\"linecolor\":\"white\",\"ticks\":\"\"},\"caxis\":{\"gridcolor\":\"white\",\"linecolor\":\"white\",\"ticks\":\"\"}},\"coloraxis\":{\"colorbar\":{\"outlinewidth\":0,\"ticks\":\"\"}},\"colorscale\":{\"sequential\":[[0.0,\"#0d0887\"],[0.1111111111111111,\"#46039f\"],[0.2222222222222222,\"#7201a8\"],[0.3333333333333333,\"#9c179e\"],[0.4444444444444444,\"#bd3786\"],[0.5555555555555556,\"#d8576b\"],[0.6666666666666666,\"#ed7953\"],[0.7777777777777778,\"#fb9f3a\"],[0.8888888888888888,\"#fdca26\"],[1.0,\"#f0f921\"]],\"sequentialminus\":[[0.0,\"#0d0887\"],[0.1111111111111111,\"#46039f\"],[0.2222222222222222,\"#7201a8\"],[0.3333333333333333,\"#9c179e\"],[0.4444444444444444,\"#bd3786\"],[0.5555555555555556,\"#d8576b\"],[0.6666666666666666,\"#ed7953\"],[0.7777777777777778,\"#fb9f3a\"],[0.8888888888888888,\"#fdca26\"],[1.0,\"#f0f921\"]],\"diverging\":[[0,\"#8e0152\"],[0.1,\"#c51b7d\"],[0.2,\"#de77ae\"],[0.3,\"#f1b6da\"],[0.4,\"#fde0ef\"],[0.5,\"#f7f7f7\"],[0.6,\"#e6f5d0\"],[0.7,\"#b8e186\"],[0.8,\"#7fbc41\"],[0.9,\"#4d9221\"],[1,\"#276419\"]]},\"xaxis\":{\"gridcolor\":\"white\",\"linecolor\":\"white\",\"ticks\":\"\",\"title\":{\"standoff\":15},\"zerolinecolor\":\"white\",\"automargin\":true,\"zerolinewidth\":2},\"yaxis\":{\"gridcolor\":\"white\",\"linecolor\":\"white\",\"ticks\":\"\",\"title\":{\"standoff\":15},\"zerolinecolor\":\"white\",\"automargin\":true,\"zerolinewidth\":2},\"scene\":{\"xaxis\":{\"backgroundcolor\":\"#E5ECF6\",\"gridcolor\":\"white\",\"linecolor\":\"white\",\"showbackground\":true,\"ticks\":\"\",\"zerolinecolor\":\"white\",\"gridwidth\":2},\"yaxis\":{\"backgroundcolor\":\"#E5ECF6\",\"gridcolor\":\"white\",\"linecolor\":\"white\",\"showbackground\":true,\"ticks\":\"\",\"zerolinecolor\":\"white\",\"gridwidth\":2},\"zaxis\":{\"backgroundcolor\":\"#E5ECF6\",\"gridcolor\":\"white\",\"linecolor\":\"white\",\"showbackground\":true,\"ticks\":\"\",\"zerolinecolor\":\"white\",\"gridwidth\":2}},\"shapedefaults\":{\"line\":{\"color\":\"#2a3f5f\"}},\"annotationdefaults\":{\"arrowcolor\":\"#2a3f5f\",\"arrowhead\":0,\"arrowwidth\":1},\"geo\":{\"bgcolor\":\"white\",\"landcolor\":\"#E5ECF6\",\"subunitcolor\":\"white\",\"showland\":true,\"showlakes\":true,\"lakecolor\":\"white\"},\"title\":{\"x\":0.05},\"mapbox\":{\"style\":\"light\"}}},\"xaxis\":{\"anchor\":\"y\",\"domain\":[0.0,1.0],\"title\":{\"text\":\"year\"}},\"yaxis\":{\"anchor\":\"x\",\"domain\":[0.0,1.0],\"title\":{\"text\":\"Total_Sales\"}},\"legend\":{\"title\":{\"text\":\"State\"},\"tracegroupgap\":0},\"title\":{\"text\":\"\\u0421\\u0435\\u0433\\u043c\\u0435\\u043d\\u0442\\u0430\\u0446\\u0438\\u044f \\u043f\\u0440\\u043e\\u0434\\u0430\\u0436 \\u043f\\u043e \\u0448\\u0442\\u0430\\u0442\\u0430\\u043c\"},\"barmode\":\"relative\"},                        {\"responsive\": true}                    ).then(function(){\n",
       "                            \n",
       "var gd = document.getElementById('3eb4e0f1-bdc4-4572-8c18-149812315721');\n",
       "var x = new MutationObserver(function (mutations, observer) {{\n",
       "        var display = window.getComputedStyle(gd).display;\n",
       "        if (!display || display === 'none') {{\n",
       "            console.log([gd, 'removed!']);\n",
       "            Plotly.purge(gd);\n",
       "            observer.disconnect();\n",
       "        }}\n",
       "}});\n",
       "\n",
       "// Listen for the removal of the full notebook cells\n",
       "var notebookContainer = gd.closest('#notebook-container');\n",
       "if (notebookContainer) {{\n",
       "    x.observe(notebookContainer, {childList: true});\n",
       "}}\n",
       "\n",
       "// Listen for the clearing of the current output cell\n",
       "var outputEl = gd.closest('.output');\n",
       "if (outputEl) {{\n",
       "    x.observe(outputEl, {childList: true});\n",
       "}}\n",
       "\n",
       "                        })                };                });            </script>        </div>"
      ]
     },
     "metadata": {},
     "output_type": "display_data"
    }
   ],
   "source": [
    "State_group_2 = State.groupby(['year', 'State']).agg(Total_Sales=('Sales', 'sum')).reset_index()\n",
    "State_group_2_sorted = State_group_2.sort_values('Total_Sales', ascending = False)\n",
    "graf_2 = px.bar(\n",
    "     State_group_2_sorted,\n",
    "     x = 'year',\n",
    "     y = 'Total_Sales',\n",
    "     color = 'State',\n",
    "     title = 'Сегментация продаж по штатам'\n",
    "    )\n",
    "\n",
    "graf_2.show()"
   ]
  },
  {
   "cell_type": "code",
   "execution_count": 51,
   "id": "ad6d98d0-7aea-469e-97cd-c1dac65bd47e",
   "metadata": {},
   "outputs": [
    {
     "data": {
      "text/html": [
       "<div>\n",
       "<style scoped>\n",
       "    .dataframe tbody tr th:only-of-type {\n",
       "        vertical-align: middle;\n",
       "    }\n",
       "\n",
       "    .dataframe tbody tr th {\n",
       "        vertical-align: top;\n",
       "    }\n",
       "\n",
       "    .dataframe thead th {\n",
       "        text-align: right;\n",
       "    }\n",
       "</style>\n",
       "<table border=\"1\" class=\"dataframe\">\n",
       "  <thead>\n",
       "    <tr style=\"text-align: right;\">\n",
       "      <th></th>\n",
       "      <th>Customer ID</th>\n",
       "      <th>AOV</th>\n",
       "    </tr>\n",
       "  </thead>\n",
       "  <tbody>\n",
       "    <tr>\n",
       "      <th>0</th>\n",
       "      <td>MW-18235</td>\n",
       "      <td>1751.292000</td>\n",
       "    </tr>\n",
       "    <tr>\n",
       "      <th>1</th>\n",
       "      <td>SM-20320</td>\n",
       "      <td>1669.536667</td>\n",
       "    </tr>\n",
       "    <tr>\n",
       "      <th>2</th>\n",
       "      <td>TC-20980</td>\n",
       "      <td>1587.684833</td>\n",
       "    </tr>\n",
       "    <tr>\n",
       "      <th>3</th>\n",
       "      <td>GT-14635</td>\n",
       "      <td>1558.535333</td>\n",
       "    </tr>\n",
       "    <tr>\n",
       "      <th>4</th>\n",
       "      <td>TA-21385</td>\n",
       "      <td>1459.562000</td>\n",
       "    </tr>\n",
       "    <tr>\n",
       "      <th>...</th>\n",
       "      <td>...</td>\n",
       "      <td>...</td>\n",
       "    </tr>\n",
       "    <tr>\n",
       "      <th>788</th>\n",
       "      <td>SG-20890</td>\n",
       "      <td>9.589200</td>\n",
       "    </tr>\n",
       "    <tr>\n",
       "      <th>789</th>\n",
       "      <td>MG-18205</td>\n",
       "      <td>8.369500</td>\n",
       "    </tr>\n",
       "    <tr>\n",
       "      <th>790</th>\n",
       "      <td>RS-19870</td>\n",
       "      <td>7.442667</td>\n",
       "    </tr>\n",
       "    <tr>\n",
       "      <th>791</th>\n",
       "      <td>LD-16855</td>\n",
       "      <td>5.304000</td>\n",
       "    </tr>\n",
       "    <tr>\n",
       "      <th>792</th>\n",
       "      <td>TS-21085</td>\n",
       "      <td>2.416500</td>\n",
       "    </tr>\n",
       "  </tbody>\n",
       "</table>\n",
       "<p>793 rows × 2 columns</p>\n",
       "</div>"
      ],
      "text/plain": [
       "    Customer ID          AOV\n",
       "0      MW-18235  1751.292000\n",
       "1      SM-20320  1669.536667\n",
       "2      TC-20980  1587.684833\n",
       "3      GT-14635  1558.535333\n",
       "4      TA-21385  1459.562000\n",
       "..          ...          ...\n",
       "788    SG-20890     9.589200\n",
       "789    MG-18205     8.369500\n",
       "790    RS-19870     7.442667\n",
       "791    LD-16855     5.304000\n",
       "792    TS-21085     2.416500\n",
       "\n",
       "[793 rows x 2 columns]"
      ]
     },
     "execution_count": 51,
     "metadata": {},
     "output_type": "execute_result"
    }
   ],
   "source": [
    "# сегментация - признак средний чек клиента\n",
    "Superstore_AOV = Superstore.groupby(['Customer ID']).agg(AOV = ('Sales', 'mean')).sort_values('AOV', ascending = False).reset_index()\n",
    "#Superstore_AOV.loc[Superstore_AOV['Customer ID'] == 'CG-12520']\n",
    "Superstore_AOV\n",
    "#Superstore.loc[Superstore['Customer ID'] == 'CG-12520']"
   ]
  },
  {
   "cell_type": "code",
   "execution_count": 24,
   "id": "fce2e2af-59a9-4fd5-8d8d-634720da09b1",
   "metadata": {},
   "outputs": [],
   "source": [
    "# удаление колонок\n",
    "# Superstore = Superstore.drop(['AOV', 'AOV'], axis = 1)\n",
    "# Superstore"
   ]
  },
  {
   "cell_type": "code",
   "execution_count": 52,
   "id": "6362bc04-8c78-4fa7-ab55-458a5a4cf340",
   "metadata": {},
   "outputs": [
    {
     "data": {
      "text/html": [
       "<div>\n",
       "<style scoped>\n",
       "    .dataframe tbody tr th:only-of-type {\n",
       "        vertical-align: middle;\n",
       "    }\n",
       "\n",
       "    .dataframe tbody tr th {\n",
       "        vertical-align: top;\n",
       "    }\n",
       "\n",
       "    .dataframe thead th {\n",
       "        text-align: right;\n",
       "    }\n",
       "</style>\n",
       "<table border=\"1\" class=\"dataframe\">\n",
       "  <thead>\n",
       "    <tr style=\"text-align: right;\">\n",
       "      <th></th>\n",
       "      <th>Row ID</th>\n",
       "      <th>Order ID</th>\n",
       "      <th>Order Date</th>\n",
       "      <th>Ship Date</th>\n",
       "      <th>Ship Mode</th>\n",
       "      <th>Customer ID</th>\n",
       "      <th>Customer Name</th>\n",
       "      <th>Segment</th>\n",
       "      <th>Country</th>\n",
       "      <th>City</th>\n",
       "      <th>...</th>\n",
       "      <th>Product Name</th>\n",
       "      <th>Sales</th>\n",
       "      <th>Quantity</th>\n",
       "      <th>Discount</th>\n",
       "      <th>Profit</th>\n",
       "      <th>year</th>\n",
       "      <th>month</th>\n",
       "      <th>day</th>\n",
       "      <th>Profit Category</th>\n",
       "      <th>AOV</th>\n",
       "    </tr>\n",
       "  </thead>\n",
       "  <tbody>\n",
       "    <tr>\n",
       "      <th>0</th>\n",
       "      <td>1</td>\n",
       "      <td>CA-2016-152156</td>\n",
       "      <td>2016-11-08</td>\n",
       "      <td>11/11/2016</td>\n",
       "      <td>Second Class</td>\n",
       "      <td>CG-12520</td>\n",
       "      <td>Claire Gute</td>\n",
       "      <td>Consumer</td>\n",
       "      <td>United States</td>\n",
       "      <td>Henderson</td>\n",
       "      <td>...</td>\n",
       "      <td>Bush Somerset Collection Bookcase</td>\n",
       "      <td>261.9600</td>\n",
       "      <td>2</td>\n",
       "      <td>0.00</td>\n",
       "      <td>41.9136</td>\n",
       "      <td>2016</td>\n",
       "      <td>11</td>\n",
       "      <td>8</td>\n",
       "      <td>Very High</td>\n",
       "      <td>229.756000</td>\n",
       "    </tr>\n",
       "    <tr>\n",
       "      <th>1</th>\n",
       "      <td>2</td>\n",
       "      <td>CA-2016-152156</td>\n",
       "      <td>2016-11-08</td>\n",
       "      <td>11/11/2016</td>\n",
       "      <td>Second Class</td>\n",
       "      <td>CG-12520</td>\n",
       "      <td>Claire Gute</td>\n",
       "      <td>Consumer</td>\n",
       "      <td>United States</td>\n",
       "      <td>Henderson</td>\n",
       "      <td>...</td>\n",
       "      <td>Hon Deluxe Fabric Upholstered Stacking Chairs,...</td>\n",
       "      <td>731.9400</td>\n",
       "      <td>3</td>\n",
       "      <td>0.00</td>\n",
       "      <td>219.5820</td>\n",
       "      <td>2016</td>\n",
       "      <td>11</td>\n",
       "      <td>8</td>\n",
       "      <td>Very High</td>\n",
       "      <td>NaN</td>\n",
       "    </tr>\n",
       "    <tr>\n",
       "      <th>2</th>\n",
       "      <td>3</td>\n",
       "      <td>CA-2016-138688</td>\n",
       "      <td>2016-06-12</td>\n",
       "      <td>6/16/2016</td>\n",
       "      <td>Second Class</td>\n",
       "      <td>DV-13045</td>\n",
       "      <td>Darrin Van Huff</td>\n",
       "      <td>Corporate</td>\n",
       "      <td>United States</td>\n",
       "      <td>Los Angeles</td>\n",
       "      <td>...</td>\n",
       "      <td>Self-Adhesive Address Labels for Typewriters b...</td>\n",
       "      <td>14.6200</td>\n",
       "      <td>2</td>\n",
       "      <td>0.00</td>\n",
       "      <td>6.8714</td>\n",
       "      <td>2016</td>\n",
       "      <td>6</td>\n",
       "      <td>12</td>\n",
       "      <td>Middle</td>\n",
       "      <td>124.387000</td>\n",
       "    </tr>\n",
       "    <tr>\n",
       "      <th>3</th>\n",
       "      <td>4</td>\n",
       "      <td>US-2015-108966</td>\n",
       "      <td>2015-10-11</td>\n",
       "      <td>10/18/2015</td>\n",
       "      <td>Standard Class</td>\n",
       "      <td>SO-20335</td>\n",
       "      <td>Sean O'Donnell</td>\n",
       "      <td>Consumer</td>\n",
       "      <td>United States</td>\n",
       "      <td>Fort Lauderdale</td>\n",
       "      <td>...</td>\n",
       "      <td>Bretford CR4500 Series Slim Rectangular Table</td>\n",
       "      <td>957.5775</td>\n",
       "      <td>5</td>\n",
       "      <td>0.45</td>\n",
       "      <td>-383.0310</td>\n",
       "      <td>2015</td>\n",
       "      <td>10</td>\n",
       "      <td>11</td>\n",
       "      <td>Lower</td>\n",
       "      <td>173.505033</td>\n",
       "    </tr>\n",
       "    <tr>\n",
       "      <th>4</th>\n",
       "      <td>5</td>\n",
       "      <td>US-2015-108966</td>\n",
       "      <td>2015-10-11</td>\n",
       "      <td>10/18/2015</td>\n",
       "      <td>Standard Class</td>\n",
       "      <td>SO-20335</td>\n",
       "      <td>Sean O'Donnell</td>\n",
       "      <td>Consumer</td>\n",
       "      <td>United States</td>\n",
       "      <td>Fort Lauderdale</td>\n",
       "      <td>...</td>\n",
       "      <td>Eldon Fold 'N Roll Cart System</td>\n",
       "      <td>22.3680</td>\n",
       "      <td>2</td>\n",
       "      <td>0.20</td>\n",
       "      <td>2.5164</td>\n",
       "      <td>2015</td>\n",
       "      <td>10</td>\n",
       "      <td>11</td>\n",
       "      <td>Middle</td>\n",
       "      <td>NaN</td>\n",
       "    </tr>\n",
       "    <tr>\n",
       "      <th>...</th>\n",
       "      <td>...</td>\n",
       "      <td>...</td>\n",
       "      <td>...</td>\n",
       "      <td>...</td>\n",
       "      <td>...</td>\n",
       "      <td>...</td>\n",
       "      <td>...</td>\n",
       "      <td>...</td>\n",
       "      <td>...</td>\n",
       "      <td>...</td>\n",
       "      <td>...</td>\n",
       "      <td>...</td>\n",
       "      <td>...</td>\n",
       "      <td>...</td>\n",
       "      <td>...</td>\n",
       "      <td>...</td>\n",
       "      <td>...</td>\n",
       "      <td>...</td>\n",
       "      <td>...</td>\n",
       "      <td>...</td>\n",
       "      <td>...</td>\n",
       "    </tr>\n",
       "    <tr>\n",
       "      <th>9989</th>\n",
       "      <td>9990</td>\n",
       "      <td>CA-2014-110422</td>\n",
       "      <td>2014-01-21</td>\n",
       "      <td>1/23/2014</td>\n",
       "      <td>Second Class</td>\n",
       "      <td>TB-21400</td>\n",
       "      <td>Tom Boeckenhauer</td>\n",
       "      <td>Consumer</td>\n",
       "      <td>United States</td>\n",
       "      <td>Miami</td>\n",
       "      <td>...</td>\n",
       "      <td>Ultra Door Pull Handle</td>\n",
       "      <td>25.2480</td>\n",
       "      <td>3</td>\n",
       "      <td>0.20</td>\n",
       "      <td>4.1028</td>\n",
       "      <td>2014</td>\n",
       "      <td>1</td>\n",
       "      <td>21</td>\n",
       "      <td>Middle</td>\n",
       "      <td>NaN</td>\n",
       "    </tr>\n",
       "    <tr>\n",
       "      <th>9990</th>\n",
       "      <td>9991</td>\n",
       "      <td>CA-2017-121258</td>\n",
       "      <td>2017-02-26</td>\n",
       "      <td>3/3/2017</td>\n",
       "      <td>Standard Class</td>\n",
       "      <td>DB-13060</td>\n",
       "      <td>Dave Brooks</td>\n",
       "      <td>Consumer</td>\n",
       "      <td>United States</td>\n",
       "      <td>Costa Mesa</td>\n",
       "      <td>...</td>\n",
       "      <td>Tenex B1-RE Series Chair Mats for Low Pile Car...</td>\n",
       "      <td>91.9600</td>\n",
       "      <td>2</td>\n",
       "      <td>0.00</td>\n",
       "      <td>15.6332</td>\n",
       "      <td>2017</td>\n",
       "      <td>2</td>\n",
       "      <td>26</td>\n",
       "      <td>High</td>\n",
       "      <td>NaN</td>\n",
       "    </tr>\n",
       "    <tr>\n",
       "      <th>9991</th>\n",
       "      <td>9992</td>\n",
       "      <td>CA-2017-121258</td>\n",
       "      <td>2017-02-26</td>\n",
       "      <td>3/3/2017</td>\n",
       "      <td>Standard Class</td>\n",
       "      <td>DB-13060</td>\n",
       "      <td>Dave Brooks</td>\n",
       "      <td>Consumer</td>\n",
       "      <td>United States</td>\n",
       "      <td>Costa Mesa</td>\n",
       "      <td>...</td>\n",
       "      <td>Aastra 57i VoIP phone</td>\n",
       "      <td>258.5760</td>\n",
       "      <td>2</td>\n",
       "      <td>0.20</td>\n",
       "      <td>19.3932</td>\n",
       "      <td>2017</td>\n",
       "      <td>2</td>\n",
       "      <td>26</td>\n",
       "      <td>High</td>\n",
       "      <td>NaN</td>\n",
       "    </tr>\n",
       "    <tr>\n",
       "      <th>9992</th>\n",
       "      <td>9993</td>\n",
       "      <td>CA-2017-121258</td>\n",
       "      <td>2017-02-26</td>\n",
       "      <td>3/3/2017</td>\n",
       "      <td>Standard Class</td>\n",
       "      <td>DB-13060</td>\n",
       "      <td>Dave Brooks</td>\n",
       "      <td>Consumer</td>\n",
       "      <td>United States</td>\n",
       "      <td>Costa Mesa</td>\n",
       "      <td>...</td>\n",
       "      <td>It's Hot Message Books with Stickers, 2 3/4\" x 5\"</td>\n",
       "      <td>29.6000</td>\n",
       "      <td>4</td>\n",
       "      <td>0.00</td>\n",
       "      <td>13.3200</td>\n",
       "      <td>2017</td>\n",
       "      <td>2</td>\n",
       "      <td>26</td>\n",
       "      <td>High</td>\n",
       "      <td>NaN</td>\n",
       "    </tr>\n",
       "    <tr>\n",
       "      <th>9993</th>\n",
       "      <td>9994</td>\n",
       "      <td>CA-2017-119914</td>\n",
       "      <td>2017-05-04</td>\n",
       "      <td>5/9/2017</td>\n",
       "      <td>Second Class</td>\n",
       "      <td>CC-12220</td>\n",
       "      <td>Chris Cortes</td>\n",
       "      <td>Consumer</td>\n",
       "      <td>United States</td>\n",
       "      <td>Westminster</td>\n",
       "      <td>...</td>\n",
       "      <td>Acco 7-Outlet Masterpiece Power Center, Wihtou...</td>\n",
       "      <td>243.1600</td>\n",
       "      <td>2</td>\n",
       "      <td>0.00</td>\n",
       "      <td>72.9480</td>\n",
       "      <td>2017</td>\n",
       "      <td>5</td>\n",
       "      <td>4</td>\n",
       "      <td>Very High</td>\n",
       "      <td>NaN</td>\n",
       "    </tr>\n",
       "  </tbody>\n",
       "</table>\n",
       "<p>9994 rows × 26 columns</p>\n",
       "</div>"
      ],
      "text/plain": [
       "      Row ID        Order ID Order Date   Ship Date       Ship Mode  \\\n",
       "0          1  CA-2016-152156 2016-11-08  11/11/2016    Second Class   \n",
       "1          2  CA-2016-152156 2016-11-08  11/11/2016    Second Class   \n",
       "2          3  CA-2016-138688 2016-06-12   6/16/2016    Second Class   \n",
       "3          4  US-2015-108966 2015-10-11  10/18/2015  Standard Class   \n",
       "4          5  US-2015-108966 2015-10-11  10/18/2015  Standard Class   \n",
       "...      ...             ...        ...         ...             ...   \n",
       "9989    9990  CA-2014-110422 2014-01-21   1/23/2014    Second Class   \n",
       "9990    9991  CA-2017-121258 2017-02-26    3/3/2017  Standard Class   \n",
       "9991    9992  CA-2017-121258 2017-02-26    3/3/2017  Standard Class   \n",
       "9992    9993  CA-2017-121258 2017-02-26    3/3/2017  Standard Class   \n",
       "9993    9994  CA-2017-119914 2017-05-04    5/9/2017    Second Class   \n",
       "\n",
       "     Customer ID     Customer Name    Segment        Country             City  \\\n",
       "0       CG-12520       Claire Gute   Consumer  United States        Henderson   \n",
       "1       CG-12520       Claire Gute   Consumer  United States        Henderson   \n",
       "2       DV-13045   Darrin Van Huff  Corporate  United States      Los Angeles   \n",
       "3       SO-20335    Sean O'Donnell   Consumer  United States  Fort Lauderdale   \n",
       "4       SO-20335    Sean O'Donnell   Consumer  United States  Fort Lauderdale   \n",
       "...          ...               ...        ...            ...              ...   \n",
       "9989    TB-21400  Tom Boeckenhauer   Consumer  United States            Miami   \n",
       "9990    DB-13060       Dave Brooks   Consumer  United States       Costa Mesa   \n",
       "9991    DB-13060       Dave Brooks   Consumer  United States       Costa Mesa   \n",
       "9992    DB-13060       Dave Brooks   Consumer  United States       Costa Mesa   \n",
       "9993    CC-12220      Chris Cortes   Consumer  United States      Westminster   \n",
       "\n",
       "      ...                                       Product Name     Sales  \\\n",
       "0     ...                  Bush Somerset Collection Bookcase  261.9600   \n",
       "1     ...  Hon Deluxe Fabric Upholstered Stacking Chairs,...  731.9400   \n",
       "2     ...  Self-Adhesive Address Labels for Typewriters b...   14.6200   \n",
       "3     ...      Bretford CR4500 Series Slim Rectangular Table  957.5775   \n",
       "4     ...                     Eldon Fold 'N Roll Cart System   22.3680   \n",
       "...   ...                                                ...       ...   \n",
       "9989  ...                             Ultra Door Pull Handle   25.2480   \n",
       "9990  ...  Tenex B1-RE Series Chair Mats for Low Pile Car...   91.9600   \n",
       "9991  ...                              Aastra 57i VoIP phone  258.5760   \n",
       "9992  ...  It's Hot Message Books with Stickers, 2 3/4\" x 5\"   29.6000   \n",
       "9993  ...  Acco 7-Outlet Masterpiece Power Center, Wihtou...  243.1600   \n",
       "\n",
       "     Quantity Discount    Profit  year month  day  Profit Category         AOV  \n",
       "0           2     0.00   41.9136  2016    11    8        Very High  229.756000  \n",
       "1           3     0.00  219.5820  2016    11    8        Very High         NaN  \n",
       "2           2     0.00    6.8714  2016     6   12           Middle  124.387000  \n",
       "3           5     0.45 -383.0310  2015    10   11            Lower  173.505033  \n",
       "4           2     0.20    2.5164  2015    10   11           Middle         NaN  \n",
       "...       ...      ...       ...   ...   ...  ...              ...         ...  \n",
       "9989        3     0.20    4.1028  2014     1   21           Middle         NaN  \n",
       "9990        2     0.00   15.6332  2017     2   26             High         NaN  \n",
       "9991        2     0.20   19.3932  2017     2   26             High         NaN  \n",
       "9992        4     0.00   13.3200  2017     2   26             High         NaN  \n",
       "9993        2     0.00   72.9480  2017     5    4        Very High         NaN  \n",
       "\n",
       "[9994 rows x 26 columns]"
      ]
     },
     "execution_count": 52,
     "metadata": {},
     "output_type": "execute_result"
    }
   ],
   "source": [
    "# добавляем расчитанный AOV к основному датасету\n",
    "Superstore['is_first'] = Superstore.groupby('Customer ID').cumcount() == 0 # определяем первую запись для каждого клиента эта часть ключа\n",
    "\n",
    "# объединяем средний чек с первой записью\n",
    "Superstore = Superstore.merge(\n",
    "    Superstore_AOV,\n",
    "    how = 'left',\n",
    "    left_on = ['Customer ID', 'is_first'], # ключ для связи\n",
    "    right_on=['Customer ID', pd.Series([True]*len(Superstore_AOV))]\n",
    ")\n",
    "Superstore = Superstore.drop(['is_first'], axis = 1) # удаляем временную колонку\n",
    "Superstore"
   ]
  },
  {
   "cell_type": "code",
   "execution_count": 53,
   "id": "c8bf8eff-f53f-49a8-9842-1724e6f6017e",
   "metadata": {},
   "outputs": [
    {
     "data": {
      "text/html": [
       "<div>\n",
       "<style scoped>\n",
       "    .dataframe tbody tr th:only-of-type {\n",
       "        vertical-align: middle;\n",
       "    }\n",
       "\n",
       "    .dataframe tbody tr th {\n",
       "        vertical-align: top;\n",
       "    }\n",
       "\n",
       "    .dataframe thead th {\n",
       "        text-align: right;\n",
       "    }\n",
       "</style>\n",
       "<table border=\"1\" class=\"dataframe\">\n",
       "  <thead>\n",
       "    <tr style=\"text-align: right;\">\n",
       "      <th></th>\n",
       "      <th>Customer ID</th>\n",
       "      <th>purchases_per_month</th>\n",
       "    </tr>\n",
       "  </thead>\n",
       "  <tbody>\n",
       "    <tr>\n",
       "      <th>0</th>\n",
       "      <td>AA-10315</td>\n",
       "      <td>11</td>\n",
       "    </tr>\n",
       "    <tr>\n",
       "      <th>1</th>\n",
       "      <td>AA-10375</td>\n",
       "      <td>15</td>\n",
       "    </tr>\n",
       "    <tr>\n",
       "      <th>2</th>\n",
       "      <td>AA-10480</td>\n",
       "      <td>12</td>\n",
       "    </tr>\n",
       "    <tr>\n",
       "      <th>3</th>\n",
       "      <td>AA-10645</td>\n",
       "      <td>18</td>\n",
       "    </tr>\n",
       "    <tr>\n",
       "      <th>4</th>\n",
       "      <td>AB-10015</td>\n",
       "      <td>6</td>\n",
       "    </tr>\n",
       "    <tr>\n",
       "      <th>...</th>\n",
       "      <td>...</td>\n",
       "      <td>...</td>\n",
       "    </tr>\n",
       "    <tr>\n",
       "      <th>788</th>\n",
       "      <td>XP-21865</td>\n",
       "      <td>28</td>\n",
       "    </tr>\n",
       "    <tr>\n",
       "      <th>789</th>\n",
       "      <td>YC-21895</td>\n",
       "      <td>8</td>\n",
       "    </tr>\n",
       "    <tr>\n",
       "      <th>790</th>\n",
       "      <td>YS-21880</td>\n",
       "      <td>12</td>\n",
       "    </tr>\n",
       "    <tr>\n",
       "      <th>791</th>\n",
       "      <td>ZC-21910</td>\n",
       "      <td>31</td>\n",
       "    </tr>\n",
       "    <tr>\n",
       "      <th>792</th>\n",
       "      <td>ZD-21925</td>\n",
       "      <td>9</td>\n",
       "    </tr>\n",
       "  </tbody>\n",
       "</table>\n",
       "<p>793 rows × 2 columns</p>\n",
       "</div>"
      ],
      "text/plain": [
       "    Customer ID  purchases_per_month\n",
       "0      AA-10315                   11\n",
       "1      AA-10375                   15\n",
       "2      AA-10480                   12\n",
       "3      AA-10645                   18\n",
       "4      AB-10015                    6\n",
       "..          ...                  ...\n",
       "788    XP-21865                   28\n",
       "789    YC-21895                    8\n",
       "790    YS-21880                   12\n",
       "791    ZC-21910                   31\n",
       "792    ZD-21925                    9\n",
       "\n",
       "[793 rows x 2 columns]"
      ]
     },
     "execution_count": 53,
     "metadata": {},
     "output_type": "execute_result"
    }
   ],
   "source": [
    "#сегментация - признак частота покупок\n",
    "count_sales = Superstore.groupby('Customer ID').agg(purchases_per_month = ('month', 'count')).reset_index()\n",
    "count_sales # количество покупок\n",
    "# purchases_per_month.loc[purchases_per_month['Customer ID'] == 'CG-12520'] для проверки"
   ]
  },
  {
   "cell_type": "code",
   "execution_count": 54,
   "id": "b587e72e-cf08-4066-bd3e-8c1d4960c9b3",
   "metadata": {},
   "outputs": [
    {
     "data": {
      "text/html": [
       "<div>\n",
       "<style scoped>\n",
       "    .dataframe tbody tr th:only-of-type {\n",
       "        vertical-align: middle;\n",
       "    }\n",
       "\n",
       "    .dataframe tbody tr th {\n",
       "        vertical-align: top;\n",
       "    }\n",
       "\n",
       "    .dataframe thead th {\n",
       "        text-align: right;\n",
       "    }\n",
       "</style>\n",
       "<table border=\"1\" class=\"dataframe\">\n",
       "  <thead>\n",
       "    <tr style=\"text-align: right;\">\n",
       "      <th></th>\n",
       "      <th>Row ID</th>\n",
       "      <th>Order ID</th>\n",
       "      <th>Order Date</th>\n",
       "      <th>Ship Date</th>\n",
       "      <th>Ship Mode</th>\n",
       "      <th>Customer ID</th>\n",
       "      <th>Customer Name</th>\n",
       "      <th>Segment</th>\n",
       "      <th>Country</th>\n",
       "      <th>City</th>\n",
       "      <th>...</th>\n",
       "      <th>Product Name</th>\n",
       "      <th>Sales</th>\n",
       "      <th>Quantity</th>\n",
       "      <th>Discount</th>\n",
       "      <th>Profit</th>\n",
       "      <th>year</th>\n",
       "      <th>month</th>\n",
       "      <th>day</th>\n",
       "      <th>Profit Category</th>\n",
       "      <th>AOV</th>\n",
       "    </tr>\n",
       "  </thead>\n",
       "  <tbody>\n",
       "    <tr>\n",
       "      <th>0</th>\n",
       "      <td>1</td>\n",
       "      <td>CA-2016-152156</td>\n",
       "      <td>2016-11-08</td>\n",
       "      <td>11/11/2016</td>\n",
       "      <td>Second Class</td>\n",
       "      <td>CG-12520</td>\n",
       "      <td>Claire Gute</td>\n",
       "      <td>Consumer</td>\n",
       "      <td>United States</td>\n",
       "      <td>Henderson</td>\n",
       "      <td>...</td>\n",
       "      <td>Bush Somerset Collection Bookcase</td>\n",
       "      <td>261.960</td>\n",
       "      <td>2</td>\n",
       "      <td>0.0</td>\n",
       "      <td>41.9136</td>\n",
       "      <td>2016</td>\n",
       "      <td>11</td>\n",
       "      <td>8</td>\n",
       "      <td>Very High</td>\n",
       "      <td>229.756</td>\n",
       "    </tr>\n",
       "    <tr>\n",
       "      <th>1</th>\n",
       "      <td>2</td>\n",
       "      <td>CA-2016-152156</td>\n",
       "      <td>2016-11-08</td>\n",
       "      <td>11/11/2016</td>\n",
       "      <td>Second Class</td>\n",
       "      <td>CG-12520</td>\n",
       "      <td>Claire Gute</td>\n",
       "      <td>Consumer</td>\n",
       "      <td>United States</td>\n",
       "      <td>Henderson</td>\n",
       "      <td>...</td>\n",
       "      <td>Hon Deluxe Fabric Upholstered Stacking Chairs,...</td>\n",
       "      <td>731.940</td>\n",
       "      <td>3</td>\n",
       "      <td>0.0</td>\n",
       "      <td>219.5820</td>\n",
       "      <td>2016</td>\n",
       "      <td>11</td>\n",
       "      <td>8</td>\n",
       "      <td>Very High</td>\n",
       "      <td>NaN</td>\n",
       "    </tr>\n",
       "    <tr>\n",
       "      <th>5491</th>\n",
       "      <td>5492</td>\n",
       "      <td>CA-2017-164098</td>\n",
       "      <td>2017-01-26</td>\n",
       "      <td>1/27/2017</td>\n",
       "      <td>First Class</td>\n",
       "      <td>CG-12520</td>\n",
       "      <td>Claire Gute</td>\n",
       "      <td>Consumer</td>\n",
       "      <td>United States</td>\n",
       "      <td>Houston</td>\n",
       "      <td>...</td>\n",
       "      <td>SimpliFile Personal File, Black Granite, 15w x...</td>\n",
       "      <td>18.160</td>\n",
       "      <td>2</td>\n",
       "      <td>0.2</td>\n",
       "      <td>1.8160</td>\n",
       "      <td>2017</td>\n",
       "      <td>1</td>\n",
       "      <td>26</td>\n",
       "      <td>Middle</td>\n",
       "      <td>NaN</td>\n",
       "    </tr>\n",
       "    <tr>\n",
       "      <th>6877</th>\n",
       "      <td>6878</td>\n",
       "      <td>US-2015-123918</td>\n",
       "      <td>2015-10-15</td>\n",
       "      <td>10/15/2015</td>\n",
       "      <td>Same Day</td>\n",
       "      <td>CG-12520</td>\n",
       "      <td>Claire Gute</td>\n",
       "      <td>Consumer</td>\n",
       "      <td>United States</td>\n",
       "      <td>Dallas</td>\n",
       "      <td>...</td>\n",
       "      <td>C-Line Cubicle Keepers Polyproplyene Holder w/...</td>\n",
       "      <td>131.376</td>\n",
       "      <td>6</td>\n",
       "      <td>0.6</td>\n",
       "      <td>-95.2476</td>\n",
       "      <td>2015</td>\n",
       "      <td>10</td>\n",
       "      <td>15</td>\n",
       "      <td>Lower</td>\n",
       "      <td>NaN</td>\n",
       "    </tr>\n",
       "    <tr>\n",
       "      <th>6878</th>\n",
       "      <td>6879</td>\n",
       "      <td>US-2015-123918</td>\n",
       "      <td>2015-10-15</td>\n",
       "      <td>10/15/2015</td>\n",
       "      <td>Same Day</td>\n",
       "      <td>CG-12520</td>\n",
       "      <td>Claire Gute</td>\n",
       "      <td>Consumer</td>\n",
       "      <td>United States</td>\n",
       "      <td>Dallas</td>\n",
       "      <td>...</td>\n",
       "      <td>Xerox 1986</td>\n",
       "      <td>5.344</td>\n",
       "      <td>1</td>\n",
       "      <td>0.2</td>\n",
       "      <td>1.8704</td>\n",
       "      <td>2015</td>\n",
       "      <td>10</td>\n",
       "      <td>15</td>\n",
       "      <td>Middle</td>\n",
       "      <td>NaN</td>\n",
       "    </tr>\n",
       "  </tbody>\n",
       "</table>\n",
       "<p>5 rows × 26 columns</p>\n",
       "</div>"
      ],
      "text/plain": [
       "      Row ID        Order ID Order Date   Ship Date     Ship Mode Customer ID  \\\n",
       "0          1  CA-2016-152156 2016-11-08  11/11/2016  Second Class    CG-12520   \n",
       "1          2  CA-2016-152156 2016-11-08  11/11/2016  Second Class    CG-12520   \n",
       "5491    5492  CA-2017-164098 2017-01-26   1/27/2017   First Class    CG-12520   \n",
       "6877    6878  US-2015-123918 2015-10-15  10/15/2015      Same Day    CG-12520   \n",
       "6878    6879  US-2015-123918 2015-10-15  10/15/2015      Same Day    CG-12520   \n",
       "\n",
       "     Customer Name   Segment        Country       City  ...  \\\n",
       "0      Claire Gute  Consumer  United States  Henderson  ...   \n",
       "1      Claire Gute  Consumer  United States  Henderson  ...   \n",
       "5491   Claire Gute  Consumer  United States    Houston  ...   \n",
       "6877   Claire Gute  Consumer  United States     Dallas  ...   \n",
       "6878   Claire Gute  Consumer  United States     Dallas  ...   \n",
       "\n",
       "                                           Product Name    Sales Quantity  \\\n",
       "0                     Bush Somerset Collection Bookcase  261.960        2   \n",
       "1     Hon Deluxe Fabric Upholstered Stacking Chairs,...  731.940        3   \n",
       "5491  SimpliFile Personal File, Black Granite, 15w x...   18.160        2   \n",
       "6877  C-Line Cubicle Keepers Polyproplyene Holder w/...  131.376        6   \n",
       "6878                                         Xerox 1986    5.344        1   \n",
       "\n",
       "     Discount    Profit  year month  day  Profit Category      AOV  \n",
       "0         0.0   41.9136  2016    11    8        Very High  229.756  \n",
       "1         0.0  219.5820  2016    11    8        Very High      NaN  \n",
       "5491      0.2    1.8160  2017     1   26           Middle      NaN  \n",
       "6877      0.6  -95.2476  2015    10   15            Lower      NaN  \n",
       "6878      0.2    1.8704  2015    10   15           Middle      NaN  \n",
       "\n",
       "[5 rows x 26 columns]"
      ]
     },
     "execution_count": 54,
     "metadata": {},
     "output_type": "execute_result"
    }
   ],
   "source": [
    "Superstore.loc[Superstore['Customer ID'] == 'CG-12520'] #для проверки"
   ]
  },
  {
   "cell_type": "code",
   "execution_count": 55,
   "id": "da011f07-d318-4002-b372-80dbb3e2ec3f",
   "metadata": {},
   "outputs": [
    {
     "data": {
      "text/html": [
       "<div>\n",
       "<style scoped>\n",
       "    .dataframe tbody tr th:only-of-type {\n",
       "        vertical-align: middle;\n",
       "    }\n",
       "\n",
       "    .dataframe tbody tr th {\n",
       "        vertical-align: top;\n",
       "    }\n",
       "\n",
       "    .dataframe thead th {\n",
       "        text-align: right;\n",
       "    }\n",
       "</style>\n",
       "<table border=\"1\" class=\"dataframe\">\n",
       "  <thead>\n",
       "    <tr style=\"text-align: right;\">\n",
       "      <th></th>\n",
       "      <th>Customer ID</th>\n",
       "      <th>Max_date</th>\n",
       "      <th>Min_date</th>\n",
       "    </tr>\n",
       "  </thead>\n",
       "  <tbody>\n",
       "    <tr>\n",
       "      <th>0</th>\n",
       "      <td>AA-10315</td>\n",
       "      <td>2017-06-29</td>\n",
       "      <td>2014-03-31</td>\n",
       "    </tr>\n",
       "    <tr>\n",
       "      <th>1</th>\n",
       "      <td>AA-10375</td>\n",
       "      <td>2017-12-11</td>\n",
       "      <td>2014-04-21</td>\n",
       "    </tr>\n",
       "    <tr>\n",
       "      <th>2</th>\n",
       "      <td>AA-10480</td>\n",
       "      <td>2017-04-15</td>\n",
       "      <td>2014-05-04</td>\n",
       "    </tr>\n",
       "    <tr>\n",
       "      <th>3</th>\n",
       "      <td>AA-10645</td>\n",
       "      <td>2017-11-05</td>\n",
       "      <td>2014-06-22</td>\n",
       "    </tr>\n",
       "    <tr>\n",
       "      <th>4</th>\n",
       "      <td>AB-10015</td>\n",
       "      <td>2016-11-10</td>\n",
       "      <td>2014-02-18</td>\n",
       "    </tr>\n",
       "    <tr>\n",
       "      <th>...</th>\n",
       "      <td>...</td>\n",
       "      <td>...</td>\n",
       "      <td>...</td>\n",
       "    </tr>\n",
       "    <tr>\n",
       "      <th>788</th>\n",
       "      <td>XP-21865</td>\n",
       "      <td>2017-11-17</td>\n",
       "      <td>2014-01-20</td>\n",
       "    </tr>\n",
       "    <tr>\n",
       "      <th>789</th>\n",
       "      <td>YC-21895</td>\n",
       "      <td>2017-12-26</td>\n",
       "      <td>2014-11-17</td>\n",
       "    </tr>\n",
       "    <tr>\n",
       "      <th>790</th>\n",
       "      <td>YS-21880</td>\n",
       "      <td>2017-12-21</td>\n",
       "      <td>2015-01-12</td>\n",
       "    </tr>\n",
       "    <tr>\n",
       "      <th>791</th>\n",
       "      <td>ZC-21910</td>\n",
       "      <td>2017-11-06</td>\n",
       "      <td>2014-10-13</td>\n",
       "    </tr>\n",
       "    <tr>\n",
       "      <th>792</th>\n",
       "      <td>ZD-21925</td>\n",
       "      <td>2017-06-11</td>\n",
       "      <td>2014-08-27</td>\n",
       "    </tr>\n",
       "  </tbody>\n",
       "</table>\n",
       "<p>793 rows × 3 columns</p>\n",
       "</div>"
      ],
      "text/plain": [
       "    Customer ID   Max_date   Min_date\n",
       "0      AA-10315 2017-06-29 2014-03-31\n",
       "1      AA-10375 2017-12-11 2014-04-21\n",
       "2      AA-10480 2017-04-15 2014-05-04\n",
       "3      AA-10645 2017-11-05 2014-06-22\n",
       "4      AB-10015 2016-11-10 2014-02-18\n",
       "..          ...        ...        ...\n",
       "788    XP-21865 2017-11-17 2014-01-20\n",
       "789    YC-21895 2017-12-26 2014-11-17\n",
       "790    YS-21880 2017-12-21 2015-01-12\n",
       "791    ZC-21910 2017-11-06 2014-10-13\n",
       "792    ZD-21925 2017-06-11 2014-08-27\n",
       "\n",
       "[793 rows x 3 columns]"
      ]
     },
     "execution_count": 55,
     "metadata": {},
     "output_type": "execute_result"
    }
   ],
   "source": [
    "date = Superstore.loc[:,['Customer ID', 'Order Date']]\n",
    "\n",
    "max_date = date.groupby('Customer ID').agg(Max_date = ('Order Date', 'max')).reset_index()\n",
    "min_date = date.groupby('Customer ID').agg(Min_date = ('Order Date', 'min')).reset_index()\n",
    "\n",
    "period = max_date.merge(\n",
    "    min_date,\n",
    "    how = 'left',\n",
    "    on = 'Customer ID'\n",
    ")\n",
    "\n",
    "period"
   ]
  },
  {
   "cell_type": "code",
   "execution_count": null,
   "id": "55513135-412f-467b-b42b-a992baf3cb12",
   "metadata": {},
   "outputs": [],
   "source": [
    "# # добавляем расчитанный AOV к основному датасету\n",
    "# Superstore['is_first'] = Superstore.groupby('Customer ID').cumcount() == 0 # определяем первую запись для каждого клиента эта часть ключа\n",
    "\n",
    "# # объединяем средний чек с первой записью\n",
    "# Superstore = Superstore.merge(\n",
    "#     Superstore_AOV,\n",
    "#     how = 'left',\n",
    "#     left_on = ['Customer ID', 'is_first'], # ключ для связи\n",
    "#     right_on=['Customer ID', pd.Series([True]*len(Superstore_AOV))]\n",
    "# )\n",
    "# Superstore = Superstore.drop(['is_first'], axis = 1) # удаляем временную колонку"
   ]
  },
  {
   "cell_type": "code",
   "execution_count": 56,
   "id": "44970458-0534-43eb-a832-bf638c37e5e4",
   "metadata": {},
   "outputs": [
    {
     "data": {
      "text/html": [
       "<div>\n",
       "<style scoped>\n",
       "    .dataframe tbody tr th:only-of-type {\n",
       "        vertical-align: middle;\n",
       "    }\n",
       "\n",
       "    .dataframe tbody tr th {\n",
       "        vertical-align: top;\n",
       "    }\n",
       "\n",
       "    .dataframe thead th {\n",
       "        text-align: right;\n",
       "    }\n",
       "</style>\n",
       "<table border=\"1\" class=\"dataframe\">\n",
       "  <thead>\n",
       "    <tr style=\"text-align: right;\">\n",
       "      <th></th>\n",
       "      <th>Customer ID</th>\n",
       "      <th>Period_purchases_for_customer (month)</th>\n",
       "    </tr>\n",
       "  </thead>\n",
       "  <tbody>\n",
       "    <tr>\n",
       "      <th>0</th>\n",
       "      <td>AA-10315</td>\n",
       "      <td>39.533333</td>\n",
       "    </tr>\n",
       "    <tr>\n",
       "      <th>1</th>\n",
       "      <td>AA-10375</td>\n",
       "      <td>44.333333</td>\n",
       "    </tr>\n",
       "    <tr>\n",
       "      <th>2</th>\n",
       "      <td>AA-10480</td>\n",
       "      <td>35.900000</td>\n",
       "    </tr>\n",
       "    <tr>\n",
       "      <th>3</th>\n",
       "      <td>AA-10645</td>\n",
       "      <td>41.066667</td>\n",
       "    </tr>\n",
       "    <tr>\n",
       "      <th>4</th>\n",
       "      <td>AB-10015</td>\n",
       "      <td>33.200000</td>\n",
       "    </tr>\n",
       "    <tr>\n",
       "      <th>...</th>\n",
       "      <td>...</td>\n",
       "      <td>...</td>\n",
       "    </tr>\n",
       "    <tr>\n",
       "      <th>788</th>\n",
       "      <td>XP-21865</td>\n",
       "      <td>46.566667</td>\n",
       "    </tr>\n",
       "    <tr>\n",
       "      <th>789</th>\n",
       "      <td>YC-21895</td>\n",
       "      <td>37.833333</td>\n",
       "    </tr>\n",
       "    <tr>\n",
       "      <th>790</th>\n",
       "      <td>YS-21880</td>\n",
       "      <td>35.800000</td>\n",
       "    </tr>\n",
       "    <tr>\n",
       "      <th>791</th>\n",
       "      <td>ZC-21910</td>\n",
       "      <td>37.333333</td>\n",
       "    </tr>\n",
       "    <tr>\n",
       "      <th>792</th>\n",
       "      <td>ZD-21925</td>\n",
       "      <td>33.966667</td>\n",
       "    </tr>\n",
       "  </tbody>\n",
       "</table>\n",
       "<p>793 rows × 2 columns</p>\n",
       "</div>"
      ],
      "text/plain": [
       "    Customer ID  Period_purchases_for_customer (month)\n",
       "0      AA-10315                              39.533333\n",
       "1      AA-10375                              44.333333\n",
       "2      AA-10480                              35.900000\n",
       "3      AA-10645                              41.066667\n",
       "4      AB-10015                              33.200000\n",
       "..          ...                                    ...\n",
       "788    XP-21865                              46.566667\n",
       "789    YC-21895                              37.833333\n",
       "790    YS-21880                              35.800000\n",
       "791    ZC-21910                              37.333333\n",
       "792    ZD-21925                              33.966667\n",
       "\n",
       "[793 rows x 2 columns]"
      ]
     },
     "execution_count": 56,
     "metadata": {},
     "output_type": "execute_result"
    }
   ],
   "source": [
    "period['Period_purchases_for_customer'] = period['Max_date'] - period['Min_date']\n",
    "period['Period_purchases_for_customer (month)'] = (period['Period_purchases_for_customer']).dt.days / 30 # перевод в месяцы\n",
    "period = period.drop(['Max_date', 'Min_date', 'Period_purchases_for_customer'], axis = 1) # удаляем ненужные колонки\n",
    "period # период покупок для каждого клиента"
   ]
  },
  {
   "cell_type": "code",
   "execution_count": 57,
   "id": "b78ecebb-47df-42f5-adda-5fca32e1dada",
   "metadata": {},
   "outputs": [
    {
     "data": {
      "text/html": [
       "<div>\n",
       "<style scoped>\n",
       "    .dataframe tbody tr th:only-of-type {\n",
       "        vertical-align: middle;\n",
       "    }\n",
       "\n",
       "    .dataframe tbody tr th {\n",
       "        vertical-align: top;\n",
       "    }\n",
       "\n",
       "    .dataframe thead th {\n",
       "        text-align: right;\n",
       "    }\n",
       "</style>\n",
       "<table border=\"1\" class=\"dataframe\">\n",
       "  <thead>\n",
       "    <tr style=\"text-align: right;\">\n",
       "      <th></th>\n",
       "      <th>Customer ID</th>\n",
       "      <th>purchases_per_month</th>\n",
       "      <th>Period_purchases_for_customer (month)</th>\n",
       "      <th>pf_month</th>\n",
       "    </tr>\n",
       "  </thead>\n",
       "  <tbody>\n",
       "    <tr>\n",
       "      <th>0</th>\n",
       "      <td>AA-10315</td>\n",
       "      <td>11</td>\n",
       "      <td>39.533333</td>\n",
       "      <td>3.594</td>\n",
       "    </tr>\n",
       "    <tr>\n",
       "      <th>1</th>\n",
       "      <td>AA-10375</td>\n",
       "      <td>15</td>\n",
       "      <td>44.333333</td>\n",
       "      <td>2.956</td>\n",
       "    </tr>\n",
       "    <tr>\n",
       "      <th>2</th>\n",
       "      <td>AA-10480</td>\n",
       "      <td>12</td>\n",
       "      <td>35.900000</td>\n",
       "      <td>2.992</td>\n",
       "    </tr>\n",
       "    <tr>\n",
       "      <th>3</th>\n",
       "      <td>AA-10645</td>\n",
       "      <td>18</td>\n",
       "      <td>41.066667</td>\n",
       "      <td>2.281</td>\n",
       "    </tr>\n",
       "    <tr>\n",
       "      <th>4</th>\n",
       "      <td>AB-10015</td>\n",
       "      <td>6</td>\n",
       "      <td>33.200000</td>\n",
       "      <td>5.533</td>\n",
       "    </tr>\n",
       "    <tr>\n",
       "      <th>...</th>\n",
       "      <td>...</td>\n",
       "      <td>...</td>\n",
       "      <td>...</td>\n",
       "      <td>...</td>\n",
       "    </tr>\n",
       "    <tr>\n",
       "      <th>788</th>\n",
       "      <td>XP-21865</td>\n",
       "      <td>28</td>\n",
       "      <td>46.566667</td>\n",
       "      <td>1.663</td>\n",
       "    </tr>\n",
       "    <tr>\n",
       "      <th>789</th>\n",
       "      <td>YC-21895</td>\n",
       "      <td>8</td>\n",
       "      <td>37.833333</td>\n",
       "      <td>4.729</td>\n",
       "    </tr>\n",
       "    <tr>\n",
       "      <th>790</th>\n",
       "      <td>YS-21880</td>\n",
       "      <td>12</td>\n",
       "      <td>35.800000</td>\n",
       "      <td>2.983</td>\n",
       "    </tr>\n",
       "    <tr>\n",
       "      <th>791</th>\n",
       "      <td>ZC-21910</td>\n",
       "      <td>31</td>\n",
       "      <td>37.333333</td>\n",
       "      <td>1.204</td>\n",
       "    </tr>\n",
       "    <tr>\n",
       "      <th>792</th>\n",
       "      <td>ZD-21925</td>\n",
       "      <td>9</td>\n",
       "      <td>33.966667</td>\n",
       "      <td>3.774</td>\n",
       "    </tr>\n",
       "  </tbody>\n",
       "</table>\n",
       "<p>793 rows × 4 columns</p>\n",
       "</div>"
      ],
      "text/plain": [
       "    Customer ID  purchases_per_month  Period_purchases_for_customer (month)  \\\n",
       "0      AA-10315                   11                              39.533333   \n",
       "1      AA-10375                   15                              44.333333   \n",
       "2      AA-10480                   12                              35.900000   \n",
       "3      AA-10645                   18                              41.066667   \n",
       "4      AB-10015                    6                              33.200000   \n",
       "..          ...                  ...                                    ...   \n",
       "788    XP-21865                   28                              46.566667   \n",
       "789    YC-21895                    8                              37.833333   \n",
       "790    YS-21880                   12                              35.800000   \n",
       "791    ZC-21910                   31                              37.333333   \n",
       "792    ZD-21925                    9                              33.966667   \n",
       "\n",
       "     pf_month  \n",
       "0       3.594  \n",
       "1       2.956  \n",
       "2       2.992  \n",
       "3       2.281  \n",
       "4       5.533  \n",
       "..        ...  \n",
       "788     1.663  \n",
       "789     4.729  \n",
       "790     2.983  \n",
       "791     1.204  \n",
       "792     3.774  \n",
       "\n",
       "[793 rows x 4 columns]"
      ]
     },
     "execution_count": 57,
     "metadata": {},
     "output_type": "execute_result"
    }
   ],
   "source": [
    "pf = count_sales.merge(period, how = 'left', on = 'Customer ID')\n",
    "pf['pf_month'] = (pf['Period_purchases_for_customer (month)'] / pf['purchases_per_month']).round(3) # частота покупок в месяц для кадого клиента\n",
    "pf"
   ]
  },
  {
   "cell_type": "code",
   "execution_count": 58,
   "id": "931ca22f-896d-4a2d-897d-3098a7335f42",
   "metadata": {},
   "outputs": [
    {
     "data": {
      "text/html": [
       "<div>\n",
       "<style scoped>\n",
       "    .dataframe tbody tr th:only-of-type {\n",
       "        vertical-align: middle;\n",
       "    }\n",
       "\n",
       "    .dataframe tbody tr th {\n",
       "        vertical-align: top;\n",
       "    }\n",
       "\n",
       "    .dataframe thead th {\n",
       "        text-align: right;\n",
       "    }\n",
       "</style>\n",
       "<table border=\"1\" class=\"dataframe\">\n",
       "  <thead>\n",
       "    <tr style=\"text-align: right;\">\n",
       "      <th></th>\n",
       "      <th>Customer ID</th>\n",
       "      <th>pf_month</th>\n",
       "      <th>AOV</th>\n",
       "    </tr>\n",
       "  </thead>\n",
       "  <tbody>\n",
       "    <tr>\n",
       "      <th>0</th>\n",
       "      <td>CG-12520</td>\n",
       "      <td>3.127</td>\n",
       "      <td>229.756000</td>\n",
       "    </tr>\n",
       "    <tr>\n",
       "      <th>1</th>\n",
       "      <td>CG-12520</td>\n",
       "      <td>NaN</td>\n",
       "      <td>NaN</td>\n",
       "    </tr>\n",
       "    <tr>\n",
       "      <th>2</th>\n",
       "      <td>DV-13045</td>\n",
       "      <td>2.026</td>\n",
       "      <td>124.387000</td>\n",
       "    </tr>\n",
       "    <tr>\n",
       "      <th>3</th>\n",
       "      <td>SO-20335</td>\n",
       "      <td>1.738</td>\n",
       "      <td>173.505033</td>\n",
       "    </tr>\n",
       "    <tr>\n",
       "      <th>4</th>\n",
       "      <td>SO-20335</td>\n",
       "      <td>NaN</td>\n",
       "      <td>NaN</td>\n",
       "    </tr>\n",
       "    <tr>\n",
       "      <th>...</th>\n",
       "      <td>...</td>\n",
       "      <td>...</td>\n",
       "      <td>...</td>\n",
       "    </tr>\n",
       "    <tr>\n",
       "      <th>9989</th>\n",
       "      <td>TB-21400</td>\n",
       "      <td>NaN</td>\n",
       "      <td>NaN</td>\n",
       "    </tr>\n",
       "    <tr>\n",
       "      <th>9990</th>\n",
       "      <td>DB-13060</td>\n",
       "      <td>NaN</td>\n",
       "      <td>NaN</td>\n",
       "    </tr>\n",
       "    <tr>\n",
       "      <th>9991</th>\n",
       "      <td>DB-13060</td>\n",
       "      <td>NaN</td>\n",
       "      <td>NaN</td>\n",
       "    </tr>\n",
       "    <tr>\n",
       "      <th>9992</th>\n",
       "      <td>DB-13060</td>\n",
       "      <td>NaN</td>\n",
       "      <td>NaN</td>\n",
       "    </tr>\n",
       "    <tr>\n",
       "      <th>9993</th>\n",
       "      <td>CC-12220</td>\n",
       "      <td>NaN</td>\n",
       "      <td>NaN</td>\n",
       "    </tr>\n",
       "  </tbody>\n",
       "</table>\n",
       "<p>9994 rows × 3 columns</p>\n",
       "</div>"
      ],
      "text/plain": [
       "     Customer ID  pf_month         AOV\n",
       "0       CG-12520     3.127  229.756000\n",
       "1       CG-12520       NaN         NaN\n",
       "2       DV-13045     2.026  124.387000\n",
       "3       SO-20335     1.738  173.505033\n",
       "4       SO-20335       NaN         NaN\n",
       "...          ...       ...         ...\n",
       "9989    TB-21400       NaN         NaN\n",
       "9990    DB-13060       NaN         NaN\n",
       "9991    DB-13060       NaN         NaN\n",
       "9992    DB-13060       NaN         NaN\n",
       "9993    CC-12220       NaN         NaN\n",
       "\n",
       "[9994 rows x 3 columns]"
      ]
     },
     "execution_count": 58,
     "metadata": {},
     "output_type": "execute_result"
    }
   ],
   "source": [
    "# добавляем расчитанную частоту покупок к основному датасету\n",
    "Superstore['is_first'] = Superstore.groupby('Customer ID').cumcount() == 0 # определяем первую запись для каждого клиента эта часть ключа\n",
    "\n",
    "# объединяем средний чек с первой записью\n",
    "Superstore = Superstore.merge(\n",
    "    pf,\n",
    "    how = 'left',\n",
    "    left_on = ['Customer ID', 'is_first'], # ключ для связи\n",
    "    right_on=['Customer ID', pd.Series([True]*len(Superstore_AOV))]\n",
    ")\n",
    "#Superstore = Superstore.drop(['AOV_x'], axis = 1) # удаляем временную колонку\n",
    "#Superstore['AOV'] = Superstore['AOV_x']\n",
    "#Superstore.info()\n",
    "Superstore[['Customer ID', 'pf_month', 'AOV']]"
   ]
  },
  {
   "cell_type": "code",
   "execution_count": 59,
   "id": "b8cb2ff5-a75f-4a59-a99c-6fa982563654",
   "metadata": {},
   "outputs": [
    {
     "data": {
      "text/html": [
       "<div>\n",
       "<style scoped>\n",
       "    .dataframe tbody tr th:only-of-type {\n",
       "        vertical-align: middle;\n",
       "    }\n",
       "\n",
       "    .dataframe tbody tr th {\n",
       "        vertical-align: top;\n",
       "    }\n",
       "\n",
       "    .dataframe thead th {\n",
       "        text-align: right;\n",
       "    }\n",
       "</style>\n",
       "<table border=\"1\" class=\"dataframe\">\n",
       "  <thead>\n",
       "    <tr style=\"text-align: right;\">\n",
       "      <th></th>\n",
       "      <th>Customer ID</th>\n",
       "      <th>pf_month</th>\n",
       "      <th>AOV</th>\n",
       "      <th>quantile_pf_month</th>\n",
       "      <th>quantile_AOV</th>\n",
       "    </tr>\n",
       "  </thead>\n",
       "  <tbody>\n",
       "    <tr>\n",
       "      <th>0</th>\n",
       "      <td>CG-12520</td>\n",
       "      <td>3.127</td>\n",
       "      <td>229.756000</td>\n",
       "      <td>Q3 (Частые)</td>\n",
       "      <td>Q3 (Премиальные)</td>\n",
       "    </tr>\n",
       "    <tr>\n",
       "      <th>1</th>\n",
       "      <td>CG-12520</td>\n",
       "      <td>NaN</td>\n",
       "      <td>NaN</td>\n",
       "      <td>NaN</td>\n",
       "      <td>NaN</td>\n",
       "    </tr>\n",
       "    <tr>\n",
       "      <th>2</th>\n",
       "      <td>DV-13045</td>\n",
       "      <td>2.026</td>\n",
       "      <td>124.387000</td>\n",
       "      <td>Q2 (Умеренные)</td>\n",
       "      <td>Q2 (Стандартные)</td>\n",
       "    </tr>\n",
       "    <tr>\n",
       "      <th>3</th>\n",
       "      <td>SO-20335</td>\n",
       "      <td>1.738</td>\n",
       "      <td>173.505033</td>\n",
       "      <td>Q1 (Редкие)</td>\n",
       "      <td>Q2 (Стандартные)</td>\n",
       "    </tr>\n",
       "    <tr>\n",
       "      <th>4</th>\n",
       "      <td>SO-20335</td>\n",
       "      <td>NaN</td>\n",
       "      <td>NaN</td>\n",
       "      <td>NaN</td>\n",
       "      <td>NaN</td>\n",
       "    </tr>\n",
       "    <tr>\n",
       "      <th>...</th>\n",
       "      <td>...</td>\n",
       "      <td>...</td>\n",
       "      <td>...</td>\n",
       "      <td>...</td>\n",
       "      <td>...</td>\n",
       "    </tr>\n",
       "    <tr>\n",
       "      <th>9989</th>\n",
       "      <td>TB-21400</td>\n",
       "      <td>NaN</td>\n",
       "      <td>NaN</td>\n",
       "      <td>NaN</td>\n",
       "      <td>NaN</td>\n",
       "    </tr>\n",
       "    <tr>\n",
       "      <th>9990</th>\n",
       "      <td>DB-13060</td>\n",
       "      <td>NaN</td>\n",
       "      <td>NaN</td>\n",
       "      <td>NaN</td>\n",
       "      <td>NaN</td>\n",
       "    </tr>\n",
       "    <tr>\n",
       "      <th>9991</th>\n",
       "      <td>DB-13060</td>\n",
       "      <td>NaN</td>\n",
       "      <td>NaN</td>\n",
       "      <td>NaN</td>\n",
       "      <td>NaN</td>\n",
       "    </tr>\n",
       "    <tr>\n",
       "      <th>9992</th>\n",
       "      <td>DB-13060</td>\n",
       "      <td>NaN</td>\n",
       "      <td>NaN</td>\n",
       "      <td>NaN</td>\n",
       "      <td>NaN</td>\n",
       "    </tr>\n",
       "    <tr>\n",
       "      <th>9993</th>\n",
       "      <td>CC-12220</td>\n",
       "      <td>NaN</td>\n",
       "      <td>NaN</td>\n",
       "      <td>NaN</td>\n",
       "      <td>NaN</td>\n",
       "    </tr>\n",
       "  </tbody>\n",
       "</table>\n",
       "<p>9994 rows × 5 columns</p>\n",
       "</div>"
      ],
      "text/plain": [
       "     Customer ID  pf_month         AOV quantile_pf_month      quantile_AOV\n",
       "0       CG-12520     3.127  229.756000       Q3 (Частые)  Q3 (Премиальные)\n",
       "1       CG-12520       NaN         NaN               NaN               NaN\n",
       "2       DV-13045     2.026  124.387000    Q2 (Умеренные)  Q2 (Стандартные)\n",
       "3       SO-20335     1.738  173.505033       Q1 (Редкие)  Q2 (Стандартные)\n",
       "4       SO-20335       NaN         NaN               NaN               NaN\n",
       "...          ...       ...         ...               ...               ...\n",
       "9989    TB-21400       NaN         NaN               NaN               NaN\n",
       "9990    DB-13060       NaN         NaN               NaN               NaN\n",
       "9991    DB-13060       NaN         NaN               NaN               NaN\n",
       "9992    DB-13060       NaN         NaN               NaN               NaN\n",
       "9993    CC-12220       NaN         NaN               NaN               NaN\n",
       "\n",
       "[9994 rows x 5 columns]"
      ]
     },
     "execution_count": 59,
     "metadata": {},
     "output_type": "execute_result"
    }
   ],
   "source": [
    "# разделение pf_month и AOV на квантили для визуализации\n",
    "Superstore_viz = Superstore[['Customer ID', 'pf_month', 'AOV']].copy()\n",
    "\n",
    "Superstore_viz['quantile_pf_month'] = pd.qcut(\n",
    "    Superstore_viz['pf_month'],\n",
    "    q=4,\n",
    "    labels=['Q1 (Редкие)', 'Q2 (Умеренные)', 'Q3 (Частые)', 'Q4 (VIP)']\n",
    ")\n",
    "\n",
    "Superstore_viz['quantile_AOV'] = pd.qcut(\n",
    "    Superstore_viz['AOV'],\n",
    "    q=4,\n",
    "    labels=['Q1 (Экономные)', 'Q2 (Стандартные)', 'Q3 (Премиальные)', 'Q4 (Премиум)']\n",
    ")\n",
    "\n",
    "Superstore_viz"
   ]
  },
  {
   "cell_type": "code",
   "execution_count": 60,
   "id": "1a3e7457-c67c-4201-b00e-1fd561331910",
   "metadata": {},
   "outputs": [
    {
     "data": {
      "application/vnd.plotly.v1+json": {
       "config": {
        "plotlyServerURL": "https://plot.ly"
       },
       "data": [
        {
         "alignmentgroup": "True",
         "hovertemplate": "quantile_pf_month=%{x}<br>pf_month=%{y}<extra></extra>",
         "legendgroup": "Q1 (Редкие)",
         "marker": {
          "color": "#636efa",
          "pattern": {
           "shape": ""
          }
         },
         "name": "Q1 (Редкие)",
         "offsetgroup": "Q1 (Редкие)",
         "orientation": "v",
         "showlegend": true,
         "textposition": "auto",
         "type": "bar",
         "x": [
          "Q1 (Редкие)",
          "Q1 (Редкие)",
          "Q1 (Редкие)",
          "Q1 (Редкие)",
          "Q1 (Редкие)",
          "Q1 (Редкие)",
          "Q1 (Редкие)",
          "Q1 (Редкие)",
          "Q1 (Редкие)",
          "Q1 (Редкие)",
          "Q1 (Редкие)",
          "Q1 (Редкие)",
          "Q1 (Редкие)",
          "Q1 (Редкие)",
          "Q1 (Редкие)",
          "Q1 (Редкие)",
          "Q1 (Редкие)",
          "Q1 (Редкие)",
          "Q1 (Редкие)",
          "Q1 (Редкие)",
          "Q1 (Редкие)",
          "Q1 (Редкие)",
          "Q1 (Редкие)",
          "Q1 (Редкие)",
          "Q1 (Редкие)",
          "Q1 (Редкие)",
          "Q1 (Редкие)",
          "Q1 (Редкие)",
          "Q1 (Редкие)",
          "Q1 (Редкие)",
          "Q1 (Редкие)",
          "Q1 (Редкие)",
          "Q1 (Редкие)",
          "Q1 (Редкие)",
          "Q1 (Редкие)",
          "Q1 (Редкие)",
          "Q1 (Редкие)",
          "Q1 (Редкие)",
          "Q1 (Редкие)",
          "Q1 (Редкие)",
          "Q1 (Редкие)",
          "Q1 (Редкие)",
          "Q1 (Редкие)",
          "Q1 (Редкие)",
          "Q1 (Редкие)",
          "Q1 (Редкие)",
          "Q1 (Редкие)",
          "Q1 (Редкие)",
          "Q1 (Редкие)",
          "Q1 (Редкие)",
          "Q1 (Редкие)",
          "Q1 (Редкие)",
          "Q1 (Редкие)",
          "Q1 (Редкие)",
          "Q1 (Редкие)",
          "Q1 (Редкие)",
          "Q1 (Редкие)",
          "Q1 (Редкие)",
          "Q1 (Редкие)",
          "Q1 (Редкие)",
          "Q1 (Редкие)",
          "Q1 (Редкие)",
          "Q1 (Редкие)",
          "Q1 (Редкие)",
          "Q1 (Редкие)",
          "Q1 (Редкие)",
          "Q1 (Редкие)",
          "Q1 (Редкие)",
          "Q1 (Редкие)",
          "Q1 (Редкие)",
          "Q1 (Редкие)",
          "Q1 (Редкие)",
          "Q1 (Редкие)",
          "Q1 (Редкие)",
          "Q1 (Редкие)",
          "Q1 (Редкие)",
          "Q1 (Редкие)",
          "Q1 (Редкие)",
          "Q1 (Редкие)",
          "Q1 (Редкие)",
          "Q1 (Редкие)",
          "Q1 (Редкие)",
          "Q1 (Редкие)",
          "Q1 (Редкие)",
          "Q1 (Редкие)",
          "Q1 (Редкие)",
          "Q1 (Редкие)",
          "Q1 (Редкие)",
          "Q1 (Редкие)",
          "Q1 (Редкие)",
          "Q1 (Редкие)",
          "Q1 (Редкие)",
          "Q1 (Редкие)",
          "Q1 (Редкие)",
          "Q1 (Редкие)",
          "Q1 (Редкие)",
          "Q1 (Редкие)",
          "Q1 (Редкие)",
          "Q1 (Редкие)",
          "Q1 (Редкие)",
          "Q1 (Редкие)",
          "Q1 (Редкие)",
          "Q1 (Редкие)",
          "Q1 (Редкие)",
          "Q1 (Редкие)",
          "Q1 (Редкие)",
          "Q1 (Редкие)",
          "Q1 (Редкие)",
          "Q1 (Редкие)",
          "Q1 (Редкие)",
          "Q1 (Редкие)",
          "Q1 (Редкие)",
          "Q1 (Редкие)",
          "Q1 (Редкие)",
          "Q1 (Редкие)",
          "Q1 (Редкие)",
          "Q1 (Редкие)",
          "Q1 (Редкие)",
          "Q1 (Редкие)",
          "Q1 (Редкие)",
          "Q1 (Редкие)",
          "Q1 (Редкие)",
          "Q1 (Редкие)",
          "Q1 (Редкие)",
          "Q1 (Редкие)",
          "Q1 (Редкие)",
          "Q1 (Редкие)",
          "Q1 (Редкие)",
          "Q1 (Редкие)",
          "Q1 (Редкие)",
          "Q1 (Редкие)",
          "Q1 (Редкие)",
          "Q1 (Редкие)",
          "Q1 (Редкие)",
          "Q1 (Редкие)",
          "Q1 (Редкие)",
          "Q1 (Редкие)",
          "Q1 (Редкие)",
          "Q1 (Редкие)",
          "Q1 (Редкие)",
          "Q1 (Редкие)",
          "Q1 (Редкие)",
          "Q1 (Редкие)",
          "Q1 (Редкие)",
          "Q1 (Редкие)",
          "Q1 (Редкие)",
          "Q1 (Редкие)",
          "Q1 (Редкие)",
          "Q1 (Редкие)",
          "Q1 (Редкие)",
          "Q1 (Редкие)",
          "Q1 (Редкие)",
          "Q1 (Редкие)",
          "Q1 (Редкие)",
          "Q1 (Редкие)",
          "Q1 (Редкие)",
          "Q1 (Редкие)",
          "Q1 (Редкие)",
          "Q1 (Редкие)",
          "Q1 (Редкие)",
          "Q1 (Редкие)",
          "Q1 (Редкие)",
          "Q1 (Редкие)",
          "Q1 (Редкие)",
          "Q1 (Редкие)",
          "Q1 (Редкие)",
          "Q1 (Редкие)",
          "Q1 (Редкие)",
          "Q1 (Редкие)",
          "Q1 (Редкие)",
          "Q1 (Редкие)",
          "Q1 (Редкие)",
          "Q1 (Редкие)",
          "Q1 (Редкие)",
          "Q1 (Редкие)",
          "Q1 (Редкие)",
          "Q1 (Редкие)",
          "Q1 (Редкие)",
          "Q1 (Редкие)",
          "Q1 (Редкие)",
          "Q1 (Редкие)",
          "Q1 (Редкие)",
          "Q1 (Редкие)",
          "Q1 (Редкие)",
          "Q1 (Редкие)",
          "Q1 (Редкие)",
          "Q1 (Редкие)",
          "Q1 (Редкие)",
          "Q1 (Редкие)",
          "Q1 (Редкие)",
          "Q1 (Редкие)",
          "Q1 (Редкие)",
          "Q1 (Редкие)",
          "Q1 (Редкие)",
          "Q1 (Редкие)",
          "Q1 (Редкие)",
          "Q1 (Редкие)",
          "Q1 (Редкие)",
          "Q1 (Редкие)"
         ],
         "xaxis": "x",
         "y": [
          1.738,
          1.774,
          1.138,
          1.515,
          1.646,
          1.772,
          1.153,
          1.928,
          1.764,
          0.819,
          1.599,
          1.377,
          1.791,
          1.402,
          1.582,
          1.403,
          1.997,
          1.05,
          1.06,
          1.044,
          1.325,
          1.546,
          1.435,
          1.738,
          1.926,
          1.022,
          1.249,
          1.762,
          1.986,
          1.879,
          1.977,
          1.552,
          1.709,
          1.6,
          1.381,
          1.403,
          1.387,
          1.279,
          1.144,
          1.572,
          1.608,
          1.935,
          1.936,
          1.872,
          1.459,
          1.433,
          1.742,
          1.948,
          1.425,
          1.444,
          1.841,
          1.92,
          1.522,
          1.775,
          1.936,
          1.755,
          0.785,
          1.525,
          1.959,
          1.319,
          1.518,
          1.004,
          1.618,
          1.663,
          1.967,
          1.595,
          0,
          1.389,
          1.356,
          1.598,
          1.472,
          1.933,
          1.204,
          1.407,
          1.409,
          1.802,
          1.305,
          1.484,
          1.881,
          1.711,
          1.928,
          1.212,
          1.404,
          1.446,
          1.692,
          1.841,
          1.61,
          1.757,
          1.18,
          1.755,
          1.66,
          1.422,
          1.021,
          1.91,
          1.299,
          1.843,
          0.711,
          1.867,
          1.539,
          1.73,
          1.111,
          1.568,
          1.878,
          1.423,
          1.653,
          1.948,
          1.811,
          1.674,
          0.833,
          1.333,
          1.833,
          1.859,
          1.487,
          1.614,
          1.656,
          0.741,
          0,
          1.762,
          1.8,
          1.46,
          1.11,
          1.433,
          0.85,
          1.251,
          1.6,
          1.888,
          1.948,
          1.958,
          1.103,
          2.005,
          1.775,
          1.364,
          1.672,
          1.282,
          1.648,
          1.764,
          0,
          1.691,
          0.033,
          0.878,
          1.884,
          1.241,
          1.611,
          1.875,
          1.608,
          1.847,
          1.9,
          1.556,
          1.274,
          1.282,
          1.783,
          1.539,
          1.506,
          1.869,
          1.938,
          1.02,
          1.488,
          1.145,
          1.726,
          1.638,
          1.664,
          1.983,
          1.667,
          1.872,
          1,
          1.349,
          1.41,
          0.433,
          0.929,
          1.639,
          1.384,
          1.543,
          1.414,
          1.91,
          1.645,
          1.924,
          1.915,
          1.66,
          1.243,
          1.388,
          1.21,
          1.363,
          0,
          1.394,
          0.877,
          1.122,
          1.874,
          0.013,
          1.208,
          0,
          1.952,
          0,
          0,
          0,
          0,
          0.921,
          0,
          0,
          0
         ],
         "yaxis": "y"
        },
        {
         "alignmentgroup": "True",
         "hovertemplate": "quantile_pf_month=%{x}<br>pf_month=%{y}<extra></extra>",
         "legendgroup": "Q2 (Умеренные)",
         "marker": {
          "color": "#EF553B",
          "pattern": {
           "shape": ""
          }
         },
         "name": "Q2 (Умеренные)",
         "offsetgroup": "Q2 (Умеренные)",
         "orientation": "v",
         "showlegend": true,
         "textposition": "auto",
         "type": "bar",
         "x": [
          "Q2 (Умеренные)",
          "Q2 (Умеренные)",
          "Q2 (Умеренные)",
          "Q2 (Умеренные)",
          "Q2 (Умеренные)",
          "Q2 (Умеренные)",
          "Q2 (Умеренные)",
          "Q2 (Умеренные)",
          "Q2 (Умеренные)",
          "Q2 (Умеренные)",
          "Q2 (Умеренные)",
          "Q2 (Умеренные)",
          "Q2 (Умеренные)",
          "Q2 (Умеренные)",
          "Q2 (Умеренные)",
          "Q2 (Умеренные)",
          "Q2 (Умеренные)",
          "Q2 (Умеренные)",
          "Q2 (Умеренные)",
          "Q2 (Умеренные)",
          "Q2 (Умеренные)",
          "Q2 (Умеренные)",
          "Q2 (Умеренные)",
          "Q2 (Умеренные)",
          "Q2 (Умеренные)",
          "Q2 (Умеренные)",
          "Q2 (Умеренные)",
          "Q2 (Умеренные)",
          "Q2 (Умеренные)",
          "Q2 (Умеренные)",
          "Q2 (Умеренные)",
          "Q2 (Умеренные)",
          "Q2 (Умеренные)",
          "Q2 (Умеренные)",
          "Q2 (Умеренные)",
          "Q2 (Умеренные)",
          "Q2 (Умеренные)",
          "Q2 (Умеренные)",
          "Q2 (Умеренные)",
          "Q2 (Умеренные)",
          "Q2 (Умеренные)",
          "Q2 (Умеренные)",
          "Q2 (Умеренные)",
          "Q2 (Умеренные)",
          "Q2 (Умеренные)",
          "Q2 (Умеренные)",
          "Q2 (Умеренные)",
          "Q2 (Умеренные)",
          "Q2 (Умеренные)",
          "Q2 (Умеренные)",
          "Q2 (Умеренные)",
          "Q2 (Умеренные)",
          "Q2 (Умеренные)",
          "Q2 (Умеренные)",
          "Q2 (Умеренные)",
          "Q2 (Умеренные)",
          "Q2 (Умеренные)",
          "Q2 (Умеренные)",
          "Q2 (Умеренные)",
          "Q2 (Умеренные)",
          "Q2 (Умеренные)",
          "Q2 (Умеренные)",
          "Q2 (Умеренные)",
          "Q2 (Умеренные)",
          "Q2 (Умеренные)",
          "Q2 (Умеренные)",
          "Q2 (Умеренные)",
          "Q2 (Умеренные)",
          "Q2 (Умеренные)",
          "Q2 (Умеренные)",
          "Q2 (Умеренные)",
          "Q2 (Умеренные)",
          "Q2 (Умеренные)",
          "Q2 (Умеренные)",
          "Q2 (Умеренные)",
          "Q2 (Умеренные)",
          "Q2 (Умеренные)",
          "Q2 (Умеренные)",
          "Q2 (Умеренные)",
          "Q2 (Умеренные)",
          "Q2 (Умеренные)",
          "Q2 (Умеренные)",
          "Q2 (Умеренные)",
          "Q2 (Умеренные)",
          "Q2 (Умеренные)",
          "Q2 (Умеренные)",
          "Q2 (Умеренные)",
          "Q2 (Умеренные)",
          "Q2 (Умеренные)",
          "Q2 (Умеренные)",
          "Q2 (Умеренные)",
          "Q2 (Умеренные)",
          "Q2 (Умеренные)",
          "Q2 (Умеренные)",
          "Q2 (Умеренные)",
          "Q2 (Умеренные)",
          "Q2 (Умеренные)",
          "Q2 (Умеренные)",
          "Q2 (Умеренные)",
          "Q2 (Умеренные)",
          "Q2 (Умеренные)",
          "Q2 (Умеренные)",
          "Q2 (Умеренные)",
          "Q2 (Умеренные)",
          "Q2 (Умеренные)",
          "Q2 (Умеренные)",
          "Q2 (Умеренные)",
          "Q2 (Умеренные)",
          "Q2 (Умеренные)",
          "Q2 (Умеренные)",
          "Q2 (Умеренные)",
          "Q2 (Умеренные)",
          "Q2 (Умеренные)",
          "Q2 (Умеренные)",
          "Q2 (Умеренные)",
          "Q2 (Умеренные)",
          "Q2 (Умеренные)",
          "Q2 (Умеренные)",
          "Q2 (Умеренные)",
          "Q2 (Умеренные)",
          "Q2 (Умеренные)",
          "Q2 (Умеренные)",
          "Q2 (Умеренные)",
          "Q2 (Умеренные)",
          "Q2 (Умеренные)",
          "Q2 (Умеренные)",
          "Q2 (Умеренные)",
          "Q2 (Умеренные)",
          "Q2 (Умеренные)",
          "Q2 (Умеренные)",
          "Q2 (Умеренные)",
          "Q2 (Умеренные)",
          "Q2 (Умеренные)",
          "Q2 (Умеренные)",
          "Q2 (Умеренные)",
          "Q2 (Умеренные)",
          "Q2 (Умеренные)",
          "Q2 (Умеренные)",
          "Q2 (Умеренные)",
          "Q2 (Умеренные)",
          "Q2 (Умеренные)",
          "Q2 (Умеренные)",
          "Q2 (Умеренные)",
          "Q2 (Умеренные)",
          "Q2 (Умеренные)",
          "Q2 (Умеренные)",
          "Q2 (Умеренные)",
          "Q2 (Умеренные)",
          "Q2 (Умеренные)",
          "Q2 (Умеренные)",
          "Q2 (Умеренные)",
          "Q2 (Умеренные)",
          "Q2 (Умеренные)",
          "Q2 (Умеренные)",
          "Q2 (Умеренные)",
          "Q2 (Умеренные)",
          "Q2 (Умеренные)",
          "Q2 (Умеренные)",
          "Q2 (Умеренные)",
          "Q2 (Умеренные)",
          "Q2 (Умеренные)",
          "Q2 (Умеренные)",
          "Q2 (Умеренные)",
          "Q2 (Умеренные)",
          "Q2 (Умеренные)",
          "Q2 (Умеренные)",
          "Q2 (Умеренные)",
          "Q2 (Умеренные)",
          "Q2 (Умеренные)",
          "Q2 (Умеренные)",
          "Q2 (Умеренные)",
          "Q2 (Умеренные)",
          "Q2 (Умеренные)",
          "Q2 (Умеренные)",
          "Q2 (Умеренные)",
          "Q2 (Умеренные)",
          "Q2 (Умеренные)",
          "Q2 (Умеренные)",
          "Q2 (Умеренные)",
          "Q2 (Умеренные)",
          "Q2 (Умеренные)",
          "Q2 (Умеренные)",
          "Q2 (Умеренные)",
          "Q2 (Умеренные)",
          "Q2 (Умеренные)",
          "Q2 (Умеренные)",
          "Q2 (Умеренные)",
          "Q2 (Умеренные)",
          "Q2 (Умеренные)",
          "Q2 (Умеренные)",
          "Q2 (Умеренные)",
          "Q2 (Умеренные)",
          "Q2 (Умеренные)",
          "Q2 (Умеренные)",
          "Q2 (Умеренные)",
          "Q2 (Умеренные)",
          "Q2 (Умеренные)",
          "Q2 (Умеренные)"
         ],
         "xaxis": "x",
         "y": [
          2.026,
          2.498,
          2.078,
          2.202,
          2.684,
          2.61,
          2.729,
          2.494,
          2.169,
          2.127,
          2.544,
          2.373,
          2.141,
          2.151,
          2.658,
          2.029,
          2.492,
          2.593,
          2.091,
          2.096,
          2.551,
          2.409,
          2.198,
          2.205,
          2.557,
          2.518,
          2.507,
          2.513,
          2.074,
          2.159,
          2.675,
          2.143,
          2.543,
          2.176,
          2.371,
          2.695,
          2.416,
          2.086,
          2.142,
          2.565,
          2.151,
          2.359,
          2.627,
          2.538,
          2.121,
          2.133,
          2.578,
          2.027,
          2.696,
          2.352,
          2.25,
          2.276,
          2.327,
          2.61,
          2.32,
          2.727,
          2.529,
          2.048,
          2.161,
          2.258,
          2.588,
          2.192,
          2.215,
          2.51,
          2.155,
          2.654,
          2.17,
          2.173,
          2.067,
          2.655,
          2.43,
          2.578,
          2.6,
          2.388,
          2.431,
          2.065,
          2.204,
          2.745,
          2.72,
          2.127,
          2.583,
          2.512,
          2.543,
          2.141,
          2.036,
          2.433,
          2.133,
          2.67,
          2.207,
          2.483,
          2.368,
          2.673,
          2.74,
          2.338,
          2.084,
          2.453,
          2.142,
          2.126,
          2.231,
          2.106,
          2.249,
          2.381,
          2.317,
          2.583,
          2.754,
          2.291,
          2.302,
          2.716,
          2.476,
          2.598,
          2.442,
          2.63,
          2.093,
          2.559,
          2.033,
          2.767,
          2.139,
          2.167,
          2.025,
          2.496,
          2.221,
          2.461,
          2.425,
          2.381,
          2.638,
          2.548,
          2.193,
          2.017,
          2.731,
          2.181,
          2.243,
          2.424,
          2.136,
          2.277,
          2.748,
          2.268,
          2.284,
          2.629,
          2.612,
          2.338,
          2.461,
          2.177,
          2.111,
          2.544,
          2.631,
          2.291,
          2.488,
          2.083,
          2.502,
          2.133,
          2.693,
          2.026,
          2.631,
          2.487,
          2.54,
          2.418,
          2.556,
          2.251,
          2.197,
          2.227,
          2.457,
          2.773,
          2.18,
          2.289,
          2.283,
          2.636,
          2.555,
          2.247,
          2.437,
          2.767,
          2.125,
          2.388,
          2.683,
          2.644,
          2.579,
          2.6,
          2.422,
          2.015,
          2.664,
          2.638,
          2.343,
          2.607,
          2.441,
          2.778,
          2.15,
          2.595,
          2.533,
          2.184,
          2.281,
          2.283,
          2.063,
          2.643,
          2.05,
          2.297,
          2.705,
          2.085,
          2.667,
          2.358
         ],
         "yaxis": "y"
        },
        {
         "alignmentgroup": "True",
         "hovertemplate": "quantile_pf_month=%{x}<br>pf_month=%{y}<extra></extra>",
         "legendgroup": "Q3 (Частые)",
         "marker": {
          "color": "#00cc96",
          "pattern": {
           "shape": ""
          }
         },
         "name": "Q3 (Частые)",
         "offsetgroup": "Q3 (Частые)",
         "orientation": "v",
         "showlegend": true,
         "textposition": "auto",
         "type": "bar",
         "x": [
          "Q3 (Частые)",
          "Q3 (Частые)",
          "Q3 (Частые)",
          "Q3 (Частые)",
          "Q3 (Частые)",
          "Q3 (Частые)",
          "Q3 (Частые)",
          "Q3 (Частые)",
          "Q3 (Частые)",
          "Q3 (Частые)",
          "Q3 (Частые)",
          "Q3 (Частые)",
          "Q3 (Частые)",
          "Q3 (Частые)",
          "Q3 (Частые)",
          "Q3 (Частые)",
          "Q3 (Частые)",
          "Q3 (Частые)",
          "Q3 (Частые)",
          "Q3 (Частые)",
          "Q3 (Частые)",
          "Q3 (Частые)",
          "Q3 (Частые)",
          "Q3 (Частые)",
          "Q3 (Частые)",
          "Q3 (Частые)",
          "Q3 (Частые)",
          "Q3 (Частые)",
          "Q3 (Частые)",
          "Q3 (Частые)",
          "Q3 (Частые)",
          "Q3 (Частые)",
          "Q3 (Частые)",
          "Q3 (Частые)",
          "Q3 (Частые)",
          "Q3 (Частые)",
          "Q3 (Частые)",
          "Q3 (Частые)",
          "Q3 (Частые)",
          "Q3 (Частые)",
          "Q3 (Частые)",
          "Q3 (Частые)",
          "Q3 (Частые)",
          "Q3 (Частые)",
          "Q3 (Частые)",
          "Q3 (Частые)",
          "Q3 (Частые)",
          "Q3 (Частые)",
          "Q3 (Частые)",
          "Q3 (Частые)",
          "Q3 (Частые)",
          "Q3 (Частые)",
          "Q3 (Частые)",
          "Q3 (Частые)",
          "Q3 (Частые)",
          "Q3 (Частые)",
          "Q3 (Частые)",
          "Q3 (Частые)",
          "Q3 (Частые)",
          "Q3 (Частые)",
          "Q3 (Частые)",
          "Q3 (Частые)",
          "Q3 (Частые)",
          "Q3 (Частые)",
          "Q3 (Частые)",
          "Q3 (Частые)",
          "Q3 (Частые)",
          "Q3 (Частые)",
          "Q3 (Частые)",
          "Q3 (Частые)",
          "Q3 (Частые)",
          "Q3 (Частые)",
          "Q3 (Частые)",
          "Q3 (Частые)",
          "Q3 (Частые)",
          "Q3 (Частые)",
          "Q3 (Частые)",
          "Q3 (Частые)",
          "Q3 (Частые)",
          "Q3 (Частые)",
          "Q3 (Частые)",
          "Q3 (Частые)",
          "Q3 (Частые)",
          "Q3 (Частые)",
          "Q3 (Частые)",
          "Q3 (Частые)",
          "Q3 (Частые)",
          "Q3 (Частые)",
          "Q3 (Частые)",
          "Q3 (Частые)",
          "Q3 (Частые)",
          "Q3 (Частые)",
          "Q3 (Частые)",
          "Q3 (Частые)",
          "Q3 (Частые)",
          "Q3 (Частые)",
          "Q3 (Частые)",
          "Q3 (Частые)",
          "Q3 (Частые)",
          "Q3 (Частые)",
          "Q3 (Частые)",
          "Q3 (Частые)",
          "Q3 (Частые)",
          "Q3 (Частые)",
          "Q3 (Частые)",
          "Q3 (Частые)",
          "Q3 (Частые)",
          "Q3 (Частые)",
          "Q3 (Частые)",
          "Q3 (Частые)",
          "Q3 (Частые)",
          "Q3 (Частые)",
          "Q3 (Частые)",
          "Q3 (Частые)",
          "Q3 (Частые)",
          "Q3 (Частые)",
          "Q3 (Частые)",
          "Q3 (Частые)",
          "Q3 (Частые)",
          "Q3 (Частые)",
          "Q3 (Частые)",
          "Q3 (Частые)",
          "Q3 (Частые)",
          "Q3 (Частые)",
          "Q3 (Частые)",
          "Q3 (Частые)",
          "Q3 (Частые)",
          "Q3 (Частые)",
          "Q3 (Частые)",
          "Q3 (Частые)",
          "Q3 (Частые)",
          "Q3 (Частые)",
          "Q3 (Частые)",
          "Q3 (Частые)",
          "Q3 (Частые)",
          "Q3 (Частые)",
          "Q3 (Частые)",
          "Q3 (Частые)",
          "Q3 (Частые)",
          "Q3 (Частые)",
          "Q3 (Частые)",
          "Q3 (Частые)",
          "Q3 (Частые)",
          "Q3 (Частые)",
          "Q3 (Частые)",
          "Q3 (Частые)",
          "Q3 (Частые)",
          "Q3 (Частые)",
          "Q3 (Частые)",
          "Q3 (Частые)",
          "Q3 (Частые)",
          "Q3 (Частые)",
          "Q3 (Частые)",
          "Q3 (Частые)",
          "Q3 (Частые)",
          "Q3 (Частые)",
          "Q3 (Частые)",
          "Q3 (Частые)",
          "Q3 (Частые)",
          "Q3 (Частые)",
          "Q3 (Частые)",
          "Q3 (Частые)",
          "Q3 (Частые)",
          "Q3 (Частые)",
          "Q3 (Частые)",
          "Q3 (Частые)",
          "Q3 (Частые)",
          "Q3 (Частые)",
          "Q3 (Частые)",
          "Q3 (Частые)",
          "Q3 (Частые)",
          "Q3 (Частые)",
          "Q3 (Частые)",
          "Q3 (Частые)",
          "Q3 (Частые)",
          "Q3 (Частые)",
          "Q3 (Частые)",
          "Q3 (Частые)",
          "Q3 (Частые)",
          "Q3 (Частые)",
          "Q3 (Частые)",
          "Q3 (Частые)",
          "Q3 (Частые)",
          "Q3 (Частые)",
          "Q3 (Частые)",
          "Q3 (Частые)",
          "Q3 (Частые)",
          "Q3 (Частые)",
          "Q3 (Частые)",
          "Q3 (Частые)",
          "Q3 (Частые)",
          "Q3 (Частые)",
          "Q3 (Частые)",
          "Q3 (Частые)",
          "Q3 (Частые)",
          "Q3 (Частые)",
          "Q3 (Частые)",
          "Q3 (Частые)"
         ],
         "xaxis": "x",
         "y": [
          3.127,
          2.992,
          3.774,
          3.742,
          3.257,
          2.931,
          3.533,
          3.041,
          3.297,
          2.97,
          2.831,
          3.731,
          3.843,
          2.943,
          3.373,
          3.078,
          3.337,
          3.567,
          3.273,
          3.577,
          2.889,
          3.549,
          3.263,
          3.074,
          3.722,
          3.59,
          2.828,
          3.442,
          3.203,
          3.613,
          3.636,
          2.979,
          3.145,
          2.881,
          3.797,
          3.3,
          3.306,
          2.788,
          2.874,
          3.779,
          3.062,
          3.873,
          2.941,
          3.002,
          2.79,
          3.033,
          3.497,
          2.81,
          3.764,
          3.448,
          3.539,
          3.188,
          3.397,
          3.019,
          3.642,
          3.682,
          2.997,
          3.873,
          3.004,
          3.277,
          3.158,
          2.956,
          3.067,
          3.071,
          3.494,
          2.796,
          3.062,
          3.207,
          3.177,
          3.003,
          3.131,
          3.369,
          2.823,
          3.062,
          3.031,
          3.315,
          3.16,
          3.519,
          2.841,
          2.81,
          3.033,
          3.19,
          3.2,
          3.056,
          3.29,
          3.033,
          2.984,
          3.673,
          3.229,
          3.311,
          3.19,
          3.208,
          3.375,
          3.067,
          3.556,
          3.044,
          3.436,
          2.881,
          2.804,
          2.857,
          3.194,
          3.021,
          3.594,
          3.31,
          3.57,
          2.905,
          3.64,
          3.485,
          3.83,
          3.324,
          3.894,
          3.686,
          3.88,
          2.983,
          3.737,
          3.583,
          3,
          3.277,
          3.037,
          3.667,
          3.3,
          3.083,
          3.761,
          3.518,
          3.764,
          2.905,
          2.818,
          2.815,
          3.45,
          3.095,
          3.073,
          3.644,
          2.971,
          3.212,
          3.01,
          3.533,
          3.245,
          3.297,
          3.443,
          2.856,
          2.957,
          3.339,
          3.548,
          3.843,
          2.871,
          3.14,
          2.898,
          3.467,
          3.264,
          2.891,
          2.869,
          3.408,
          3.833,
          3.133,
          3.4,
          3.782,
          3.267,
          3.172,
          3.787,
          3.536,
          3.66,
          3.46,
          3.419,
          2.793,
          2.8,
          3.392,
          2.9,
          2.808,
          3.574,
          3.224,
          2.973,
          3.719,
          3.481,
          3.295,
          3.42,
          3.37,
          3.267,
          3.582,
          3.585,
          3.807,
          3.31,
          2.812,
          3.086,
          3.761,
          2.98,
          3.592,
          2.881,
          2.8,
          3.319,
          2.994,
          3.333,
          2.976,
          3.141,
          3.541,
          2.803,
          3.119,
          3.885,
          2.881
         ],
         "yaxis": "y"
        },
        {
         "alignmentgroup": "True",
         "hovertemplate": "quantile_pf_month=%{x}<br>pf_month=%{y}<extra></extra>",
         "legendgroup": "Q4 (VIP)",
         "marker": {
          "color": "#ab63fa",
          "pattern": {
           "shape": ""
          }
         },
         "name": "Q4 (VIP)",
         "offsetgroup": "Q4 (VIP)",
         "orientation": "v",
         "showlegend": true,
         "textposition": "auto",
         "type": "bar",
         "x": [
          "Q4 (VIP)",
          "Q4 (VIP)",
          "Q4 (VIP)",
          "Q4 (VIP)",
          "Q4 (VIP)",
          "Q4 (VIP)",
          "Q4 (VIP)",
          "Q4 (VIP)",
          "Q4 (VIP)",
          "Q4 (VIP)",
          "Q4 (VIP)",
          "Q4 (VIP)",
          "Q4 (VIP)",
          "Q4 (VIP)",
          "Q4 (VIP)",
          "Q4 (VIP)",
          "Q4 (VIP)",
          "Q4 (VIP)",
          "Q4 (VIP)",
          "Q4 (VIP)",
          "Q4 (VIP)",
          "Q4 (VIP)",
          "Q4 (VIP)",
          "Q4 (VIP)",
          "Q4 (VIP)",
          "Q4 (VIP)",
          "Q4 (VIP)",
          "Q4 (VIP)",
          "Q4 (VIP)",
          "Q4 (VIP)",
          "Q4 (VIP)",
          "Q4 (VIP)",
          "Q4 (VIP)",
          "Q4 (VIP)",
          "Q4 (VIP)",
          "Q4 (VIP)",
          "Q4 (VIP)",
          "Q4 (VIP)",
          "Q4 (VIP)",
          "Q4 (VIP)",
          "Q4 (VIP)",
          "Q4 (VIP)",
          "Q4 (VIP)",
          "Q4 (VIP)",
          "Q4 (VIP)",
          "Q4 (VIP)",
          "Q4 (VIP)",
          "Q4 (VIP)",
          "Q4 (VIP)",
          "Q4 (VIP)",
          "Q4 (VIP)",
          "Q4 (VIP)",
          "Q4 (VIP)",
          "Q4 (VIP)",
          "Q4 (VIP)",
          "Q4 (VIP)",
          "Q4 (VIP)",
          "Q4 (VIP)",
          "Q4 (VIP)",
          "Q4 (VIP)",
          "Q4 (VIP)",
          "Q4 (VIP)",
          "Q4 (VIP)",
          "Q4 (VIP)",
          "Q4 (VIP)",
          "Q4 (VIP)",
          "Q4 (VIP)",
          "Q4 (VIP)",
          "Q4 (VIP)",
          "Q4 (VIP)",
          "Q4 (VIP)",
          "Q4 (VIP)",
          "Q4 (VIP)",
          "Q4 (VIP)",
          "Q4 (VIP)",
          "Q4 (VIP)",
          "Q4 (VIP)",
          "Q4 (VIP)",
          "Q4 (VIP)",
          "Q4 (VIP)",
          "Q4 (VIP)",
          "Q4 (VIP)",
          "Q4 (VIP)",
          "Q4 (VIP)",
          "Q4 (VIP)",
          "Q4 (VIP)",
          "Q4 (VIP)",
          "Q4 (VIP)",
          "Q4 (VIP)",
          "Q4 (VIP)",
          "Q4 (VIP)",
          "Q4 (VIP)",
          "Q4 (VIP)",
          "Q4 (VIP)",
          "Q4 (VIP)",
          "Q4 (VIP)",
          "Q4 (VIP)",
          "Q4 (VIP)",
          "Q4 (VIP)",
          "Q4 (VIP)",
          "Q4 (VIP)",
          "Q4 (VIP)",
          "Q4 (VIP)",
          "Q4 (VIP)",
          "Q4 (VIP)",
          "Q4 (VIP)",
          "Q4 (VIP)",
          "Q4 (VIP)",
          "Q4 (VIP)",
          "Q4 (VIP)",
          "Q4 (VIP)",
          "Q4 (VIP)",
          "Q4 (VIP)",
          "Q4 (VIP)",
          "Q4 (VIP)",
          "Q4 (VIP)",
          "Q4 (VIP)",
          "Q4 (VIP)",
          "Q4 (VIP)",
          "Q4 (VIP)",
          "Q4 (VIP)",
          "Q4 (VIP)",
          "Q4 (VIP)",
          "Q4 (VIP)",
          "Q4 (VIP)",
          "Q4 (VIP)",
          "Q4 (VIP)",
          "Q4 (VIP)",
          "Q4 (VIP)",
          "Q4 (VIP)",
          "Q4 (VIP)",
          "Q4 (VIP)",
          "Q4 (VIP)",
          "Q4 (VIP)",
          "Q4 (VIP)",
          "Q4 (VIP)",
          "Q4 (VIP)",
          "Q4 (VIP)",
          "Q4 (VIP)",
          "Q4 (VIP)",
          "Q4 (VIP)",
          "Q4 (VIP)",
          "Q4 (VIP)",
          "Q4 (VIP)",
          "Q4 (VIP)",
          "Q4 (VIP)",
          "Q4 (VIP)",
          "Q4 (VIP)",
          "Q4 (VIP)",
          "Q4 (VIP)",
          "Q4 (VIP)",
          "Q4 (VIP)",
          "Q4 (VIP)",
          "Q4 (VIP)",
          "Q4 (VIP)",
          "Q4 (VIP)",
          "Q4 (VIP)",
          "Q4 (VIP)",
          "Q4 (VIP)",
          "Q4 (VIP)",
          "Q4 (VIP)",
          "Q4 (VIP)",
          "Q4 (VIP)",
          "Q4 (VIP)",
          "Q4 (VIP)",
          "Q4 (VIP)",
          "Q4 (VIP)",
          "Q4 (VIP)",
          "Q4 (VIP)",
          "Q4 (VIP)",
          "Q4 (VIP)",
          "Q4 (VIP)",
          "Q4 (VIP)",
          "Q4 (VIP)",
          "Q4 (VIP)",
          "Q4 (VIP)",
          "Q4 (VIP)",
          "Q4 (VIP)",
          "Q4 (VIP)",
          "Q4 (VIP)",
          "Q4 (VIP)",
          "Q4 (VIP)",
          "Q4 (VIP)",
          "Q4 (VIP)",
          "Q4 (VIP)",
          "Q4 (VIP)",
          "Q4 (VIP)",
          "Q4 (VIP)",
          "Q4 (VIP)",
          "Q4 (VIP)",
          "Q4 (VIP)",
          "Q4 (VIP)",
          "Q4 (VIP)",
          "Q4 (VIP)",
          "Q4 (VIP)",
          "Q4 (VIP)",
          "Q4 (VIP)",
          "Q4 (VIP)"
         ],
         "xaxis": "x",
         "y": [
          4.347,
          4.252,
          4.744,
          4.703,
          4.056,
          4.004,
          3.913,
          5.81,
          4.59,
          7.407,
          4.785,
          4.613,
          6.956,
          4.779,
          4.067,
          6.983,
          6.9,
          4.961,
          4.819,
          5.043,
          4.015,
          4.276,
          5.86,
          5.029,
          5.362,
          4.23,
          6.722,
          7.527,
          5.367,
          4.553,
          10.983,
          4.688,
          4.643,
          4.243,
          4.122,
          4.377,
          4.611,
          5.083,
          4.187,
          6.66,
          6.305,
          7.389,
          6.389,
          6.928,
          6.561,
          6.05,
          4.567,
          7.227,
          4.729,
          5.114,
          5.389,
          4.821,
          4.971,
          4.952,
          3.93,
          4.097,
          4.438,
          5.186,
          4.357,
          3.993,
          9.811,
          3.956,
          7.487,
          5.329,
          9,
          7.287,
          4.233,
          8.578,
          6.481,
          8.75,
          4.111,
          4.17,
          14.167,
          4.289,
          4.525,
          5.154,
          6.667,
          5.86,
          7.04,
          4.679,
          5.042,
          4.015,
          13.222,
          7.917,
          4.115,
          4.093,
          11.611,
          5.388,
          5.588,
          4.033,
          5.267,
          6.88,
          4.597,
          4.757,
          5.278,
          4.533,
          4.033,
          4.972,
          8.967,
          4.703,
          4.705,
          4.878,
          4.219,
          5.333,
          4.167,
          4.75,
          4.14,
          5.462,
          5.229,
          12.783,
          3.933,
          4.05,
          5.05,
          6.372,
          4.029,
          6.029,
          4.138,
          7.417,
          3.987,
          5.167,
          5.081,
          6.478,
          7.283,
          4.241,
          4.533,
          4.267,
          4.333,
          4.8,
          4.103,
          6.128,
          6.356,
          3.927,
          4.779,
          4.183,
          4.322,
          5.719,
          3.911,
          7.82,
          5.442,
          8.173,
          3.912,
          5.133,
          5.248,
          3.96,
          4.204,
          6.858,
          5.121,
          4.073,
          4.46,
          4.944,
          4.203,
          11.017,
          4.29,
          4.5,
          6.143,
          4.767,
          3.974,
          4.508,
          5.029,
          4.254,
          5.4,
          4.048,
          5.085,
          6.29,
          5.054,
          5.093,
          4.811,
          5.95,
          5.258,
          4.712,
          4.183,
          4.033,
          4.922,
          11.158,
          4.695,
          7.633,
          7.6,
          7.183,
          5.75,
          5.133,
          5.129,
          4.85,
          5.6,
          6.673,
          6.567,
          6.558,
          5.533,
          7.067,
          9.378,
          4.207,
          12.256,
          5.2,
          4.858,
          4.3,
          8.567,
          7.244,
          5.558,
          6.133
         ],
         "yaxis": "y"
        }
       ],
       "layout": {
        "autosize": true,
        "barmode": "relative",
        "legend": {
         "title": {
          "text": "quantile_pf_month"
         },
         "tracegroupgap": 0
        },
        "template": {
         "data": {
          "bar": [
           {
            "error_x": {
             "color": "#2a3f5f"
            },
            "error_y": {
             "color": "#2a3f5f"
            },
            "marker": {
             "line": {
              "color": "#E5ECF6",
              "width": 0.5
             },
             "pattern": {
              "fillmode": "overlay",
              "size": 10,
              "solidity": 0.2
             }
            },
            "type": "bar"
           }
          ],
          "barpolar": [
           {
            "marker": {
             "line": {
              "color": "#E5ECF6",
              "width": 0.5
             },
             "pattern": {
              "fillmode": "overlay",
              "size": 10,
              "solidity": 0.2
             }
            },
            "type": "barpolar"
           }
          ],
          "carpet": [
           {
            "aaxis": {
             "endlinecolor": "#2a3f5f",
             "gridcolor": "white",
             "linecolor": "white",
             "minorgridcolor": "white",
             "startlinecolor": "#2a3f5f"
            },
            "baxis": {
             "endlinecolor": "#2a3f5f",
             "gridcolor": "white",
             "linecolor": "white",
             "minorgridcolor": "white",
             "startlinecolor": "#2a3f5f"
            },
            "type": "carpet"
           }
          ],
          "choropleth": [
           {
            "colorbar": {
             "outlinewidth": 0,
             "ticks": ""
            },
            "type": "choropleth"
           }
          ],
          "contour": [
           {
            "colorbar": {
             "outlinewidth": 0,
             "ticks": ""
            },
            "colorscale": [
             [
              0,
              "#0d0887"
             ],
             [
              0.1111111111111111,
              "#46039f"
             ],
             [
              0.2222222222222222,
              "#7201a8"
             ],
             [
              0.3333333333333333,
              "#9c179e"
             ],
             [
              0.4444444444444444,
              "#bd3786"
             ],
             [
              0.5555555555555556,
              "#d8576b"
             ],
             [
              0.6666666666666666,
              "#ed7953"
             ],
             [
              0.7777777777777778,
              "#fb9f3a"
             ],
             [
              0.8888888888888888,
              "#fdca26"
             ],
             [
              1,
              "#f0f921"
             ]
            ],
            "type": "contour"
           }
          ],
          "contourcarpet": [
           {
            "colorbar": {
             "outlinewidth": 0,
             "ticks": ""
            },
            "type": "contourcarpet"
           }
          ],
          "heatmap": [
           {
            "colorbar": {
             "outlinewidth": 0,
             "ticks": ""
            },
            "colorscale": [
             [
              0,
              "#0d0887"
             ],
             [
              0.1111111111111111,
              "#46039f"
             ],
             [
              0.2222222222222222,
              "#7201a8"
             ],
             [
              0.3333333333333333,
              "#9c179e"
             ],
             [
              0.4444444444444444,
              "#bd3786"
             ],
             [
              0.5555555555555556,
              "#d8576b"
             ],
             [
              0.6666666666666666,
              "#ed7953"
             ],
             [
              0.7777777777777778,
              "#fb9f3a"
             ],
             [
              0.8888888888888888,
              "#fdca26"
             ],
             [
              1,
              "#f0f921"
             ]
            ],
            "type": "heatmap"
           }
          ],
          "heatmapgl": [
           {
            "colorbar": {
             "outlinewidth": 0,
             "ticks": ""
            },
            "colorscale": [
             [
              0,
              "#0d0887"
             ],
             [
              0.1111111111111111,
              "#46039f"
             ],
             [
              0.2222222222222222,
              "#7201a8"
             ],
             [
              0.3333333333333333,
              "#9c179e"
             ],
             [
              0.4444444444444444,
              "#bd3786"
             ],
             [
              0.5555555555555556,
              "#d8576b"
             ],
             [
              0.6666666666666666,
              "#ed7953"
             ],
             [
              0.7777777777777778,
              "#fb9f3a"
             ],
             [
              0.8888888888888888,
              "#fdca26"
             ],
             [
              1,
              "#f0f921"
             ]
            ],
            "type": "heatmapgl"
           }
          ],
          "histogram": [
           {
            "marker": {
             "pattern": {
              "fillmode": "overlay",
              "size": 10,
              "solidity": 0.2
             }
            },
            "type": "histogram"
           }
          ],
          "histogram2d": [
           {
            "colorbar": {
             "outlinewidth": 0,
             "ticks": ""
            },
            "colorscale": [
             [
              0,
              "#0d0887"
             ],
             [
              0.1111111111111111,
              "#46039f"
             ],
             [
              0.2222222222222222,
              "#7201a8"
             ],
             [
              0.3333333333333333,
              "#9c179e"
             ],
             [
              0.4444444444444444,
              "#bd3786"
             ],
             [
              0.5555555555555556,
              "#d8576b"
             ],
             [
              0.6666666666666666,
              "#ed7953"
             ],
             [
              0.7777777777777778,
              "#fb9f3a"
             ],
             [
              0.8888888888888888,
              "#fdca26"
             ],
             [
              1,
              "#f0f921"
             ]
            ],
            "type": "histogram2d"
           }
          ],
          "histogram2dcontour": [
           {
            "colorbar": {
             "outlinewidth": 0,
             "ticks": ""
            },
            "colorscale": [
             [
              0,
              "#0d0887"
             ],
             [
              0.1111111111111111,
              "#46039f"
             ],
             [
              0.2222222222222222,
              "#7201a8"
             ],
             [
              0.3333333333333333,
              "#9c179e"
             ],
             [
              0.4444444444444444,
              "#bd3786"
             ],
             [
              0.5555555555555556,
              "#d8576b"
             ],
             [
              0.6666666666666666,
              "#ed7953"
             ],
             [
              0.7777777777777778,
              "#fb9f3a"
             ],
             [
              0.8888888888888888,
              "#fdca26"
             ],
             [
              1,
              "#f0f921"
             ]
            ],
            "type": "histogram2dcontour"
           }
          ],
          "mesh3d": [
           {
            "colorbar": {
             "outlinewidth": 0,
             "ticks": ""
            },
            "type": "mesh3d"
           }
          ],
          "parcoords": [
           {
            "line": {
             "colorbar": {
              "outlinewidth": 0,
              "ticks": ""
             }
            },
            "type": "parcoords"
           }
          ],
          "pie": [
           {
            "automargin": true,
            "type": "pie"
           }
          ],
          "scatter": [
           {
            "fillpattern": {
             "fillmode": "overlay",
             "size": 10,
             "solidity": 0.2
            },
            "type": "scatter"
           }
          ],
          "scatter3d": [
           {
            "line": {
             "colorbar": {
              "outlinewidth": 0,
              "ticks": ""
             }
            },
            "marker": {
             "colorbar": {
              "outlinewidth": 0,
              "ticks": ""
             }
            },
            "type": "scatter3d"
           }
          ],
          "scattercarpet": [
           {
            "marker": {
             "colorbar": {
              "outlinewidth": 0,
              "ticks": ""
             }
            },
            "type": "scattercarpet"
           }
          ],
          "scattergeo": [
           {
            "marker": {
             "colorbar": {
              "outlinewidth": 0,
              "ticks": ""
             }
            },
            "type": "scattergeo"
           }
          ],
          "scattergl": [
           {
            "marker": {
             "colorbar": {
              "outlinewidth": 0,
              "ticks": ""
             }
            },
            "type": "scattergl"
           }
          ],
          "scattermapbox": [
           {
            "marker": {
             "colorbar": {
              "outlinewidth": 0,
              "ticks": ""
             }
            },
            "type": "scattermapbox"
           }
          ],
          "scatterpolar": [
           {
            "marker": {
             "colorbar": {
              "outlinewidth": 0,
              "ticks": ""
             }
            },
            "type": "scatterpolar"
           }
          ],
          "scatterpolargl": [
           {
            "marker": {
             "colorbar": {
              "outlinewidth": 0,
              "ticks": ""
             }
            },
            "type": "scatterpolargl"
           }
          ],
          "scatterternary": [
           {
            "marker": {
             "colorbar": {
              "outlinewidth": 0,
              "ticks": ""
             }
            },
            "type": "scatterternary"
           }
          ],
          "surface": [
           {
            "colorbar": {
             "outlinewidth": 0,
             "ticks": ""
            },
            "colorscale": [
             [
              0,
              "#0d0887"
             ],
             [
              0.1111111111111111,
              "#46039f"
             ],
             [
              0.2222222222222222,
              "#7201a8"
             ],
             [
              0.3333333333333333,
              "#9c179e"
             ],
             [
              0.4444444444444444,
              "#bd3786"
             ],
             [
              0.5555555555555556,
              "#d8576b"
             ],
             [
              0.6666666666666666,
              "#ed7953"
             ],
             [
              0.7777777777777778,
              "#fb9f3a"
             ],
             [
              0.8888888888888888,
              "#fdca26"
             ],
             [
              1,
              "#f0f921"
             ]
            ],
            "type": "surface"
           }
          ],
          "table": [
           {
            "cells": {
             "fill": {
              "color": "#EBF0F8"
             },
             "line": {
              "color": "white"
             }
            },
            "header": {
             "fill": {
              "color": "#C8D4E3"
             },
             "line": {
              "color": "white"
             }
            },
            "type": "table"
           }
          ]
         },
         "layout": {
          "annotationdefaults": {
           "arrowcolor": "#2a3f5f",
           "arrowhead": 0,
           "arrowwidth": 1
          },
          "autotypenumbers": "strict",
          "coloraxis": {
           "colorbar": {
            "outlinewidth": 0,
            "ticks": ""
           }
          },
          "colorscale": {
           "diverging": [
            [
             0,
             "#8e0152"
            ],
            [
             0.1,
             "#c51b7d"
            ],
            [
             0.2,
             "#de77ae"
            ],
            [
             0.3,
             "#f1b6da"
            ],
            [
             0.4,
             "#fde0ef"
            ],
            [
             0.5,
             "#f7f7f7"
            ],
            [
             0.6,
             "#e6f5d0"
            ],
            [
             0.7,
             "#b8e186"
            ],
            [
             0.8,
             "#7fbc41"
            ],
            [
             0.9,
             "#4d9221"
            ],
            [
             1,
             "#276419"
            ]
           ],
           "sequential": [
            [
             0,
             "#0d0887"
            ],
            [
             0.1111111111111111,
             "#46039f"
            ],
            [
             0.2222222222222222,
             "#7201a8"
            ],
            [
             0.3333333333333333,
             "#9c179e"
            ],
            [
             0.4444444444444444,
             "#bd3786"
            ],
            [
             0.5555555555555556,
             "#d8576b"
            ],
            [
             0.6666666666666666,
             "#ed7953"
            ],
            [
             0.7777777777777778,
             "#fb9f3a"
            ],
            [
             0.8888888888888888,
             "#fdca26"
            ],
            [
             1,
             "#f0f921"
            ]
           ],
           "sequentialminus": [
            [
             0,
             "#0d0887"
            ],
            [
             0.1111111111111111,
             "#46039f"
            ],
            [
             0.2222222222222222,
             "#7201a8"
            ],
            [
             0.3333333333333333,
             "#9c179e"
            ],
            [
             0.4444444444444444,
             "#bd3786"
            ],
            [
             0.5555555555555556,
             "#d8576b"
            ],
            [
             0.6666666666666666,
             "#ed7953"
            ],
            [
             0.7777777777777778,
             "#fb9f3a"
            ],
            [
             0.8888888888888888,
             "#fdca26"
            ],
            [
             1,
             "#f0f921"
            ]
           ]
          },
          "colorway": [
           "#636efa",
           "#EF553B",
           "#00cc96",
           "#ab63fa",
           "#FFA15A",
           "#19d3f3",
           "#FF6692",
           "#B6E880",
           "#FF97FF",
           "#FECB52"
          ],
          "font": {
           "color": "#2a3f5f"
          },
          "geo": {
           "bgcolor": "white",
           "lakecolor": "white",
           "landcolor": "#E5ECF6",
           "showlakes": true,
           "showland": true,
           "subunitcolor": "white"
          },
          "hoverlabel": {
           "align": "left"
          },
          "hovermode": "closest",
          "mapbox": {
           "style": "light"
          },
          "paper_bgcolor": "white",
          "plot_bgcolor": "#E5ECF6",
          "polar": {
           "angularaxis": {
            "gridcolor": "white",
            "linecolor": "white",
            "ticks": ""
           },
           "bgcolor": "#E5ECF6",
           "radialaxis": {
            "gridcolor": "white",
            "linecolor": "white",
            "ticks": ""
           }
          },
          "scene": {
           "xaxis": {
            "backgroundcolor": "#E5ECF6",
            "gridcolor": "white",
            "gridwidth": 2,
            "linecolor": "white",
            "showbackground": true,
            "ticks": "",
            "zerolinecolor": "white"
           },
           "yaxis": {
            "backgroundcolor": "#E5ECF6",
            "gridcolor": "white",
            "gridwidth": 2,
            "linecolor": "white",
            "showbackground": true,
            "ticks": "",
            "zerolinecolor": "white"
           },
           "zaxis": {
            "backgroundcolor": "#E5ECF6",
            "gridcolor": "white",
            "gridwidth": 2,
            "linecolor": "white",
            "showbackground": true,
            "ticks": "",
            "zerolinecolor": "white"
           }
          },
          "shapedefaults": {
           "line": {
            "color": "#2a3f5f"
           }
          },
          "ternary": {
           "aaxis": {
            "gridcolor": "white",
            "linecolor": "white",
            "ticks": ""
           },
           "baxis": {
            "gridcolor": "white",
            "linecolor": "white",
            "ticks": ""
           },
           "bgcolor": "#E5ECF6",
           "caxis": {
            "gridcolor": "white",
            "linecolor": "white",
            "ticks": ""
           }
          },
          "title": {
           "x": 0.05
          },
          "xaxis": {
           "automargin": true,
           "gridcolor": "white",
           "linecolor": "white",
           "ticks": "",
           "title": {
            "standoff": 15
           },
           "zerolinecolor": "white",
           "zerolinewidth": 2
          },
          "yaxis": {
           "automargin": true,
           "gridcolor": "white",
           "linecolor": "white",
           "ticks": "",
           "title": {
            "standoff": 15
           },
           "zerolinecolor": "white",
           "zerolinewidth": 2
          }
         }
        },
        "title": {
         "text": "Сегментация клиентов по частоте покупок"
        },
        "xaxis": {
         "anchor": "y",
         "autorange": true,
         "categoryarray": [
          "Q1 (Редкие)",
          "Q2 (Умеренные)",
          "Q3 (Частые)",
          "Q4 (VIP)",
          null
         ],
         "categoryorder": "array",
         "domain": [
          0,
          1
         ],
         "range": [
          -0.5,
          3.5
         ],
         "title": {
          "text": "quantile_pf_month"
         },
         "type": "category"
        },
        "yaxis": {
         "anchor": "x",
         "autorange": true,
         "domain": [
          0,
          1
         ],
         "range": [
          0,
          1166.5600000000004
         ],
         "title": {
          "text": "pf_month"
         },
         "type": "linear"
        }
       }
      },
      "image/png": "[encoded data removed]",
      "text/html": [
       "<div>                            <div id=\"7ab19658-8422-4114-b9b2-db48ecbbb46d\" class=\"plotly-graph-div\" style=\"height:525px; width:100%;\"></div>            <script type=\"text/javascript\">                require([\"plotly\"], function(Plotly) {                    window.PLOTLYENV=window.PLOTLYENV || {};                                    if (document.getElementById(\"7ab19658-8422-4114-b9b2-db48ecbbb46d\")) {                    Plotly.newPlot(                        \"7ab19658-8422-4114-b9b2-db48ecbbb46d\",                        [{\"alignmentgroup\":\"True\",\"hovertemplate\":\"quantile_pf_month=%{x}<br>pf_month=%{y}<extra></extra>\",\"legendgroup\":\"Q1 (\\u0420\\u0435\\u0434\\u043a\\u0438\\u0435)\",\"marker\":{\"color\":\"#636efa\",\"pattern\":{\"shape\":\"\"}},\"name\":\"Q1 (\\u0420\\u0435\\u0434\\u043a\\u0438\\u0435)\",\"offsetgroup\":\"Q1 (\\u0420\\u0435\\u0434\\u043a\\u0438\\u0435)\",\"orientation\":\"v\",\"showlegend\":true,\"textposition\":\"auto\",\"x\":[\"Q1 (\\u0420\\u0435\\u0434\\u043a\\u0438\\u0435)\",\"Q1 (\\u0420\\u0435\\u0434\\u043a\\u0438\\u0435)\",\"Q1 (\\u0420\\u0435\\u0434\\u043a\\u0438\\u0435)\",\"Q1 (\\u0420\\u0435\\u0434\\u043a\\u0438\\u0435)\",\"Q1 (\\u0420\\u0435\\u0434\\u043a\\u0438\\u0435)\",\"Q1 (\\u0420\\u0435\\u0434\\u043a\\u0438\\u0435)\",\"Q1 (\\u0420\\u0435\\u0434\\u043a\\u0438\\u0435)\",\"Q1 (\\u0420\\u0435\\u0434\\u043a\\u0438\\u0435)\",\"Q1 (\\u0420\\u0435\\u0434\\u043a\\u0438\\u0435)\",\"Q1 (\\u0420\\u0435\\u0434\\u043a\\u0438\\u0435)\",\"Q1 (\\u0420\\u0435\\u0434\\u043a\\u0438\\u0435)\",\"Q1 (\\u0420\\u0435\\u0434\\u043a\\u0438\\u0435)\",\"Q1 (\\u0420\\u0435\\u0434\\u043a\\u0438\\u0435)\",\"Q1 (\\u0420\\u0435\\u0434\\u043a\\u0438\\u0435)\",\"Q1 (\\u0420\\u0435\\u0434\\u043a\\u0438\\u0435)\",\"Q1 (\\u0420\\u0435\\u0434\\u043a\\u0438\\u0435)\",\"Q1 (\\u0420\\u0435\\u0434\\u043a\\u0438\\u0435)\",\"Q1 (\\u0420\\u0435\\u0434\\u043a\\u0438\\u0435)\",\"Q1 (\\u0420\\u0435\\u0434\\u043a\\u0438\\u0435)\",\"Q1 (\\u0420\\u0435\\u0434\\u043a\\u0438\\u0435)\",\"Q1 (\\u0420\\u0435\\u0434\\u043a\\u0438\\u0435)\",\"Q1 (\\u0420\\u0435\\u0434\\u043a\\u0438\\u0435)\",\"Q1 (\\u0420\\u0435\\u0434\\u043a\\u0438\\u0435)\",\"Q1 (\\u0420\\u0435\\u0434\\u043a\\u0438\\u0435)\",\"Q1 (\\u0420\\u0435\\u0434\\u043a\\u0438\\u0435)\",\"Q1 (\\u0420\\u0435\\u0434\\u043a\\u0438\\u0435)\",\"Q1 (\\u0420\\u0435\\u0434\\u043a\\u0438\\u0435)\",\"Q1 (\\u0420\\u0435\\u0434\\u043a\\u0438\\u0435)\",\"Q1 (\\u0420\\u0435\\u0434\\u043a\\u0438\\u0435)\",\"Q1 (\\u0420\\u0435\\u0434\\u043a\\u0438\\u0435)\",\"Q1 (\\u0420\\u0435\\u0434\\u043a\\u0438\\u0435)\",\"Q1 (\\u0420\\u0435\\u0434\\u043a\\u0438\\u0435)\",\"Q1 (\\u0420\\u0435\\u0434\\u043a\\u0438\\u0435)\",\"Q1 (\\u0420\\u0435\\u0434\\u043a\\u0438\\u0435)\",\"Q1 (\\u0420\\u0435\\u0434\\u043a\\u0438\\u0435)\",\"Q1 (\\u0420\\u0435\\u0434\\u043a\\u0438\\u0435)\",\"Q1 (\\u0420\\u0435\\u0434\\u043a\\u0438\\u0435)\",\"Q1 (\\u0420\\u0435\\u0434\\u043a\\u0438\\u0435)\",\"Q1 (\\u0420\\u0435\\u0434\\u043a\\u0438\\u0435)\",\"Q1 (\\u0420\\u0435\\u0434\\u043a\\u0438\\u0435)\",\"Q1 (\\u0420\\u0435\\u0434\\u043a\\u0438\\u0435)\",\"Q1 (\\u0420\\u0435\\u0434\\u043a\\u0438\\u0435)\",\"Q1 (\\u0420\\u0435\\u0434\\u043a\\u0438\\u0435)\",\"Q1 (\\u0420\\u0435\\u0434\\u043a\\u0438\\u0435)\",\"Q1 (\\u0420\\u0435\\u0434\\u043a\\u0438\\u0435)\",\"Q1 (\\u0420\\u0435\\u0434\\u043a\\u0438\\u0435)\",\"Q1 (\\u0420\\u0435\\u0434\\u043a\\u0438\\u0435)\",\"Q1 (\\u0420\\u0435\\u0434\\u043a\\u0438\\u0435)\",\"Q1 (\\u0420\\u0435\\u0434\\u043a\\u0438\\u0435)\",\"Q1 (\\u0420\\u0435\\u0434\\u043a\\u0438\\u0435)\",\"Q1 (\\u0420\\u0435\\u0434\\u043a\\u0438\\u0435)\",\"Q1 (\\u0420\\u0435\\u0434\\u043a\\u0438\\u0435)\",\"Q1 (\\u0420\\u0435\\u0434\\u043a\\u0438\\u0435)\",\"Q1 (\\u0420\\u0435\\u0434\\u043a\\u0438\\u0435)\",\"Q1 (\\u0420\\u0435\\u0434\\u043a\\u0438\\u0435)\",\"Q1 (\\u0420\\u0435\\u0434\\u043a\\u0438\\u0435)\",\"Q1 (\\u0420\\u0435\\u0434\\u043a\\u0438\\u0435)\",\"Q1 (\\u0420\\u0435\\u0434\\u043a\\u0438\\u0435)\",\"Q1 (\\u0420\\u0435\\u0434\\u043a\\u0438\\u0435)\",\"Q1 (\\u0420\\u0435\\u0434\\u043a\\u0438\\u0435)\",\"Q1 (\\u0420\\u0435\\u0434\\u043a\\u0438\\u0435)\",\"Q1 (\\u0420\\u0435\\u0434\\u043a\\u0438\\u0435)\",\"Q1 (\\u0420\\u0435\\u0434\\u043a\\u0438\\u0435)\",\"Q1 (\\u0420\\u0435\\u0434\\u043a\\u0438\\u0435)\",\"Q1 (\\u0420\\u0435\\u0434\\u043a\\u0438\\u0435)\",\"Q1 (\\u0420\\u0435\\u0434\\u043a\\u0438\\u0435)\",\"Q1 (\\u0420\\u0435\\u0434\\u043a\\u0438\\u0435)\",\"Q1 (\\u0420\\u0435\\u0434\\u043a\\u0438\\u0435)\",\"Q1 (\\u0420\\u0435\\u0434\\u043a\\u0438\\u0435)\",\"Q1 (\\u0420\\u0435\\u0434\\u043a\\u0438\\u0435)\",\"Q1 (\\u0420\\u0435\\u0434\\u043a\\u0438\\u0435)\",\"Q1 (\\u0420\\u0435\\u0434\\u043a\\u0438\\u0435)\",\"Q1 (\\u0420\\u0435\\u0434\\u043a\\u0438\\u0435)\",\"Q1 (\\u0420\\u0435\\u0434\\u043a\\u0438\\u0435)\",\"Q1 (\\u0420\\u0435\\u0434\\u043a\\u0438\\u0435)\",\"Q1 (\\u0420\\u0435\\u0434\\u043a\\u0438\\u0435)\",\"Q1 (\\u0420\\u0435\\u0434\\u043a\\u0438\\u0435)\",\"Q1 (\\u0420\\u0435\\u0434\\u043a\\u0438\\u0435)\",\"Q1 (\\u0420\\u0435\\u0434\\u043a\\u0438\\u0435)\",\"Q1 (\\u0420\\u0435\\u0434\\u043a\\u0438\\u0435)\",\"Q1 (\\u0420\\u0435\\u0434\\u043a\\u0438\\u0435)\",\"Q1 (\\u0420\\u0435\\u0434\\u043a\\u0438\\u0435)\",\"Q1 (\\u0420\\u0435\\u0434\\u043a\\u0438\\u0435)\",\"Q1 (\\u0420\\u0435\\u0434\\u043a\\u0438\\u0435)\",\"Q1 (\\u0420\\u0435\\u0434\\u043a\\u0438\\u0435)\",\"Q1 (\\u0420\\u0435\\u0434\\u043a\\u0438\\u0435)\",\"Q1 (\\u0420\\u0435\\u0434\\u043a\\u0438\\u0435)\",\"Q1 (\\u0420\\u0435\\u0434\\u043a\\u0438\\u0435)\",\"Q1 (\\u0420\\u0435\\u0434\\u043a\\u0438\\u0435)\",\"Q1 (\\u0420\\u0435\\u0434\\u043a\\u0438\\u0435)\",\"Q1 (\\u0420\\u0435\\u0434\\u043a\\u0438\\u0435)\",\"Q1 (\\u0420\\u0435\\u0434\\u043a\\u0438\\u0435)\",\"Q1 (\\u0420\\u0435\\u0434\\u043a\\u0438\\u0435)\",\"Q1 (\\u0420\\u0435\\u0434\\u043a\\u0438\\u0435)\",\"Q1 (\\u0420\\u0435\\u0434\\u043a\\u0438\\u0435)\",\"Q1 (\\u0420\\u0435\\u0434\\u043a\\u0438\\u0435)\",\"Q1 (\\u0420\\u0435\\u0434\\u043a\\u0438\\u0435)\",\"Q1 (\\u0420\\u0435\\u0434\\u043a\\u0438\\u0435)\",\"Q1 (\\u0420\\u0435\\u0434\\u043a\\u0438\\u0435)\",\"Q1 (\\u0420\\u0435\\u0434\\u043a\\u0438\\u0435)\",\"Q1 (\\u0420\\u0435\\u0434\\u043a\\u0438\\u0435)\",\"Q1 (\\u0420\\u0435\\u0434\\u043a\\u0438\\u0435)\",\"Q1 (\\u0420\\u0435\\u0434\\u043a\\u0438\\u0435)\",\"Q1 (\\u0420\\u0435\\u0434\\u043a\\u0438\\u0435)\",\"Q1 (\\u0420\\u0435\\u0434\\u043a\\u0438\\u0435)\",\"Q1 (\\u0420\\u0435\\u0434\\u043a\\u0438\\u0435)\",\"Q1 (\\u0420\\u0435\\u0434\\u043a\\u0438\\u0435)\",\"Q1 (\\u0420\\u0435\\u0434\\u043a\\u0438\\u0435)\",\"Q1 (\\u0420\\u0435\\u0434\\u043a\\u0438\\u0435)\",\"Q1 (\\u0420\\u0435\\u0434\\u043a\\u0438\\u0435)\",\"Q1 (\\u0420\\u0435\\u0434\\u043a\\u0438\\u0435)\",\"Q1 (\\u0420\\u0435\\u0434\\u043a\\u0438\\u0435)\",\"Q1 (\\u0420\\u0435\\u0434\\u043a\\u0438\\u0435)\",\"Q1 (\\u0420\\u0435\\u0434\\u043a\\u0438\\u0435)\",\"Q1 (\\u0420\\u0435\\u0434\\u043a\\u0438\\u0435)\",\"Q1 (\\u0420\\u0435\\u0434\\u043a\\u0438\\u0435)\",\"Q1 (\\u0420\\u0435\\u0434\\u043a\\u0438\\u0435)\",\"Q1 (\\u0420\\u0435\\u0434\\u043a\\u0438\\u0435)\",\"Q1 (\\u0420\\u0435\\u0434\\u043a\\u0438\\u0435)\",\"Q1 (\\u0420\\u0435\\u0434\\u043a\\u0438\\u0435)\",\"Q1 (\\u0420\\u0435\\u0434\\u043a\\u0438\\u0435)\",\"Q1 (\\u0420\\u0435\\u0434\\u043a\\u0438\\u0435)\",\"Q1 (\\u0420\\u0435\\u0434\\u043a\\u0438\\u0435)\",\"Q1 (\\u0420\\u0435\\u0434\\u043a\\u0438\\u0435)\",\"Q1 (\\u0420\\u0435\\u0434\\u043a\\u0438\\u0435)\",\"Q1 (\\u0420\\u0435\\u0434\\u043a\\u0438\\u0435)\",\"Q1 (\\u0420\\u0435\\u0434\\u043a\\u0438\\u0435)\",\"Q1 (\\u0420\\u0435\\u0434\\u043a\\u0438\\u0435)\",\"Q1 (\\u0420\\u0435\\u0434\\u043a\\u0438\\u0435)\",\"Q1 (\\u0420\\u0435\\u0434\\u043a\\u0438\\u0435)\",\"Q1 (\\u0420\\u0435\\u0434\\u043a\\u0438\\u0435)\",\"Q1 (\\u0420\\u0435\\u0434\\u043a\\u0438\\u0435)\",\"Q1 (\\u0420\\u0435\\u0434\\u043a\\u0438\\u0435)\",\"Q1 (\\u0420\\u0435\\u0434\\u043a\\u0438\\u0435)\",\"Q1 (\\u0420\\u0435\\u0434\\u043a\\u0438\\u0435)\",\"Q1 (\\u0420\\u0435\\u0434\\u043a\\u0438\\u0435)\",\"Q1 (\\u0420\\u0435\\u0434\\u043a\\u0438\\u0435)\",\"Q1 (\\u0420\\u0435\\u0434\\u043a\\u0438\\u0435)\",\"Q1 (\\u0420\\u0435\\u0434\\u043a\\u0438\\u0435)\",\"Q1 (\\u0420\\u0435\\u0434\\u043a\\u0438\\u0435)\",\"Q1 (\\u0420\\u0435\\u0434\\u043a\\u0438\\u0435)\",\"Q1 (\\u0420\\u0435\\u0434\\u043a\\u0438\\u0435)\",\"Q1 (\\u0420\\u0435\\u0434\\u043a\\u0438\\u0435)\",\"Q1 (\\u0420\\u0435\\u0434\\u043a\\u0438\\u0435)\",\"Q1 (\\u0420\\u0435\\u0434\\u043a\\u0438\\u0435)\",\"Q1 (\\u0420\\u0435\\u0434\\u043a\\u0438\\u0435)\",\"Q1 (\\u0420\\u0435\\u0434\\u043a\\u0438\\u0435)\",\"Q1 (\\u0420\\u0435\\u0434\\u043a\\u0438\\u0435)\",\"Q1 (\\u0420\\u0435\\u0434\\u043a\\u0438\\u0435)\",\"Q1 (\\u0420\\u0435\\u0434\\u043a\\u0438\\u0435)\",\"Q1 (\\u0420\\u0435\\u0434\\u043a\\u0438\\u0435)\",\"Q1 (\\u0420\\u0435\\u0434\\u043a\\u0438\\u0435)\",\"Q1 (\\u0420\\u0435\\u0434\\u043a\\u0438\\u0435)\",\"Q1 (\\u0420\\u0435\\u0434\\u043a\\u0438\\u0435)\",\"Q1 (\\u0420\\u0435\\u0434\\u043a\\u0438\\u0435)\",\"Q1 (\\u0420\\u0435\\u0434\\u043a\\u0438\\u0435)\",\"Q1 (\\u0420\\u0435\\u0434\\u043a\\u0438\\u0435)\",\"Q1 (\\u0420\\u0435\\u0434\\u043a\\u0438\\u0435)\",\"Q1 (\\u0420\\u0435\\u0434\\u043a\\u0438\\u0435)\",\"Q1 (\\u0420\\u0435\\u0434\\u043a\\u0438\\u0435)\",\"Q1 (\\u0420\\u0435\\u0434\\u043a\\u0438\\u0435)\",\"Q1 (\\u0420\\u0435\\u0434\\u043a\\u0438\\u0435)\",\"Q1 (\\u0420\\u0435\\u0434\\u043a\\u0438\\u0435)\",\"Q1 (\\u0420\\u0435\\u0434\\u043a\\u0438\\u0435)\",\"Q1 (\\u0420\\u0435\\u0434\\u043a\\u0438\\u0435)\",\"Q1 (\\u0420\\u0435\\u0434\\u043a\\u0438\\u0435)\",\"Q1 (\\u0420\\u0435\\u0434\\u043a\\u0438\\u0435)\",\"Q1 (\\u0420\\u0435\\u0434\\u043a\\u0438\\u0435)\",\"Q1 (\\u0420\\u0435\\u0434\\u043a\\u0438\\u0435)\",\"Q1 (\\u0420\\u0435\\u0434\\u043a\\u0438\\u0435)\",\"Q1 (\\u0420\\u0435\\u0434\\u043a\\u0438\\u0435)\",\"Q1 (\\u0420\\u0435\\u0434\\u043a\\u0438\\u0435)\",\"Q1 (\\u0420\\u0435\\u0434\\u043a\\u0438\\u0435)\",\"Q1 (\\u0420\\u0435\\u0434\\u043a\\u0438\\u0435)\",\"Q1 (\\u0420\\u0435\\u0434\\u043a\\u0438\\u0435)\",\"Q1 (\\u0420\\u0435\\u0434\\u043a\\u0438\\u0435)\",\"Q1 (\\u0420\\u0435\\u0434\\u043a\\u0438\\u0435)\",\"Q1 (\\u0420\\u0435\\u0434\\u043a\\u0438\\u0435)\",\"Q1 (\\u0420\\u0435\\u0434\\u043a\\u0438\\u0435)\",\"Q1 (\\u0420\\u0435\\u0434\\u043a\\u0438\\u0435)\",\"Q1 (\\u0420\\u0435\\u0434\\u043a\\u0438\\u0435)\",\"Q1 (\\u0420\\u0435\\u0434\\u043a\\u0438\\u0435)\",\"Q1 (\\u0420\\u0435\\u0434\\u043a\\u0438\\u0435)\",\"Q1 (\\u0420\\u0435\\u0434\\u043a\\u0438\\u0435)\",\"Q1 (\\u0420\\u0435\\u0434\\u043a\\u0438\\u0435)\",\"Q1 (\\u0420\\u0435\\u0434\\u043a\\u0438\\u0435)\",\"Q1 (\\u0420\\u0435\\u0434\\u043a\\u0438\\u0435)\",\"Q1 (\\u0420\\u0435\\u0434\\u043a\\u0438\\u0435)\",\"Q1 (\\u0420\\u0435\\u0434\\u043a\\u0438\\u0435)\",\"Q1 (\\u0420\\u0435\\u0434\\u043a\\u0438\\u0435)\",\"Q1 (\\u0420\\u0435\\u0434\\u043a\\u0438\\u0435)\",\"Q1 (\\u0420\\u0435\\u0434\\u043a\\u0438\\u0435)\",\"Q1 (\\u0420\\u0435\\u0434\\u043a\\u0438\\u0435)\",\"Q1 (\\u0420\\u0435\\u0434\\u043a\\u0438\\u0435)\",\"Q1 (\\u0420\\u0435\\u0434\\u043a\\u0438\\u0435)\",\"Q1 (\\u0420\\u0435\\u0434\\u043a\\u0438\\u0435)\",\"Q1 (\\u0420\\u0435\\u0434\\u043a\\u0438\\u0435)\",\"Q1 (\\u0420\\u0435\\u0434\\u043a\\u0438\\u0435)\",\"Q1 (\\u0420\\u0435\\u0434\\u043a\\u0438\\u0435)\"],\"xaxis\":\"x\",\"y\":[1.738,1.774,1.138,1.515,1.646,1.772,1.153,1.928,1.764,0.819,1.599,1.377,1.791,1.402,1.582,1.403,1.997,1.05,1.06,1.044,1.325,1.546,1.435,1.738,1.926,1.022,1.249,1.762,1.986,1.879,1.977,1.552,1.709,1.6,1.381,1.403,1.387,1.279,1.144,1.572,1.608,1.935,1.936,1.872,1.459,1.433,1.742,1.948,1.425,1.444,1.841,1.92,1.522,1.775,1.936,1.755,0.785,1.525,1.959,1.319,1.518,1.004,1.618,1.663,1.967,1.595,0.0,1.389,1.356,1.598,1.472,1.933,1.204,1.407,1.409,1.802,1.305,1.484,1.881,1.711,1.928,1.212,1.404,1.446,1.692,1.841,1.61,1.757,1.18,1.755,1.66,1.422,1.021,1.91,1.299,1.843,0.711,1.867,1.539,1.73,1.111,1.568,1.878,1.423,1.653,1.948,1.811,1.674,0.833,1.333,1.833,1.859,1.487,1.614,1.656,0.741,0.0,1.762,1.8,1.46,1.11,1.433,0.85,1.251,1.6,1.888,1.948,1.958,1.103,2.005,1.775,1.364,1.672,1.282,1.648,1.764,0.0,1.691,0.033,0.878,1.884,1.241,1.611,1.875,1.608,1.847,1.9,1.556,1.274,1.282,1.783,1.539,1.506,1.869,1.938,1.02,1.488,1.145,1.726,1.638,1.664,1.983,1.667,1.872,1.0,1.349,1.41,0.433,0.929,1.639,1.384,1.543,1.414,1.91,1.645,1.924,1.915,1.66,1.243,1.388,1.21,1.363,0.0,1.394,0.877,1.122,1.874,0.013,1.208,0.0,1.952,0.0,0.0,0.0,0.0,0.921,0.0,0.0,0.0],\"yaxis\":\"y\",\"type\":\"bar\"},{\"alignmentgroup\":\"True\",\"hovertemplate\":\"quantile_pf_month=%{x}<br>pf_month=%{y}<extra></extra>\",\"legendgroup\":\"Q2 (\\u0423\\u043c\\u0435\\u0440\\u0435\\u043d\\u043d\\u044b\\u0435)\",\"marker\":{\"color\":\"#EF553B\",\"pattern\":{\"shape\":\"\"}},\"name\":\"Q2 (\\u0423\\u043c\\u0435\\u0440\\u0435\\u043d\\u043d\\u044b\\u0435)\",\"offsetgroup\":\"Q2 (\\u0423\\u043c\\u0435\\u0440\\u0435\\u043d\\u043d\\u044b\\u0435)\",\"orientation\":\"v\",\"showlegend\":true,\"textposition\":\"auto\",\"x\":[\"Q2 (\\u0423\\u043c\\u0435\\u0440\\u0435\\u043d\\u043d\\u044b\\u0435)\",\"Q2 (\\u0423\\u043c\\u0435\\u0440\\u0435\\u043d\\u043d\\u044b\\u0435)\",\"Q2 (\\u0423\\u043c\\u0435\\u0440\\u0435\\u043d\\u043d\\u044b\\u0435)\",\"Q2 (\\u0423\\u043c\\u0435\\u0440\\u0435\\u043d\\u043d\\u044b\\u0435)\",\"Q2 (\\u0423\\u043c\\u0435\\u0440\\u0435\\u043d\\u043d\\u044b\\u0435)\",\"Q2 (\\u0423\\u043c\\u0435\\u0440\\u0435\\u043d\\u043d\\u044b\\u0435)\",\"Q2 (\\u0423\\u043c\\u0435\\u0440\\u0435\\u043d\\u043d\\u044b\\u0435)\",\"Q2 (\\u0423\\u043c\\u0435\\u0440\\u0435\\u043d\\u043d\\u044b\\u0435)\",\"Q2 (\\u0423\\u043c\\u0435\\u0440\\u0435\\u043d\\u043d\\u044b\\u0435)\",\"Q2 (\\u0423\\u043c\\u0435\\u0440\\u0435\\u043d\\u043d\\u044b\\u0435)\",\"Q2 (\\u0423\\u043c\\u0435\\u0440\\u0435\\u043d\\u043d\\u044b\\u0435)\",\"Q2 (\\u0423\\u043c\\u0435\\u0440\\u0435\\u043d\\u043d\\u044b\\u0435)\",\"Q2 (\\u0423\\u043c\\u0435\\u0440\\u0435\\u043d\\u043d\\u044b\\u0435)\",\"Q2 (\\u0423\\u043c\\u0435\\u0440\\u0435\\u043d\\u043d\\u044b\\u0435)\",\"Q2 (\\u0423\\u043c\\u0435\\u0440\\u0435\\u043d\\u043d\\u044b\\u0435)\",\"Q2 (\\u0423\\u043c\\u0435\\u0440\\u0435\\u043d\\u043d\\u044b\\u0435)\",\"Q2 (\\u0423\\u043c\\u0435\\u0440\\u0435\\u043d\\u043d\\u044b\\u0435)\",\"Q2 (\\u0423\\u043c\\u0435\\u0440\\u0435\\u043d\\u043d\\u044b\\u0435)\",\"Q2 (\\u0423\\u043c\\u0435\\u0440\\u0435\\u043d\\u043d\\u044b\\u0435)\",\"Q2 (\\u0423\\u043c\\u0435\\u0440\\u0435\\u043d\\u043d\\u044b\\u0435)\",\"Q2 (\\u0423\\u043c\\u0435\\u0440\\u0435\\u043d\\u043d\\u044b\\u0435)\",\"Q2 (\\u0423\\u043c\\u0435\\u0440\\u0435\\u043d\\u043d\\u044b\\u0435)\",\"Q2 (\\u0423\\u043c\\u0435\\u0440\\u0435\\u043d\\u043d\\u044b\\u0435)\",\"Q2 (\\u0423\\u043c\\u0435\\u0440\\u0435\\u043d\\u043d\\u044b\\u0435)\",\"Q2 (\\u0423\\u043c\\u0435\\u0440\\u0435\\u043d\\u043d\\u044b\\u0435)\",\"Q2 (\\u0423\\u043c\\u0435\\u0440\\u0435\\u043d\\u043d\\u044b\\u0435)\",\"Q2 (\\u0423\\u043c\\u0435\\u0440\\u0435\\u043d\\u043d\\u044b\\u0435)\",\"Q2 (\\u0423\\u043c\\u0435\\u0440\\u0435\\u043d\\u043d\\u044b\\u0435)\",\"Q2 (\\u0423\\u043c\\u0435\\u0440\\u0435\\u043d\\u043d\\u044b\\u0435)\",\"Q2 (\\u0423\\u043c\\u0435\\u0440\\u0435\\u043d\\u043d\\u044b\\u0435)\",\"Q2 (\\u0423\\u043c\\u0435\\u0440\\u0435\\u043d\\u043d\\u044b\\u0435)\",\"Q2 (\\u0423\\u043c\\u0435\\u0440\\u0435\\u043d\\u043d\\u044b\\u0435)\",\"Q2 (\\u0423\\u043c\\u0435\\u0440\\u0435\\u043d\\u043d\\u044b\\u0435)\",\"Q2 (\\u0423\\u043c\\u0435\\u0440\\u0435\\u043d\\u043d\\u044b\\u0435)\",\"Q2 (\\u0423\\u043c\\u0435\\u0440\\u0435\\u043d\\u043d\\u044b\\u0435)\",\"Q2 (\\u0423\\u043c\\u0435\\u0440\\u0435\\u043d\\u043d\\u044b\\u0435)\",\"Q2 (\\u0423\\u043c\\u0435\\u0440\\u0435\\u043d\\u043d\\u044b\\u0435)\",\"Q2 (\\u0423\\u043c\\u0435\\u0440\\u0435\\u043d\\u043d\\u044b\\u0435)\",\"Q2 (\\u0423\\u043c\\u0435\\u0440\\u0435\\u043d\\u043d\\u044b\\u0435)\",\"Q2 (\\u0423\\u043c\\u0435\\u0440\\u0435\\u043d\\u043d\\u044b\\u0435)\",\"Q2 (\\u0423\\u043c\\u0435\\u0440\\u0435\\u043d\\u043d\\u044b\\u0435)\",\"Q2 (\\u0423\\u043c\\u0435\\u0440\\u0435\\u043d\\u043d\\u044b\\u0435)\",\"Q2 (\\u0423\\u043c\\u0435\\u0440\\u0435\\u043d\\u043d\\u044b\\u0435)\",\"Q2 (\\u0423\\u043c\\u0435\\u0440\\u0435\\u043d\\u043d\\u044b\\u0435)\",\"Q2 (\\u0423\\u043c\\u0435\\u0440\\u0435\\u043d\\u043d\\u044b\\u0435)\",\"Q2 (\\u0423\\u043c\\u0435\\u0440\\u0435\\u043d\\u043d\\u044b\\u0435)\",\"Q2 (\\u0423\\u043c\\u0435\\u0440\\u0435\\u043d\\u043d\\u044b\\u0435)\",\"Q2 (\\u0423\\u043c\\u0435\\u0440\\u0435\\u043d\\u043d\\u044b\\u0435)\",\"Q2 (\\u0423\\u043c\\u0435\\u0440\\u0435\\u043d\\u043d\\u044b\\u0435)\",\"Q2 (\\u0423\\u043c\\u0435\\u0440\\u0435\\u043d\\u043d\\u044b\\u0435)\",\"Q2 (\\u0423\\u043c\\u0435\\u0440\\u0435\\u043d\\u043d\\u044b\\u0435)\",\"Q2 (\\u0423\\u043c\\u0435\\u0440\\u0435\\u043d\\u043d\\u044b\\u0435)\",\"Q2 (\\u0423\\u043c\\u0435\\u0440\\u0435\\u043d\\u043d\\u044b\\u0435)\",\"Q2 (\\u0423\\u043c\\u0435\\u0440\\u0435\\u043d\\u043d\\u044b\\u0435)\",\"Q2 (\\u0423\\u043c\\u0435\\u0440\\u0435\\u043d\\u043d\\u044b\\u0435)\",\"Q2 (\\u0423\\u043c\\u0435\\u0440\\u0435\\u043d\\u043d\\u044b\\u0435)\",\"Q2 (\\u0423\\u043c\\u0435\\u0440\\u0435\\u043d\\u043d\\u044b\\u0435)\",\"Q2 (\\u0423\\u043c\\u0435\\u0440\\u0435\\u043d\\u043d\\u044b\\u0435)\",\"Q2 (\\u0423\\u043c\\u0435\\u0440\\u0435\\u043d\\u043d\\u044b\\u0435)\",\"Q2 (\\u0423\\u043c\\u0435\\u0440\\u0435\\u043d\\u043d\\u044b\\u0435)\",\"Q2 (\\u0423\\u043c\\u0435\\u0440\\u0435\\u043d\\u043d\\u044b\\u0435)\",\"Q2 (\\u0423\\u043c\\u0435\\u0440\\u0435\\u043d\\u043d\\u044b\\u0435)\",\"Q2 (\\u0423\\u043c\\u0435\\u0440\\u0435\\u043d\\u043d\\u044b\\u0435)\",\"Q2 (\\u0423\\u043c\\u0435\\u0440\\u0435\\u043d\\u043d\\u044b\\u0435)\",\"Q2 (\\u0423\\u043c\\u0435\\u0440\\u0435\\u043d\\u043d\\u044b\\u0435)\",\"Q2 (\\u0423\\u043c\\u0435\\u0440\\u0435\\u043d\\u043d\\u044b\\u0435)\",\"Q2 (\\u0423\\u043c\\u0435\\u0440\\u0435\\u043d\\u043d\\u044b\\u0435)\",\"Q2 (\\u0423\\u043c\\u0435\\u0440\\u0435\\u043d\\u043d\\u044b\\u0435)\",\"Q2 (\\u0423\\u043c\\u0435\\u0440\\u0435\\u043d\\u043d\\u044b\\u0435)\",\"Q2 (\\u0423\\u043c\\u0435\\u0440\\u0435\\u043d\\u043d\\u044b\\u0435)\",\"Q2 (\\u0423\\u043c\\u0435\\u0440\\u0435\\u043d\\u043d\\u044b\\u0435)\",\"Q2 (\\u0423\\u043c\\u0435\\u0440\\u0435\\u043d\\u043d\\u044b\\u0435)\",\"Q2 (\\u0423\\u043c\\u0435\\u0440\\u0435\\u043d\\u043d\\u044b\\u0435)\",\"Q2 (\\u0423\\u043c\\u0435\\u0440\\u0435\\u043d\\u043d\\u044b\\u0435)\",\"Q2 (\\u0423\\u043c\\u0435\\u0440\\u0435\\u043d\\u043d\\u044b\\u0435)\",\"Q2 (\\u0423\\u043c\\u0435\\u0440\\u0435\\u043d\\u043d\\u044b\\u0435)\",\"Q2 (\\u0423\\u043c\\u0435\\u0440\\u0435\\u043d\\u043d\\u044b\\u0435)\",\"Q2 (\\u0423\\u043c\\u0435\\u0440\\u0435\\u043d\\u043d\\u044b\\u0435)\",\"Q2 (\\u0423\\u043c\\u0435\\u0440\\u0435\\u043d\\u043d\\u044b\\u0435)\",\"Q2 (\\u0423\\u043c\\u0435\\u0440\\u0435\\u043d\\u043d\\u044b\\u0435)\",\"Q2 (\\u0423\\u043c\\u0435\\u0440\\u0435\\u043d\\u043d\\u044b\\u0435)\",\"Q2 (\\u0423\\u043c\\u0435\\u0440\\u0435\\u043d\\u043d\\u044b\\u0435)\",\"Q2 (\\u0423\\u043c\\u0435\\u0440\\u0435\\u043d\\u043d\\u044b\\u0435)\",\"Q2 (\\u0423\\u043c\\u0435\\u0440\\u0435\\u043d\\u043d\\u044b\\u0435)\",\"Q2 (\\u0423\\u043c\\u0435\\u0440\\u0435\\u043d\\u043d\\u044b\\u0435)\",\"Q2 (\\u0423\\u043c\\u0435\\u0440\\u0435\\u043d\\u043d\\u044b\\u0435)\",\"Q2 (\\u0423\\u043c\\u0435\\u0440\\u0435\\u043d\\u043d\\u044b\\u0435)\",\"Q2 (\\u0423\\u043c\\u0435\\u0440\\u0435\\u043d\\u043d\\u044b\\u0435)\",\"Q2 (\\u0423\\u043c\\u0435\\u0440\\u0435\\u043d\\u043d\\u044b\\u0435)\",\"Q2 (\\u0423\\u043c\\u0435\\u0440\\u0435\\u043d\\u043d\\u044b\\u0435)\",\"Q2 (\\u0423\\u043c\\u0435\\u0440\\u0435\\u043d\\u043d\\u044b\\u0435)\",\"Q2 (\\u0423\\u043c\\u0435\\u0440\\u0435\\u043d\\u043d\\u044b\\u0435)\",\"Q2 (\\u0423\\u043c\\u0435\\u0440\\u0435\\u043d\\u043d\\u044b\\u0435)\",\"Q2 (\\u0423\\u043c\\u0435\\u0440\\u0435\\u043d\\u043d\\u044b\\u0435)\",\"Q2 (\\u0423\\u043c\\u0435\\u0440\\u0435\\u043d\\u043d\\u044b\\u0435)\",\"Q2 (\\u0423\\u043c\\u0435\\u0440\\u0435\\u043d\\u043d\\u044b\\u0435)\",\"Q2 (\\u0423\\u043c\\u0435\\u0440\\u0435\\u043d\\u043d\\u044b\\u0435)\",\"Q2 (\\u0423\\u043c\\u0435\\u0440\\u0435\\u043d\\u043d\\u044b\\u0435)\",\"Q2 (\\u0423\\u043c\\u0435\\u0440\\u0435\\u043d\\u043d\\u044b\\u0435)\",\"Q2 (\\u0423\\u043c\\u0435\\u0440\\u0435\\u043d\\u043d\\u044b\\u0435)\",\"Q2 (\\u0423\\u043c\\u0435\\u0440\\u0435\\u043d\\u043d\\u044b\\u0435)\",\"Q2 (\\u0423\\u043c\\u0435\\u0440\\u0435\\u043d\\u043d\\u044b\\u0435)\",\"Q2 (\\u0423\\u043c\\u0435\\u0440\\u0435\\u043d\\u043d\\u044b\\u0435)\",\"Q2 (\\u0423\\u043c\\u0435\\u0440\\u0435\\u043d\\u043d\\u044b\\u0435)\",\"Q2 (\\u0423\\u043c\\u0435\\u0440\\u0435\\u043d\\u043d\\u044b\\u0435)\",\"Q2 (\\u0423\\u043c\\u0435\\u0440\\u0435\\u043d\\u043d\\u044b\\u0435)\",\"Q2 (\\u0423\\u043c\\u0435\\u0440\\u0435\\u043d\\u043d\\u044b\\u0435)\",\"Q2 (\\u0423\\u043c\\u0435\\u0440\\u0435\\u043d\\u043d\\u044b\\u0435)\",\"Q2 (\\u0423\\u043c\\u0435\\u0440\\u0435\\u043d\\u043d\\u044b\\u0435)\",\"Q2 (\\u0423\\u043c\\u0435\\u0440\\u0435\\u043d\\u043d\\u044b\\u0435)\",\"Q2 (\\u0423\\u043c\\u0435\\u0440\\u0435\\u043d\\u043d\\u044b\\u0435)\",\"Q2 (\\u0423\\u043c\\u0435\\u0440\\u0435\\u043d\\u043d\\u044b\\u0435)\",\"Q2 (\\u0423\\u043c\\u0435\\u0440\\u0435\\u043d\\u043d\\u044b\\u0435)\",\"Q2 (\\u0423\\u043c\\u0435\\u0440\\u0435\\u043d\\u043d\\u044b\\u0435)\",\"Q2 (\\u0423\\u043c\\u0435\\u0440\\u0435\\u043d\\u043d\\u044b\\u0435)\",\"Q2 (\\u0423\\u043c\\u0435\\u0440\\u0435\\u043d\\u043d\\u044b\\u0435)\",\"Q2 (\\u0423\\u043c\\u0435\\u0440\\u0435\\u043d\\u043d\\u044b\\u0435)\",\"Q2 (\\u0423\\u043c\\u0435\\u0440\\u0435\\u043d\\u043d\\u044b\\u0435)\",\"Q2 (\\u0423\\u043c\\u0435\\u0440\\u0435\\u043d\\u043d\\u044b\\u0435)\",\"Q2 (\\u0423\\u043c\\u0435\\u0440\\u0435\\u043d\\u043d\\u044b\\u0435)\",\"Q2 (\\u0423\\u043c\\u0435\\u0440\\u0435\\u043d\\u043d\\u044b\\u0435)\",\"Q2 (\\u0423\\u043c\\u0435\\u0440\\u0435\\u043d\\u043d\\u044b\\u0435)\",\"Q2 (\\u0423\\u043c\\u0435\\u0440\\u0435\\u043d\\u043d\\u044b\\u0435)\",\"Q2 (\\u0423\\u043c\\u0435\\u0440\\u0435\\u043d\\u043d\\u044b\\u0435)\",\"Q2 (\\u0423\\u043c\\u0435\\u0440\\u0435\\u043d\\u043d\\u044b\\u0435)\",\"Q2 (\\u0423\\u043c\\u0435\\u0440\\u0435\\u043d\\u043d\\u044b\\u0435)\",\"Q2 (\\u0423\\u043c\\u0435\\u0440\\u0435\\u043d\\u043d\\u044b\\u0435)\",\"Q2 (\\u0423\\u043c\\u0435\\u0440\\u0435\\u043d\\u043d\\u044b\\u0435)\",\"Q2 (\\u0423\\u043c\\u0435\\u0440\\u0435\\u043d\\u043d\\u044b\\u0435)\",\"Q2 (\\u0423\\u043c\\u0435\\u0440\\u0435\\u043d\\u043d\\u044b\\u0435)\",\"Q2 (\\u0423\\u043c\\u0435\\u0440\\u0435\\u043d\\u043d\\u044b\\u0435)\",\"Q2 (\\u0423\\u043c\\u0435\\u0440\\u0435\\u043d\\u043d\\u044b\\u0435)\",\"Q2 (\\u0423\\u043c\\u0435\\u0440\\u0435\\u043d\\u043d\\u044b\\u0435)\",\"Q2 (\\u0423\\u043c\\u0435\\u0440\\u0435\\u043d\\u043d\\u044b\\u0435)\",\"Q2 (\\u0423\\u043c\\u0435\\u0440\\u0435\\u043d\\u043d\\u044b\\u0435)\",\"Q2 (\\u0423\\u043c\\u0435\\u0440\\u0435\\u043d\\u043d\\u044b\\u0435)\",\"Q2 (\\u0423\\u043c\\u0435\\u0440\\u0435\\u043d\\u043d\\u044b\\u0435)\",\"Q2 (\\u0423\\u043c\\u0435\\u0440\\u0435\\u043d\\u043d\\u044b\\u0435)\",\"Q2 (\\u0423\\u043c\\u0435\\u0440\\u0435\\u043d\\u043d\\u044b\\u0435)\",\"Q2 (\\u0423\\u043c\\u0435\\u0440\\u0435\\u043d\\u043d\\u044b\\u0435)\",\"Q2 (\\u0423\\u043c\\u0435\\u0440\\u0435\\u043d\\u043d\\u044b\\u0435)\",\"Q2 (\\u0423\\u043c\\u0435\\u0440\\u0435\\u043d\\u043d\\u044b\\u0435)\",\"Q2 (\\u0423\\u043c\\u0435\\u0440\\u0435\\u043d\\u043d\\u044b\\u0435)\",\"Q2 (\\u0423\\u043c\\u0435\\u0440\\u0435\\u043d\\u043d\\u044b\\u0435)\",\"Q2 (\\u0423\\u043c\\u0435\\u0440\\u0435\\u043d\\u043d\\u044b\\u0435)\",\"Q2 (\\u0423\\u043c\\u0435\\u0440\\u0435\\u043d\\u043d\\u044b\\u0435)\",\"Q2 (\\u0423\\u043c\\u0435\\u0440\\u0435\\u043d\\u043d\\u044b\\u0435)\",\"Q2 (\\u0423\\u043c\\u0435\\u0440\\u0435\\u043d\\u043d\\u044b\\u0435)\",\"Q2 (\\u0423\\u043c\\u0435\\u0440\\u0435\\u043d\\u043d\\u044b\\u0435)\",\"Q2 (\\u0423\\u043c\\u0435\\u0440\\u0435\\u043d\\u043d\\u044b\\u0435)\",\"Q2 (\\u0423\\u043c\\u0435\\u0440\\u0435\\u043d\\u043d\\u044b\\u0435)\",\"Q2 (\\u0423\\u043c\\u0435\\u0440\\u0435\\u043d\\u043d\\u044b\\u0435)\",\"Q2 (\\u0423\\u043c\\u0435\\u0440\\u0435\\u043d\\u043d\\u044b\\u0435)\",\"Q2 (\\u0423\\u043c\\u0435\\u0440\\u0435\\u043d\\u043d\\u044b\\u0435)\",\"Q2 (\\u0423\\u043c\\u0435\\u0440\\u0435\\u043d\\u043d\\u044b\\u0435)\",\"Q2 (\\u0423\\u043c\\u0435\\u0440\\u0435\\u043d\\u043d\\u044b\\u0435)\",\"Q2 (\\u0423\\u043c\\u0435\\u0440\\u0435\\u043d\\u043d\\u044b\\u0435)\",\"Q2 (\\u0423\\u043c\\u0435\\u0440\\u0435\\u043d\\u043d\\u044b\\u0435)\",\"Q2 (\\u0423\\u043c\\u0435\\u0440\\u0435\\u043d\\u043d\\u044b\\u0435)\",\"Q2 (\\u0423\\u043c\\u0435\\u0440\\u0435\\u043d\\u043d\\u044b\\u0435)\",\"Q2 (\\u0423\\u043c\\u0435\\u0440\\u0435\\u043d\\u043d\\u044b\\u0435)\",\"Q2 (\\u0423\\u043c\\u0435\\u0440\\u0435\\u043d\\u043d\\u044b\\u0435)\",\"Q2 (\\u0423\\u043c\\u0435\\u0440\\u0435\\u043d\\u043d\\u044b\\u0435)\",\"Q2 (\\u0423\\u043c\\u0435\\u0440\\u0435\\u043d\\u043d\\u044b\\u0435)\",\"Q2 (\\u0423\\u043c\\u0435\\u0440\\u0435\\u043d\\u043d\\u044b\\u0435)\",\"Q2 (\\u0423\\u043c\\u0435\\u0440\\u0435\\u043d\\u043d\\u044b\\u0435)\",\"Q2 (\\u0423\\u043c\\u0435\\u0440\\u0435\\u043d\\u043d\\u044b\\u0435)\",\"Q2 (\\u0423\\u043c\\u0435\\u0440\\u0435\\u043d\\u043d\\u044b\\u0435)\",\"Q2 (\\u0423\\u043c\\u0435\\u0440\\u0435\\u043d\\u043d\\u044b\\u0435)\",\"Q2 (\\u0423\\u043c\\u0435\\u0440\\u0435\\u043d\\u043d\\u044b\\u0435)\",\"Q2 (\\u0423\\u043c\\u0435\\u0440\\u0435\\u043d\\u043d\\u044b\\u0435)\",\"Q2 (\\u0423\\u043c\\u0435\\u0440\\u0435\\u043d\\u043d\\u044b\\u0435)\",\"Q2 (\\u0423\\u043c\\u0435\\u0440\\u0435\\u043d\\u043d\\u044b\\u0435)\",\"Q2 (\\u0423\\u043c\\u0435\\u0440\\u0435\\u043d\\u043d\\u044b\\u0435)\",\"Q2 (\\u0423\\u043c\\u0435\\u0440\\u0435\\u043d\\u043d\\u044b\\u0435)\",\"Q2 (\\u0423\\u043c\\u0435\\u0440\\u0435\\u043d\\u043d\\u044b\\u0435)\",\"Q2 (\\u0423\\u043c\\u0435\\u0440\\u0435\\u043d\\u043d\\u044b\\u0435)\",\"Q2 (\\u0423\\u043c\\u0435\\u0440\\u0435\\u043d\\u043d\\u044b\\u0435)\",\"Q2 (\\u0423\\u043c\\u0435\\u0440\\u0435\\u043d\\u043d\\u044b\\u0435)\",\"Q2 (\\u0423\\u043c\\u0435\\u0440\\u0435\\u043d\\u043d\\u044b\\u0435)\",\"Q2 (\\u0423\\u043c\\u0435\\u0440\\u0435\\u043d\\u043d\\u044b\\u0435)\",\"Q2 (\\u0423\\u043c\\u0435\\u0440\\u0435\\u043d\\u043d\\u044b\\u0435)\",\"Q2 (\\u0423\\u043c\\u0435\\u0440\\u0435\\u043d\\u043d\\u044b\\u0435)\",\"Q2 (\\u0423\\u043c\\u0435\\u0440\\u0435\\u043d\\u043d\\u044b\\u0435)\",\"Q2 (\\u0423\\u043c\\u0435\\u0440\\u0435\\u043d\\u043d\\u044b\\u0435)\",\"Q2 (\\u0423\\u043c\\u0435\\u0440\\u0435\\u043d\\u043d\\u044b\\u0435)\",\"Q2 (\\u0423\\u043c\\u0435\\u0440\\u0435\\u043d\\u043d\\u044b\\u0435)\",\"Q2 (\\u0423\\u043c\\u0435\\u0440\\u0435\\u043d\\u043d\\u044b\\u0435)\",\"Q2 (\\u0423\\u043c\\u0435\\u0440\\u0435\\u043d\\u043d\\u044b\\u0435)\",\"Q2 (\\u0423\\u043c\\u0435\\u0440\\u0435\\u043d\\u043d\\u044b\\u0435)\",\"Q2 (\\u0423\\u043c\\u0435\\u0440\\u0435\\u043d\\u043d\\u044b\\u0435)\",\"Q2 (\\u0423\\u043c\\u0435\\u0440\\u0435\\u043d\\u043d\\u044b\\u0435)\",\"Q2 (\\u0423\\u043c\\u0435\\u0440\\u0435\\u043d\\u043d\\u044b\\u0435)\",\"Q2 (\\u0423\\u043c\\u0435\\u0440\\u0435\\u043d\\u043d\\u044b\\u0435)\",\"Q2 (\\u0423\\u043c\\u0435\\u0440\\u0435\\u043d\\u043d\\u044b\\u0435)\",\"Q2 (\\u0423\\u043c\\u0435\\u0440\\u0435\\u043d\\u043d\\u044b\\u0435)\",\"Q2 (\\u0423\\u043c\\u0435\\u0440\\u0435\\u043d\\u043d\\u044b\\u0435)\",\"Q2 (\\u0423\\u043c\\u0435\\u0440\\u0435\\u043d\\u043d\\u044b\\u0435)\"],\"xaxis\":\"x\",\"y\":[2.026,2.498,2.078,2.202,2.684,2.61,2.729,2.494,2.169,2.127,2.544,2.373,2.141,2.151,2.658,2.029,2.492,2.593,2.091,2.096,2.551,2.409,2.198,2.205,2.557,2.518,2.507,2.513,2.074,2.159,2.675,2.143,2.543,2.176,2.371,2.695,2.416,2.086,2.142,2.565,2.151,2.359,2.627,2.538,2.121,2.133,2.578,2.027,2.696,2.352,2.25,2.276,2.327,2.61,2.32,2.727,2.529,2.048,2.161,2.258,2.588,2.192,2.215,2.51,2.155,2.654,2.17,2.173,2.067,2.655,2.43,2.578,2.6,2.388,2.431,2.065,2.204,2.745,2.72,2.127,2.583,2.512,2.543,2.141,2.036,2.433,2.133,2.67,2.207,2.483,2.368,2.673,2.74,2.338,2.084,2.453,2.142,2.126,2.231,2.106,2.249,2.381,2.317,2.583,2.754,2.291,2.302,2.716,2.476,2.598,2.442,2.63,2.093,2.559,2.033,2.767,2.139,2.167,2.025,2.496,2.221,2.461,2.425,2.381,2.638,2.548,2.193,2.017,2.731,2.181,2.243,2.424,2.136,2.277,2.748,2.268,2.284,2.629,2.612,2.338,2.461,2.177,2.111,2.544,2.631,2.291,2.488,2.083,2.502,2.133,2.693,2.026,2.631,2.487,2.54,2.418,2.556,2.251,2.197,2.227,2.457,2.773,2.18,2.289,2.283,2.636,2.555,2.247,2.437,2.767,2.125,2.388,2.683,2.644,2.579,2.6,2.422,2.015,2.664,2.638,2.343,2.607,2.441,2.778,2.15,2.595,2.533,2.184,2.281,2.283,2.063,2.643,2.05,2.297,2.705,2.085,2.667,2.358],\"yaxis\":\"y\",\"type\":\"bar\"},{\"alignmentgroup\":\"True\",\"hovertemplate\":\"quantile_pf_month=%{x}<br>pf_month=%{y}<extra></extra>\",\"legendgroup\":\"Q3 (\\u0427\\u0430\\u0441\\u0442\\u044b\\u0435)\",\"marker\":{\"color\":\"#00cc96\",\"pattern\":{\"shape\":\"\"}},\"name\":\"Q3 (\\u0427\\u0430\\u0441\\u0442\\u044b\\u0435)\",\"offsetgroup\":\"Q3 (\\u0427\\u0430\\u0441\\u0442\\u044b\\u0435)\",\"orientation\":\"v\",\"showlegend\":true,\"textposition\":\"auto\",\"x\":[\"Q3 (\\u0427\\u0430\\u0441\\u0442\\u044b\\u0435)\",\"Q3 (\\u0427\\u0430\\u0441\\u0442\\u044b\\u0435)\",\"Q3 (\\u0427\\u0430\\u0441\\u0442\\u044b\\u0435)\",\"Q3 (\\u0427\\u0430\\u0441\\u0442\\u044b\\u0435)\",\"Q3 (\\u0427\\u0430\\u0441\\u0442\\u044b\\u0435)\",\"Q3 (\\u0427\\u0430\\u0441\\u0442\\u044b\\u0435)\",\"Q3 (\\u0427\\u0430\\u0441\\u0442\\u044b\\u0435)\",\"Q3 (\\u0427\\u0430\\u0441\\u0442\\u044b\\u0435)\",\"Q3 (\\u0427\\u0430\\u0441\\u0442\\u044b\\u0435)\",\"Q3 (\\u0427\\u0430\\u0441\\u0442\\u044b\\u0435)\",\"Q3 (\\u0427\\u0430\\u0441\\u0442\\u044b\\u0435)\",\"Q3 (\\u0427\\u0430\\u0441\\u0442\\u044b\\u0435)\",\"Q3 (\\u0427\\u0430\\u0441\\u0442\\u044b\\u0435)\",\"Q3 (\\u0427\\u0430\\u0441\\u0442\\u044b\\u0435)\",\"Q3 (\\u0427\\u0430\\u0441\\u0442\\u044b\\u0435)\",\"Q3 (\\u0427\\u0430\\u0441\\u0442\\u044b\\u0435)\",\"Q3 (\\u0427\\u0430\\u0441\\u0442\\u044b\\u0435)\",\"Q3 (\\u0427\\u0430\\u0441\\u0442\\u044b\\u0435)\",\"Q3 (\\u0427\\u0430\\u0441\\u0442\\u044b\\u0435)\",\"Q3 (\\u0427\\u0430\\u0441\\u0442\\u044b\\u0435)\",\"Q3 (\\u0427\\u0430\\u0441\\u0442\\u044b\\u0435)\",\"Q3 (\\u0427\\u0430\\u0441\\u0442\\u044b\\u0435)\",\"Q3 (\\u0427\\u0430\\u0441\\u0442\\u044b\\u0435)\",\"Q3 (\\u0427\\u0430\\u0441\\u0442\\u044b\\u0435)\",\"Q3 (\\u0427\\u0430\\u0441\\u0442\\u044b\\u0435)\",\"Q3 (\\u0427\\u0430\\u0441\\u0442\\u044b\\u0435)\",\"Q3 (\\u0427\\u0430\\u0441\\u0442\\u044b\\u0435)\",\"Q3 (\\u0427\\u0430\\u0441\\u0442\\u044b\\u0435)\",\"Q3 (\\u0427\\u0430\\u0441\\u0442\\u044b\\u0435)\",\"Q3 (\\u0427\\u0430\\u0441\\u0442\\u044b\\u0435)\",\"Q3 (\\u0427\\u0430\\u0441\\u0442\\u044b\\u0435)\",\"Q3 (\\u0427\\u0430\\u0441\\u0442\\u044b\\u0435)\",\"Q3 (\\u0427\\u0430\\u0441\\u0442\\u044b\\u0435)\",\"Q3 (\\u0427\\u0430\\u0441\\u0442\\u044b\\u0435)\",\"Q3 (\\u0427\\u0430\\u0441\\u0442\\u044b\\u0435)\",\"Q3 (\\u0427\\u0430\\u0441\\u0442\\u044b\\u0435)\",\"Q3 (\\u0427\\u0430\\u0441\\u0442\\u044b\\u0435)\",\"Q3 (\\u0427\\u0430\\u0441\\u0442\\u044b\\u0435)\",\"Q3 (\\u0427\\u0430\\u0441\\u0442\\u044b\\u0435)\",\"Q3 (\\u0427\\u0430\\u0441\\u0442\\u044b\\u0435)\",\"Q3 (\\u0427\\u0430\\u0441\\u0442\\u044b\\u0435)\",\"Q3 (\\u0427\\u0430\\u0441\\u0442\\u044b\\u0435)\",\"Q3 (\\u0427\\u0430\\u0441\\u0442\\u044b\\u0435)\",\"Q3 (\\u0427\\u0430\\u0441\\u0442\\u044b\\u0435)\",\"Q3 (\\u0427\\u0430\\u0441\\u0442\\u044b\\u0435)\",\"Q3 (\\u0427\\u0430\\u0441\\u0442\\u044b\\u0435)\",\"Q3 (\\u0427\\u0430\\u0441\\u0442\\u044b\\u0435)\",\"Q3 (\\u0427\\u0430\\u0441\\u0442\\u044b\\u0435)\",\"Q3 (\\u0427\\u0430\\u0441\\u0442\\u044b\\u0435)\",\"Q3 (\\u0427\\u0430\\u0441\\u0442\\u044b\\u0435)\",\"Q3 (\\u0427\\u0430\\u0441\\u0442\\u044b\\u0435)\",\"Q3 (\\u0427\\u0430\\u0441\\u0442\\u044b\\u0435)\",\"Q3 (\\u0427\\u0430\\u0441\\u0442\\u044b\\u0435)\",\"Q3 (\\u0427\\u0430\\u0441\\u0442\\u044b\\u0435)\",\"Q3 (\\u0427\\u0430\\u0441\\u0442\\u044b\\u0435)\",\"Q3 (\\u0427\\u0430\\u0441\\u0442\\u044b\\u0435)\",\"Q3 (\\u0427\\u0430\\u0441\\u0442\\u044b\\u0435)\",\"Q3 (\\u0427\\u0430\\u0441\\u0442\\u044b\\u0435)\",\"Q3 (\\u0427\\u0430\\u0441\\u0442\\u044b\\u0435)\",\"Q3 (\\u0427\\u0430\\u0441\\u0442\\u044b\\u0435)\",\"Q3 (\\u0427\\u0430\\u0441\\u0442\\u044b\\u0435)\",\"Q3 (\\u0427\\u0430\\u0441\\u0442\\u044b\\u0435)\",\"Q3 (\\u0427\\u0430\\u0441\\u0442\\u044b\\u0435)\",\"Q3 (\\u0427\\u0430\\u0441\\u0442\\u044b\\u0435)\",\"Q3 (\\u0427\\u0430\\u0441\\u0442\\u044b\\u0435)\",\"Q3 (\\u0427\\u0430\\u0441\\u0442\\u044b\\u0435)\",\"Q3 (\\u0427\\u0430\\u0441\\u0442\\u044b\\u0435)\",\"Q3 (\\u0427\\u0430\\u0441\\u0442\\u044b\\u0435)\",\"Q3 (\\u0427\\u0430\\u0441\\u0442\\u044b\\u0435)\",\"Q3 (\\u0427\\u0430\\u0441\\u0442\\u044b\\u0435)\",\"Q3 (\\u0427\\u0430\\u0441\\u0442\\u044b\\u0435)\",\"Q3 (\\u0427\\u0430\\u0441\\u0442\\u044b\\u0435)\",\"Q3 (\\u0427\\u0430\\u0441\\u0442\\u044b\\u0435)\",\"Q3 (\\u0427\\u0430\\u0441\\u0442\\u044b\\u0435)\",\"Q3 (\\u0427\\u0430\\u0441\\u0442\\u044b\\u0435)\",\"Q3 (\\u0427\\u0430\\u0441\\u0442\\u044b\\u0435)\",\"Q3 (\\u0427\\u0430\\u0441\\u0442\\u044b\\u0435)\",\"Q3 (\\u0427\\u0430\\u0441\\u0442\\u044b\\u0435)\",\"Q3 (\\u0427\\u0430\\u0441\\u0442\\u044b\\u0435)\",\"Q3 (\\u0427\\u0430\\u0441\\u0442\\u044b\\u0435)\",\"Q3 (\\u0427\\u0430\\u0441\\u0442\\u044b\\u0435)\",\"Q3 (\\u0427\\u0430\\u0441\\u0442\\u044b\\u0435)\",\"Q3 (\\u0427\\u0430\\u0441\\u0442\\u044b\\u0435)\",\"Q3 (\\u0427\\u0430\\u0441\\u0442\\u044b\\u0435)\",\"Q3 (\\u0427\\u0430\\u0441\\u0442\\u044b\\u0435)\",\"Q3 (\\u0427\\u0430\\u0441\\u0442\\u044b\\u0435)\",\"Q3 (\\u0427\\u0430\\u0441\\u0442\\u044b\\u0435)\",\"Q3 (\\u0427\\u0430\\u0441\\u0442\\u044b\\u0435)\",\"Q3 (\\u0427\\u0430\\u0441\\u0442\\u044b\\u0435)\",\"Q3 (\\u0427\\u0430\\u0441\\u0442\\u044b\\u0435)\",\"Q3 (\\u0427\\u0430\\u0441\\u0442\\u044b\\u0435)\",\"Q3 (\\u0427\\u0430\\u0441\\u0442\\u044b\\u0435)\",\"Q3 (\\u0427\\u0430\\u0441\\u0442\\u044b\\u0435)\",\"Q3 (\\u0427\\u0430\\u0441\\u0442\\u044b\\u0435)\",\"Q3 (\\u0427\\u0430\\u0441\\u0442\\u044b\\u0435)\",\"Q3 (\\u0427\\u0430\\u0441\\u0442\\u044b\\u0435)\",\"Q3 (\\u0427\\u0430\\u0441\\u0442\\u044b\\u0435)\",\"Q3 (\\u0427\\u0430\\u0441\\u0442\\u044b\\u0435)\",\"Q3 (\\u0427\\u0430\\u0441\\u0442\\u044b\\u0435)\",\"Q3 (\\u0427\\u0430\\u0441\\u0442\\u044b\\u0435)\",\"Q3 (\\u0427\\u0430\\u0441\\u0442\\u044b\\u0435)\",\"Q3 (\\u0427\\u0430\\u0441\\u0442\\u044b\\u0435)\",\"Q3 (\\u0427\\u0430\\u0441\\u0442\\u044b\\u0435)\",\"Q3 (\\u0427\\u0430\\u0441\\u0442\\u044b\\u0435)\",\"Q3 (\\u0427\\u0430\\u0441\\u0442\\u044b\\u0435)\",\"Q3 (\\u0427\\u0430\\u0441\\u0442\\u044b\\u0435)\",\"Q3 (\\u0427\\u0430\\u0441\\u0442\\u044b\\u0435)\",\"Q3 (\\u0427\\u0430\\u0441\\u0442\\u044b\\u0435)\",\"Q3 (\\u0427\\u0430\\u0441\\u0442\\u044b\\u0435)\",\"Q3 (\\u0427\\u0430\\u0441\\u0442\\u044b\\u0435)\",\"Q3 (\\u0427\\u0430\\u0441\\u0442\\u044b\\u0435)\",\"Q3 (\\u0427\\u0430\\u0441\\u0442\\u044b\\u0435)\",\"Q3 (\\u0427\\u0430\\u0441\\u0442\\u044b\\u0435)\",\"Q3 (\\u0427\\u0430\\u0441\\u0442\\u044b\\u0435)\",\"Q3 (\\u0427\\u0430\\u0441\\u0442\\u044b\\u0435)\",\"Q3 (\\u0427\\u0430\\u0441\\u0442\\u044b\\u0435)\",\"Q3 (\\u0427\\u0430\\u0441\\u0442\\u044b\\u0435)\",\"Q3 (\\u0427\\u0430\\u0441\\u0442\\u044b\\u0435)\",\"Q3 (\\u0427\\u0430\\u0441\\u0442\\u044b\\u0435)\",\"Q3 (\\u0427\\u0430\\u0441\\u0442\\u044b\\u0435)\",\"Q3 (\\u0427\\u0430\\u0441\\u0442\\u044b\\u0435)\",\"Q3 (\\u0427\\u0430\\u0441\\u0442\\u044b\\u0435)\",\"Q3 (\\u0427\\u0430\\u0441\\u0442\\u044b\\u0435)\",\"Q3 (\\u0427\\u0430\\u0441\\u0442\\u044b\\u0435)\",\"Q3 (\\u0427\\u0430\\u0441\\u0442\\u044b\\u0435)\",\"Q3 (\\u0427\\u0430\\u0441\\u0442\\u044b\\u0435)\",\"Q3 (\\u0427\\u0430\\u0441\\u0442\\u044b\\u0435)\",\"Q3 (\\u0427\\u0430\\u0441\\u0442\\u044b\\u0435)\",\"Q3 (\\u0427\\u0430\\u0441\\u0442\\u044b\\u0435)\",\"Q3 (\\u0427\\u0430\\u0441\\u0442\\u044b\\u0435)\",\"Q3 (\\u0427\\u0430\\u0441\\u0442\\u044b\\u0435)\",\"Q3 (\\u0427\\u0430\\u0441\\u0442\\u044b\\u0435)\",\"Q3 (\\u0427\\u0430\\u0441\\u0442\\u044b\\u0435)\",\"Q3 (\\u0427\\u0430\\u0441\\u0442\\u044b\\u0435)\",\"Q3 (\\u0427\\u0430\\u0441\\u0442\\u044b\\u0435)\",\"Q3 (\\u0427\\u0430\\u0441\\u0442\\u044b\\u0435)\",\"Q3 (\\u0427\\u0430\\u0441\\u0442\\u044b\\u0435)\",\"Q3 (\\u0427\\u0430\\u0441\\u0442\\u044b\\u0435)\",\"Q3 (\\u0427\\u0430\\u0441\\u0442\\u044b\\u0435)\",\"Q3 (\\u0427\\u0430\\u0441\\u0442\\u044b\\u0435)\",\"Q3 (\\u0427\\u0430\\u0441\\u0442\\u044b\\u0435)\",\"Q3 (\\u0427\\u0430\\u0441\\u0442\\u044b\\u0435)\",\"Q3 (\\u0427\\u0430\\u0441\\u0442\\u044b\\u0435)\",\"Q3 (\\u0427\\u0430\\u0441\\u0442\\u044b\\u0435)\",\"Q3 (\\u0427\\u0430\\u0441\\u0442\\u044b\\u0435)\",\"Q3 (\\u0427\\u0430\\u0441\\u0442\\u044b\\u0435)\",\"Q3 (\\u0427\\u0430\\u0441\\u0442\\u044b\\u0435)\",\"Q3 (\\u0427\\u0430\\u0441\\u0442\\u044b\\u0435)\",\"Q3 (\\u0427\\u0430\\u0441\\u0442\\u044b\\u0435)\",\"Q3 (\\u0427\\u0430\\u0441\\u0442\\u044b\\u0435)\",\"Q3 (\\u0427\\u0430\\u0441\\u0442\\u044b\\u0435)\",\"Q3 (\\u0427\\u0430\\u0441\\u0442\\u044b\\u0435)\",\"Q3 (\\u0427\\u0430\\u0441\\u0442\\u044b\\u0435)\",\"Q3 (\\u0427\\u0430\\u0441\\u0442\\u044b\\u0435)\",\"Q3 (\\u0427\\u0430\\u0441\\u0442\\u044b\\u0435)\",\"Q3 (\\u0427\\u0430\\u0441\\u0442\\u044b\\u0435)\",\"Q3 (\\u0427\\u0430\\u0441\\u0442\\u044b\\u0435)\",\"Q3 (\\u0427\\u0430\\u0441\\u0442\\u044b\\u0435)\",\"Q3 (\\u0427\\u0430\\u0441\\u0442\\u044b\\u0435)\",\"Q3 (\\u0427\\u0430\\u0441\\u0442\\u044b\\u0435)\",\"Q3 (\\u0427\\u0430\\u0441\\u0442\\u044b\\u0435)\",\"Q3 (\\u0427\\u0430\\u0441\\u0442\\u044b\\u0435)\",\"Q3 (\\u0427\\u0430\\u0441\\u0442\\u044b\\u0435)\",\"Q3 (\\u0427\\u0430\\u0441\\u0442\\u044b\\u0435)\",\"Q3 (\\u0427\\u0430\\u0441\\u0442\\u044b\\u0435)\",\"Q3 (\\u0427\\u0430\\u0441\\u0442\\u044b\\u0435)\",\"Q3 (\\u0427\\u0430\\u0441\\u0442\\u044b\\u0435)\",\"Q3 (\\u0427\\u0430\\u0441\\u0442\\u044b\\u0435)\",\"Q3 (\\u0427\\u0430\\u0441\\u0442\\u044b\\u0435)\",\"Q3 (\\u0427\\u0430\\u0441\\u0442\\u044b\\u0435)\",\"Q3 (\\u0427\\u0430\\u0441\\u0442\\u044b\\u0435)\",\"Q3 (\\u0427\\u0430\\u0441\\u0442\\u044b\\u0435)\",\"Q3 (\\u0427\\u0430\\u0441\\u0442\\u044b\\u0435)\",\"Q3 (\\u0427\\u0430\\u0441\\u0442\\u044b\\u0435)\",\"Q3 (\\u0427\\u0430\\u0441\\u0442\\u044b\\u0435)\",\"Q3 (\\u0427\\u0430\\u0441\\u0442\\u044b\\u0435)\",\"Q3 (\\u0427\\u0430\\u0441\\u0442\\u044b\\u0435)\",\"Q3 (\\u0427\\u0430\\u0441\\u0442\\u044b\\u0435)\",\"Q3 (\\u0427\\u0430\\u0441\\u0442\\u044b\\u0435)\",\"Q3 (\\u0427\\u0430\\u0441\\u0442\\u044b\\u0435)\",\"Q3 (\\u0427\\u0430\\u0441\\u0442\\u044b\\u0435)\",\"Q3 (\\u0427\\u0430\\u0441\\u0442\\u044b\\u0435)\",\"Q3 (\\u0427\\u0430\\u0441\\u0442\\u044b\\u0435)\",\"Q3 (\\u0427\\u0430\\u0441\\u0442\\u044b\\u0435)\",\"Q3 (\\u0427\\u0430\\u0441\\u0442\\u044b\\u0435)\",\"Q3 (\\u0427\\u0430\\u0441\\u0442\\u044b\\u0435)\",\"Q3 (\\u0427\\u0430\\u0441\\u0442\\u044b\\u0435)\",\"Q3 (\\u0427\\u0430\\u0441\\u0442\\u044b\\u0435)\",\"Q3 (\\u0427\\u0430\\u0441\\u0442\\u044b\\u0435)\",\"Q3 (\\u0427\\u0430\\u0441\\u0442\\u044b\\u0435)\",\"Q3 (\\u0427\\u0430\\u0441\\u0442\\u044b\\u0435)\",\"Q3 (\\u0427\\u0430\\u0441\\u0442\\u044b\\u0435)\",\"Q3 (\\u0427\\u0430\\u0441\\u0442\\u044b\\u0435)\",\"Q3 (\\u0427\\u0430\\u0441\\u0442\\u044b\\u0435)\",\"Q3 (\\u0427\\u0430\\u0441\\u0442\\u044b\\u0435)\",\"Q3 (\\u0427\\u0430\\u0441\\u0442\\u044b\\u0435)\",\"Q3 (\\u0427\\u0430\\u0441\\u0442\\u044b\\u0435)\",\"Q3 (\\u0427\\u0430\\u0441\\u0442\\u044b\\u0435)\"],\"xaxis\":\"x\",\"y\":[3.127,2.992,3.774,3.742,3.257,2.931,3.533,3.041,3.297,2.97,2.831,3.731,3.843,2.943,3.373,3.078,3.337,3.567,3.273,3.577,2.889,3.549,3.263,3.074,3.722,3.59,2.828,3.442,3.203,3.613,3.636,2.979,3.145,2.881,3.797,3.3,3.306,2.788,2.874,3.779,3.062,3.873,2.941,3.002,2.79,3.033,3.497,2.81,3.764,3.448,3.539,3.188,3.397,3.019,3.642,3.682,2.997,3.873,3.004,3.277,3.158,2.956,3.067,3.071,3.494,2.796,3.062,3.207,3.177,3.003,3.131,3.369,2.823,3.062,3.031,3.315,3.16,3.519,2.841,2.81,3.033,3.19,3.2,3.056,3.29,3.033,2.984,3.673,3.229,3.311,3.19,3.208,3.375,3.067,3.556,3.044,3.436,2.881,2.804,2.857,3.194,3.021,3.594,3.31,3.57,2.905,3.64,3.485,3.83,3.324,3.894,3.686,3.88,2.983,3.737,3.583,3.0,3.277,3.037,3.667,3.3,3.083,3.761,3.518,3.764,2.905,2.818,2.815,3.45,3.095,3.073,3.644,2.971,3.212,3.01,3.533,3.245,3.297,3.443,2.856,2.957,3.339,3.548,3.843,2.871,3.14,2.898,3.467,3.264,2.891,2.869,3.408,3.833,3.133,3.4,3.782,3.267,3.172,3.787,3.536,3.66,3.46,3.419,2.793,2.8,3.392,2.9,2.808,3.574,3.224,2.973,3.719,3.481,3.295,3.42,3.37,3.267,3.582,3.585,3.807,3.31,2.812,3.086,3.761,2.98,3.592,2.881,2.8,3.319,2.994,3.333,2.976,3.141,3.541,2.803,3.119,3.885,2.881],\"yaxis\":\"y\",\"type\":\"bar\"},{\"alignmentgroup\":\"True\",\"hovertemplate\":\"quantile_pf_month=%{x}<br>pf_month=%{y}<extra></extra>\",\"legendgroup\":\"Q4 (VIP)\",\"marker\":{\"color\":\"#ab63fa\",\"pattern\":{\"shape\":\"\"}},\"name\":\"Q4 (VIP)\",\"offsetgroup\":\"Q4 (VIP)\",\"orientation\":\"v\",\"showlegend\":true,\"textposition\":\"auto\",\"x\":[\"Q4 (VIP)\",\"Q4 (VIP)\",\"Q4 (VIP)\",\"Q4 (VIP)\",\"Q4 (VIP)\",\"Q4 (VIP)\",\"Q4 (VIP)\",\"Q4 (VIP)\",\"Q4 (VIP)\",\"Q4 (VIP)\",\"Q4 (VIP)\",\"Q4 (VIP)\",\"Q4 (VIP)\",\"Q4 (VIP)\",\"Q4 (VIP)\",\"Q4 (VIP)\",\"Q4 (VIP)\",\"Q4 (VIP)\",\"Q4 (VIP)\",\"Q4 (VIP)\",\"Q4 (VIP)\",\"Q4 (VIP)\",\"Q4 (VIP)\",\"Q4 (VIP)\",\"Q4 (VIP)\",\"Q4 (VIP)\",\"Q4 (VIP)\",\"Q4 (VIP)\",\"Q4 (VIP)\",\"Q4 (VIP)\",\"Q4 (VIP)\",\"Q4 (VIP)\",\"Q4 (VIP)\",\"Q4 (VIP)\",\"Q4 (VIP)\",\"Q4 (VIP)\",\"Q4 (VIP)\",\"Q4 (VIP)\",\"Q4 (VIP)\",\"Q4 (VIP)\",\"Q4 (VIP)\",\"Q4 (VIP)\",\"Q4 (VIP)\",\"Q4 (VIP)\",\"Q4 (VIP)\",\"Q4 (VIP)\",\"Q4 (VIP)\",\"Q4 (VIP)\",\"Q4 (VIP)\",\"Q4 (VIP)\",\"Q4 (VIP)\",\"Q4 (VIP)\",\"Q4 (VIP)\",\"Q4 (VIP)\",\"Q4 (VIP)\",\"Q4 (VIP)\",\"Q4 (VIP)\",\"Q4 (VIP)\",\"Q4 (VIP)\",\"Q4 (VIP)\",\"Q4 (VIP)\",\"Q4 (VIP)\",\"Q4 (VIP)\",\"Q4 (VIP)\",\"Q4 (VIP)\",\"Q4 (VIP)\",\"Q4 (VIP)\",\"Q4 (VIP)\",\"Q4 (VIP)\",\"Q4 (VIP)\",\"Q4 (VIP)\",\"Q4 (VIP)\",\"Q4 (VIP)\",\"Q4 (VIP)\",\"Q4 (VIP)\",\"Q4 (VIP)\",\"Q4 (VIP)\",\"Q4 (VIP)\",\"Q4 (VIP)\",\"Q4 (VIP)\",\"Q4 (VIP)\",\"Q4 (VIP)\",\"Q4 (VIP)\",\"Q4 (VIP)\",\"Q4 (VIP)\",\"Q4 (VIP)\",\"Q4 (VIP)\",\"Q4 (VIP)\",\"Q4 (VIP)\",\"Q4 (VIP)\",\"Q4 (VIP)\",\"Q4 (VIP)\",\"Q4 (VIP)\",\"Q4 (VIP)\",\"Q4 (VIP)\",\"Q4 (VIP)\",\"Q4 (VIP)\",\"Q4 (VIP)\",\"Q4 (VIP)\",\"Q4 (VIP)\",\"Q4 (VIP)\",\"Q4 (VIP)\",\"Q4 (VIP)\",\"Q4 (VIP)\",\"Q4 (VIP)\",\"Q4 (VIP)\",\"Q4 (VIP)\",\"Q4 (VIP)\",\"Q4 (VIP)\",\"Q4 (VIP)\",\"Q4 (VIP)\",\"Q4 (VIP)\",\"Q4 (VIP)\",\"Q4 (VIP)\",\"Q4 (VIP)\",\"Q4 (VIP)\",\"Q4 (VIP)\",\"Q4 (VIP)\",\"Q4 (VIP)\",\"Q4 (VIP)\",\"Q4 (VIP)\",\"Q4 (VIP)\",\"Q4 (VIP)\",\"Q4 (VIP)\",\"Q4 (VIP)\",\"Q4 (VIP)\",\"Q4 (VIP)\",\"Q4 (VIP)\",\"Q4 (VIP)\",\"Q4 (VIP)\",\"Q4 (VIP)\",\"Q4 (VIP)\",\"Q4 (VIP)\",\"Q4 (VIP)\",\"Q4 (VIP)\",\"Q4 (VIP)\",\"Q4 (VIP)\",\"Q4 (VIP)\",\"Q4 (VIP)\",\"Q4 (VIP)\",\"Q4 (VIP)\",\"Q4 (VIP)\",\"Q4 (VIP)\",\"Q4 (VIP)\",\"Q4 (VIP)\",\"Q4 (VIP)\",\"Q4 (VIP)\",\"Q4 (VIP)\",\"Q4 (VIP)\",\"Q4 (VIP)\",\"Q4 (VIP)\",\"Q4 (VIP)\",\"Q4 (VIP)\",\"Q4 (VIP)\",\"Q4 (VIP)\",\"Q4 (VIP)\",\"Q4 (VIP)\",\"Q4 (VIP)\",\"Q4 (VIP)\",\"Q4 (VIP)\",\"Q4 (VIP)\",\"Q4 (VIP)\",\"Q4 (VIP)\",\"Q4 (VIP)\",\"Q4 (VIP)\",\"Q4 (VIP)\",\"Q4 (VIP)\",\"Q4 (VIP)\",\"Q4 (VIP)\",\"Q4 (VIP)\",\"Q4 (VIP)\",\"Q4 (VIP)\",\"Q4 (VIP)\",\"Q4 (VIP)\",\"Q4 (VIP)\",\"Q4 (VIP)\",\"Q4 (VIP)\",\"Q4 (VIP)\",\"Q4 (VIP)\",\"Q4 (VIP)\",\"Q4 (VIP)\",\"Q4 (VIP)\",\"Q4 (VIP)\",\"Q4 (VIP)\",\"Q4 (VIP)\",\"Q4 (VIP)\",\"Q4 (VIP)\",\"Q4 (VIP)\",\"Q4 (VIP)\",\"Q4 (VIP)\",\"Q4 (VIP)\",\"Q4 (VIP)\",\"Q4 (VIP)\",\"Q4 (VIP)\",\"Q4 (VIP)\",\"Q4 (VIP)\",\"Q4 (VIP)\",\"Q4 (VIP)\"],\"xaxis\":\"x\",\"y\":[4.347,4.252,4.744,4.703,4.056,4.004,3.913,5.81,4.59,7.407,4.785,4.613,6.956,4.779,4.067,6.983,6.9,4.961,4.819,5.043,4.015,4.276,5.86,5.029,5.362,4.23,6.722,7.527,5.367,4.553,10.983,4.688,4.643,4.243,4.122,4.377,4.611,5.083,4.187,6.66,6.305,7.389,6.389,6.928,6.561,6.05,4.567,7.227,4.729,5.114,5.389,4.821,4.971,4.952,3.93,4.097,4.438,5.186,4.357,3.993,9.811,3.956,7.487,5.329,9.0,7.287,4.233,8.578,6.481,8.75,4.111,4.17,14.167,4.289,4.525,5.154,6.667,5.86,7.04,4.679,5.042,4.015,13.222,7.917,4.115,4.093,11.611,5.388,5.588,4.033,5.267,6.88,4.597,4.757,5.278,4.533,4.033,4.972,8.967,4.703,4.705,4.878,4.219,5.333,4.167,4.75,4.14,5.462,5.229,12.783,3.933,4.05,5.05,6.372,4.029,6.029,4.138,7.417,3.987,5.167,5.081,6.478,7.283,4.241,4.533,4.267,4.333,4.8,4.103,6.128,6.356,3.927,4.779,4.183,4.322,5.719,3.911,7.82,5.442,8.173,3.912,5.133,5.248,3.96,4.204,6.858,5.121,4.073,4.46,4.944,4.203,11.017,4.29,4.5,6.143,4.767,3.974,4.508,5.029,4.254,5.4,4.048,5.085,6.29,5.054,5.093,4.811,5.95,5.258,4.712,4.183,4.033,4.922,11.158,4.695,7.633,7.6,7.183,5.75,5.133,5.129,4.85,5.6,6.673,6.567,6.558,5.533,7.067,9.378,4.207,12.256,5.2,4.858,4.3,8.567,7.244,5.558,6.133],\"yaxis\":\"y\",\"type\":\"bar\"}],                        {\"template\":{\"data\":{\"histogram2dcontour\":[{\"type\":\"histogram2dcontour\",\"colorbar\":{\"outlinewidth\":0,\"ticks\":\"\"},\"colorscale\":[[0.0,\"#0d0887\"],[0.1111111111111111,\"#46039f\"],[0.2222222222222222,\"#7201a8\"],[0.3333333333333333,\"#9c179e\"],[0.4444444444444444,\"#bd3786\"],[0.5555555555555556,\"#d8576b\"],[0.6666666666666666,\"#ed7953\"],[0.7777777777777778,\"#fb9f3a\"],[0.8888888888888888,\"#fdca26\"],[1.0,\"#f0f921\"]]}],\"choropleth\":[{\"type\":\"choropleth\",\"colorbar\":{\"outlinewidth\":0,\"ticks\":\"\"}}],\"histogram2d\":[{\"type\":\"histogram2d\",\"colorbar\":{\"outlinewidth\":0,\"ticks\":\"\"},\"colorscale\":[[0.0,\"#0d0887\"],[0.1111111111111111,\"#46039f\"],[0.2222222222222222,\"#7201a8\"],[0.3333333333333333,\"#9c179e\"],[0.4444444444444444,\"#bd3786\"],[0.5555555555555556,\"#d8576b\"],[0.6666666666666666,\"#ed7953\"],[0.7777777777777778,\"#fb9f3a\"],[0.8888888888888888,\"#fdca26\"],[1.0,\"#f0f921\"]]}],\"heatmap\":[{\"type\":\"heatmap\",\"colorbar\":{\"outlinewidth\":0,\"ticks\":\"\"},\"colorscale\":[[0.0,\"#0d0887\"],[0.1111111111111111,\"#46039f\"],[0.2222222222222222,\"#7201a8\"],[0.3333333333333333,\"#9c179e\"],[0.4444444444444444,\"#bd3786\"],[0.5555555555555556,\"#d8576b\"],[0.6666666666666666,\"#ed7953\"],[0.7777777777777778,\"#fb9f3a\"],[0.8888888888888888,\"#fdca26\"],[1.0,\"#f0f921\"]]}],\"heatmapgl\":[{\"type\":\"heatmapgl\",\"colorbar\":{\"outlinewidth\":0,\"ticks\":\"\"},\"colorscale\":[[0.0,\"#0d0887\"],[0.1111111111111111,\"#46039f\"],[0.2222222222222222,\"#7201a8\"],[0.3333333333333333,\"#9c179e\"],[0.4444444444444444,\"#bd3786\"],[0.5555555555555556,\"#d8576b\"],[0.6666666666666666,\"#ed7953\"],[0.7777777777777778,\"#fb9f3a\"],[0.8888888888888888,\"#fdca26\"],[1.0,\"#f0f921\"]]}],\"contourcarpet\":[{\"type\":\"contourcarpet\",\"colorbar\":{\"outlinewidth\":0,\"ticks\":\"\"}}],\"contour\":[{\"type\":\"contour\",\"colorbar\":{\"outlinewidth\":0,\"ticks\":\"\"},\"colorscale\":[[0.0,\"#0d0887\"],[0.1111111111111111,\"#46039f\"],[0.2222222222222222,\"#7201a8\"],[0.3333333333333333,\"#9c179e\"],[0.4444444444444444,\"#bd3786\"],[0.5555555555555556,\"#d8576b\"],[0.6666666666666666,\"#ed7953\"],[0.7777777777777778,\"#fb9f3a\"],[0.8888888888888888,\"#fdca26\"],[1.0,\"#f0f921\"]]}],\"surface\":[{\"type\":\"surface\",\"colorbar\":{\"outlinewidth\":0,\"ticks\":\"\"},\"colorscale\":[[0.0,\"#0d0887\"],[0.1111111111111111,\"#46039f\"],[0.2222222222222222,\"#7201a8\"],[0.3333333333333333,\"#9c179e\"],[0.4444444444444444,\"#bd3786\"],[0.5555555555555556,\"#d8576b\"],[0.6666666666666666,\"#ed7953\"],[0.7777777777777778,\"#fb9f3a\"],[0.8888888888888888,\"#fdca26\"],[1.0,\"#f0f921\"]]}],\"mesh3d\":[{\"type\":\"mesh3d\",\"colorbar\":{\"outlinewidth\":0,\"ticks\":\"\"}}],\"scatter\":[{\"fillpattern\":{\"fillmode\":\"overlay\",\"size\":10,\"solidity\":0.2},\"type\":\"scatter\"}],\"parcoords\":[{\"type\":\"parcoords\",\"line\":{\"colorbar\":{\"outlinewidth\":0,\"ticks\":\"\"}}}],\"scatterpolargl\":[{\"type\":\"scatterpolargl\",\"marker\":{\"colorbar\":{\"outlinewidth\":0,\"ticks\":\"\"}}}],\"bar\":[{\"error_x\":{\"color\":\"#2a3f5f\"},\"error_y\":{\"color\":\"#2a3f5f\"},\"marker\":{\"line\":{\"color\":\"#E5ECF6\",\"width\":0.5},\"pattern\":{\"fillmode\":\"overlay\",\"size\":10,\"solidity\":0.2}},\"type\":\"bar\"}],\"scattergeo\":[{\"type\":\"scattergeo\",\"marker\":{\"colorbar\":{\"outlinewidth\":0,\"ticks\":\"\"}}}],\"scatterpolar\":[{\"type\":\"scatterpolar\",\"marker\":{\"colorbar\":{\"outlinewidth\":0,\"ticks\":\"\"}}}],\"histogram\":[{\"marker\":{\"pattern\":{\"fillmode\":\"overlay\",\"size\":10,\"solidity\":0.2}},\"type\":\"histogram\"}],\"scattergl\":[{\"type\":\"scattergl\",\"marker\":{\"colorbar\":{\"outlinewidth\":0,\"ticks\":\"\"}}}],\"scatter3d\":[{\"type\":\"scatter3d\",\"line\":{\"colorbar\":{\"outlinewidth\":0,\"ticks\":\"\"}},\"marker\":{\"colorbar\":{\"outlinewidth\":0,\"ticks\":\"\"}}}],\"scattermapbox\":[{\"type\":\"scattermapbox\",\"marker\":{\"colorbar\":{\"outlinewidth\":0,\"ticks\":\"\"}}}],\"scatterternary\":[{\"type\":\"scatterternary\",\"marker\":{\"colorbar\":{\"outlinewidth\":0,\"ticks\":\"\"}}}],\"scattercarpet\":[{\"type\":\"scattercarpet\",\"marker\":{\"colorbar\":{\"outlinewidth\":0,\"ticks\":\"\"}}}],\"carpet\":[{\"aaxis\":{\"endlinecolor\":\"#2a3f5f\",\"gridcolor\":\"white\",\"linecolor\":\"white\",\"minorgridcolor\":\"white\",\"startlinecolor\":\"#2a3f5f\"},\"baxis\":{\"endlinecolor\":\"#2a3f5f\",\"gridcolor\":\"white\",\"linecolor\":\"white\",\"minorgridcolor\":\"white\",\"startlinecolor\":\"#2a3f5f\"},\"type\":\"carpet\"}],\"table\":[{\"cells\":{\"fill\":{\"color\":\"#EBF0F8\"},\"line\":{\"color\":\"white\"}},\"header\":{\"fill\":{\"color\":\"#C8D4E3\"},\"line\":{\"color\":\"white\"}},\"type\":\"table\"}],\"barpolar\":[{\"marker\":{\"line\":{\"color\":\"#E5ECF6\",\"width\":0.5},\"pattern\":{\"fillmode\":\"overlay\",\"size\":10,\"solidity\":0.2}},\"type\":\"barpolar\"}],\"pie\":[{\"automargin\":true,\"type\":\"pie\"}]},\"layout\":{\"autotypenumbers\":\"strict\",\"colorway\":[\"#636efa\",\"#EF553B\",\"#00cc96\",\"#ab63fa\",\"#FFA15A\",\"#19d3f3\",\"#FF6692\",\"#B6E880\",\"#FF97FF\",\"#FECB52\"],\"font\":{\"color\":\"#2a3f5f\"},\"hovermode\":\"closest\",\"hoverlabel\":{\"align\":\"left\"},\"paper_bgcolor\":\"white\",\"plot_bgcolor\":\"#E5ECF6\",\"polar\":{\"bgcolor\":\"#E5ECF6\",\"angularaxis\":{\"gridcolor\":\"white\",\"linecolor\":\"white\",\"ticks\":\"\"},\"radialaxis\":{\"gridcolor\":\"white\",\"linecolor\":\"white\",\"ticks\":\"\"}},\"ternary\":{\"bgcolor\":\"#E5ECF6\",\"aaxis\":{\"gridcolor\":\"white\",\"linecolor\":\"white\",\"ticks\":\"\"},\"baxis\":{\"gridcolor\":\"white\",\"linecolor\":\"white\",\"ticks\":\"\"},\"caxis\":{\"gridcolor\":\"white\",\"linecolor\":\"white\",\"ticks\":\"\"}},\"coloraxis\":{\"colorbar\":{\"outlinewidth\":0,\"ticks\":\"\"}},\"colorscale\":{\"sequential\":[[0.0,\"#0d0887\"],[0.1111111111111111,\"#46039f\"],[0.2222222222222222,\"#7201a8\"],[0.3333333333333333,\"#9c179e\"],[0.4444444444444444,\"#bd3786\"],[0.5555555555555556,\"#d8576b\"],[0.6666666666666666,\"#ed7953\"],[0.7777777777777778,\"#fb9f3a\"],[0.8888888888888888,\"#fdca26\"],[1.0,\"#f0f921\"]],\"sequentialminus\":[[0.0,\"#0d0887\"],[0.1111111111111111,\"#46039f\"],[0.2222222222222222,\"#7201a8\"],[0.3333333333333333,\"#9c179e\"],[0.4444444444444444,\"#bd3786\"],[0.5555555555555556,\"#d8576b\"],[0.6666666666666666,\"#ed7953\"],[0.7777777777777778,\"#fb9f3a\"],[0.8888888888888888,\"#fdca26\"],[1.0,\"#f0f921\"]],\"diverging\":[[0,\"#8e0152\"],[0.1,\"#c51b7d\"],[0.2,\"#de77ae\"],[0.3,\"#f1b6da\"],[0.4,\"#fde0ef\"],[0.5,\"#f7f7f7\"],[0.6,\"#e6f5d0\"],[0.7,\"#b8e186\"],[0.8,\"#7fbc41\"],[0.9,\"#4d9221\"],[1,\"#276419\"]]},\"xaxis\":{\"gridcolor\":\"white\",\"linecolor\":\"white\",\"ticks\":\"\",\"title\":{\"standoff\":15},\"zerolinecolor\":\"white\",\"automargin\":true,\"zerolinewidth\":2},\"yaxis\":{\"gridcolor\":\"white\",\"linecolor\":\"white\",\"ticks\":\"\",\"title\":{\"standoff\":15},\"zerolinecolor\":\"white\",\"automargin\":true,\"zerolinewidth\":2},\"scene\":{\"xaxis\":{\"backgroundcolor\":\"#E5ECF6\",\"gridcolor\":\"white\",\"linecolor\":\"white\",\"showbackground\":true,\"ticks\":\"\",\"zerolinecolor\":\"white\",\"gridwidth\":2},\"yaxis\":{\"backgroundcolor\":\"#E5ECF6\",\"gridcolor\":\"white\",\"linecolor\":\"white\",\"showbackground\":true,\"ticks\":\"\",\"zerolinecolor\":\"white\",\"gridwidth\":2},\"zaxis\":{\"backgroundcolor\":\"#E5ECF6\",\"gridcolor\":\"white\",\"linecolor\":\"white\",\"showbackground\":true,\"ticks\":\"\",\"zerolinecolor\":\"white\",\"gridwidth\":2}},\"shapedefaults\":{\"line\":{\"color\":\"#2a3f5f\"}},\"annotationdefaults\":{\"arrowcolor\":\"#2a3f5f\",\"arrowhead\":0,\"arrowwidth\":1},\"geo\":{\"bgcolor\":\"white\",\"landcolor\":\"#E5ECF6\",\"subunitcolor\":\"white\",\"showland\":true,\"showlakes\":true,\"lakecolor\":\"white\"},\"title\":{\"x\":0.05},\"mapbox\":{\"style\":\"light\"}}},\"xaxis\":{\"anchor\":\"y\",\"domain\":[0.0,1.0],\"title\":{\"text\":\"quantile_pf_month\"},\"categoryorder\":\"array\",\"categoryarray\":[\"Q1 (\\u0420\\u0435\\u0434\\u043a\\u0438\\u0435)\",\"Q2 (\\u0423\\u043c\\u0435\\u0440\\u0435\\u043d\\u043d\\u044b\\u0435)\",\"Q3 (\\u0427\\u0430\\u0441\\u0442\\u044b\\u0435)\",\"Q4 (VIP)\",null]},\"yaxis\":{\"anchor\":\"x\",\"domain\":[0.0,1.0],\"title\":{\"text\":\"pf_month\"}},\"legend\":{\"title\":{\"text\":\"quantile_pf_month\"},\"tracegroupgap\":0},\"title\":{\"text\":\"\\u0421\\u0435\\u0433\\u043c\\u0435\\u043d\\u0442\\u0430\\u0446\\u0438\\u044f \\u043a\\u043b\\u0438\\u0435\\u043d\\u0442\\u043e\\u0432 \\u043f\\u043e \\u0447\\u0430\\u0441\\u0442\\u043e\\u0442\\u0435 \\u043f\\u043e\\u043a\\u0443\\u043f\\u043e\\u043a\"},\"barmode\":\"relative\"},                        {\"responsive\": true}                    ).then(function(){\n",
       "                            \n",
       "var gd = document.getElementById('7ab19658-8422-4114-b9b2-db48ecbbb46d');\n",
       "var x = new MutationObserver(function (mutations, observer) {{\n",
       "        var display = window.getComputedStyle(gd).display;\n",
       "        if (!display || display === 'none') {{\n",
       "            console.log([gd, 'removed!']);\n",
       "            Plotly.purge(gd);\n",
       "            observer.disconnect();\n",
       "        }}\n",
       "}});\n",
       "\n",
       "// Listen for the removal of the full notebook cells\n",
       "var notebookContainer = gd.closest('#notebook-container');\n",
       "if (notebookContainer) {{\n",
       "    x.observe(notebookContainer, {childList: true});\n",
       "}}\n",
       "\n",
       "// Listen for the clearing of the current output cell\n",
       "var outputEl = gd.closest('.output');\n",
       "if (outputEl) {{\n",
       "    x.observe(outputEl, {childList: true});\n",
       "}}\n",
       "\n",
       "                        })                };                });            </script>        </div>"
      ]
     },
     "metadata": {},
     "output_type": "display_data"
    },
    {
     "data": {
      "application/vnd.plotly.v1+json": {
       "config": {
        "plotlyServerURL": "https://plot.ly"
       },
       "data": [
        {
         "alignmentgroup": "True",
         "hovertemplate": "quantile_AOV=%{x}<br>AOV=%{y}<extra></extra>",
         "legendgroup": "Q1 (Экономные)",
         "marker": {
          "color": "#636efa",
          "pattern": {
           "shape": ""
          }
         },
         "name": "Q1 (Экономные)",
         "offsetgroup": "Q1 (Экономные)",
         "orientation": "v",
         "showlegend": true,
         "textposition": "auto",
         "type": "bar",
         "x": [
          "Q1 (Экономные)",
          "Q1 (Экономные)",
          "Q1 (Экономные)",
          "Q1 (Экономные)",
          "Q1 (Экономные)",
          "Q1 (Экономные)",
          "Q1 (Экономные)",
          "Q1 (Экономные)",
          "Q1 (Экономные)",
          "Q1 (Экономные)",
          "Q1 (Экономные)",
          "Q1 (Экономные)",
          "Q1 (Экономные)",
          "Q1 (Экономные)",
          "Q1 (Экономные)",
          "Q1 (Экономные)",
          "Q1 (Экономные)",
          "Q1 (Экономные)",
          "Q1 (Экономные)",
          "Q1 (Экономные)",
          "Q1 (Экономные)",
          "Q1 (Экономные)",
          "Q1 (Экономные)",
          "Q1 (Экономные)",
          "Q1 (Экономные)",
          "Q1 (Экономные)",
          "Q1 (Экономные)",
          "Q1 (Экономные)",
          "Q1 (Экономные)",
          "Q1 (Экономные)",
          "Q1 (Экономные)",
          "Q1 (Экономные)",
          "Q1 (Экономные)",
          "Q1 (Экономные)",
          "Q1 (Экономные)",
          "Q1 (Экономные)",
          "Q1 (Экономные)",
          "Q1 (Экономные)",
          "Q1 (Экономные)",
          "Q1 (Экономные)",
          "Q1 (Экономные)",
          "Q1 (Экономные)",
          "Q1 (Экономные)",
          "Q1 (Экономные)",
          "Q1 (Экономные)",
          "Q1 (Экономные)",
          "Q1 (Экономные)",
          "Q1 (Экономные)",
          "Q1 (Экономные)",
          "Q1 (Экономные)",
          "Q1 (Экономные)",
          "Q1 (Экономные)",
          "Q1 (Экономные)",
          "Q1 (Экономные)",
          "Q1 (Экономные)",
          "Q1 (Экономные)",
          "Q1 (Экономные)",
          "Q1 (Экономные)",
          "Q1 (Экономные)",
          "Q1 (Экономные)",
          "Q1 (Экономные)",
          "Q1 (Экономные)",
          "Q1 (Экономные)",
          "Q1 (Экономные)",
          "Q1 (Экономные)",
          "Q1 (Экономные)",
          "Q1 (Экономные)",
          "Q1 (Экономные)",
          "Q1 (Экономные)",
          "Q1 (Экономные)",
          "Q1 (Экономные)",
          "Q1 (Экономные)",
          "Q1 (Экономные)",
          "Q1 (Экономные)",
          "Q1 (Экономные)",
          "Q1 (Экономные)",
          "Q1 (Экономные)",
          "Q1 (Экономные)",
          "Q1 (Экономные)",
          "Q1 (Экономные)",
          "Q1 (Экономные)",
          "Q1 (Экономные)",
          "Q1 (Экономные)",
          "Q1 (Экономные)",
          "Q1 (Экономные)",
          "Q1 (Экономные)",
          "Q1 (Экономные)",
          "Q1 (Экономные)",
          "Q1 (Экономные)",
          "Q1 (Экономные)",
          "Q1 (Экономные)",
          "Q1 (Экономные)",
          "Q1 (Экономные)",
          "Q1 (Экономные)",
          "Q1 (Экономные)",
          "Q1 (Экономные)",
          "Q1 (Экономные)",
          "Q1 (Экономные)",
          "Q1 (Экономные)",
          "Q1 (Экономные)",
          "Q1 (Экономные)",
          "Q1 (Экономные)",
          "Q1 (Экономные)",
          "Q1 (Экономные)",
          "Q1 (Экономные)",
          "Q1 (Экономные)",
          "Q1 (Экономные)",
          "Q1 (Экономные)",
          "Q1 (Экономные)",
          "Q1 (Экономные)",
          "Q1 (Экономные)",
          "Q1 (Экономные)",
          "Q1 (Экономные)",
          "Q1 (Экономные)",
          "Q1 (Экономные)",
          "Q1 (Экономные)",
          "Q1 (Экономные)",
          "Q1 (Экономные)",
          "Q1 (Экономные)",
          "Q1 (Экономные)",
          "Q1 (Экономные)",
          "Q1 (Экономные)",
          "Q1 (Экономные)",
          "Q1 (Экономные)",
          "Q1 (Экономные)",
          "Q1 (Экономные)",
          "Q1 (Экономные)",
          "Q1 (Экономные)",
          "Q1 (Экономные)",
          "Q1 (Экономные)",
          "Q1 (Экономные)",
          "Q1 (Экономные)",
          "Q1 (Экономные)",
          "Q1 (Экономные)",
          "Q1 (Экономные)",
          "Q1 (Экономные)",
          "Q1 (Экономные)",
          "Q1 (Экономные)",
          "Q1 (Экономные)",
          "Q1 (Экономные)",
          "Q1 (Экономные)",
          "Q1 (Экономные)",
          "Q1 (Экономные)",
          "Q1 (Экономные)",
          "Q1 (Экономные)",
          "Q1 (Экономные)",
          "Q1 (Экономные)",
          "Q1 (Экономные)",
          "Q1 (Экономные)",
          "Q1 (Экономные)",
          "Q1 (Экономные)",
          "Q1 (Экономные)",
          "Q1 (Экономные)",
          "Q1 (Экономные)",
          "Q1 (Экономные)",
          "Q1 (Экономные)",
          "Q1 (Экономные)",
          "Q1 (Экономные)",
          "Q1 (Экономные)",
          "Q1 (Экономные)",
          "Q1 (Экономные)",
          "Q1 (Экономные)",
          "Q1 (Экономные)",
          "Q1 (Экономные)",
          "Q1 (Экономные)",
          "Q1 (Экономные)",
          "Q1 (Экономные)",
          "Q1 (Экономные)",
          "Q1 (Экономные)",
          "Q1 (Экономные)",
          "Q1 (Экономные)",
          "Q1 (Экономные)",
          "Q1 (Экономные)",
          "Q1 (Экономные)",
          "Q1 (Экономные)",
          "Q1 (Экономные)",
          "Q1 (Экономные)",
          "Q1 (Экономные)",
          "Q1 (Экономные)",
          "Q1 (Экономные)",
          "Q1 (Экономные)",
          "Q1 (Экономные)",
          "Q1 (Экономные)",
          "Q1 (Экономные)",
          "Q1 (Экономные)",
          "Q1 (Экономные)",
          "Q1 (Экономные)",
          "Q1 (Экономные)",
          "Q1 (Экономные)",
          "Q1 (Экономные)",
          "Q1 (Экономные)",
          "Q1 (Экономные)",
          "Q1 (Экономные)",
          "Q1 (Экономные)",
          "Q1 (Экономные)",
          "Q1 (Экономные)",
          "Q1 (Экономные)",
          "Q1 (Экономные)",
          "Q1 (Экономные)"
         ],
         "xaxis": "x",
         "y": [
          84.83844444444443,
          40.24535294117646,
          104.50133333333333,
          61.80211764705882,
          81.54894444444444,
          98.35684615384615,
          105.18228571428571,
          109.32466666666667,
          95.39733333333334,
          102.82399999999998,
          71.33927272727273,
          112.85784615384615,
          86.02346666666666,
          104.20114285714286,
          80.52290909090908,
          92.66666666666667,
          52.004363636363635,
          111.9753125,
          67.83433333333333,
          81.51063157894737,
          77.73781818181818,
          106.60855555555555,
          112.569,
          113.8682,
          91.56257894736842,
          85.77988235294117,
          96.6409,
          93.04249999999999,
          112.23119047619048,
          28.458,
          89.65925000000001,
          32.348,
          64.61783333333334,
          100.00242307692308,
          63.04895238095238,
          85.92927272727273,
          93.78200000000001,
          58.646125,
          106.8216923076923,
          84.80921428571428,
          38.165,
          103.32654545454547,
          46.49888888888889,
          84.01133333333334,
          85.84376470588235,
          111.07509523809524,
          17.81575,
          70.426,
          19.606666666666666,
          84.06733333333334,
          72.19453333333333,
          74.06960000000001,
          98.58921875,
          44.969846153846156,
          37.83771428571429,
          94.91,
          78.63084615384615,
          58.72733333333334,
          106.62766666666666,
          79.55985714285714,
          99.1670909090909,
          44.216,
          107.21148387096774,
          71.101,
          106.52966666666667,
          92.74805263157894,
          105.6858,
          64.30906666666667,
          53.03983333333333,
          98.36485714285713,
          108.8052142857143,
          107.36514285714286,
          95.63157142857143,
          96.56314285714284,
          104.10420000000002,
          63.56281818181819,
          113.0077857142857,
          41.196124999999995,
          31.99888888888889,
          47.306,
          40.748999999999995,
          34.1168,
          62.14,
          78.422,
          65,
          100.49644444444445,
          79.55376666666668,
          48.98026666666667,
          69.44983333333333,
          81.23183333333333,
          105.75125,
          99.94523076923078,
          25.118125,
          44.183,
          114.03165384615384,
          110.86636363636363,
          107.56013333333334,
          38.23111111111111,
          109.95866666666666,
          86.23968421052632,
          95.80866666666667,
          94.83699999999999,
          65.8466,
          96.59092307692308,
          64.17907692307692,
          74.25580000000001,
          91.774,
          65.32371428571427,
          16.729333333333333,
          59.72184615384616,
          36.11166666666667,
          2.4165,
          29.935125,
          72.07891666666667,
          106.36771428571429,
          65.415,
          80.55916666666667,
          81.172,
          71.22866666666667,
          36.44466666666667,
          92.73723076923078,
          31.583428571428573,
          103.87995238095237,
          19.595,
          113.09872727272727,
          66.369,
          46.13830769230769,
          115.5202,
          103.24374999999999,
          35.03909090909091,
          55.851200000000006,
          45.49166666666667,
          108.46962500000001,
          108.5078,
          66.11375,
          74.0356,
          86.268,
          98.93433333333333,
          104.00333333333333,
          93.85307692307691,
          80.81620000000001,
          89.8192,
          84.33557894736842,
          72.16114285714286,
          95.13626666666666,
          71.59444444444445,
          73.5096,
          99.39425,
          68.22314285714286,
          67.95085714285713,
          38.572,
          73.1275,
          109.55266666666667,
          77.08581818181818,
          78.56280000000001,
          49.7014,
          92.01697142857142,
          113.17963636363638,
          97.41066666666667,
          100.98011111111111,
          65.98771428571429,
          111.27566666666667,
          22.93885714285714,
          101.24633333333333,
          115.4855,
          59.68333333333334,
          97.09420000000001,
          49.175,
          47.58625,
          61.48000000000001,
          112.44874666666666,
          94.8269090909091,
          105.55725000000001,
          50.39311111111111,
          29.949111111111108,
          9.5892,
          94.29050000000001,
          70.98685,
          73.44133333333333,
          76.80457142857142,
          22.118,
          43.421142857142854,
          95.953,
          54.077333333333335,
          8.3695,
          115.21054545454545,
          91.7055,
          44.446222222222225,
          102.23333333333333,
          5.304,
          44.075,
          26.583333333333332,
          80.3210909090909,
          80.135,
          35.90857142857143,
          16.52,
          7.442666666666667,
          70.158,
          48.36
         ],
         "yaxis": "y"
        },
        {
         "alignmentgroup": "True",
         "hovertemplate": "quantile_AOV=%{x}<br>AOV=%{y}<extra></extra>",
         "legendgroup": "Q2 (Стандартные)",
         "marker": {
          "color": "#EF553B",
          "pattern": {
           "shape": ""
          }
         },
         "name": "Q2 (Стандартные)",
         "offsetgroup": "Q2 (Стандартные)",
         "orientation": "v",
         "showlegend": true,
         "textposition": "auto",
         "type": "bar",
         "x": [
          "Q2 (Стандартные)",
          "Q2 (Стандартные)",
          "Q2 (Стандартные)",
          "Q2 (Стандартные)",
          "Q2 (Стандартные)",
          "Q2 (Стандартные)",
          "Q2 (Стандартные)",
          "Q2 (Стандартные)",
          "Q2 (Стандартные)",
          "Q2 (Стандартные)",
          "Q2 (Стандартные)",
          "Q2 (Стандартные)",
          "Q2 (Стандартные)",
          "Q2 (Стандартные)",
          "Q2 (Стандартные)",
          "Q2 (Стандартные)",
          "Q2 (Стандартные)",
          "Q2 (Стандартные)",
          "Q2 (Стандартные)",
          "Q2 (Стандартные)",
          "Q2 (Стандартные)",
          "Q2 (Стандартные)",
          "Q2 (Стандартные)",
          "Q2 (Стандартные)",
          "Q2 (Стандартные)",
          "Q2 (Стандартные)",
          "Q2 (Стандартные)",
          "Q2 (Стандартные)",
          "Q2 (Стандартные)",
          "Q2 (Стандартные)",
          "Q2 (Стандартные)",
          "Q2 (Стандартные)",
          "Q2 (Стандартные)",
          "Q2 (Стандартные)",
          "Q2 (Стандартные)",
          "Q2 (Стандартные)",
          "Q2 (Стандартные)",
          "Q2 (Стандартные)",
          "Q2 (Стандартные)",
          "Q2 (Стандартные)",
          "Q2 (Стандартные)",
          "Q2 (Стандартные)",
          "Q2 (Стандартные)",
          "Q2 (Стандартные)",
          "Q2 (Стандартные)",
          "Q2 (Стандартные)",
          "Q2 (Стандартные)",
          "Q2 (Стандартные)",
          "Q2 (Стандартные)",
          "Q2 (Стандартные)",
          "Q2 (Стандартные)",
          "Q2 (Стандартные)",
          "Q2 (Стандартные)",
          "Q2 (Стандартные)",
          "Q2 (Стандартные)",
          "Q2 (Стандартные)",
          "Q2 (Стандартные)",
          "Q2 (Стандартные)",
          "Q2 (Стандартные)",
          "Q2 (Стандартные)",
          "Q2 (Стандартные)",
          "Q2 (Стандартные)",
          "Q2 (Стандартные)",
          "Q2 (Стандартные)",
          "Q2 (Стандартные)",
          "Q2 (Стандартные)",
          "Q2 (Стандартные)",
          "Q2 (Стандартные)",
          "Q2 (Стандартные)",
          "Q2 (Стандартные)",
          "Q2 (Стандартные)",
          "Q2 (Стандартные)",
          "Q2 (Стандартные)",
          "Q2 (Стандартные)",
          "Q2 (Стандартные)",
          "Q2 (Стандартные)",
          "Q2 (Стандартные)",
          "Q2 (Стандартные)",
          "Q2 (Стандартные)",
          "Q2 (Стандартные)",
          "Q2 (Стандартные)",
          "Q2 (Стандартные)",
          "Q2 (Стандартные)",
          "Q2 (Стандартные)",
          "Q2 (Стандартные)",
          "Q2 (Стандартные)",
          "Q2 (Стандартные)",
          "Q2 (Стандартные)",
          "Q2 (Стандартные)",
          "Q2 (Стандартные)",
          "Q2 (Стандартные)",
          "Q2 (Стандартные)",
          "Q2 (Стандартные)",
          "Q2 (Стандартные)",
          "Q2 (Стандартные)",
          "Q2 (Стандартные)",
          "Q2 (Стандартные)",
          "Q2 (Стандартные)",
          "Q2 (Стандартные)",
          "Q2 (Стандартные)",
          "Q2 (Стандартные)",
          "Q2 (Стандартные)",
          "Q2 (Стандартные)",
          "Q2 (Стандартные)",
          "Q2 (Стандартные)",
          "Q2 (Стандартные)",
          "Q2 (Стандартные)",
          "Q2 (Стандартные)",
          "Q2 (Стандартные)",
          "Q2 (Стандартные)",
          "Q2 (Стандартные)",
          "Q2 (Стандартные)",
          "Q2 (Стандартные)",
          "Q2 (Стандартные)",
          "Q2 (Стандартные)",
          "Q2 (Стандартные)",
          "Q2 (Стандартные)",
          "Q2 (Стандартные)",
          "Q2 (Стандартные)",
          "Q2 (Стандартные)",
          "Q2 (Стандартные)",
          "Q2 (Стандартные)",
          "Q2 (Стандартные)",
          "Q2 (Стандартные)",
          "Q2 (Стандартные)",
          "Q2 (Стандартные)",
          "Q2 (Стандартные)",
          "Q2 (Стандартные)",
          "Q2 (Стандартные)",
          "Q2 (Стандартные)",
          "Q2 (Стандартные)",
          "Q2 (Стандартные)",
          "Q2 (Стандартные)",
          "Q2 (Стандартные)",
          "Q2 (Стандартные)",
          "Q2 (Стандартные)",
          "Q2 (Стандартные)",
          "Q2 (Стандартные)",
          "Q2 (Стандартные)",
          "Q2 (Стандартные)",
          "Q2 (Стандартные)",
          "Q2 (Стандартные)",
          "Q2 (Стандартные)",
          "Q2 (Стандартные)",
          "Q2 (Стандартные)",
          "Q2 (Стандартные)",
          "Q2 (Стандартные)",
          "Q2 (Стандартные)",
          "Q2 (Стандартные)",
          "Q2 (Стандартные)",
          "Q2 (Стандартные)",
          "Q2 (Стандартные)",
          "Q2 (Стандартные)",
          "Q2 (Стандартные)",
          "Q2 (Стандартные)",
          "Q2 (Стандартные)",
          "Q2 (Стандартные)",
          "Q2 (Стандартные)",
          "Q2 (Стандартные)",
          "Q2 (Стандартные)",
          "Q2 (Стандартные)",
          "Q2 (Стандартные)",
          "Q2 (Стандартные)",
          "Q2 (Стандартные)",
          "Q2 (Стандартные)",
          "Q2 (Стандартные)",
          "Q2 (Стандартные)",
          "Q2 (Стандартные)",
          "Q2 (Стандартные)",
          "Q2 (Стандартные)",
          "Q2 (Стандартные)",
          "Q2 (Стандартные)",
          "Q2 (Стандартные)",
          "Q2 (Стандартные)",
          "Q2 (Стандартные)",
          "Q2 (Стандартные)",
          "Q2 (Стандартные)",
          "Q2 (Стандартные)",
          "Q2 (Стандартные)",
          "Q2 (Стандартные)",
          "Q2 (Стандартные)",
          "Q2 (Стандартные)",
          "Q2 (Стандартные)",
          "Q2 (Стандартные)",
          "Q2 (Стандартные)",
          "Q2 (Стандартные)",
          "Q2 (Стандартные)",
          "Q2 (Стандартные)",
          "Q2 (Стандартные)",
          "Q2 (Стандартные)",
          "Q2 (Стандартные)",
          "Q2 (Стандартные)",
          "Q2 (Стандартные)",
          "Q2 (Стандартные)",
          "Q2 (Стандартные)",
          "Q2 (Стандартные)",
          "Q2 (Стандартные)",
          "Q2 (Стандартные)"
         ],
         "xaxis": "x",
         "y": [
          124.387,
          173.50503333333333,
          149.20933333333335,
          165.99377777777778,
          119.33660869565219,
          126.44591176470588,
          164.62943157894736,
          153.02213333333333,
          138.78046153846154,
          175.33828571428572,
          116.892,
          166.26957894736844,
          124.75334736842105,
          135.8488181818182,
          120.4854,
          117.47722413793103,
          143.56433333333334,
          124.82906666666668,
          155.61733333333333,
          149.2344761904762,
          126.37714285714286,
          159.5664,
          176.6818,
          183.0272857142857,
          138.60957894736842,
          163.27222222222224,
          144.09064,
          162.12153571428573,
          125.93366666666667,
          129.26854545454546,
          175.84290909090907,
          124.4155,
          118.975,
          145.38119999999998,
          161.6708888888889,
          178.45583333333332,
          175.53258823529413,
          180.82272727272726,
          115.907,
          135.43341176470588,
          155.1042222222222,
          157.68854545454545,
          122.1022,
          163.72142857142856,
          132.45000000000002,
          167.44644444444444,
          119.94998181818183,
          125.84959999999998,
          173.40653846153845,
          125.45511111111111,
          164.42355,
          176.71163870967743,
          183.924,
          178.9156470588235,
          169.38914285714284,
          138.02486363636365,
          152.65,
          116.03523529411764,
          116.84875,
          155.78160000000003,
          153.3660909090909,
          180.23328571428573,
          146.80409230769231,
          151.05526315789476,
          171.2585,
          130.6086,
          153.9944705882353,
          159.39011764705882,
          119.49025,
          137.66479999999999,
          167.2354285714286,
          167.8025714285714,
          137.54790476190476,
          143.81799999999998,
          182.42340000000002,
          118.72719230769232,
          123.0807142857143,
          158.21442857142856,
          164.569,
          177.20675,
          162.51685,
          173.3443,
          182.524,
          118.67875000000001,
          153.3102105263158,
          118.99778947368422,
          118.19633333333333,
          169.28933333333333,
          127.27200000000002,
          124.02786666666665,
          178.56253333333333,
          136.22653846153847,
          138.39866666666666,
          144.1319333333333,
          145.5528181818182,
          144.7884705882353,
          130.20155555555556,
          167.97240000000002,
          177.88263636363638,
          149.20406666666668,
          118.53572727272727,
          169.47514285714286,
          125.74036363636364,
          119.9782105263158,
          154.6973125,
          181.26645000000002,
          172.4990588235294,
          120.61037037037038,
          142.8231,
          153.95717647058822,
          175.52828571428572,
          165.5093684210526,
          162.5095,
          180.28771428571432,
          161.8157,
          134.62842857142857,
          116.78842105263158,
          136.14215,
          144.7305789473684,
          171.7242,
          134.94285714285715,
          133.32442105263158,
          147.75333333333333,
          124.0488,
          163.77586666666667,
          161.4971111111111,
          159.378,
          144.71439999999998,
          132.8963076923077,
          159.8376,
          173.2534375,
          130.2124,
          150.61375,
          140.98255555555554,
          162.43333333333334,
          139.80522222222223,
          180.10544444444446,
          142.70982352941178,
          138.13690909090909,
          173.8406,
          166.48924324324324,
          128.30675,
          166.44287500000002,
          178.3105,
          144.28199999999998,
          122.26371428571429,
          133.388,
          149.15400000000002,
          146.4223846153846,
          162.982,
          146.224875,
          152.03866666666667,
          155.53821052631577,
          135.16816666666665,
          141.348,
          128.96114285714287,
          153.983,
          180.96658333333335,
          172.5776923076923,
          136.93599999999998,
          116.52919999999999,
          146.5,
          141.80900000000003,
          164.21220000000002,
          156.83,
          162.23457142857143,
          131.3623076923077,
          154.351,
          177.54757142857142,
          146.89266666666668,
          169.84066666666666,
          159.86925,
          165.85099999999997,
          158.60909090909092,
          127.64907692307693,
          120.08344444444444,
          134.1036,
          143.76514285714285,
          167.3888,
          160.23385714285715,
          153.34816666666669,
          119.69205555555556,
          144.1868888888889,
          168.03266666666664,
          117.129875,
          158.49928571428572,
          147.70080000000002,
          131.997625,
          180.24433333333332,
          182.09823076923078,
          146.525,
          147.69266666666667,
          156.60883333333334,
          137.67919999999998,
          128.50533333333334,
          140.48857142857142,
          161.28,
          173.84016666666665
         ],
         "yaxis": "y"
        },
        {
         "alignmentgroup": "True",
         "hovertemplate": "quantile_AOV=%{x}<br>AOV=%{y}<extra></extra>",
         "legendgroup": "Q3 (Премиальные)",
         "marker": {
          "color": "#00cc96",
          "pattern": {
           "shape": ""
          }
         },
         "name": "Q3 (Премиальные)",
         "offsetgroup": "Q3 (Премиальные)",
         "orientation": "v",
         "showlegend": true,
         "textposition": "auto",
         "type": "bar",
         "x": [
          "Q3 (Премиальные)",
          "Q3 (Премиальные)",
          "Q3 (Премиальные)",
          "Q3 (Премиальные)",
          "Q3 (Премиальные)",
          "Q3 (Премиальные)",
          "Q3 (Премиальные)",
          "Q3 (Премиальные)",
          "Q3 (Премиальные)",
          "Q3 (Премиальные)",
          "Q3 (Премиальные)",
          "Q3 (Премиальные)",
          "Q3 (Премиальные)",
          "Q3 (Премиальные)",
          "Q3 (Премиальные)",
          "Q3 (Премиальные)",
          "Q3 (Премиальные)",
          "Q3 (Премиальные)",
          "Q3 (Премиальные)",
          "Q3 (Премиальные)",
          "Q3 (Премиальные)",
          "Q3 (Премиальные)",
          "Q3 (Премиальные)",
          "Q3 (Премиальные)",
          "Q3 (Премиальные)",
          "Q3 (Премиальные)",
          "Q3 (Премиальные)",
          "Q3 (Премиальные)",
          "Q3 (Премиальные)",
          "Q3 (Премиальные)",
          "Q3 (Премиальные)",
          "Q3 (Премиальные)",
          "Q3 (Премиальные)",
          "Q3 (Премиальные)",
          "Q3 (Премиальные)",
          "Q3 (Премиальные)",
          "Q3 (Премиальные)",
          "Q3 (Премиальные)",
          "Q3 (Премиальные)",
          "Q3 (Премиальные)",
          "Q3 (Премиальные)",
          "Q3 (Премиальные)",
          "Q3 (Премиальные)",
          "Q3 (Премиальные)",
          "Q3 (Премиальные)",
          "Q3 (Премиальные)",
          "Q3 (Премиальные)",
          "Q3 (Премиальные)",
          "Q3 (Премиальные)",
          "Q3 (Премиальные)",
          "Q3 (Премиальные)",
          "Q3 (Премиальные)",
          "Q3 (Премиальные)",
          "Q3 (Премиальные)",
          "Q3 (Премиальные)",
          "Q3 (Премиальные)",
          "Q3 (Премиальные)",
          "Q3 (Премиальные)",
          "Q3 (Премиальные)",
          "Q3 (Премиальные)",
          "Q3 (Премиальные)",
          "Q3 (Премиальные)",
          "Q3 (Премиальные)",
          "Q3 (Премиальные)",
          "Q3 (Премиальные)",
          "Q3 (Премиальные)",
          "Q3 (Премиальные)",
          "Q3 (Премиальные)",
          "Q3 (Премиальные)",
          "Q3 (Премиальные)",
          "Q3 (Премиальные)",
          "Q3 (Премиальные)",
          "Q3 (Премиальные)",
          "Q3 (Премиальные)",
          "Q3 (Премиальные)",
          "Q3 (Премиальные)",
          "Q3 (Премиальные)",
          "Q3 (Премиальные)",
          "Q3 (Премиальные)",
          "Q3 (Премиальные)",
          "Q3 (Премиальные)",
          "Q3 (Премиальные)",
          "Q3 (Премиальные)",
          "Q3 (Премиальные)",
          "Q3 (Премиальные)",
          "Q3 (Премиальные)",
          "Q3 (Премиальные)",
          "Q3 (Премиальные)",
          "Q3 (Премиальные)",
          "Q3 (Премиальные)",
          "Q3 (Премиальные)",
          "Q3 (Премиальные)",
          "Q3 (Премиальные)",
          "Q3 (Премиальные)",
          "Q3 (Премиальные)",
          "Q3 (Премиальные)",
          "Q3 (Премиальные)",
          "Q3 (Премиальные)",
          "Q3 (Премиальные)",
          "Q3 (Премиальные)",
          "Q3 (Премиальные)",
          "Q3 (Премиальные)",
          "Q3 (Премиальные)",
          "Q3 (Премиальные)",
          "Q3 (Премиальные)",
          "Q3 (Премиальные)",
          "Q3 (Премиальные)",
          "Q3 (Премиальные)",
          "Q3 (Премиальные)",
          "Q3 (Премиальные)",
          "Q3 (Премиальные)",
          "Q3 (Премиальные)",
          "Q3 (Премиальные)",
          "Q3 (Премиальные)",
          "Q3 (Премиальные)",
          "Q3 (Премиальные)",
          "Q3 (Премиальные)",
          "Q3 (Премиальные)",
          "Q3 (Премиальные)",
          "Q3 (Премиальные)",
          "Q3 (Премиальные)",
          "Q3 (Премиальные)",
          "Q3 (Премиальные)",
          "Q3 (Премиальные)",
          "Q3 (Премиальные)",
          "Q3 (Премиальные)",
          "Q3 (Премиальные)",
          "Q3 (Премиальные)",
          "Q3 (Премиальные)",
          "Q3 (Премиальные)",
          "Q3 (Премиальные)",
          "Q3 (Премиальные)",
          "Q3 (Премиальные)",
          "Q3 (Премиальные)",
          "Q3 (Премиальные)",
          "Q3 (Премиальные)",
          "Q3 (Премиальные)",
          "Q3 (Премиальные)",
          "Q3 (Премиальные)",
          "Q3 (Премиальные)",
          "Q3 (Премиальные)",
          "Q3 (Премиальные)",
          "Q3 (Премиальные)",
          "Q3 (Премиальные)",
          "Q3 (Премиальные)",
          "Q3 (Премиальные)",
          "Q3 (Премиальные)",
          "Q3 (Премиальные)",
          "Q3 (Премиальные)",
          "Q3 (Премиальные)",
          "Q3 (Премиальные)",
          "Q3 (Премиальные)",
          "Q3 (Премиальные)",
          "Q3 (Премиальные)",
          "Q3 (Премиальные)",
          "Q3 (Премиальные)",
          "Q3 (Премиальные)",
          "Q3 (Премиальные)",
          "Q3 (Премиальные)",
          "Q3 (Премиальные)",
          "Q3 (Премиальные)",
          "Q3 (Премиальные)",
          "Q3 (Премиальные)",
          "Q3 (Премиальные)",
          "Q3 (Премиальные)",
          "Q3 (Премиальные)",
          "Q3 (Премиальные)",
          "Q3 (Премиальные)",
          "Q3 (Премиальные)",
          "Q3 (Премиальные)",
          "Q3 (Премиальные)",
          "Q3 (Премиальные)",
          "Q3 (Премиальные)",
          "Q3 (Премиальные)",
          "Q3 (Премиальные)",
          "Q3 (Премиальные)",
          "Q3 (Премиальные)",
          "Q3 (Премиальные)",
          "Q3 (Премиальные)",
          "Q3 (Премиальные)",
          "Q3 (Премиальные)",
          "Q3 (Премиальные)",
          "Q3 (Премиальные)",
          "Q3 (Премиальные)",
          "Q3 (Премиальные)",
          "Q3 (Премиальные)",
          "Q3 (Премиальные)",
          "Q3 (Премиальные)",
          "Q3 (Премиальные)",
          "Q3 (Премиальные)",
          "Q3 (Премиальные)",
          "Q3 (Премиальные)",
          "Q3 (Премиальные)",
          "Q3 (Премиальные)",
          "Q3 (Премиальные)",
          "Q3 (Премиальные)",
          "Q3 (Премиальные)",
          "Q3 (Премиальные)"
         ],
         "xaxis": "x",
         "y": [
          229.75600000000003,
          260.63962499999997,
          234.7844761904762,
          199.03140000000002,
          184.4927142857143,
          251.56536363636363,
          236.8743,
          255.4876,
          232.8962,
          191.7856923076923,
          245.4928,
          213.93604761904763,
          194.52636363636364,
          260.8470357142857,
          256.55199999999996,
          188.8964,
          249.1576,
          205.02026086956522,
          203.88899999999998,
          201.0080769230769,
          277,
          256.4021818181818,
          237.83950000000002,
          235.0188,
          188.39657142857143,
          186.8099,
          229.00942857142857,
          256.4906,
          233.69765384615386,
          204.57216666666667,
          212.36385714285714,
          272.00141666666667,
          223.49765789473685,
          198.4315,
          228.02218181818182,
          204.2145,
          282.68894736842105,
          192.43753846153842,
          247.75054545454543,
          185.16,
          186.6984705882353,
          200.5596,
          214.79985714285712,
          217.88831818181816,
          252.75757894736844,
          198.7804,
          232.60264000000004,
          245.65681249999997,
          258.81995652173913,
          199.18210000000002,
          230.5274117647059,
          271.8357222222222,
          198.2227142857143,
          260.85175,
          200.34345454545456,
          227.224625,
          227.01626190476193,
          221.5518823529412,
          259.78791666666666,
          210.88,
          192.3962857142857,
          228.1857333333333,
          207.4661,
          224.69545454545457,
          222.77246666666667,
          258.8937741935484,
          278.37850000000003,
          196.26676470588234,
          239.4915,
          266.7583333333333,
          206.12336,
          271.83671428571427,
          263.3152380952381,
          264.654,
          245.44341666666665,
          184.02914285714286,
          203.55777777777777,
          214.35195238095235,
          209.73228571428572,
          243.35999999999999,
          225.99644444444445,
          279.4328235294118,
          224.5032857142857,
          251.5236206896552,
          203.23357142857142,
          228.43366666666665,
          220.16860000000003,
          204.984125,
          212.0954,
          221.47228571428573,
          280.95,
          270.45941666666664,
          233.72857142857143,
          204.04350000000002,
          233.04306666666668,
          189.69844444444445,
          187.43583333333333,
          184.4974,
          270.37685714285715,
          192.26375,
          218.66130000000004,
          263.63872727272724,
          221.23430769230768,
          202.67961904761904,
          268.44919999999996,
          226.67995833333336,
          218.81377777777777,
          234.2715,
          250.1405909090909,
          252.88145454545455,
          220.61279999999996,
          185.34266666666667,
          273.87583333333333,
          191.03776470588235,
          243.55993333333333,
          280.27628571428573,
          247.7946,
          237.37285714285716,
          240.34105555555556,
          218.3642857142857,
          189.48275,
          213.312,
          281.0093,
          216.33,
          211.84833333333336,
          237.13000000000002,
          265.76276923076927,
          187.4998,
          243.02636363636364,
          243.09922222222224,
          267.78526315789475,
          204.10442857142857,
          210.73485714285715,
          197.74742857142857,
          264.527,
          209.69092307692307,
          199.8590909090909,
          248.92285714285714,
          237.8429166666667,
          262.39575,
          220.36999999999998,
          184.048,
          243.2243333333333,
          202.41577777777778,
          209.49066666666667,
          196.915,
          257.4555454545455,
          211.71925,
          219.00383333333332,
          206.821875,
          186.5112,
          189.61272727272728,
          194.76666666666668,
          279.2002,
          208.79999999999998,
          207.21072222222222,
          217.74061538461535,
          240.37169230769229,
          185.5205,
          244.374,
          271.49525,
          223.56066666666666,
          192.5742857142857,
          266.67575,
          246.79399999999998,
          279.98400000000004,
          248.23313793103446,
          197.99749999999997,
          218.49695238095242,
          204.44033333333334,
          279.79055555555556,
          198.14525,
          203.6890909090909,
          279.19327272727276,
          207.7365,
          232.78488888888887,
          214.47269565217394,
          250.3806923076923,
          223.28927272727276,
          197.8213882352941,
          202.80194285714285,
          270.27175,
          192.9551111111111,
          191.7545714285714,
          282.60749999999996,
          193.664,
          199.69605714285714,
          256.87600000000003,
          273.66949999999997,
          251.808,
          211.1388,
          254.7339166666667,
          184.15576923076924,
          244.19585714285716,
          233.24566666666666,
          240.57814285714286,
          240.03757142857143,
          259.565
         ],
         "yaxis": "y"
        },
        {
         "alignmentgroup": "True",
         "hovertemplate": "quantile_AOV=%{x}<br>AOV=%{y}<extra></extra>",
         "legendgroup": "Q4 (Премиум)",
         "marker": {
          "color": "#ab63fa",
          "pattern": {
           "shape": ""
          }
         },
         "name": "Q4 (Премиум)",
         "offsetgroup": "Q4 (Премиум)",
         "orientation": "v",
         "showlegend": true,
         "textposition": "auto",
         "type": "bar",
         "x": [
          "Q4 (Премиум)",
          "Q4 (Премиум)",
          "Q4 (Премиум)",
          "Q4 (Премиум)",
          "Q4 (Премиум)",
          "Q4 (Премиум)",
          "Q4 (Премиум)",
          "Q4 (Премиум)",
          "Q4 (Премиум)",
          "Q4 (Премиум)",
          "Q4 (Премиум)",
          "Q4 (Премиум)",
          "Q4 (Премиум)",
          "Q4 (Премиум)",
          "Q4 (Премиум)",
          "Q4 (Премиум)",
          "Q4 (Премиум)",
          "Q4 (Премиум)",
          "Q4 (Премиум)",
          "Q4 (Премиум)",
          "Q4 (Премиум)",
          "Q4 (Премиум)",
          "Q4 (Премиум)",
          "Q4 (Премиум)",
          "Q4 (Премиум)",
          "Q4 (Премиум)",
          "Q4 (Премиум)",
          "Q4 (Премиум)",
          "Q4 (Премиум)",
          "Q4 (Премиум)",
          "Q4 (Премиум)",
          "Q4 (Премиум)",
          "Q4 (Премиум)",
          "Q4 (Премиум)",
          "Q4 (Премиум)",
          "Q4 (Премиум)",
          "Q4 (Премиум)",
          "Q4 (Премиум)",
          "Q4 (Премиум)",
          "Q4 (Премиум)",
          "Q4 (Премиум)",
          "Q4 (Премиум)",
          "Q4 (Премиум)",
          "Q4 (Премиум)",
          "Q4 (Премиум)",
          "Q4 (Премиум)",
          "Q4 (Премиум)",
          "Q4 (Премиум)",
          "Q4 (Премиум)",
          "Q4 (Премиум)",
          "Q4 (Премиум)",
          "Q4 (Премиум)",
          "Q4 (Премиум)",
          "Q4 (Премиум)",
          "Q4 (Премиум)",
          "Q4 (Премиум)",
          "Q4 (Премиум)",
          "Q4 (Премиум)",
          "Q4 (Премиум)",
          "Q4 (Премиум)",
          "Q4 (Премиум)",
          "Q4 (Премиум)",
          "Q4 (Премиум)",
          "Q4 (Премиум)",
          "Q4 (Премиум)",
          "Q4 (Премиум)",
          "Q4 (Премиум)",
          "Q4 (Премиум)",
          "Q4 (Премиум)",
          "Q4 (Премиум)",
          "Q4 (Премиум)",
          "Q4 (Премиум)",
          "Q4 (Премиум)",
          "Q4 (Премиум)",
          "Q4 (Премиум)",
          "Q4 (Премиум)",
          "Q4 (Премиум)",
          "Q4 (Премиум)",
          "Q4 (Премиум)",
          "Q4 (Премиум)",
          "Q4 (Премиум)",
          "Q4 (Премиум)",
          "Q4 (Премиум)",
          "Q4 (Премиум)",
          "Q4 (Премиум)",
          "Q4 (Премиум)",
          "Q4 (Премиум)",
          "Q4 (Премиум)",
          "Q4 (Премиум)",
          "Q4 (Премиум)",
          "Q4 (Премиум)",
          "Q4 (Премиум)",
          "Q4 (Премиум)",
          "Q4 (Премиум)",
          "Q4 (Премиум)",
          "Q4 (Премиум)",
          "Q4 (Премиум)",
          "Q4 (Премиум)",
          "Q4 (Премиум)",
          "Q4 (Премиум)",
          "Q4 (Премиум)",
          "Q4 (Премиум)",
          "Q4 (Премиум)",
          "Q4 (Премиум)",
          "Q4 (Премиум)",
          "Q4 (Премиум)",
          "Q4 (Премиум)",
          "Q4 (Премиум)",
          "Q4 (Премиум)",
          "Q4 (Премиум)",
          "Q4 (Премиум)",
          "Q4 (Премиум)",
          "Q4 (Премиум)",
          "Q4 (Премиум)",
          "Q4 (Премиум)",
          "Q4 (Премиум)",
          "Q4 (Премиум)",
          "Q4 (Премиум)",
          "Q4 (Премиум)",
          "Q4 (Премиум)",
          "Q4 (Премиум)",
          "Q4 (Премиум)",
          "Q4 (Премиум)",
          "Q4 (Премиум)",
          "Q4 (Премиум)",
          "Q4 (Премиум)",
          "Q4 (Премиум)",
          "Q4 (Премиум)",
          "Q4 (Премиум)",
          "Q4 (Премиум)",
          "Q4 (Премиум)",
          "Q4 (Премиум)",
          "Q4 (Премиум)",
          "Q4 (Премиум)",
          "Q4 (Премиум)",
          "Q4 (Премиум)",
          "Q4 (Премиум)",
          "Q4 (Премиум)",
          "Q4 (Премиум)",
          "Q4 (Премиум)",
          "Q4 (Премиум)",
          "Q4 (Премиум)",
          "Q4 (Премиум)",
          "Q4 (Премиум)",
          "Q4 (Премиум)",
          "Q4 (Премиум)",
          "Q4 (Премиум)",
          "Q4 (Премиум)",
          "Q4 (Премиум)",
          "Q4 (Премиум)",
          "Q4 (Премиум)",
          "Q4 (Премиум)",
          "Q4 (Премиум)",
          "Q4 (Премиум)",
          "Q4 (Премиум)",
          "Q4 (Премиум)",
          "Q4 (Премиум)",
          "Q4 (Премиум)",
          "Q4 (Премиум)",
          "Q4 (Премиум)",
          "Q4 (Премиум)",
          "Q4 (Премиум)",
          "Q4 (Премиум)",
          "Q4 (Премиум)",
          "Q4 (Премиум)",
          "Q4 (Премиум)",
          "Q4 (Премиум)",
          "Q4 (Премиум)",
          "Q4 (Премиум)",
          "Q4 (Премиум)",
          "Q4 (Премиум)",
          "Q4 (Премиум)",
          "Q4 (Премиум)",
          "Q4 (Премиум)",
          "Q4 (Премиум)",
          "Q4 (Премиум)",
          "Q4 (Премиум)",
          "Q4 (Премиум)",
          "Q4 (Премиум)",
          "Q4 (Премиум)",
          "Q4 (Премиум)",
          "Q4 (Премиум)",
          "Q4 (Премиум)",
          "Q4 (Премиум)",
          "Q4 (Премиум)",
          "Q4 (Премиум)",
          "Q4 (Премиум)",
          "Q4 (Премиум)",
          "Q4 (Премиум)",
          "Q4 (Премиум)",
          "Q4 (Премиум)",
          "Q4 (Премиум)",
          "Q4 (Премиум)",
          "Q4 (Премиум)",
          "Q4 (Премиум)",
          "Q4 (Премиум)",
          "Q4 (Премиум)",
          "Q4 (Премиум)"
         ],
         "xaxis": "x",
         "y": [
          345.87735999999995,
          453.74800000000005,
          320.9247142857143,
          517.647375,
          293.9484782608696,
          295.34999999999997,
          311.0821428571429,
          388.5909285714286,
          508.9066666666667,
          333.17939130434786,
          309.6891818181818,
          385.3211428571429,
          439.9021666666667,
          348.58815384615383,
          390.8402,
          351.11442857142856,
          421.38306666666665,
          736.851875,
          396.70283333333333,
          543.5541818181819,
          537.4766153846153,
          325.18559999999997,
          568.2141428571429,
          340.77988888888893,
          402.640875,
          488.80100000000004,
          479.2389090909091,
          781.6524000000001,
          473.9935882352941,
          369.64184615384613,
          399.3866,
          327.75261538461535,
          461.3817142857143,
          464.09071428571434,
          339.7194636363636,
          430.86777777777775,
          441.65199999999993,
          319.44685714285714,
          401.7795,
          333.5854615384615,
          336.9537142857143,
          558.2487,
          594.4875714285714,
          291.481619047619,
          312.96200000000005,
          338.2864,
          839.8521666666667,
          303.7481666666667,
          642.8333636363636,
          317.9565,
          895.4019999999998,
          364.824,
          382.692875,
          315.2615,
          441.12429999999995,
          300.9747894736842,
          407.5903448275862,
          381.8624,
          289.0532857142857,
          544.766,
          321.43075,
          314.67833333333334,
          402.504,
          519.2959117647059,
          288.23302941176473,
          331.58875,
          347.9489230769231,
          362.1571666666666,
          419.54975,
          1558.5353333333333,
          325.6996923076923,
          297.12642857142856,
          358.46718749999997,
          681.79375,
          392.5516666666666,
          438.80724999999995,
          452.67199999999997,
          465.01270000000005,
          325.71090909090907,
          324.4896,
          480.384,
          587.9517142857143,
          366.4128,
          1170.2998181818182,
          310.15375,
          467.1862222222223,
          308.3048,
          642.6020000000001,
          293.66436363636365,
          339.22355555555555,
          1751.2920000000001,
          289.01390000000004,
          429.78,
          283.43044444444445,
          557.3264,
          399.47725,
          361.902,
          526.4333846153846,
          294.94350000000003,
          505.77818181818185,
          351.3505,
          374.91335714285714,
          357.0837230769231,
          287.60254545454546,
          332.086375,
          607.9371153846154,
          863.88,
          451.27880000000005,
          469.8721538461538,
          490.92440000000005,
          385.8752857142857,
          385.55266666666665,
          305.0692,
          411.83824000000004,
          560.0369999999999,
          723.6785499999999,
          285.2951111111111,
          321.6261304347826,
          443.2138,
          484.71490909090915,
          292.1877142857143,
          632.2283333333332,
          633.95576,
          792.7834,
          551.551,
          307.4788571428571,
          353.82933333333335,
          734.272,
          537.2935294117647,
          417.28460000000007,
          358.14592307692305,
          383.20057142857144,
          284.862,
          391.4802857142857,
          353.68844444444443,
          328.8188181818182,
          299.06415384615383,
          346.11771428571427,
          324.616,
          340.5493846153846,
          387.74879999999996,
          326.29963636363635,
          384.309,
          361.681875,
          614.205111111111,
          322.21500000000003,
          397.4507272727273,
          395.3564999999999,
          361.3676,
          581.5983333333334,
          1587.6848333333335,
          298.91909090909087,
          589.1258888888889,
          360.0525714285714,
          339.8191111111111,
          381.56428571428575,
          1669.5366666666666,
          532.90048,
          313.33566666666667,
          357.9211111111111,
          366.7157142857142,
          358.142,
          326.8679166666667,
          299.6268,
          549.9969090909091,
          586.5443076923077,
          288.214,
          1459.5620000000001,
          294.19825,
          335.4803636363636,
          330.22619999999995,
          452.2876,
          398.42233333333337,
          298.4948,
          642.3744615384616,
          317.25515,
          378.97228,
          313.42092307692303,
          1102.6429090909094,
          294.768,
          359.27566666666667,
          342.9693043478261,
          388.9366,
          549.4492666666666,
          476.99284210526315,
          285.0492142857143,
          285.4784,
          311.92395,
          325.8695,
          1166.8503333333333,
          1048.196,
          293.4485714285714,
          326.9746666666667,
          416.4075555555556,
          534.2496666666667,
          718.1575,
          306.49633846153847,
          463.8037142857143
         ],
         "yaxis": "y"
        }
       ],
       "layout": {
        "autosize": true,
        "barmode": "relative",
        "legend": {
         "title": {
          "text": "quantile_AOV"
         },
         "tracegroupgap": 0
        },
        "template": {
         "data": {
          "bar": [
           {
            "error_x": {
             "color": "#2a3f5f"
            },
            "error_y": {
             "color": "#2a3f5f"
            },
            "marker": {
             "line": {
              "color": "#E5ECF6",
              "width": 0.5
             },
             "pattern": {
              "fillmode": "overlay",
              "size": 10,
              "solidity": 0.2
             }
            },
            "type": "bar"
           }
          ],
          "barpolar": [
           {
            "marker": {
             "line": {
              "color": "#E5ECF6",
              "width": 0.5
             },
             "pattern": {
              "fillmode": "overlay",
              "size": 10,
              "solidity": 0.2
             }
            },
            "type": "barpolar"
           }
          ],
          "carpet": [
           {
            "aaxis": {
             "endlinecolor": "#2a3f5f",
             "gridcolor": "white",
             "linecolor": "white",
             "minorgridcolor": "white",
             "startlinecolor": "#2a3f5f"
            },
            "baxis": {
             "endlinecolor": "#2a3f5f",
             "gridcolor": "white",
             "linecolor": "white",
             "minorgridcolor": "white",
             "startlinecolor": "#2a3f5f"
            },
            "type": "carpet"
           }
          ],
          "choropleth": [
           {
            "colorbar": {
             "outlinewidth": 0,
             "ticks": ""
            },
            "type": "choropleth"
           }
          ],
          "contour": [
           {
            "colorbar": {
             "outlinewidth": 0,
             "ticks": ""
            },
            "colorscale": [
             [
              0,
              "#0d0887"
             ],
             [
              0.1111111111111111,
              "#46039f"
             ],
             [
              0.2222222222222222,
              "#7201a8"
             ],
             [
              0.3333333333333333,
              "#9c179e"
             ],
             [
              0.4444444444444444,
              "#bd3786"
             ],
             [
              0.5555555555555556,
              "#d8576b"
             ],
             [
              0.6666666666666666,
              "#ed7953"
             ],
             [
              0.7777777777777778,
              "#fb9f3a"
             ],
             [
              0.8888888888888888,
              "#fdca26"
             ],
             [
              1,
              "#f0f921"
             ]
            ],
            "type": "contour"
           }
          ],
          "contourcarpet": [
           {
            "colorbar": {
             "outlinewidth": 0,
             "ticks": ""
            },
            "type": "contourcarpet"
           }
          ],
          "heatmap": [
           {
            "colorbar": {
             "outlinewidth": 0,
             "ticks": ""
            },
            "colorscale": [
             [
              0,
              "#0d0887"
             ],
             [
              0.1111111111111111,
              "#46039f"
             ],
             [
              0.2222222222222222,
              "#7201a8"
             ],
             [
              0.3333333333333333,
              "#9c179e"
             ],
             [
              0.4444444444444444,
              "#bd3786"
             ],
             [
              0.5555555555555556,
              "#d8576b"
             ],
             [
              0.6666666666666666,
              "#ed7953"
             ],
             [
              0.7777777777777778,
              "#fb9f3a"
             ],
             [
              0.8888888888888888,
              "#fdca26"
             ],
             [
              1,
              "#f0f921"
             ]
            ],
            "type": "heatmap"
           }
          ],
          "heatmapgl": [
           {
            "colorbar": {
             "outlinewidth": 0,
             "ticks": ""
            },
            "colorscale": [
             [
              0,
              "#0d0887"
             ],
             [
              0.1111111111111111,
              "#46039f"
             ],
             [
              0.2222222222222222,
              "#7201a8"
             ],
             [
              0.3333333333333333,
              "#9c179e"
             ],
             [
              0.4444444444444444,
              "#bd3786"
             ],
             [
              0.5555555555555556,
              "#d8576b"
             ],
             [
              0.6666666666666666,
              "#ed7953"
             ],
             [
              0.7777777777777778,
              "#fb9f3a"
             ],
             [
              0.8888888888888888,
              "#fdca26"
             ],
             [
              1,
              "#f0f921"
             ]
            ],
            "type": "heatmapgl"
           }
          ],
          "histogram": [
           {
            "marker": {
             "pattern": {
              "fillmode": "overlay",
              "size": 10,
              "solidity": 0.2
             }
            },
            "type": "histogram"
           }
          ],
          "histogram2d": [
           {
            "colorbar": {
             "outlinewidth": 0,
             "ticks": ""
            },
            "colorscale": [
             [
              0,
              "#0d0887"
             ],
             [
              0.1111111111111111,
              "#46039f"
             ],
             [
              0.2222222222222222,
              "#7201a8"
             ],
             [
              0.3333333333333333,
              "#9c179e"
             ],
             [
              0.4444444444444444,
              "#bd3786"
             ],
             [
              0.5555555555555556,
              "#d8576b"
             ],
             [
              0.6666666666666666,
              "#ed7953"
             ],
             [
              0.7777777777777778,
              "#fb9f3a"
             ],
             [
              0.8888888888888888,
              "#fdca26"
             ],
             [
              1,
              "#f0f921"
             ]
            ],
            "type": "histogram2d"
           }
          ],
          "histogram2dcontour": [
           {
            "colorbar": {
             "outlinewidth": 0,
             "ticks": ""
            },
            "colorscale": [
             [
              0,
              "#0d0887"
             ],
             [
              0.1111111111111111,
              "#46039f"
             ],
             [
              0.2222222222222222,
              "#7201a8"
             ],
             [
              0.3333333333333333,
              "#9c179e"
             ],
             [
              0.4444444444444444,
              "#bd3786"
             ],
             [
              0.5555555555555556,
              "#d8576b"
             ],
             [
              0.6666666666666666,
              "#ed7953"
             ],
             [
              0.7777777777777778,
              "#fb9f3a"
             ],
             [
              0.8888888888888888,
              "#fdca26"
             ],
             [
              1,
              "#f0f921"
             ]
            ],
            "type": "histogram2dcontour"
           }
          ],
          "mesh3d": [
           {
            "colorbar": {
             "outlinewidth": 0,
             "ticks": ""
            },
            "type": "mesh3d"
           }
          ],
          "parcoords": [
           {
            "line": {
             "colorbar": {
              "outlinewidth": 0,
              "ticks": ""
             }
            },
            "type": "parcoords"
           }
          ],
          "pie": [
           {
            "automargin": true,
            "type": "pie"
           }
          ],
          "scatter": [
           {
            "fillpattern": {
             "fillmode": "overlay",
             "size": 10,
             "solidity": 0.2
            },
            "type": "scatter"
           }
          ],
          "scatter3d": [
           {
            "line": {
             "colorbar": {
              "outlinewidth": 0,
              "ticks": ""
             }
            },
            "marker": {
             "colorbar": {
              "outlinewidth": 0,
              "ticks": ""
             }
            },
            "type": "scatter3d"
           }
          ],
          "scattercarpet": [
           {
            "marker": {
             "colorbar": {
              "outlinewidth": 0,
              "ticks": ""
             }
            },
            "type": "scattercarpet"
           }
          ],
          "scattergeo": [
           {
            "marker": {
             "colorbar": {
              "outlinewidth": 0,
              "ticks": ""
             }
            },
            "type": "scattergeo"
           }
          ],
          "scattergl": [
           {
            "marker": {
             "colorbar": {
              "outlinewidth": 0,
              "ticks": ""
             }
            },
            "type": "scattergl"
           }
          ],
          "scattermapbox": [
           {
            "marker": {
             "colorbar": {
              "outlinewidth": 0,
              "ticks": ""
             }
            },
            "type": "scattermapbox"
           }
          ],
          "scatterpolar": [
           {
            "marker": {
             "colorbar": {
              "outlinewidth": 0,
              "ticks": ""
             }
            },
            "type": "scatterpolar"
           }
          ],
          "scatterpolargl": [
           {
            "marker": {
             "colorbar": {
              "outlinewidth": 0,
              "ticks": ""
             }
            },
            "type": "scatterpolargl"
           }
          ],
          "scatterternary": [
           {
            "marker": {
             "colorbar": {
              "outlinewidth": 0,
              "ticks": ""
             }
            },
            "type": "scatterternary"
           }
          ],
          "surface": [
           {
            "colorbar": {
             "outlinewidth": 0,
             "ticks": ""
            },
            "colorscale": [
             [
              0,
              "#0d0887"
             ],
             [
              0.1111111111111111,
              "#46039f"
             ],
             [
              0.2222222222222222,
              "#7201a8"
             ],
             [
              0.3333333333333333,
              "#9c179e"
             ],
             [
              0.4444444444444444,
              "#bd3786"
             ],
             [
              0.5555555555555556,
              "#d8576b"
             ],
             [
              0.6666666666666666,
              "#ed7953"
             ],
             [
              0.7777777777777778,
              "#fb9f3a"
             ],
             [
              0.8888888888888888,
              "#fdca26"
             ],
             [
              1,
              "#f0f921"
             ]
            ],
            "type": "surface"
           }
          ],
          "table": [
           {
            "cells": {
             "fill": {
              "color": "#EBF0F8"
             },
             "line": {
              "color": "white"
             }
            },
            "header": {
             "fill": {
              "color": "#C8D4E3"
             },
             "line": {
              "color": "white"
             }
            },
            "type": "table"
           }
          ]
         },
         "layout": {
          "annotationdefaults": {
           "arrowcolor": "#2a3f5f",
           "arrowhead": 0,
           "arrowwidth": 1
          },
          "autotypenumbers": "strict",
          "coloraxis": {
           "colorbar": {
            "outlinewidth": 0,
            "ticks": ""
           }
          },
          "colorscale": {
           "diverging": [
            [
             0,
             "#8e0152"
            ],
            [
             0.1,
             "#c51b7d"
            ],
            [
             0.2,
             "#de77ae"
            ],
            [
             0.3,
             "#f1b6da"
            ],
            [
             0.4,
             "#fde0ef"
            ],
            [
             0.5,
             "#f7f7f7"
            ],
            [
             0.6,
             "#e6f5d0"
            ],
            [
             0.7,
             "#b8e186"
            ],
            [
             0.8,
             "#7fbc41"
            ],
            [
             0.9,
             "#4d9221"
            ],
            [
             1,
             "#276419"
            ]
           ],
           "sequential": [
            [
             0,
             "#0d0887"
            ],
            [
             0.1111111111111111,
             "#46039f"
            ],
            [
             0.2222222222222222,
             "#7201a8"
            ],
            [
             0.3333333333333333,
             "#9c179e"
            ],
            [
             0.4444444444444444,
             "#bd3786"
            ],
            [
             0.5555555555555556,
             "#d8576b"
            ],
            [
             0.6666666666666666,
             "#ed7953"
            ],
            [
             0.7777777777777778,
             "#fb9f3a"
            ],
            [
             0.8888888888888888,
             "#fdca26"
            ],
            [
             1,
             "#f0f921"
            ]
           ],
           "sequentialminus": [
            [
             0,
             "#0d0887"
            ],
            [
             0.1111111111111111,
             "#46039f"
            ],
            [
             0.2222222222222222,
             "#7201a8"
            ],
            [
             0.3333333333333333,
             "#9c179e"
            ],
            [
             0.4444444444444444,
             "#bd3786"
            ],
            [
             0.5555555555555556,
             "#d8576b"
            ],
            [
             0.6666666666666666,
             "#ed7953"
            ],
            [
             0.7777777777777778,
             "#fb9f3a"
            ],
            [
             0.8888888888888888,
             "#fdca26"
            ],
            [
             1,
             "#f0f921"
            ]
           ]
          },
          "colorway": [
           "#636efa",
           "#EF553B",
           "#00cc96",
           "#ab63fa",
           "#FFA15A",
           "#19d3f3",
           "#FF6692",
           "#B6E880",
           "#FF97FF",
           "#FECB52"
          ],
          "font": {
           "color": "#2a3f5f"
          },
          "geo": {
           "bgcolor": "white",
           "lakecolor": "white",
           "landcolor": "#E5ECF6",
           "showlakes": true,
           "showland": true,
           "subunitcolor": "white"
          },
          "hoverlabel": {
           "align": "left"
          },
          "hovermode": "closest",
          "mapbox": {
           "style": "light"
          },
          "paper_bgcolor": "white",
          "plot_bgcolor": "#E5ECF6",
          "polar": {
           "angularaxis": {
            "gridcolor": "white",
            "linecolor": "white",
            "ticks": ""
           },
           "bgcolor": "#E5ECF6",
           "radialaxis": {
            "gridcolor": "white",
            "linecolor": "white",
            "ticks": ""
           }
          },
          "scene": {
           "xaxis": {
            "backgroundcolor": "#E5ECF6",
            "gridcolor": "white",
            "gridwidth": 2,
            "linecolor": "white",
            "showbackground": true,
            "ticks": "",
            "zerolinecolor": "white"
           },
           "yaxis": {
            "backgroundcolor": "#E5ECF6",
            "gridcolor": "white",
            "gridwidth": 2,
            "linecolor": "white",
            "showbackground": true,
            "ticks": "",
            "zerolinecolor": "white"
           },
           "zaxis": {
            "backgroundcolor": "#E5ECF6",
            "gridcolor": "white",
            "gridwidth": 2,
            "linecolor": "white",
            "showbackground": true,
            "ticks": "",
            "zerolinecolor": "white"
           }
          },
          "shapedefaults": {
           "line": {
            "color": "#2a3f5f"
           }
          },
          "ternary": {
           "aaxis": {
            "gridcolor": "white",
            "linecolor": "white",
            "ticks": ""
           },
           "baxis": {
            "gridcolor": "white",
            "linecolor": "white",
            "ticks": ""
           },
           "bgcolor": "#E5ECF6",
           "caxis": {
            "gridcolor": "white",
            "linecolor": "white",
            "ticks": ""
           }
          },
          "title": {
           "x": 0.05
          },
          "xaxis": {
           "automargin": true,
           "gridcolor": "white",
           "linecolor": "white",
           "ticks": "",
           "title": {
            "standoff": 15
           },
           "zerolinecolor": "white",
           "zerolinewidth": 2
          },
          "yaxis": {
           "automargin": true,
           "gridcolor": "white",
           "linecolor": "white",
           "ticks": "",
           "title": {
            "standoff": 15
           },
           "zerolinecolor": "white",
           "zerolinewidth": 2
          }
         }
        },
        "title": {
         "text": "Сегментация клиентов по среднему чеку"
        },
        "xaxis": {
         "anchor": "y",
         "autorange": true,
         "categoryarray": [
          "Q1 (Экономные)",
          "Q2 (Стандартные)",
          "Q3 (Премиальные)",
          "Q4 (Премиум)",
          null
         ],
         "categoryorder": "array",
         "domain": [
          0,
          1
         ],
         "range": [
          -0.5,
          3.5
         ],
         "title": {
          "text": "quantile_AOV"
         },
         "type": "category"
        },
        "yaxis": {
         "anchor": "x",
         "autorange": true,
         "domain": [
          0,
          1
         ],
         "range": [
          0,
          95841.8281623493
         ],
         "title": {
          "text": "AOV"
         },
         "type": "linear"
        }
       }
      },
      "image/png": "[encoded data removed]",
      "text/html": [
       "<div>                            <div id=\"b64b9f09-c8af-4240-a421-65a32e5010e1\" class=\"plotly-graph-div\" style=\"height:525px; width:100%;\"></div>            <script type=\"text/javascript\">                require([\"plotly\"], function(Plotly) {                    window.PLOTLYENV=window.PLOTLYENV || {};                                    if (document.getElementById(\"b64b9f09-c8af-4240-a421-65a32e5010e1\")) {                    Plotly.newPlot(                        \"b64b9f09-c8af-4240-a421-65a32e5010e1\",                        [{\"alignmentgroup\":\"True\",\"hovertemplate\":\"quantile_AOV=%{x}<br>AOV=%{y}<extra></extra>\",\"legendgroup\":\"Q1 (\\u042d\\u043a\\u043e\\u043d\\u043e\\u043c\\u043d\\u044b\\u0435)\",\"marker\":{\"color\":\"#636efa\",\"pattern\":{\"shape\":\"\"}},\"name\":\"Q1 (\\u042d\\u043a\\u043e\\u043d\\u043e\\u043c\\u043d\\u044b\\u0435)\",\"offsetgroup\":\"Q1 (\\u042d\\u043a\\u043e\\u043d\\u043e\\u043c\\u043d\\u044b\\u0435)\",\"orientation\":\"v\",\"showlegend\":true,\"textposition\":\"auto\",\"x\":[\"Q1 (\\u042d\\u043a\\u043e\\u043d\\u043e\\u043c\\u043d\\u044b\\u0435)\",\"Q1 (\\u042d\\u043a\\u043e\\u043d\\u043e\\u043c\\u043d\\u044b\\u0435)\",\"Q1 (\\u042d\\u043a\\u043e\\u043d\\u043e\\u043c\\u043d\\u044b\\u0435)\",\"Q1 (\\u042d\\u043a\\u043e\\u043d\\u043e\\u043c\\u043d\\u044b\\u0435)\",\"Q1 (\\u042d\\u043a\\u043e\\u043d\\u043e\\u043c\\u043d\\u044b\\u0435)\",\"Q1 (\\u042d\\u043a\\u043e\\u043d\\u043e\\u043c\\u043d\\u044b\\u0435)\",\"Q1 (\\u042d\\u043a\\u043e\\u043d\\u043e\\u043c\\u043d\\u044b\\u0435)\",\"Q1 (\\u042d\\u043a\\u043e\\u043d\\u043e\\u043c\\u043d\\u044b\\u0435)\",\"Q1 (\\u042d\\u043a\\u043e\\u043d\\u043e\\u043c\\u043d\\u044b\\u0435)\",\"Q1 (\\u042d\\u043a\\u043e\\u043d\\u043e\\u043c\\u043d\\u044b\\u0435)\",\"Q1 (\\u042d\\u043a\\u043e\\u043d\\u043e\\u043c\\u043d\\u044b\\u0435)\",\"Q1 (\\u042d\\u043a\\u043e\\u043d\\u043e\\u043c\\u043d\\u044b\\u0435)\",\"Q1 (\\u042d\\u043a\\u043e\\u043d\\u043e\\u043c\\u043d\\u044b\\u0435)\",\"Q1 (\\u042d\\u043a\\u043e\\u043d\\u043e\\u043c\\u043d\\u044b\\u0435)\",\"Q1 (\\u042d\\u043a\\u043e\\u043d\\u043e\\u043c\\u043d\\u044b\\u0435)\",\"Q1 (\\u042d\\u043a\\u043e\\u043d\\u043e\\u043c\\u043d\\u044b\\u0435)\",\"Q1 (\\u042d\\u043a\\u043e\\u043d\\u043e\\u043c\\u043d\\u044b\\u0435)\",\"Q1 (\\u042d\\u043a\\u043e\\u043d\\u043e\\u043c\\u043d\\u044b\\u0435)\",\"Q1 (\\u042d\\u043a\\u043e\\u043d\\u043e\\u043c\\u043d\\u044b\\u0435)\",\"Q1 (\\u042d\\u043a\\u043e\\u043d\\u043e\\u043c\\u043d\\u044b\\u0435)\",\"Q1 (\\u042d\\u043a\\u043e\\u043d\\u043e\\u043c\\u043d\\u044b\\u0435)\",\"Q1 (\\u042d\\u043a\\u043e\\u043d\\u043e\\u043c\\u043d\\u044b\\u0435)\",\"Q1 (\\u042d\\u043a\\u043e\\u043d\\u043e\\u043c\\u043d\\u044b\\u0435)\",\"Q1 (\\u042d\\u043a\\u043e\\u043d\\u043e\\u043c\\u043d\\u044b\\u0435)\",\"Q1 (\\u042d\\u043a\\u043e\\u043d\\u043e\\u043c\\u043d\\u044b\\u0435)\",\"Q1 (\\u042d\\u043a\\u043e\\u043d\\u043e\\u043c\\u043d\\u044b\\u0435)\",\"Q1 (\\u042d\\u043a\\u043e\\u043d\\u043e\\u043c\\u043d\\u044b\\u0435)\",\"Q1 (\\u042d\\u043a\\u043e\\u043d\\u043e\\u043c\\u043d\\u044b\\u0435)\",\"Q1 (\\u042d\\u043a\\u043e\\u043d\\u043e\\u043c\\u043d\\u044b\\u0435)\",\"Q1 (\\u042d\\u043a\\u043e\\u043d\\u043e\\u043c\\u043d\\u044b\\u0435)\",\"Q1 (\\u042d\\u043a\\u043e\\u043d\\u043e\\u043c\\u043d\\u044b\\u0435)\",\"Q1 (\\u042d\\u043a\\u043e\\u043d\\u043e\\u043c\\u043d\\u044b\\u0435)\",\"Q1 (\\u042d\\u043a\\u043e\\u043d\\u043e\\u043c\\u043d\\u044b\\u0435)\",\"Q1 (\\u042d\\u043a\\u043e\\u043d\\u043e\\u043c\\u043d\\u044b\\u0435)\",\"Q1 (\\u042d\\u043a\\u043e\\u043d\\u043e\\u043c\\u043d\\u044b\\u0435)\",\"Q1 (\\u042d\\u043a\\u043e\\u043d\\u043e\\u043c\\u043d\\u044b\\u0435)\",\"Q1 (\\u042d\\u043a\\u043e\\u043d\\u043e\\u043c\\u043d\\u044b\\u0435)\",\"Q1 (\\u042d\\u043a\\u043e\\u043d\\u043e\\u043c\\u043d\\u044b\\u0435)\",\"Q1 (\\u042d\\u043a\\u043e\\u043d\\u043e\\u043c\\u043d\\u044b\\u0435)\",\"Q1 (\\u042d\\u043a\\u043e\\u043d\\u043e\\u043c\\u043d\\u044b\\u0435)\",\"Q1 (\\u042d\\u043a\\u043e\\u043d\\u043e\\u043c\\u043d\\u044b\\u0435)\",\"Q1 (\\u042d\\u043a\\u043e\\u043d\\u043e\\u043c\\u043d\\u044b\\u0435)\",\"Q1 (\\u042d\\u043a\\u043e\\u043d\\u043e\\u043c\\u043d\\u044b\\u0435)\",\"Q1 (\\u042d\\u043a\\u043e\\u043d\\u043e\\u043c\\u043d\\u044b\\u0435)\",\"Q1 (\\u042d\\u043a\\u043e\\u043d\\u043e\\u043c\\u043d\\u044b\\u0435)\",\"Q1 (\\u042d\\u043a\\u043e\\u043d\\u043e\\u043c\\u043d\\u044b\\u0435)\",\"Q1 (\\u042d\\u043a\\u043e\\u043d\\u043e\\u043c\\u043d\\u044b\\u0435)\",\"Q1 (\\u042d\\u043a\\u043e\\u043d\\u043e\\u043c\\u043d\\u044b\\u0435)\",\"Q1 (\\u042d\\u043a\\u043e\\u043d\\u043e\\u043c\\u043d\\u044b\\u0435)\",\"Q1 (\\u042d\\u043a\\u043e\\u043d\\u043e\\u043c\\u043d\\u044b\\u0435)\",\"Q1 (\\u042d\\u043a\\u043e\\u043d\\u043e\\u043c\\u043d\\u044b\\u0435)\",\"Q1 (\\u042d\\u043a\\u043e\\u043d\\u043e\\u043c\\u043d\\u044b\\u0435)\",\"Q1 (\\u042d\\u043a\\u043e\\u043d\\u043e\\u043c\\u043d\\u044b\\u0435)\",\"Q1 (\\u042d\\u043a\\u043e\\u043d\\u043e\\u043c\\u043d\\u044b\\u0435)\",\"Q1 (\\u042d\\u043a\\u043e\\u043d\\u043e\\u043c\\u043d\\u044b\\u0435)\",\"Q1 (\\u042d\\u043a\\u043e\\u043d\\u043e\\u043c\\u043d\\u044b\\u0435)\",\"Q1 (\\u042d\\u043a\\u043e\\u043d\\u043e\\u043c\\u043d\\u044b\\u0435)\",\"Q1 (\\u042d\\u043a\\u043e\\u043d\\u043e\\u043c\\u043d\\u044b\\u0435)\",\"Q1 (\\u042d\\u043a\\u043e\\u043d\\u043e\\u043c\\u043d\\u044b\\u0435)\",\"Q1 (\\u042d\\u043a\\u043e\\u043d\\u043e\\u043c\\u043d\\u044b\\u0435)\",\"Q1 (\\u042d\\u043a\\u043e\\u043d\\u043e\\u043c\\u043d\\u044b\\u0435)\",\"Q1 (\\u042d\\u043a\\u043e\\u043d\\u043e\\u043c\\u043d\\u044b\\u0435)\",\"Q1 (\\u042d\\u043a\\u043e\\u043d\\u043e\\u043c\\u043d\\u044b\\u0435)\",\"Q1 (\\u042d\\u043a\\u043e\\u043d\\u043e\\u043c\\u043d\\u044b\\u0435)\",\"Q1 (\\u042d\\u043a\\u043e\\u043d\\u043e\\u043c\\u043d\\u044b\\u0435)\",\"Q1 (\\u042d\\u043a\\u043e\\u043d\\u043e\\u043c\\u043d\\u044b\\u0435)\",\"Q1 (\\u042d\\u043a\\u043e\\u043d\\u043e\\u043c\\u043d\\u044b\\u0435)\",\"Q1 (\\u042d\\u043a\\u043e\\u043d\\u043e\\u043c\\u043d\\u044b\\u0435)\",\"Q1 (\\u042d\\u043a\\u043e\\u043d\\u043e\\u043c\\u043d\\u044b\\u0435)\",\"Q1 (\\u042d\\u043a\\u043e\\u043d\\u043e\\u043c\\u043d\\u044b\\u0435)\",\"Q1 (\\u042d\\u043a\\u043e\\u043d\\u043e\\u043c\\u043d\\u044b\\u0435)\",\"Q1 (\\u042d\\u043a\\u043e\\u043d\\u043e\\u043c\\u043d\\u044b\\u0435)\",\"Q1 (\\u042d\\u043a\\u043e\\u043d\\u043e\\u043c\\u043d\\u044b\\u0435)\",\"Q1 (\\u042d\\u043a\\u043e\\u043d\\u043e\\u043c\\u043d\\u044b\\u0435)\",\"Q1 (\\u042d\\u043a\\u043e\\u043d\\u043e\\u043c\\u043d\\u044b\\u0435)\",\"Q1 (\\u042d\\u043a\\u043e\\u043d\\u043e\\u043c\\u043d\\u044b\\u0435)\",\"Q1 (\\u042d\\u043a\\u043e\\u043d\\u043e\\u043c\\u043d\\u044b\\u0435)\",\"Q1 (\\u042d\\u043a\\u043e\\u043d\\u043e\\u043c\\u043d\\u044b\\u0435)\",\"Q1 (\\u042d\\u043a\\u043e\\u043d\\u043e\\u043c\\u043d\\u044b\\u0435)\",\"Q1 (\\u042d\\u043a\\u043e\\u043d\\u043e\\u043c\\u043d\\u044b\\u0435)\",\"Q1 (\\u042d\\u043a\\u043e\\u043d\\u043e\\u043c\\u043d\\u044b\\u0435)\",\"Q1 (\\u042d\\u043a\\u043e\\u043d\\u043e\\u043c\\u043d\\u044b\\u0435)\",\"Q1 (\\u042d\\u043a\\u043e\\u043d\\u043e\\u043c\\u043d\\u044b\\u0435)\",\"Q1 (\\u042d\\u043a\\u043e\\u043d\\u043e\\u043c\\u043d\\u044b\\u0435)\",\"Q1 (\\u042d\\u043a\\u043e\\u043d\\u043e\\u043c\\u043d\\u044b\\u0435)\",\"Q1 (\\u042d\\u043a\\u043e\\u043d\\u043e\\u043c\\u043d\\u044b\\u0435)\",\"Q1 (\\u042d\\u043a\\u043e\\u043d\\u043e\\u043c\\u043d\\u044b\\u0435)\",\"Q1 (\\u042d\\u043a\\u043e\\u043d\\u043e\\u043c\\u043d\\u044b\\u0435)\",\"Q1 (\\u042d\\u043a\\u043e\\u043d\\u043e\\u043c\\u043d\\u044b\\u0435)\",\"Q1 (\\u042d\\u043a\\u043e\\u043d\\u043e\\u043c\\u043d\\u044b\\u0435)\",\"Q1 (\\u042d\\u043a\\u043e\\u043d\\u043e\\u043c\\u043d\\u044b\\u0435)\",\"Q1 (\\u042d\\u043a\\u043e\\u043d\\u043e\\u043c\\u043d\\u044b\\u0435)\",\"Q1 (\\u042d\\u043a\\u043e\\u043d\\u043e\\u043c\\u043d\\u044b\\u0435)\",\"Q1 (\\u042d\\u043a\\u043e\\u043d\\u043e\\u043c\\u043d\\u044b\\u0435)\",\"Q1 (\\u042d\\u043a\\u043e\\u043d\\u043e\\u043c\\u043d\\u044b\\u0435)\",\"Q1 (\\u042d\\u043a\\u043e\\u043d\\u043e\\u043c\\u043d\\u044b\\u0435)\",\"Q1 (\\u042d\\u043a\\u043e\\u043d\\u043e\\u043c\\u043d\\u044b\\u0435)\",\"Q1 (\\u042d\\u043a\\u043e\\u043d\\u043e\\u043c\\u043d\\u044b\\u0435)\",\"Q1 (\\u042d\\u043a\\u043e\\u043d\\u043e\\u043c\\u043d\\u044b\\u0435)\",\"Q1 (\\u042d\\u043a\\u043e\\u043d\\u043e\\u043c\\u043d\\u044b\\u0435)\",\"Q1 (\\u042d\\u043a\\u043e\\u043d\\u043e\\u043c\\u043d\\u044b\\u0435)\",\"Q1 (\\u042d\\u043a\\u043e\\u043d\\u043e\\u043c\\u043d\\u044b\\u0435)\",\"Q1 (\\u042d\\u043a\\u043e\\u043d\\u043e\\u043c\\u043d\\u044b\\u0435)\",\"Q1 (\\u042d\\u043a\\u043e\\u043d\\u043e\\u043c\\u043d\\u044b\\u0435)\",\"Q1 (\\u042d\\u043a\\u043e\\u043d\\u043e\\u043c\\u043d\\u044b\\u0435)\",\"Q1 (\\u042d\\u043a\\u043e\\u043d\\u043e\\u043c\\u043d\\u044b\\u0435)\",\"Q1 (\\u042d\\u043a\\u043e\\u043d\\u043e\\u043c\\u043d\\u044b\\u0435)\",\"Q1 (\\u042d\\u043a\\u043e\\u043d\\u043e\\u043c\\u043d\\u044b\\u0435)\",\"Q1 (\\u042d\\u043a\\u043e\\u043d\\u043e\\u043c\\u043d\\u044b\\u0435)\",\"Q1 (\\u042d\\u043a\\u043e\\u043d\\u043e\\u043c\\u043d\\u044b\\u0435)\",\"Q1 (\\u042d\\u043a\\u043e\\u043d\\u043e\\u043c\\u043d\\u044b\\u0435)\",\"Q1 (\\u042d\\u043a\\u043e\\u043d\\u043e\\u043c\\u043d\\u044b\\u0435)\",\"Q1 (\\u042d\\u043a\\u043e\\u043d\\u043e\\u043c\\u043d\\u044b\\u0435)\",\"Q1 (\\u042d\\u043a\\u043e\\u043d\\u043e\\u043c\\u043d\\u044b\\u0435)\",\"Q1 (\\u042d\\u043a\\u043e\\u043d\\u043e\\u043c\\u043d\\u044b\\u0435)\",\"Q1 (\\u042d\\u043a\\u043e\\u043d\\u043e\\u043c\\u043d\\u044b\\u0435)\",\"Q1 (\\u042d\\u043a\\u043e\\u043d\\u043e\\u043c\\u043d\\u044b\\u0435)\",\"Q1 (\\u042d\\u043a\\u043e\\u043d\\u043e\\u043c\\u043d\\u044b\\u0435)\",\"Q1 (\\u042d\\u043a\\u043e\\u043d\\u043e\\u043c\\u043d\\u044b\\u0435)\",\"Q1 (\\u042d\\u043a\\u043e\\u043d\\u043e\\u043c\\u043d\\u044b\\u0435)\",\"Q1 (\\u042d\\u043a\\u043e\\u043d\\u043e\\u043c\\u043d\\u044b\\u0435)\",\"Q1 (\\u042d\\u043a\\u043e\\u043d\\u043e\\u043c\\u043d\\u044b\\u0435)\",\"Q1 (\\u042d\\u043a\\u043e\\u043d\\u043e\\u043c\\u043d\\u044b\\u0435)\",\"Q1 (\\u042d\\u043a\\u043e\\u043d\\u043e\\u043c\\u043d\\u044b\\u0435)\",\"Q1 (\\u042d\\u043a\\u043e\\u043d\\u043e\\u043c\\u043d\\u044b\\u0435)\",\"Q1 (\\u042d\\u043a\\u043e\\u043d\\u043e\\u043c\\u043d\\u044b\\u0435)\",\"Q1 (\\u042d\\u043a\\u043e\\u043d\\u043e\\u043c\\u043d\\u044b\\u0435)\",\"Q1 (\\u042d\\u043a\\u043e\\u043d\\u043e\\u043c\\u043d\\u044b\\u0435)\",\"Q1 (\\u042d\\u043a\\u043e\\u043d\\u043e\\u043c\\u043d\\u044b\\u0435)\",\"Q1 (\\u042d\\u043a\\u043e\\u043d\\u043e\\u043c\\u043d\\u044b\\u0435)\",\"Q1 (\\u042d\\u043a\\u043e\\u043d\\u043e\\u043c\\u043d\\u044b\\u0435)\",\"Q1 (\\u042d\\u043a\\u043e\\u043d\\u043e\\u043c\\u043d\\u044b\\u0435)\",\"Q1 (\\u042d\\u043a\\u043e\\u043d\\u043e\\u043c\\u043d\\u044b\\u0435)\",\"Q1 (\\u042d\\u043a\\u043e\\u043d\\u043e\\u043c\\u043d\\u044b\\u0435)\",\"Q1 (\\u042d\\u043a\\u043e\\u043d\\u043e\\u043c\\u043d\\u044b\\u0435)\",\"Q1 (\\u042d\\u043a\\u043e\\u043d\\u043e\\u043c\\u043d\\u044b\\u0435)\",\"Q1 (\\u042d\\u043a\\u043e\\u043d\\u043e\\u043c\\u043d\\u044b\\u0435)\",\"Q1 (\\u042d\\u043a\\u043e\\u043d\\u043e\\u043c\\u043d\\u044b\\u0435)\",\"Q1 (\\u042d\\u043a\\u043e\\u043d\\u043e\\u043c\\u043d\\u044b\\u0435)\",\"Q1 (\\u042d\\u043a\\u043e\\u043d\\u043e\\u043c\\u043d\\u044b\\u0435)\",\"Q1 (\\u042d\\u043a\\u043e\\u043d\\u043e\\u043c\\u043d\\u044b\\u0435)\",\"Q1 (\\u042d\\u043a\\u043e\\u043d\\u043e\\u043c\\u043d\\u044b\\u0435)\",\"Q1 (\\u042d\\u043a\\u043e\\u043d\\u043e\\u043c\\u043d\\u044b\\u0435)\",\"Q1 (\\u042d\\u043a\\u043e\\u043d\\u043e\\u043c\\u043d\\u044b\\u0435)\",\"Q1 (\\u042d\\u043a\\u043e\\u043d\\u043e\\u043c\\u043d\\u044b\\u0435)\",\"Q1 (\\u042d\\u043a\\u043e\\u043d\\u043e\\u043c\\u043d\\u044b\\u0435)\",\"Q1 (\\u042d\\u043a\\u043e\\u043d\\u043e\\u043c\\u043d\\u044b\\u0435)\",\"Q1 (\\u042d\\u043a\\u043e\\u043d\\u043e\\u043c\\u043d\\u044b\\u0435)\",\"Q1 (\\u042d\\u043a\\u043e\\u043d\\u043e\\u043c\\u043d\\u044b\\u0435)\",\"Q1 (\\u042d\\u043a\\u043e\\u043d\\u043e\\u043c\\u043d\\u044b\\u0435)\",\"Q1 (\\u042d\\u043a\\u043e\\u043d\\u043e\\u043c\\u043d\\u044b\\u0435)\",\"Q1 (\\u042d\\u043a\\u043e\\u043d\\u043e\\u043c\\u043d\\u044b\\u0435)\",\"Q1 (\\u042d\\u043a\\u043e\\u043d\\u043e\\u043c\\u043d\\u044b\\u0435)\",\"Q1 (\\u042d\\u043a\\u043e\\u043d\\u043e\\u043c\\u043d\\u044b\\u0435)\",\"Q1 (\\u042d\\u043a\\u043e\\u043d\\u043e\\u043c\\u043d\\u044b\\u0435)\",\"Q1 (\\u042d\\u043a\\u043e\\u043d\\u043e\\u043c\\u043d\\u044b\\u0435)\",\"Q1 (\\u042d\\u043a\\u043e\\u043d\\u043e\\u043c\\u043d\\u044b\\u0435)\",\"Q1 (\\u042d\\u043a\\u043e\\u043d\\u043e\\u043c\\u043d\\u044b\\u0435)\",\"Q1 (\\u042d\\u043a\\u043e\\u043d\\u043e\\u043c\\u043d\\u044b\\u0435)\",\"Q1 (\\u042d\\u043a\\u043e\\u043d\\u043e\\u043c\\u043d\\u044b\\u0435)\",\"Q1 (\\u042d\\u043a\\u043e\\u043d\\u043e\\u043c\\u043d\\u044b\\u0435)\",\"Q1 (\\u042d\\u043a\\u043e\\u043d\\u043e\\u043c\\u043d\\u044b\\u0435)\",\"Q1 (\\u042d\\u043a\\u043e\\u043d\\u043e\\u043c\\u043d\\u044b\\u0435)\",\"Q1 (\\u042d\\u043a\\u043e\\u043d\\u043e\\u043c\\u043d\\u044b\\u0435)\",\"Q1 (\\u042d\\u043a\\u043e\\u043d\\u043e\\u043c\\u043d\\u044b\\u0435)\",\"Q1 (\\u042d\\u043a\\u043e\\u043d\\u043e\\u043c\\u043d\\u044b\\u0435)\",\"Q1 (\\u042d\\u043a\\u043e\\u043d\\u043e\\u043c\\u043d\\u044b\\u0435)\",\"Q1 (\\u042d\\u043a\\u043e\\u043d\\u043e\\u043c\\u043d\\u044b\\u0435)\",\"Q1 (\\u042d\\u043a\\u043e\\u043d\\u043e\\u043c\\u043d\\u044b\\u0435)\",\"Q1 (\\u042d\\u043a\\u043e\\u043d\\u043e\\u043c\\u043d\\u044b\\u0435)\",\"Q1 (\\u042d\\u043a\\u043e\\u043d\\u043e\\u043c\\u043d\\u044b\\u0435)\",\"Q1 (\\u042d\\u043a\\u043e\\u043d\\u043e\\u043c\\u043d\\u044b\\u0435)\",\"Q1 (\\u042d\\u043a\\u043e\\u043d\\u043e\\u043c\\u043d\\u044b\\u0435)\",\"Q1 (\\u042d\\u043a\\u043e\\u043d\\u043e\\u043c\\u043d\\u044b\\u0435)\",\"Q1 (\\u042d\\u043a\\u043e\\u043d\\u043e\\u043c\\u043d\\u044b\\u0435)\",\"Q1 (\\u042d\\u043a\\u043e\\u043d\\u043e\\u043c\\u043d\\u044b\\u0435)\",\"Q1 (\\u042d\\u043a\\u043e\\u043d\\u043e\\u043c\\u043d\\u044b\\u0435)\",\"Q1 (\\u042d\\u043a\\u043e\\u043d\\u043e\\u043c\\u043d\\u044b\\u0435)\",\"Q1 (\\u042d\\u043a\\u043e\\u043d\\u043e\\u043c\\u043d\\u044b\\u0435)\",\"Q1 (\\u042d\\u043a\\u043e\\u043d\\u043e\\u043c\\u043d\\u044b\\u0435)\",\"Q1 (\\u042d\\u043a\\u043e\\u043d\\u043e\\u043c\\u043d\\u044b\\u0435)\",\"Q1 (\\u042d\\u043a\\u043e\\u043d\\u043e\\u043c\\u043d\\u044b\\u0435)\",\"Q1 (\\u042d\\u043a\\u043e\\u043d\\u043e\\u043c\\u043d\\u044b\\u0435)\",\"Q1 (\\u042d\\u043a\\u043e\\u043d\\u043e\\u043c\\u043d\\u044b\\u0435)\",\"Q1 (\\u042d\\u043a\\u043e\\u043d\\u043e\\u043c\\u043d\\u044b\\u0435)\",\"Q1 (\\u042d\\u043a\\u043e\\u043d\\u043e\\u043c\\u043d\\u044b\\u0435)\",\"Q1 (\\u042d\\u043a\\u043e\\u043d\\u043e\\u043c\\u043d\\u044b\\u0435)\",\"Q1 (\\u042d\\u043a\\u043e\\u043d\\u043e\\u043c\\u043d\\u044b\\u0435)\",\"Q1 (\\u042d\\u043a\\u043e\\u043d\\u043e\\u043c\\u043d\\u044b\\u0435)\",\"Q1 (\\u042d\\u043a\\u043e\\u043d\\u043e\\u043c\\u043d\\u044b\\u0435)\",\"Q1 (\\u042d\\u043a\\u043e\\u043d\\u043e\\u043c\\u043d\\u044b\\u0435)\",\"Q1 (\\u042d\\u043a\\u043e\\u043d\\u043e\\u043c\\u043d\\u044b\\u0435)\",\"Q1 (\\u042d\\u043a\\u043e\\u043d\\u043e\\u043c\\u043d\\u044b\\u0435)\",\"Q1 (\\u042d\\u043a\\u043e\\u043d\\u043e\\u043c\\u043d\\u044b\\u0435)\",\"Q1 (\\u042d\\u043a\\u043e\\u043d\\u043e\\u043c\\u043d\\u044b\\u0435)\",\"Q1 (\\u042d\\u043a\\u043e\\u043d\\u043e\\u043c\\u043d\\u044b\\u0435)\",\"Q1 (\\u042d\\u043a\\u043e\\u043d\\u043e\\u043c\\u043d\\u044b\\u0435)\",\"Q1 (\\u042d\\u043a\\u043e\\u043d\\u043e\\u043c\\u043d\\u044b\\u0435)\",\"Q1 (\\u042d\\u043a\\u043e\\u043d\\u043e\\u043c\\u043d\\u044b\\u0435)\"],\"xaxis\":\"x\",\"y\":[84.83844444444443,40.24535294117646,104.50133333333333,61.80211764705882,81.54894444444444,98.35684615384615,105.18228571428571,109.32466666666667,95.39733333333334,102.82399999999998,71.33927272727273,112.85784615384615,86.02346666666666,104.20114285714286,80.52290909090908,92.66666666666667,52.004363636363635,111.9753125,67.83433333333333,81.51063157894737,77.73781818181818,106.60855555555555,112.569,113.8682,91.56257894736842,85.77988235294117,96.6409,93.04249999999999,112.23119047619048,28.458,89.65925000000001,32.348,64.61783333333334,100.00242307692308,63.04895238095238,85.92927272727273,93.78200000000001,58.646125,106.8216923076923,84.80921428571428,38.165,103.32654545454547,46.49888888888889,84.01133333333334,85.84376470588235,111.07509523809524,17.81575,70.426,19.606666666666666,84.06733333333334,72.19453333333333,74.06960000000001,98.58921875,44.969846153846156,37.83771428571429,94.91,78.63084615384615,58.72733333333334,106.62766666666666,79.55985714285714,99.1670909090909,44.216,107.21148387096774,71.101,106.52966666666667,92.74805263157894,105.6858,64.30906666666667,53.03983333333333,98.36485714285713,108.8052142857143,107.36514285714286,95.63157142857143,96.56314285714284,104.10420000000002,63.56281818181819,113.0077857142857,41.196124999999995,31.99888888888889,47.306,40.748999999999995,34.1168,62.14,78.422,65.0,100.49644444444445,79.55376666666668,48.98026666666667,69.44983333333333,81.23183333333333,105.75125,99.94523076923078,25.118125,44.183,114.03165384615384,110.86636363636363,107.56013333333334,38.23111111111111,109.95866666666666,86.23968421052632,95.80866666666667,94.83699999999999,65.8466,96.59092307692308,64.17907692307692,74.25580000000001,91.774,65.32371428571427,16.729333333333333,59.72184615384616,36.11166666666667,2.4165,29.935125,72.07891666666667,106.36771428571429,65.415,80.55916666666667,81.172,71.22866666666667,36.44466666666667,92.73723076923078,31.583428571428573,103.87995238095237,19.595,113.09872727272727,66.369,46.13830769230769,115.5202,103.24374999999999,35.03909090909091,55.851200000000006,45.49166666666667,108.46962500000001,108.5078,66.11375,74.0356,86.268,98.93433333333333,104.00333333333333,93.85307692307691,80.81620000000001,89.8192,84.33557894736842,72.16114285714286,95.13626666666666,71.59444444444445,73.5096,99.39425,68.22314285714286,67.95085714285713,38.572,73.1275,109.55266666666667,77.08581818181818,78.56280000000001,49.7014,92.01697142857142,113.17963636363638,97.41066666666667,100.98011111111111,65.98771428571429,111.27566666666667,22.93885714285714,101.24633333333333,115.4855,59.68333333333334,97.09420000000001,49.175,47.58625,61.48000000000001,112.44874666666666,94.8269090909091,105.55725000000001,50.39311111111111,29.949111111111108,9.5892,94.29050000000001,70.98685,73.44133333333333,76.80457142857142,22.118,43.421142857142854,95.953,54.077333333333335,8.3695,115.21054545454545,91.7055,44.446222222222225,102.23333333333333,5.304,44.075,26.583333333333332,80.3210909090909,80.135,35.90857142857143,16.52,7.442666666666667,70.158,48.36],\"yaxis\":\"y\",\"type\":\"bar\"},{\"alignmentgroup\":\"True\",\"hovertemplate\":\"quantile_AOV=%{x}<br>AOV=%{y}<extra></extra>\",\"legendgroup\":\"Q2 (\\u0421\\u0442\\u0430\\u043d\\u0434\\u0430\\u0440\\u0442\\u043d\\u044b\\u0435)\",\"marker\":{\"color\":\"#EF553B\",\"pattern\":{\"shape\":\"\"}},\"name\":\"Q2 (\\u0421\\u0442\\u0430\\u043d\\u0434\\u0430\\u0440\\u0442\\u043d\\u044b\\u0435)\",\"offsetgroup\":\"Q2 (\\u0421\\u0442\\u0430\\u043d\\u0434\\u0430\\u0440\\u0442\\u043d\\u044b\\u0435)\",\"orientation\":\"v\",\"showlegend\":true,\"textposition\":\"auto\",\"x\":[\"Q2 (\\u0421\\u0442\\u0430\\u043d\\u0434\\u0430\\u0440\\u0442\\u043d\\u044b\\u0435)\",\"Q2 (\\u0421\\u0442\\u0430\\u043d\\u0434\\u0430\\u0440\\u0442\\u043d\\u044b\\u0435)\",\"Q2 (\\u0421\\u0442\\u0430\\u043d\\u0434\\u0430\\u0440\\u0442\\u043d\\u044b\\u0435)\",\"Q2 (\\u0421\\u0442\\u0430\\u043d\\u0434\\u0430\\u0440\\u0442\\u043d\\u044b\\u0435)\",\"Q2 (\\u0421\\u0442\\u0430\\u043d\\u0434\\u0430\\u0440\\u0442\\u043d\\u044b\\u0435)\",\"Q2 (\\u0421\\u0442\\u0430\\u043d\\u0434\\u0430\\u0440\\u0442\\u043d\\u044b\\u0435)\",\"Q2 (\\u0421\\u0442\\u0430\\u043d\\u0434\\u0430\\u0440\\u0442\\u043d\\u044b\\u0435)\",\"Q2 (\\u0421\\u0442\\u0430\\u043d\\u0434\\u0430\\u0440\\u0442\\u043d\\u044b\\u0435)\",\"Q2 (\\u0421\\u0442\\u0430\\u043d\\u0434\\u0430\\u0440\\u0442\\u043d\\u044b\\u0435)\",\"Q2 (\\u0421\\u0442\\u0430\\u043d\\u0434\\u0430\\u0440\\u0442\\u043d\\u044b\\u0435)\",\"Q2 (\\u0421\\u0442\\u0430\\u043d\\u0434\\u0430\\u0440\\u0442\\u043d\\u044b\\u0435)\",\"Q2 (\\u0421\\u0442\\u0430\\u043d\\u0434\\u0430\\u0440\\u0442\\u043d\\u044b\\u0435)\",\"Q2 (\\u0421\\u0442\\u0430\\u043d\\u0434\\u0430\\u0440\\u0442\\u043d\\u044b\\u0435)\",\"Q2 (\\u0421\\u0442\\u0430\\u043d\\u0434\\u0430\\u0440\\u0442\\u043d\\u044b\\u0435)\",\"Q2 (\\u0421\\u0442\\u0430\\u043d\\u0434\\u0430\\u0440\\u0442\\u043d\\u044b\\u0435)\",\"Q2 (\\u0421\\u0442\\u0430\\u043d\\u0434\\u0430\\u0440\\u0442\\u043d\\u044b\\u0435)\",\"Q2 (\\u0421\\u0442\\u0430\\u043d\\u0434\\u0430\\u0440\\u0442\\u043d\\u044b\\u0435)\",\"Q2 (\\u0421\\u0442\\u0430\\u043d\\u0434\\u0430\\u0440\\u0442\\u043d\\u044b\\u0435)\",\"Q2 (\\u0421\\u0442\\u0430\\u043d\\u0434\\u0430\\u0440\\u0442\\u043d\\u044b\\u0435)\",\"Q2 (\\u0421\\u0442\\u0430\\u043d\\u0434\\u0430\\u0440\\u0442\\u043d\\u044b\\u0435)\",\"Q2 (\\u0421\\u0442\\u0430\\u043d\\u0434\\u0430\\u0440\\u0442\\u043d\\u044b\\u0435)\",\"Q2 (\\u0421\\u0442\\u0430\\u043d\\u0434\\u0430\\u0440\\u0442\\u043d\\u044b\\u0435)\",\"Q2 (\\u0421\\u0442\\u0430\\u043d\\u0434\\u0430\\u0440\\u0442\\u043d\\u044b\\u0435)\",\"Q2 (\\u0421\\u0442\\u0430\\u043d\\u0434\\u0430\\u0440\\u0442\\u043d\\u044b\\u0435)\",\"Q2 (\\u0421\\u0442\\u0430\\u043d\\u0434\\u0430\\u0440\\u0442\\u043d\\u044b\\u0435)\",\"Q2 (\\u0421\\u0442\\u0430\\u043d\\u0434\\u0430\\u0440\\u0442\\u043d\\u044b\\u0435)\",\"Q2 (\\u0421\\u0442\\u0430\\u043d\\u0434\\u0430\\u0440\\u0442\\u043d\\u044b\\u0435)\",\"Q2 (\\u0421\\u0442\\u0430\\u043d\\u0434\\u0430\\u0440\\u0442\\u043d\\u044b\\u0435)\",\"Q2 (\\u0421\\u0442\\u0430\\u043d\\u0434\\u0430\\u0440\\u0442\\u043d\\u044b\\u0435)\",\"Q2 (\\u0421\\u0442\\u0430\\u043d\\u0434\\u0430\\u0440\\u0442\\u043d\\u044b\\u0435)\",\"Q2 (\\u0421\\u0442\\u0430\\u043d\\u0434\\u0430\\u0440\\u0442\\u043d\\u044b\\u0435)\",\"Q2 (\\u0421\\u0442\\u0430\\u043d\\u0434\\u0430\\u0440\\u0442\\u043d\\u044b\\u0435)\",\"Q2 (\\u0421\\u0442\\u0430\\u043d\\u0434\\u0430\\u0440\\u0442\\u043d\\u044b\\u0435)\",\"Q2 (\\u0421\\u0442\\u0430\\u043d\\u0434\\u0430\\u0440\\u0442\\u043d\\u044b\\u0435)\",\"Q2 (\\u0421\\u0442\\u0430\\u043d\\u0434\\u0430\\u0440\\u0442\\u043d\\u044b\\u0435)\",\"Q2 (\\u0421\\u0442\\u0430\\u043d\\u0434\\u0430\\u0440\\u0442\\u043d\\u044b\\u0435)\",\"Q2 (\\u0421\\u0442\\u0430\\u043d\\u0434\\u0430\\u0440\\u0442\\u043d\\u044b\\u0435)\",\"Q2 (\\u0421\\u0442\\u0430\\u043d\\u0434\\u0430\\u0440\\u0442\\u043d\\u044b\\u0435)\",\"Q2 (\\u0421\\u0442\\u0430\\u043d\\u0434\\u0430\\u0440\\u0442\\u043d\\u044b\\u0435)\",\"Q2 (\\u0421\\u0442\\u0430\\u043d\\u0434\\u0430\\u0440\\u0442\\u043d\\u044b\\u0435)\",\"Q2 (\\u0421\\u0442\\u0430\\u043d\\u0434\\u0430\\u0440\\u0442\\u043d\\u044b\\u0435)\",\"Q2 (\\u0421\\u0442\\u0430\\u043d\\u0434\\u0430\\u0440\\u0442\\u043d\\u044b\\u0435)\",\"Q2 (\\u0421\\u0442\\u0430\\u043d\\u0434\\u0430\\u0440\\u0442\\u043d\\u044b\\u0435)\",\"Q2 (\\u0421\\u0442\\u0430\\u043d\\u0434\\u0430\\u0440\\u0442\\u043d\\u044b\\u0435)\",\"Q2 (\\u0421\\u0442\\u0430\\u043d\\u0434\\u0430\\u0440\\u0442\\u043d\\u044b\\u0435)\",\"Q2 (\\u0421\\u0442\\u0430\\u043d\\u0434\\u0430\\u0440\\u0442\\u043d\\u044b\\u0435)\",\"Q2 (\\u0421\\u0442\\u0430\\u043d\\u0434\\u0430\\u0440\\u0442\\u043d\\u044b\\u0435)\",\"Q2 (\\u0421\\u0442\\u0430\\u043d\\u0434\\u0430\\u0440\\u0442\\u043d\\u044b\\u0435)\",\"Q2 (\\u0421\\u0442\\u0430\\u043d\\u0434\\u0430\\u0440\\u0442\\u043d\\u044b\\u0435)\",\"Q2 (\\u0421\\u0442\\u0430\\u043d\\u0434\\u0430\\u0440\\u0442\\u043d\\u044b\\u0435)\",\"Q2 (\\u0421\\u0442\\u0430\\u043d\\u0434\\u0430\\u0440\\u0442\\u043d\\u044b\\u0435)\",\"Q2 (\\u0421\\u0442\\u0430\\u043d\\u0434\\u0430\\u0440\\u0442\\u043d\\u044b\\u0435)\",\"Q2 (\\u0421\\u0442\\u0430\\u043d\\u0434\\u0430\\u0440\\u0442\\u043d\\u044b\\u0435)\",\"Q2 (\\u0421\\u0442\\u0430\\u043d\\u0434\\u0430\\u0440\\u0442\\u043d\\u044b\\u0435)\",\"Q2 (\\u0421\\u0442\\u0430\\u043d\\u0434\\u0430\\u0440\\u0442\\u043d\\u044b\\u0435)\",\"Q2 (\\u0421\\u0442\\u0430\\u043d\\u0434\\u0430\\u0440\\u0442\\u043d\\u044b\\u0435)\",\"Q2 (\\u0421\\u0442\\u0430\\u043d\\u0434\\u0430\\u0440\\u0442\\u043d\\u044b\\u0435)\",\"Q2 (\\u0421\\u0442\\u0430\\u043d\\u0434\\u0430\\u0440\\u0442\\u043d\\u044b\\u0435)\",\"Q2 (\\u0421\\u0442\\u0430\\u043d\\u0434\\u0430\\u0440\\u0442\\u043d\\u044b\\u0435)\",\"Q2 (\\u0421\\u0442\\u0430\\u043d\\u0434\\u0430\\u0440\\u0442\\u043d\\u044b\\u0435)\",\"Q2 (\\u0421\\u0442\\u0430\\u043d\\u0434\\u0430\\u0440\\u0442\\u043d\\u044b\\u0435)\",\"Q2 (\\u0421\\u0442\\u0430\\u043d\\u0434\\u0430\\u0440\\u0442\\u043d\\u044b\\u0435)\",\"Q2 (\\u0421\\u0442\\u0430\\u043d\\u0434\\u0430\\u0440\\u0442\\u043d\\u044b\\u0435)\",\"Q2 (\\u0421\\u0442\\u0430\\u043d\\u0434\\u0430\\u0440\\u0442\\u043d\\u044b\\u0435)\",\"Q2 (\\u0421\\u0442\\u0430\\u043d\\u0434\\u0430\\u0440\\u0442\\u043d\\u044b\\u0435)\",\"Q2 (\\u0421\\u0442\\u0430\\u043d\\u0434\\u0430\\u0440\\u0442\\u043d\\u044b\\u0435)\",\"Q2 (\\u0421\\u0442\\u0430\\u043d\\u0434\\u0430\\u0440\\u0442\\u043d\\u044b\\u0435)\",\"Q2 (\\u0421\\u0442\\u0430\\u043d\\u0434\\u0430\\u0440\\u0442\\u043d\\u044b\\u0435)\",\"Q2 (\\u0421\\u0442\\u0430\\u043d\\u0434\\u0430\\u0440\\u0442\\u043d\\u044b\\u0435)\",\"Q2 (\\u0421\\u0442\\u0430\\u043d\\u0434\\u0430\\u0440\\u0442\\u043d\\u044b\\u0435)\",\"Q2 (\\u0421\\u0442\\u0430\\u043d\\u0434\\u0430\\u0440\\u0442\\u043d\\u044b\\u0435)\",\"Q2 (\\u0421\\u0442\\u0430\\u043d\\u0434\\u0430\\u0440\\u0442\\u043d\\u044b\\u0435)\",\"Q2 (\\u0421\\u0442\\u0430\\u043d\\u0434\\u0430\\u0440\\u0442\\u043d\\u044b\\u0435)\",\"Q2 (\\u0421\\u0442\\u0430\\u043d\\u0434\\u0430\\u0440\\u0442\\u043d\\u044b\\u0435)\",\"Q2 (\\u0421\\u0442\\u0430\\u043d\\u0434\\u0430\\u0440\\u0442\\u043d\\u044b\\u0435)\",\"Q2 (\\u0421\\u0442\\u0430\\u043d\\u0434\\u0430\\u0440\\u0442\\u043d\\u044b\\u0435)\",\"Q2 (\\u0421\\u0442\\u0430\\u043d\\u0434\\u0430\\u0440\\u0442\\u043d\\u044b\\u0435)\",\"Q2 (\\u0421\\u0442\\u0430\\u043d\\u0434\\u0430\\u0440\\u0442\\u043d\\u044b\\u0435)\",\"Q2 (\\u0421\\u0442\\u0430\\u043d\\u0434\\u0430\\u0440\\u0442\\u043d\\u044b\\u0435)\",\"Q2 (\\u0421\\u0442\\u0430\\u043d\\u0434\\u0430\\u0440\\u0442\\u043d\\u044b\\u0435)\",\"Q2 (\\u0421\\u0442\\u0430\\u043d\\u0434\\u0430\\u0440\\u0442\\u043d\\u044b\\u0435)\",\"Q2 (\\u0421\\u0442\\u0430\\u043d\\u0434\\u0430\\u0440\\u0442\\u043d\\u044b\\u0435)\",\"Q2 (\\u0421\\u0442\\u0430\\u043d\\u0434\\u0430\\u0440\\u0442\\u043d\\u044b\\u0435)\",\"Q2 (\\u0421\\u0442\\u0430\\u043d\\u0434\\u0430\\u0440\\u0442\\u043d\\u044b\\u0435)\",\"Q2 (\\u0421\\u0442\\u0430\\u043d\\u0434\\u0430\\u0440\\u0442\\u043d\\u044b\\u0435)\",\"Q2 (\\u0421\\u0442\\u0430\\u043d\\u0434\\u0430\\u0440\\u0442\\u043d\\u044b\\u0435)\",\"Q2 (\\u0421\\u0442\\u0430\\u043d\\u0434\\u0430\\u0440\\u0442\\u043d\\u044b\\u0435)\",\"Q2 (\\u0421\\u0442\\u0430\\u043d\\u0434\\u0430\\u0440\\u0442\\u043d\\u044b\\u0435)\",\"Q2 (\\u0421\\u0442\\u0430\\u043d\\u0434\\u0430\\u0440\\u0442\\u043d\\u044b\\u0435)\",\"Q2 (\\u0421\\u0442\\u0430\\u043d\\u0434\\u0430\\u0440\\u0442\\u043d\\u044b\\u0435)\",\"Q2 (\\u0421\\u0442\\u0430\\u043d\\u0434\\u0430\\u0440\\u0442\\u043d\\u044b\\u0435)\",\"Q2 (\\u0421\\u0442\\u0430\\u043d\\u0434\\u0430\\u0440\\u0442\\u043d\\u044b\\u0435)\",\"Q2 (\\u0421\\u0442\\u0430\\u043d\\u0434\\u0430\\u0440\\u0442\\u043d\\u044b\\u0435)\",\"Q2 (\\u0421\\u0442\\u0430\\u043d\\u0434\\u0430\\u0440\\u0442\\u043d\\u044b\\u0435)\",\"Q2 (\\u0421\\u0442\\u0430\\u043d\\u0434\\u0430\\u0440\\u0442\\u043d\\u044b\\u0435)\",\"Q2 (\\u0421\\u0442\\u0430\\u043d\\u0434\\u0430\\u0440\\u0442\\u043d\\u044b\\u0435)\",\"Q2 (\\u0421\\u0442\\u0430\\u043d\\u0434\\u0430\\u0440\\u0442\\u043d\\u044b\\u0435)\",\"Q2 (\\u0421\\u0442\\u0430\\u043d\\u0434\\u0430\\u0440\\u0442\\u043d\\u044b\\u0435)\",\"Q2 (\\u0421\\u0442\\u0430\\u043d\\u0434\\u0430\\u0440\\u0442\\u043d\\u044b\\u0435)\",\"Q2 (\\u0421\\u0442\\u0430\\u043d\\u0434\\u0430\\u0440\\u0442\\u043d\\u044b\\u0435)\",\"Q2 (\\u0421\\u0442\\u0430\\u043d\\u0434\\u0430\\u0440\\u0442\\u043d\\u044b\\u0435)\",\"Q2 (\\u0421\\u0442\\u0430\\u043d\\u0434\\u0430\\u0440\\u0442\\u043d\\u044b\\u0435)\",\"Q2 (\\u0421\\u0442\\u0430\\u043d\\u0434\\u0430\\u0440\\u0442\\u043d\\u044b\\u0435)\",\"Q2 (\\u0421\\u0442\\u0430\\u043d\\u0434\\u0430\\u0440\\u0442\\u043d\\u044b\\u0435)\",\"Q2 (\\u0421\\u0442\\u0430\\u043d\\u0434\\u0430\\u0440\\u0442\\u043d\\u044b\\u0435)\",\"Q2 (\\u0421\\u0442\\u0430\\u043d\\u0434\\u0430\\u0440\\u0442\\u043d\\u044b\\u0435)\",\"Q2 (\\u0421\\u0442\\u0430\\u043d\\u0434\\u0430\\u0440\\u0442\\u043d\\u044b\\u0435)\",\"Q2 (\\u0421\\u0442\\u0430\\u043d\\u0434\\u0430\\u0440\\u0442\\u043d\\u044b\\u0435)\",\"Q2 (\\u0421\\u0442\\u0430\\u043d\\u0434\\u0430\\u0440\\u0442\\u043d\\u044b\\u0435)\",\"Q2 (\\u0421\\u0442\\u0430\\u043d\\u0434\\u0430\\u0440\\u0442\\u043d\\u044b\\u0435)\",\"Q2 (\\u0421\\u0442\\u0430\\u043d\\u0434\\u0430\\u0440\\u0442\\u043d\\u044b\\u0435)\",\"Q2 (\\u0421\\u0442\\u0430\\u043d\\u0434\\u0430\\u0440\\u0442\\u043d\\u044b\\u0435)\",\"Q2 (\\u0421\\u0442\\u0430\\u043d\\u0434\\u0430\\u0440\\u0442\\u043d\\u044b\\u0435)\",\"Q2 (\\u0421\\u0442\\u0430\\u043d\\u0434\\u0430\\u0440\\u0442\\u043d\\u044b\\u0435)\",\"Q2 (\\u0421\\u0442\\u0430\\u043d\\u0434\\u0430\\u0440\\u0442\\u043d\\u044b\\u0435)\",\"Q2 (\\u0421\\u0442\\u0430\\u043d\\u0434\\u0430\\u0440\\u0442\\u043d\\u044b\\u0435)\",\"Q2 (\\u0421\\u0442\\u0430\\u043d\\u0434\\u0430\\u0440\\u0442\\u043d\\u044b\\u0435)\",\"Q2 (\\u0421\\u0442\\u0430\\u043d\\u0434\\u0430\\u0440\\u0442\\u043d\\u044b\\u0435)\",\"Q2 (\\u0421\\u0442\\u0430\\u043d\\u0434\\u0430\\u0440\\u0442\\u043d\\u044b\\u0435)\",\"Q2 (\\u0421\\u0442\\u0430\\u043d\\u0434\\u0430\\u0440\\u0442\\u043d\\u044b\\u0435)\",\"Q2 (\\u0421\\u0442\\u0430\\u043d\\u0434\\u0430\\u0440\\u0442\\u043d\\u044b\\u0435)\",\"Q2 (\\u0421\\u0442\\u0430\\u043d\\u0434\\u0430\\u0440\\u0442\\u043d\\u044b\\u0435)\",\"Q2 (\\u0421\\u0442\\u0430\\u043d\\u0434\\u0430\\u0440\\u0442\\u043d\\u044b\\u0435)\",\"Q2 (\\u0421\\u0442\\u0430\\u043d\\u0434\\u0430\\u0440\\u0442\\u043d\\u044b\\u0435)\",\"Q2 (\\u0421\\u0442\\u0430\\u043d\\u0434\\u0430\\u0440\\u0442\\u043d\\u044b\\u0435)\",\"Q2 (\\u0421\\u0442\\u0430\\u043d\\u0434\\u0430\\u0440\\u0442\\u043d\\u044b\\u0435)\",\"Q2 (\\u0421\\u0442\\u0430\\u043d\\u0434\\u0430\\u0440\\u0442\\u043d\\u044b\\u0435)\",\"Q2 (\\u0421\\u0442\\u0430\\u043d\\u0434\\u0430\\u0440\\u0442\\u043d\\u044b\\u0435)\",\"Q2 (\\u0421\\u0442\\u0430\\u043d\\u0434\\u0430\\u0440\\u0442\\u043d\\u044b\\u0435)\",\"Q2 (\\u0421\\u0442\\u0430\\u043d\\u0434\\u0430\\u0440\\u0442\\u043d\\u044b\\u0435)\",\"Q2 (\\u0421\\u0442\\u0430\\u043d\\u0434\\u0430\\u0440\\u0442\\u043d\\u044b\\u0435)\",\"Q2 (\\u0421\\u0442\\u0430\\u043d\\u0434\\u0430\\u0440\\u0442\\u043d\\u044b\\u0435)\",\"Q2 (\\u0421\\u0442\\u0430\\u043d\\u0434\\u0430\\u0440\\u0442\\u043d\\u044b\\u0435)\",\"Q2 (\\u0421\\u0442\\u0430\\u043d\\u0434\\u0430\\u0440\\u0442\\u043d\\u044b\\u0435)\",\"Q2 (\\u0421\\u0442\\u0430\\u043d\\u0434\\u0430\\u0440\\u0442\\u043d\\u044b\\u0435)\",\"Q2 (\\u0421\\u0442\\u0430\\u043d\\u0434\\u0430\\u0440\\u0442\\u043d\\u044b\\u0435)\",\"Q2 (\\u0421\\u0442\\u0430\\u043d\\u0434\\u0430\\u0440\\u0442\\u043d\\u044b\\u0435)\",\"Q2 (\\u0421\\u0442\\u0430\\u043d\\u0434\\u0430\\u0440\\u0442\\u043d\\u044b\\u0435)\",\"Q2 (\\u0421\\u0442\\u0430\\u043d\\u0434\\u0430\\u0440\\u0442\\u043d\\u044b\\u0435)\",\"Q2 (\\u0421\\u0442\\u0430\\u043d\\u0434\\u0430\\u0440\\u0442\\u043d\\u044b\\u0435)\",\"Q2 (\\u0421\\u0442\\u0430\\u043d\\u0434\\u0430\\u0440\\u0442\\u043d\\u044b\\u0435)\",\"Q2 (\\u0421\\u0442\\u0430\\u043d\\u0434\\u0430\\u0440\\u0442\\u043d\\u044b\\u0435)\",\"Q2 (\\u0421\\u0442\\u0430\\u043d\\u0434\\u0430\\u0440\\u0442\\u043d\\u044b\\u0435)\",\"Q2 (\\u0421\\u0442\\u0430\\u043d\\u0434\\u0430\\u0440\\u0442\\u043d\\u044b\\u0435)\",\"Q2 (\\u0421\\u0442\\u0430\\u043d\\u0434\\u0430\\u0440\\u0442\\u043d\\u044b\\u0435)\",\"Q2 (\\u0421\\u0442\\u0430\\u043d\\u0434\\u0430\\u0440\\u0442\\u043d\\u044b\\u0435)\",\"Q2 (\\u0421\\u0442\\u0430\\u043d\\u0434\\u0430\\u0440\\u0442\\u043d\\u044b\\u0435)\",\"Q2 (\\u0421\\u0442\\u0430\\u043d\\u0434\\u0430\\u0440\\u0442\\u043d\\u044b\\u0435)\",\"Q2 (\\u0421\\u0442\\u0430\\u043d\\u0434\\u0430\\u0440\\u0442\\u043d\\u044b\\u0435)\",\"Q2 (\\u0421\\u0442\\u0430\\u043d\\u0434\\u0430\\u0440\\u0442\\u043d\\u044b\\u0435)\",\"Q2 (\\u0421\\u0442\\u0430\\u043d\\u0434\\u0430\\u0440\\u0442\\u043d\\u044b\\u0435)\",\"Q2 (\\u0421\\u0442\\u0430\\u043d\\u0434\\u0430\\u0440\\u0442\\u043d\\u044b\\u0435)\",\"Q2 (\\u0421\\u0442\\u0430\\u043d\\u0434\\u0430\\u0440\\u0442\\u043d\\u044b\\u0435)\",\"Q2 (\\u0421\\u0442\\u0430\\u043d\\u0434\\u0430\\u0440\\u0442\\u043d\\u044b\\u0435)\",\"Q2 (\\u0421\\u0442\\u0430\\u043d\\u0434\\u0430\\u0440\\u0442\\u043d\\u044b\\u0435)\",\"Q2 (\\u0421\\u0442\\u0430\\u043d\\u0434\\u0430\\u0440\\u0442\\u043d\\u044b\\u0435)\",\"Q2 (\\u0421\\u0442\\u0430\\u043d\\u0434\\u0430\\u0440\\u0442\\u043d\\u044b\\u0435)\",\"Q2 (\\u0421\\u0442\\u0430\\u043d\\u0434\\u0430\\u0440\\u0442\\u043d\\u044b\\u0435)\",\"Q2 (\\u0421\\u0442\\u0430\\u043d\\u0434\\u0430\\u0440\\u0442\\u043d\\u044b\\u0435)\",\"Q2 (\\u0421\\u0442\\u0430\\u043d\\u0434\\u0430\\u0440\\u0442\\u043d\\u044b\\u0435)\",\"Q2 (\\u0421\\u0442\\u0430\\u043d\\u0434\\u0430\\u0440\\u0442\\u043d\\u044b\\u0435)\",\"Q2 (\\u0421\\u0442\\u0430\\u043d\\u0434\\u0430\\u0440\\u0442\\u043d\\u044b\\u0435)\",\"Q2 (\\u0421\\u0442\\u0430\\u043d\\u0434\\u0430\\u0440\\u0442\\u043d\\u044b\\u0435)\",\"Q2 (\\u0421\\u0442\\u0430\\u043d\\u0434\\u0430\\u0440\\u0442\\u043d\\u044b\\u0435)\",\"Q2 (\\u0421\\u0442\\u0430\\u043d\\u0434\\u0430\\u0440\\u0442\\u043d\\u044b\\u0435)\",\"Q2 (\\u0421\\u0442\\u0430\\u043d\\u0434\\u0430\\u0440\\u0442\\u043d\\u044b\\u0435)\",\"Q2 (\\u0421\\u0442\\u0430\\u043d\\u0434\\u0430\\u0440\\u0442\\u043d\\u044b\\u0435)\",\"Q2 (\\u0421\\u0442\\u0430\\u043d\\u0434\\u0430\\u0440\\u0442\\u043d\\u044b\\u0435)\",\"Q2 (\\u0421\\u0442\\u0430\\u043d\\u0434\\u0430\\u0440\\u0442\\u043d\\u044b\\u0435)\",\"Q2 (\\u0421\\u0442\\u0430\\u043d\\u0434\\u0430\\u0440\\u0442\\u043d\\u044b\\u0435)\",\"Q2 (\\u0421\\u0442\\u0430\\u043d\\u0434\\u0430\\u0440\\u0442\\u043d\\u044b\\u0435)\",\"Q2 (\\u0421\\u0442\\u0430\\u043d\\u0434\\u0430\\u0440\\u0442\\u043d\\u044b\\u0435)\",\"Q2 (\\u0421\\u0442\\u0430\\u043d\\u0434\\u0430\\u0440\\u0442\\u043d\\u044b\\u0435)\",\"Q2 (\\u0421\\u0442\\u0430\\u043d\\u0434\\u0430\\u0440\\u0442\\u043d\\u044b\\u0435)\",\"Q2 (\\u0421\\u0442\\u0430\\u043d\\u0434\\u0430\\u0440\\u0442\\u043d\\u044b\\u0435)\",\"Q2 (\\u0421\\u0442\\u0430\\u043d\\u0434\\u0430\\u0440\\u0442\\u043d\\u044b\\u0435)\",\"Q2 (\\u0421\\u0442\\u0430\\u043d\\u0434\\u0430\\u0440\\u0442\\u043d\\u044b\\u0435)\",\"Q2 (\\u0421\\u0442\\u0430\\u043d\\u0434\\u0430\\u0440\\u0442\\u043d\\u044b\\u0435)\",\"Q2 (\\u0421\\u0442\\u0430\\u043d\\u0434\\u0430\\u0440\\u0442\\u043d\\u044b\\u0435)\",\"Q2 (\\u0421\\u0442\\u0430\\u043d\\u0434\\u0430\\u0440\\u0442\\u043d\\u044b\\u0435)\",\"Q2 (\\u0421\\u0442\\u0430\\u043d\\u0434\\u0430\\u0440\\u0442\\u043d\\u044b\\u0435)\",\"Q2 (\\u0421\\u0442\\u0430\\u043d\\u0434\\u0430\\u0440\\u0442\\u043d\\u044b\\u0435)\",\"Q2 (\\u0421\\u0442\\u0430\\u043d\\u0434\\u0430\\u0440\\u0442\\u043d\\u044b\\u0435)\",\"Q2 (\\u0421\\u0442\\u0430\\u043d\\u0434\\u0430\\u0440\\u0442\\u043d\\u044b\\u0435)\",\"Q2 (\\u0421\\u0442\\u0430\\u043d\\u0434\\u0430\\u0440\\u0442\\u043d\\u044b\\u0435)\",\"Q2 (\\u0421\\u0442\\u0430\\u043d\\u0434\\u0430\\u0440\\u0442\\u043d\\u044b\\u0435)\",\"Q2 (\\u0421\\u0442\\u0430\\u043d\\u0434\\u0430\\u0440\\u0442\\u043d\\u044b\\u0435)\",\"Q2 (\\u0421\\u0442\\u0430\\u043d\\u0434\\u0430\\u0440\\u0442\\u043d\\u044b\\u0435)\",\"Q2 (\\u0421\\u0442\\u0430\\u043d\\u0434\\u0430\\u0440\\u0442\\u043d\\u044b\\u0435)\",\"Q2 (\\u0421\\u0442\\u0430\\u043d\\u0434\\u0430\\u0440\\u0442\\u043d\\u044b\\u0435)\",\"Q2 (\\u0421\\u0442\\u0430\\u043d\\u0434\\u0430\\u0440\\u0442\\u043d\\u044b\\u0435)\",\"Q2 (\\u0421\\u0442\\u0430\\u043d\\u0434\\u0430\\u0440\\u0442\\u043d\\u044b\\u0435)\",\"Q2 (\\u0421\\u0442\\u0430\\u043d\\u0434\\u0430\\u0440\\u0442\\u043d\\u044b\\u0435)\",\"Q2 (\\u0421\\u0442\\u0430\\u043d\\u0434\\u0430\\u0440\\u0442\\u043d\\u044b\\u0435)\",\"Q2 (\\u0421\\u0442\\u0430\\u043d\\u0434\\u0430\\u0440\\u0442\\u043d\\u044b\\u0435)\",\"Q2 (\\u0421\\u0442\\u0430\\u043d\\u0434\\u0430\\u0440\\u0442\\u043d\\u044b\\u0435)\",\"Q2 (\\u0421\\u0442\\u0430\\u043d\\u0434\\u0430\\u0440\\u0442\\u043d\\u044b\\u0435)\",\"Q2 (\\u0421\\u0442\\u0430\\u043d\\u0434\\u0430\\u0440\\u0442\\u043d\\u044b\\u0435)\"],\"xaxis\":\"x\",\"y\":[124.387,173.50503333333333,149.20933333333335,165.99377777777778,119.33660869565219,126.44591176470588,164.62943157894736,153.02213333333333,138.78046153846154,175.33828571428572,116.892,166.26957894736844,124.75334736842105,135.8488181818182,120.4854,117.47722413793103,143.56433333333334,124.82906666666668,155.61733333333333,149.2344761904762,126.37714285714286,159.5664,176.6818,183.0272857142857,138.60957894736842,163.27222222222224,144.09064,162.12153571428573,125.93366666666667,129.26854545454546,175.84290909090907,124.4155,118.975,145.38119999999998,161.6708888888889,178.45583333333332,175.53258823529413,180.82272727272726,115.907,135.43341176470588,155.1042222222222,157.68854545454545,122.1022,163.72142857142856,132.45000000000002,167.44644444444444,119.94998181818183,125.84959999999998,173.40653846153845,125.45511111111111,164.42355,176.71163870967743,183.924,178.9156470588235,169.38914285714284,138.02486363636365,152.65,116.03523529411764,116.84875,155.78160000000003,153.3660909090909,180.23328571428573,146.80409230769231,151.05526315789476,171.2585,130.6086,153.9944705882353,159.39011764705882,119.49025,137.66479999999999,167.2354285714286,167.8025714285714,137.54790476190476,143.81799999999998,182.42340000000002,118.72719230769232,123.0807142857143,158.21442857142856,164.569,177.20675,162.51685,173.3443,182.524,118.67875000000001,153.3102105263158,118.99778947368422,118.19633333333333,169.28933333333333,127.27200000000002,124.02786666666665,178.56253333333333,136.22653846153847,138.39866666666666,144.1319333333333,145.5528181818182,144.7884705882353,130.20155555555556,167.97240000000002,177.88263636363638,149.20406666666668,118.53572727272727,169.47514285714286,125.74036363636364,119.9782105263158,154.6973125,181.26645000000002,172.4990588235294,120.61037037037038,142.8231,153.95717647058822,175.52828571428572,165.5093684210526,162.5095,180.28771428571432,161.8157,134.62842857142857,116.78842105263158,136.14215,144.7305789473684,171.7242,134.94285714285715,133.32442105263158,147.75333333333333,124.0488,163.77586666666667,161.4971111111111,159.378,144.71439999999998,132.8963076923077,159.8376,173.2534375,130.2124,150.61375,140.98255555555554,162.43333333333334,139.80522222222223,180.10544444444446,142.70982352941178,138.13690909090909,173.8406,166.48924324324324,128.30675,166.44287500000002,178.3105,144.28199999999998,122.26371428571429,133.388,149.15400000000002,146.4223846153846,162.982,146.224875,152.03866666666667,155.53821052631577,135.16816666666665,141.348,128.96114285714287,153.983,180.96658333333335,172.5776923076923,136.93599999999998,116.52919999999999,146.5,141.80900000000003,164.21220000000002,156.83,162.23457142857143,131.3623076923077,154.351,177.54757142857142,146.89266666666668,169.84066666666666,159.86925,165.85099999999997,158.60909090909092,127.64907692307693,120.08344444444444,134.1036,143.76514285714285,167.3888,160.23385714285715,153.34816666666669,119.69205555555556,144.1868888888889,168.03266666666664,117.129875,158.49928571428572,147.70080000000002,131.997625,180.24433333333332,182.09823076923078,146.525,147.69266666666667,156.60883333333334,137.67919999999998,128.50533333333334,140.48857142857142,161.28,173.84016666666665],\"yaxis\":\"y\",\"type\":\"bar\"},{\"alignmentgroup\":\"True\",\"hovertemplate\":\"quantile_AOV=%{x}<br>AOV=%{y}<extra></extra>\",\"legendgroup\":\"Q3 (\\u041f\\u0440\\u0435\\u043c\\u0438\\u0430\\u043b\\u044c\\u043d\\u044b\\u0435)\",\"marker\":{\"color\":\"#00cc96\",\"pattern\":{\"shape\":\"\"}},\"name\":\"Q3 (\\u041f\\u0440\\u0435\\u043c\\u0438\\u0430\\u043b\\u044c\\u043d\\u044b\\u0435)\",\"offsetgroup\":\"Q3 (\\u041f\\u0440\\u0435\\u043c\\u0438\\u0430\\u043b\\u044c\\u043d\\u044b\\u0435)\",\"orientation\":\"v\",\"showlegend\":true,\"textposition\":\"auto\",\"x\":[\"Q3 (\\u041f\\u0440\\u0435\\u043c\\u0438\\u0430\\u043b\\u044c\\u043d\\u044b\\u0435)\",\"Q3 (\\u041f\\u0440\\u0435\\u043c\\u0438\\u0430\\u043b\\u044c\\u043d\\u044b\\u0435)\",\"Q3 (\\u041f\\u0440\\u0435\\u043c\\u0438\\u0430\\u043b\\u044c\\u043d\\u044b\\u0435)\",\"Q3 (\\u041f\\u0440\\u0435\\u043c\\u0438\\u0430\\u043b\\u044c\\u043d\\u044b\\u0435)\",\"Q3 (\\u041f\\u0440\\u0435\\u043c\\u0438\\u0430\\u043b\\u044c\\u043d\\u044b\\u0435)\",\"Q3 (\\u041f\\u0440\\u0435\\u043c\\u0438\\u0430\\u043b\\u044c\\u043d\\u044b\\u0435)\",\"Q3 (\\u041f\\u0440\\u0435\\u043c\\u0438\\u0430\\u043b\\u044c\\u043d\\u044b\\u0435)\",\"Q3 (\\u041f\\u0440\\u0435\\u043c\\u0438\\u0430\\u043b\\u044c\\u043d\\u044b\\u0435)\",\"Q3 (\\u041f\\u0440\\u0435\\u043c\\u0438\\u0430\\u043b\\u044c\\u043d\\u044b\\u0435)\",\"Q3 (\\u041f\\u0440\\u0435\\u043c\\u0438\\u0430\\u043b\\u044c\\u043d\\u044b\\u0435)\",\"Q3 (\\u041f\\u0440\\u0435\\u043c\\u0438\\u0430\\u043b\\u044c\\u043d\\u044b\\u0435)\",\"Q3 (\\u041f\\u0440\\u0435\\u043c\\u0438\\u0430\\u043b\\u044c\\u043d\\u044b\\u0435)\",\"Q3 (\\u041f\\u0440\\u0435\\u043c\\u0438\\u0430\\u043b\\u044c\\u043d\\u044b\\u0435)\",\"Q3 (\\u041f\\u0440\\u0435\\u043c\\u0438\\u0430\\u043b\\u044c\\u043d\\u044b\\u0435)\",\"Q3 (\\u041f\\u0440\\u0435\\u043c\\u0438\\u0430\\u043b\\u044c\\u043d\\u044b\\u0435)\",\"Q3 (\\u041f\\u0440\\u0435\\u043c\\u0438\\u0430\\u043b\\u044c\\u043d\\u044b\\u0435)\",\"Q3 (\\u041f\\u0440\\u0435\\u043c\\u0438\\u0430\\u043b\\u044c\\u043d\\u044b\\u0435)\",\"Q3 (\\u041f\\u0440\\u0435\\u043c\\u0438\\u0430\\u043b\\u044c\\u043d\\u044b\\u0435)\",\"Q3 (\\u041f\\u0440\\u0435\\u043c\\u0438\\u0430\\u043b\\u044c\\u043d\\u044b\\u0435)\",\"Q3 (\\u041f\\u0440\\u0435\\u043c\\u0438\\u0430\\u043b\\u044c\\u043d\\u044b\\u0435)\",\"Q3 (\\u041f\\u0440\\u0435\\u043c\\u0438\\u0430\\u043b\\u044c\\u043d\\u044b\\u0435)\",\"Q3 (\\u041f\\u0440\\u0435\\u043c\\u0438\\u0430\\u043b\\u044c\\u043d\\u044b\\u0435)\",\"Q3 (\\u041f\\u0440\\u0435\\u043c\\u0438\\u0430\\u043b\\u044c\\u043d\\u044b\\u0435)\",\"Q3 (\\u041f\\u0440\\u0435\\u043c\\u0438\\u0430\\u043b\\u044c\\u043d\\u044b\\u0435)\",\"Q3 (\\u041f\\u0440\\u0435\\u043c\\u0438\\u0430\\u043b\\u044c\\u043d\\u044b\\u0435)\",\"Q3 (\\u041f\\u0440\\u0435\\u043c\\u0438\\u0430\\u043b\\u044c\\u043d\\u044b\\u0435)\",\"Q3 (\\u041f\\u0440\\u0435\\u043c\\u0438\\u0430\\u043b\\u044c\\u043d\\u044b\\u0435)\",\"Q3 (\\u041f\\u0440\\u0435\\u043c\\u0438\\u0430\\u043b\\u044c\\u043d\\u044b\\u0435)\",\"Q3 (\\u041f\\u0440\\u0435\\u043c\\u0438\\u0430\\u043b\\u044c\\u043d\\u044b\\u0435)\",\"Q3 (\\u041f\\u0440\\u0435\\u043c\\u0438\\u0430\\u043b\\u044c\\u043d\\u044b\\u0435)\",\"Q3 (\\u041f\\u0440\\u0435\\u043c\\u0438\\u0430\\u043b\\u044c\\u043d\\u044b\\u0435)\",\"Q3 (\\u041f\\u0440\\u0435\\u043c\\u0438\\u0430\\u043b\\u044c\\u043d\\u044b\\u0435)\",\"Q3 (\\u041f\\u0440\\u0435\\u043c\\u0438\\u0430\\u043b\\u044c\\u043d\\u044b\\u0435)\",\"Q3 (\\u041f\\u0440\\u0435\\u043c\\u0438\\u0430\\u043b\\u044c\\u043d\\u044b\\u0435)\",\"Q3 (\\u041f\\u0440\\u0435\\u043c\\u0438\\u0430\\u043b\\u044c\\u043d\\u044b\\u0435)\",\"Q3 (\\u041f\\u0440\\u0435\\u043c\\u0438\\u0430\\u043b\\u044c\\u043d\\u044b\\u0435)\",\"Q3 (\\u041f\\u0440\\u0435\\u043c\\u0438\\u0430\\u043b\\u044c\\u043d\\u044b\\u0435)\",\"Q3 (\\u041f\\u0440\\u0435\\u043c\\u0438\\u0430\\u043b\\u044c\\u043d\\u044b\\u0435)\",\"Q3 (\\u041f\\u0440\\u0435\\u043c\\u0438\\u0430\\u043b\\u044c\\u043d\\u044b\\u0435)\",\"Q3 (\\u041f\\u0440\\u0435\\u043c\\u0438\\u0430\\u043b\\u044c\\u043d\\u044b\\u0435)\",\"Q3 (\\u041f\\u0440\\u0435\\u043c\\u0438\\u0430\\u043b\\u044c\\u043d\\u044b\\u0435)\",\"Q3 (\\u041f\\u0440\\u0435\\u043c\\u0438\\u0430\\u043b\\u044c\\u043d\\u044b\\u0435)\",\"Q3 (\\u041f\\u0440\\u0435\\u043c\\u0438\\u0430\\u043b\\u044c\\u043d\\u044b\\u0435)\",\"Q3 (\\u041f\\u0440\\u0435\\u043c\\u0438\\u0430\\u043b\\u044c\\u043d\\u044b\\u0435)\",\"Q3 (\\u041f\\u0440\\u0435\\u043c\\u0438\\u0430\\u043b\\u044c\\u043d\\u044b\\u0435)\",\"Q3 (\\u041f\\u0440\\u0435\\u043c\\u0438\\u0430\\u043b\\u044c\\u043d\\u044b\\u0435)\",\"Q3 (\\u041f\\u0440\\u0435\\u043c\\u0438\\u0430\\u043b\\u044c\\u043d\\u044b\\u0435)\",\"Q3 (\\u041f\\u0440\\u0435\\u043c\\u0438\\u0430\\u043b\\u044c\\u043d\\u044b\\u0435)\",\"Q3 (\\u041f\\u0440\\u0435\\u043c\\u0438\\u0430\\u043b\\u044c\\u043d\\u044b\\u0435)\",\"Q3 (\\u041f\\u0440\\u0435\\u043c\\u0438\\u0430\\u043b\\u044c\\u043d\\u044b\\u0435)\",\"Q3 (\\u041f\\u0440\\u0435\\u043c\\u0438\\u0430\\u043b\\u044c\\u043d\\u044b\\u0435)\",\"Q3 (\\u041f\\u0440\\u0435\\u043c\\u0438\\u0430\\u043b\\u044c\\u043d\\u044b\\u0435)\",\"Q3 (\\u041f\\u0440\\u0435\\u043c\\u0438\\u0430\\u043b\\u044c\\u043d\\u044b\\u0435)\",\"Q3 (\\u041f\\u0440\\u0435\\u043c\\u0438\\u0430\\u043b\\u044c\\u043d\\u044b\\u0435)\",\"Q3 (\\u041f\\u0440\\u0435\\u043c\\u0438\\u0430\\u043b\\u044c\\u043d\\u044b\\u0435)\",\"Q3 (\\u041f\\u0440\\u0435\\u043c\\u0438\\u0430\\u043b\\u044c\\u043d\\u044b\\u0435)\",\"Q3 (\\u041f\\u0440\\u0435\\u043c\\u0438\\u0430\\u043b\\u044c\\u043d\\u044b\\u0435)\",\"Q3 (\\u041f\\u0440\\u0435\\u043c\\u0438\\u0430\\u043b\\u044c\\u043d\\u044b\\u0435)\",\"Q3 (\\u041f\\u0440\\u0435\\u043c\\u0438\\u0430\\u043b\\u044c\\u043d\\u044b\\u0435)\",\"Q3 (\\u041f\\u0440\\u0435\\u043c\\u0438\\u0430\\u043b\\u044c\\u043d\\u044b\\u0435)\",\"Q3 (\\u041f\\u0440\\u0435\\u043c\\u0438\\u0430\\u043b\\u044c\\u043d\\u044b\\u0435)\",\"Q3 (\\u041f\\u0440\\u0435\\u043c\\u0438\\u0430\\u043b\\u044c\\u043d\\u044b\\u0435)\",\"Q3 (\\u041f\\u0440\\u0435\\u043c\\u0438\\u0430\\u043b\\u044c\\u043d\\u044b\\u0435)\",\"Q3 (\\u041f\\u0440\\u0435\\u043c\\u0438\\u0430\\u043b\\u044c\\u043d\\u044b\\u0435)\",\"Q3 (\\u041f\\u0440\\u0435\\u043c\\u0438\\u0430\\u043b\\u044c\\u043d\\u044b\\u0435)\",\"Q3 (\\u041f\\u0440\\u0435\\u043c\\u0438\\u0430\\u043b\\u044c\\u043d\\u044b\\u0435)\",\"Q3 (\\u041f\\u0440\\u0435\\u043c\\u0438\\u0430\\u043b\\u044c\\u043d\\u044b\\u0435)\",\"Q3 (\\u041f\\u0440\\u0435\\u043c\\u0438\\u0430\\u043b\\u044c\\u043d\\u044b\\u0435)\",\"Q3 (\\u041f\\u0440\\u0435\\u043c\\u0438\\u0430\\u043b\\u044c\\u043d\\u044b\\u0435)\",\"Q3 (\\u041f\\u0440\\u0435\\u043c\\u0438\\u0430\\u043b\\u044c\\u043d\\u044b\\u0435)\",\"Q3 (\\u041f\\u0440\\u0435\\u043c\\u0438\\u0430\\u043b\\u044c\\u043d\\u044b\\u0435)\",\"Q3 (\\u041f\\u0440\\u0435\\u043c\\u0438\\u0430\\u043b\\u044c\\u043d\\u044b\\u0435)\",\"Q3 (\\u041f\\u0440\\u0435\\u043c\\u0438\\u0430\\u043b\\u044c\\u043d\\u044b\\u0435)\",\"Q3 (\\u041f\\u0440\\u0435\\u043c\\u0438\\u0430\\u043b\\u044c\\u043d\\u044b\\u0435)\",\"Q3 (\\u041f\\u0440\\u0435\\u043c\\u0438\\u0430\\u043b\\u044c\\u043d\\u044b\\u0435)\",\"Q3 (\\u041f\\u0440\\u0435\\u043c\\u0438\\u0430\\u043b\\u044c\\u043d\\u044b\\u0435)\",\"Q3 (\\u041f\\u0440\\u0435\\u043c\\u0438\\u0430\\u043b\\u044c\\u043d\\u044b\\u0435)\",\"Q3 (\\u041f\\u0440\\u0435\\u043c\\u0438\\u0430\\u043b\\u044c\\u043d\\u044b\\u0435)\",\"Q3 (\\u041f\\u0440\\u0435\\u043c\\u0438\\u0430\\u043b\\u044c\\u043d\\u044b\\u0435)\",\"Q3 (\\u041f\\u0440\\u0435\\u043c\\u0438\\u0430\\u043b\\u044c\\u043d\\u044b\\u0435)\",\"Q3 (\\u041f\\u0440\\u0435\\u043c\\u0438\\u0430\\u043b\\u044c\\u043d\\u044b\\u0435)\",\"Q3 (\\u041f\\u0440\\u0435\\u043c\\u0438\\u0430\\u043b\\u044c\\u043d\\u044b\\u0435)\",\"Q3 (\\u041f\\u0440\\u0435\\u043c\\u0438\\u0430\\u043b\\u044c\\u043d\\u044b\\u0435)\",\"Q3 (\\u041f\\u0440\\u0435\\u043c\\u0438\\u0430\\u043b\\u044c\\u043d\\u044b\\u0435)\",\"Q3 (\\u041f\\u0440\\u0435\\u043c\\u0438\\u0430\\u043b\\u044c\\u043d\\u044b\\u0435)\",\"Q3 (\\u041f\\u0440\\u0435\\u043c\\u0438\\u0430\\u043b\\u044c\\u043d\\u044b\\u0435)\",\"Q3 (\\u041f\\u0440\\u0435\\u043c\\u0438\\u0430\\u043b\\u044c\\u043d\\u044b\\u0435)\",\"Q3 (\\u041f\\u0440\\u0435\\u043c\\u0438\\u0430\\u043b\\u044c\\u043d\\u044b\\u0435)\",\"Q3 (\\u041f\\u0440\\u0435\\u043c\\u0438\\u0430\\u043b\\u044c\\u043d\\u044b\\u0435)\",\"Q3 (\\u041f\\u0440\\u0435\\u043c\\u0438\\u0430\\u043b\\u044c\\u043d\\u044b\\u0435)\",\"Q3 (\\u041f\\u0440\\u0435\\u043c\\u0438\\u0430\\u043b\\u044c\\u043d\\u044b\\u0435)\",\"Q3 (\\u041f\\u0440\\u0435\\u043c\\u0438\\u0430\\u043b\\u044c\\u043d\\u044b\\u0435)\",\"Q3 (\\u041f\\u0440\\u0435\\u043c\\u0438\\u0430\\u043b\\u044c\\u043d\\u044b\\u0435)\",\"Q3 (\\u041f\\u0440\\u0435\\u043c\\u0438\\u0430\\u043b\\u044c\\u043d\\u044b\\u0435)\",\"Q3 (\\u041f\\u0440\\u0435\\u043c\\u0438\\u0430\\u043b\\u044c\\u043d\\u044b\\u0435)\",\"Q3 (\\u041f\\u0440\\u0435\\u043c\\u0438\\u0430\\u043b\\u044c\\u043d\\u044b\\u0435)\",\"Q3 (\\u041f\\u0440\\u0435\\u043c\\u0438\\u0430\\u043b\\u044c\\u043d\\u044b\\u0435)\",\"Q3 (\\u041f\\u0440\\u0435\\u043c\\u0438\\u0430\\u043b\\u044c\\u043d\\u044b\\u0435)\",\"Q3 (\\u041f\\u0440\\u0435\\u043c\\u0438\\u0430\\u043b\\u044c\\u043d\\u044b\\u0435)\",\"Q3 (\\u041f\\u0440\\u0435\\u043c\\u0438\\u0430\\u043b\\u044c\\u043d\\u044b\\u0435)\",\"Q3 (\\u041f\\u0440\\u0435\\u043c\\u0438\\u0430\\u043b\\u044c\\u043d\\u044b\\u0435)\",\"Q3 (\\u041f\\u0440\\u0435\\u043c\\u0438\\u0430\\u043b\\u044c\\u043d\\u044b\\u0435)\",\"Q3 (\\u041f\\u0440\\u0435\\u043c\\u0438\\u0430\\u043b\\u044c\\u043d\\u044b\\u0435)\",\"Q3 (\\u041f\\u0440\\u0435\\u043c\\u0438\\u0430\\u043b\\u044c\\u043d\\u044b\\u0435)\",\"Q3 (\\u041f\\u0440\\u0435\\u043c\\u0438\\u0430\\u043b\\u044c\\u043d\\u044b\\u0435)\",\"Q3 (\\u041f\\u0440\\u0435\\u043c\\u0438\\u0430\\u043b\\u044c\\u043d\\u044b\\u0435)\",\"Q3 (\\u041f\\u0440\\u0435\\u043c\\u0438\\u0430\\u043b\\u044c\\u043d\\u044b\\u0435)\",\"Q3 (\\u041f\\u0440\\u0435\\u043c\\u0438\\u0430\\u043b\\u044c\\u043d\\u044b\\u0435)\",\"Q3 (\\u041f\\u0440\\u0435\\u043c\\u0438\\u0430\\u043b\\u044c\\u043d\\u044b\\u0435)\",\"Q3 (\\u041f\\u0440\\u0435\\u043c\\u0438\\u0430\\u043b\\u044c\\u043d\\u044b\\u0435)\",\"Q3 (\\u041f\\u0440\\u0435\\u043c\\u0438\\u0430\\u043b\\u044c\\u043d\\u044b\\u0435)\",\"Q3 (\\u041f\\u0440\\u0435\\u043c\\u0438\\u0430\\u043b\\u044c\\u043d\\u044b\\u0435)\",\"Q3 (\\u041f\\u0440\\u0435\\u043c\\u0438\\u0430\\u043b\\u044c\\u043d\\u044b\\u0435)\",\"Q3 (\\u041f\\u0440\\u0435\\u043c\\u0438\\u0430\\u043b\\u044c\\u043d\\u044b\\u0435)\",\"Q3 (\\u041f\\u0440\\u0435\\u043c\\u0438\\u0430\\u043b\\u044c\\u043d\\u044b\\u0435)\",\"Q3 (\\u041f\\u0440\\u0435\\u043c\\u0438\\u0430\\u043b\\u044c\\u043d\\u044b\\u0435)\",\"Q3 (\\u041f\\u0440\\u0435\\u043c\\u0438\\u0430\\u043b\\u044c\\u043d\\u044b\\u0435)\",\"Q3 (\\u041f\\u0440\\u0435\\u043c\\u0438\\u0430\\u043b\\u044c\\u043d\\u044b\\u0435)\",\"Q3 (\\u041f\\u0440\\u0435\\u043c\\u0438\\u0430\\u043b\\u044c\\u043d\\u044b\\u0435)\",\"Q3 (\\u041f\\u0440\\u0435\\u043c\\u0438\\u0430\\u043b\\u044c\\u043d\\u044b\\u0435)\",\"Q3 (\\u041f\\u0440\\u0435\\u043c\\u0438\\u0430\\u043b\\u044c\\u043d\\u044b\\u0435)\",\"Q3 (\\u041f\\u0440\\u0435\\u043c\\u0438\\u0430\\u043b\\u044c\\u043d\\u044b\\u0435)\",\"Q3 (\\u041f\\u0440\\u0435\\u043c\\u0438\\u0430\\u043b\\u044c\\u043d\\u044b\\u0435)\",\"Q3 (\\u041f\\u0440\\u0435\\u043c\\u0438\\u0430\\u043b\\u044c\\u043d\\u044b\\u0435)\",\"Q3 (\\u041f\\u0440\\u0435\\u043c\\u0438\\u0430\\u043b\\u044c\\u043d\\u044b\\u0435)\",\"Q3 (\\u041f\\u0440\\u0435\\u043c\\u0438\\u0430\\u043b\\u044c\\u043d\\u044b\\u0435)\",\"Q3 (\\u041f\\u0440\\u0435\\u043c\\u0438\\u0430\\u043b\\u044c\\u043d\\u044b\\u0435)\",\"Q3 (\\u041f\\u0440\\u0435\\u043c\\u0438\\u0430\\u043b\\u044c\\u043d\\u044b\\u0435)\",\"Q3 (\\u041f\\u0440\\u0435\\u043c\\u0438\\u0430\\u043b\\u044c\\u043d\\u044b\\u0435)\",\"Q3 (\\u041f\\u0440\\u0435\\u043c\\u0438\\u0430\\u043b\\u044c\\u043d\\u044b\\u0435)\",\"Q3 (\\u041f\\u0440\\u0435\\u043c\\u0438\\u0430\\u043b\\u044c\\u043d\\u044b\\u0435)\",\"Q3 (\\u041f\\u0440\\u0435\\u043c\\u0438\\u0430\\u043b\\u044c\\u043d\\u044b\\u0435)\",\"Q3 (\\u041f\\u0440\\u0435\\u043c\\u0438\\u0430\\u043b\\u044c\\u043d\\u044b\\u0435)\",\"Q3 (\\u041f\\u0440\\u0435\\u043c\\u0438\\u0430\\u043b\\u044c\\u043d\\u044b\\u0435)\",\"Q3 (\\u041f\\u0440\\u0435\\u043c\\u0438\\u0430\\u043b\\u044c\\u043d\\u044b\\u0435)\",\"Q3 (\\u041f\\u0440\\u0435\\u043c\\u0438\\u0430\\u043b\\u044c\\u043d\\u044b\\u0435)\",\"Q3 (\\u041f\\u0440\\u0435\\u043c\\u0438\\u0430\\u043b\\u044c\\u043d\\u044b\\u0435)\",\"Q3 (\\u041f\\u0440\\u0435\\u043c\\u0438\\u0430\\u043b\\u044c\\u043d\\u044b\\u0435)\",\"Q3 (\\u041f\\u0440\\u0435\\u043c\\u0438\\u0430\\u043b\\u044c\\u043d\\u044b\\u0435)\",\"Q3 (\\u041f\\u0440\\u0435\\u043c\\u0438\\u0430\\u043b\\u044c\\u043d\\u044b\\u0435)\",\"Q3 (\\u041f\\u0440\\u0435\\u043c\\u0438\\u0430\\u043b\\u044c\\u043d\\u044b\\u0435)\",\"Q3 (\\u041f\\u0440\\u0435\\u043c\\u0438\\u0430\\u043b\\u044c\\u043d\\u044b\\u0435)\",\"Q3 (\\u041f\\u0440\\u0435\\u043c\\u0438\\u0430\\u043b\\u044c\\u043d\\u044b\\u0435)\",\"Q3 (\\u041f\\u0440\\u0435\\u043c\\u0438\\u0430\\u043b\\u044c\\u043d\\u044b\\u0435)\",\"Q3 (\\u041f\\u0440\\u0435\\u043c\\u0438\\u0430\\u043b\\u044c\\u043d\\u044b\\u0435)\",\"Q3 (\\u041f\\u0440\\u0435\\u043c\\u0438\\u0430\\u043b\\u044c\\u043d\\u044b\\u0435)\",\"Q3 (\\u041f\\u0440\\u0435\\u043c\\u0438\\u0430\\u043b\\u044c\\u043d\\u044b\\u0435)\",\"Q3 (\\u041f\\u0440\\u0435\\u043c\\u0438\\u0430\\u043b\\u044c\\u043d\\u044b\\u0435)\",\"Q3 (\\u041f\\u0440\\u0435\\u043c\\u0438\\u0430\\u043b\\u044c\\u043d\\u044b\\u0435)\",\"Q3 (\\u041f\\u0440\\u0435\\u043c\\u0438\\u0430\\u043b\\u044c\\u043d\\u044b\\u0435)\",\"Q3 (\\u041f\\u0440\\u0435\\u043c\\u0438\\u0430\\u043b\\u044c\\u043d\\u044b\\u0435)\",\"Q3 (\\u041f\\u0440\\u0435\\u043c\\u0438\\u0430\\u043b\\u044c\\u043d\\u044b\\u0435)\",\"Q3 (\\u041f\\u0440\\u0435\\u043c\\u0438\\u0430\\u043b\\u044c\\u043d\\u044b\\u0435)\",\"Q3 (\\u041f\\u0440\\u0435\\u043c\\u0438\\u0430\\u043b\\u044c\\u043d\\u044b\\u0435)\",\"Q3 (\\u041f\\u0440\\u0435\\u043c\\u0438\\u0430\\u043b\\u044c\\u043d\\u044b\\u0435)\",\"Q3 (\\u041f\\u0440\\u0435\\u043c\\u0438\\u0430\\u043b\\u044c\\u043d\\u044b\\u0435)\",\"Q3 (\\u041f\\u0440\\u0435\\u043c\\u0438\\u0430\\u043b\\u044c\\u043d\\u044b\\u0435)\",\"Q3 (\\u041f\\u0440\\u0435\\u043c\\u0438\\u0430\\u043b\\u044c\\u043d\\u044b\\u0435)\",\"Q3 (\\u041f\\u0440\\u0435\\u043c\\u0438\\u0430\\u043b\\u044c\\u043d\\u044b\\u0435)\",\"Q3 (\\u041f\\u0440\\u0435\\u043c\\u0438\\u0430\\u043b\\u044c\\u043d\\u044b\\u0435)\",\"Q3 (\\u041f\\u0440\\u0435\\u043c\\u0438\\u0430\\u043b\\u044c\\u043d\\u044b\\u0435)\",\"Q3 (\\u041f\\u0440\\u0435\\u043c\\u0438\\u0430\\u043b\\u044c\\u043d\\u044b\\u0435)\",\"Q3 (\\u041f\\u0440\\u0435\\u043c\\u0438\\u0430\\u043b\\u044c\\u043d\\u044b\\u0435)\",\"Q3 (\\u041f\\u0440\\u0435\\u043c\\u0438\\u0430\\u043b\\u044c\\u043d\\u044b\\u0435)\",\"Q3 (\\u041f\\u0440\\u0435\\u043c\\u0438\\u0430\\u043b\\u044c\\u043d\\u044b\\u0435)\",\"Q3 (\\u041f\\u0440\\u0435\\u043c\\u0438\\u0430\\u043b\\u044c\\u043d\\u044b\\u0435)\",\"Q3 (\\u041f\\u0440\\u0435\\u043c\\u0438\\u0430\\u043b\\u044c\\u043d\\u044b\\u0435)\",\"Q3 (\\u041f\\u0440\\u0435\\u043c\\u0438\\u0430\\u043b\\u044c\\u043d\\u044b\\u0435)\",\"Q3 (\\u041f\\u0440\\u0435\\u043c\\u0438\\u0430\\u043b\\u044c\\u043d\\u044b\\u0435)\",\"Q3 (\\u041f\\u0440\\u0435\\u043c\\u0438\\u0430\\u043b\\u044c\\u043d\\u044b\\u0435)\",\"Q3 (\\u041f\\u0440\\u0435\\u043c\\u0438\\u0430\\u043b\\u044c\\u043d\\u044b\\u0435)\",\"Q3 (\\u041f\\u0440\\u0435\\u043c\\u0438\\u0430\\u043b\\u044c\\u043d\\u044b\\u0435)\",\"Q3 (\\u041f\\u0440\\u0435\\u043c\\u0438\\u0430\\u043b\\u044c\\u043d\\u044b\\u0435)\",\"Q3 (\\u041f\\u0440\\u0435\\u043c\\u0438\\u0430\\u043b\\u044c\\u043d\\u044b\\u0435)\",\"Q3 (\\u041f\\u0440\\u0435\\u043c\\u0438\\u0430\\u043b\\u044c\\u043d\\u044b\\u0435)\",\"Q3 (\\u041f\\u0440\\u0435\\u043c\\u0438\\u0430\\u043b\\u044c\\u043d\\u044b\\u0435)\",\"Q3 (\\u041f\\u0440\\u0435\\u043c\\u0438\\u0430\\u043b\\u044c\\u043d\\u044b\\u0435)\",\"Q3 (\\u041f\\u0440\\u0435\\u043c\\u0438\\u0430\\u043b\\u044c\\u043d\\u044b\\u0435)\",\"Q3 (\\u041f\\u0440\\u0435\\u043c\\u0438\\u0430\\u043b\\u044c\\u043d\\u044b\\u0435)\",\"Q3 (\\u041f\\u0440\\u0435\\u043c\\u0438\\u0430\\u043b\\u044c\\u043d\\u044b\\u0435)\",\"Q3 (\\u041f\\u0440\\u0435\\u043c\\u0438\\u0430\\u043b\\u044c\\u043d\\u044b\\u0435)\",\"Q3 (\\u041f\\u0440\\u0435\\u043c\\u0438\\u0430\\u043b\\u044c\\u043d\\u044b\\u0435)\",\"Q3 (\\u041f\\u0440\\u0435\\u043c\\u0438\\u0430\\u043b\\u044c\\u043d\\u044b\\u0435)\",\"Q3 (\\u041f\\u0440\\u0435\\u043c\\u0438\\u0430\\u043b\\u044c\\u043d\\u044b\\u0435)\",\"Q3 (\\u041f\\u0440\\u0435\\u043c\\u0438\\u0430\\u043b\\u044c\\u043d\\u044b\\u0435)\",\"Q3 (\\u041f\\u0440\\u0435\\u043c\\u0438\\u0430\\u043b\\u044c\\u043d\\u044b\\u0435)\",\"Q3 (\\u041f\\u0440\\u0435\\u043c\\u0438\\u0430\\u043b\\u044c\\u043d\\u044b\\u0435)\",\"Q3 (\\u041f\\u0440\\u0435\\u043c\\u0438\\u0430\\u043b\\u044c\\u043d\\u044b\\u0435)\",\"Q3 (\\u041f\\u0440\\u0435\\u043c\\u0438\\u0430\\u043b\\u044c\\u043d\\u044b\\u0435)\",\"Q3 (\\u041f\\u0440\\u0435\\u043c\\u0438\\u0430\\u043b\\u044c\\u043d\\u044b\\u0435)\",\"Q3 (\\u041f\\u0440\\u0435\\u043c\\u0438\\u0430\\u043b\\u044c\\u043d\\u044b\\u0435)\",\"Q3 (\\u041f\\u0440\\u0435\\u043c\\u0438\\u0430\\u043b\\u044c\\u043d\\u044b\\u0435)\",\"Q3 (\\u041f\\u0440\\u0435\\u043c\\u0438\\u0430\\u043b\\u044c\\u043d\\u044b\\u0435)\",\"Q3 (\\u041f\\u0440\\u0435\\u043c\\u0438\\u0430\\u043b\\u044c\\u043d\\u044b\\u0435)\",\"Q3 (\\u041f\\u0440\\u0435\\u043c\\u0438\\u0430\\u043b\\u044c\\u043d\\u044b\\u0435)\",\"Q3 (\\u041f\\u0440\\u0435\\u043c\\u0438\\u0430\\u043b\\u044c\\u043d\\u044b\\u0435)\",\"Q3 (\\u041f\\u0440\\u0435\\u043c\\u0438\\u0430\\u043b\\u044c\\u043d\\u044b\\u0435)\",\"Q3 (\\u041f\\u0440\\u0435\\u043c\\u0438\\u0430\\u043b\\u044c\\u043d\\u044b\\u0435)\"],\"xaxis\":\"x\",\"y\":[229.75600000000003,260.63962499999997,234.7844761904762,199.03140000000002,184.4927142857143,251.56536363636363,236.8743,255.4876,232.8962,191.7856923076923,245.4928,213.93604761904763,194.52636363636364,260.8470357142857,256.55199999999996,188.8964,249.1576,205.02026086956522,203.88899999999998,201.0080769230769,277.0,256.4021818181818,237.83950000000002,235.0188,188.39657142857143,186.8099,229.00942857142857,256.4906,233.69765384615386,204.57216666666667,212.36385714285714,272.00141666666667,223.49765789473685,198.4315,228.02218181818182,204.2145,282.68894736842105,192.43753846153842,247.75054545454543,185.16,186.6984705882353,200.5596,214.79985714285712,217.88831818181816,252.75757894736844,198.7804,232.60264000000004,245.65681249999997,258.81995652173913,199.18210000000002,230.5274117647059,271.8357222222222,198.2227142857143,260.85175,200.34345454545456,227.224625,227.01626190476193,221.5518823529412,259.78791666666666,210.88,192.3962857142857,228.1857333333333,207.4661,224.69545454545457,222.77246666666667,258.8937741935484,278.37850000000003,196.26676470588234,239.4915,266.7583333333333,206.12336,271.83671428571427,263.3152380952381,264.654,245.44341666666665,184.02914285714286,203.55777777777777,214.35195238095235,209.73228571428572,243.35999999999999,225.99644444444445,279.4328235294118,224.5032857142857,251.5236206896552,203.23357142857142,228.43366666666665,220.16860000000003,204.984125,212.0954,221.47228571428573,280.95,270.45941666666664,233.72857142857143,204.04350000000002,233.04306666666668,189.69844444444445,187.43583333333333,184.4974,270.37685714285715,192.26375,218.66130000000004,263.63872727272724,221.23430769230768,202.67961904761904,268.44919999999996,226.67995833333336,218.81377777777777,234.2715,250.1405909090909,252.88145454545455,220.61279999999996,185.34266666666667,273.87583333333333,191.03776470588235,243.55993333333333,280.27628571428573,247.7946,237.37285714285716,240.34105555555556,218.3642857142857,189.48275,213.312,281.0093,216.33,211.84833333333336,237.13000000000002,265.76276923076927,187.4998,243.02636363636364,243.09922222222224,267.78526315789475,204.10442857142857,210.73485714285715,197.74742857142857,264.527,209.69092307692307,199.8590909090909,248.92285714285714,237.8429166666667,262.39575,220.36999999999998,184.048,243.2243333333333,202.41577777777778,209.49066666666667,196.915,257.4555454545455,211.71925,219.00383333333332,206.821875,186.5112,189.61272727272728,194.76666666666668,279.2002,208.79999999999998,207.21072222222222,217.74061538461535,240.37169230769229,185.5205,244.374,271.49525,223.56066666666666,192.5742857142857,266.67575,246.79399999999998,279.98400000000004,248.23313793103446,197.99749999999997,218.49695238095242,204.44033333333334,279.79055555555556,198.14525,203.6890909090909,279.19327272727276,207.7365,232.78488888888887,214.47269565217394,250.3806923076923,223.28927272727276,197.8213882352941,202.80194285714285,270.27175,192.9551111111111,191.7545714285714,282.60749999999996,193.664,199.69605714285714,256.87600000000003,273.66949999999997,251.808,211.1388,254.7339166666667,184.15576923076924,244.19585714285716,233.24566666666666,240.57814285714286,240.03757142857143,259.565],\"yaxis\":\"y\",\"type\":\"bar\"},{\"alignmentgroup\":\"True\",\"hovertemplate\":\"quantile_AOV=%{x}<br>AOV=%{y}<extra></extra>\",\"legendgroup\":\"Q4 (\\u041f\\u0440\\u0435\\u043c\\u0438\\u0443\\u043c)\",\"marker\":{\"color\":\"#ab63fa\",\"pattern\":{\"shape\":\"\"}},\"name\":\"Q4 (\\u041f\\u0440\\u0435\\u043c\\u0438\\u0443\\u043c)\",\"offsetgroup\":\"Q4 (\\u041f\\u0440\\u0435\\u043c\\u0438\\u0443\\u043c)\",\"orientation\":\"v\",\"showlegend\":true,\"textposition\":\"auto\",\"x\":[\"Q4 (\\u041f\\u0440\\u0435\\u043c\\u0438\\u0443\\u043c)\",\"Q4 (\\u041f\\u0440\\u0435\\u043c\\u0438\\u0443\\u043c)\",\"Q4 (\\u041f\\u0440\\u0435\\u043c\\u0438\\u0443\\u043c)\",\"Q4 (\\u041f\\u0440\\u0435\\u043c\\u0438\\u0443\\u043c)\",\"Q4 (\\u041f\\u0440\\u0435\\u043c\\u0438\\u0443\\u043c)\",\"Q4 (\\u041f\\u0440\\u0435\\u043c\\u0438\\u0443\\u043c)\",\"Q4 (\\u041f\\u0440\\u0435\\u043c\\u0438\\u0443\\u043c)\",\"Q4 (\\u041f\\u0440\\u0435\\u043c\\u0438\\u0443\\u043c)\",\"Q4 (\\u041f\\u0440\\u0435\\u043c\\u0438\\u0443\\u043c)\",\"Q4 (\\u041f\\u0440\\u0435\\u043c\\u0438\\u0443\\u043c)\",\"Q4 (\\u041f\\u0440\\u0435\\u043c\\u0438\\u0443\\u043c)\",\"Q4 (\\u041f\\u0440\\u0435\\u043c\\u0438\\u0443\\u043c)\",\"Q4 (\\u041f\\u0440\\u0435\\u043c\\u0438\\u0443\\u043c)\",\"Q4 (\\u041f\\u0440\\u0435\\u043c\\u0438\\u0443\\u043c)\",\"Q4 (\\u041f\\u0440\\u0435\\u043c\\u0438\\u0443\\u043c)\",\"Q4 (\\u041f\\u0440\\u0435\\u043c\\u0438\\u0443\\u043c)\",\"Q4 (\\u041f\\u0440\\u0435\\u043c\\u0438\\u0443\\u043c)\",\"Q4 (\\u041f\\u0440\\u0435\\u043c\\u0438\\u0443\\u043c)\",\"Q4 (\\u041f\\u0440\\u0435\\u043c\\u0438\\u0443\\u043c)\",\"Q4 (\\u041f\\u0440\\u0435\\u043c\\u0438\\u0443\\u043c)\",\"Q4 (\\u041f\\u0440\\u0435\\u043c\\u0438\\u0443\\u043c)\",\"Q4 (\\u041f\\u0440\\u0435\\u043c\\u0438\\u0443\\u043c)\",\"Q4 (\\u041f\\u0440\\u0435\\u043c\\u0438\\u0443\\u043c)\",\"Q4 (\\u041f\\u0440\\u0435\\u043c\\u0438\\u0443\\u043c)\",\"Q4 (\\u041f\\u0440\\u0435\\u043c\\u0438\\u0443\\u043c)\",\"Q4 (\\u041f\\u0440\\u0435\\u043c\\u0438\\u0443\\u043c)\",\"Q4 (\\u041f\\u0440\\u0435\\u043c\\u0438\\u0443\\u043c)\",\"Q4 (\\u041f\\u0440\\u0435\\u043c\\u0438\\u0443\\u043c)\",\"Q4 (\\u041f\\u0440\\u0435\\u043c\\u0438\\u0443\\u043c)\",\"Q4 (\\u041f\\u0440\\u0435\\u043c\\u0438\\u0443\\u043c)\",\"Q4 (\\u041f\\u0440\\u0435\\u043c\\u0438\\u0443\\u043c)\",\"Q4 (\\u041f\\u0440\\u0435\\u043c\\u0438\\u0443\\u043c)\",\"Q4 (\\u041f\\u0440\\u0435\\u043c\\u0438\\u0443\\u043c)\",\"Q4 (\\u041f\\u0440\\u0435\\u043c\\u0438\\u0443\\u043c)\",\"Q4 (\\u041f\\u0440\\u0435\\u043c\\u0438\\u0443\\u043c)\",\"Q4 (\\u041f\\u0440\\u0435\\u043c\\u0438\\u0443\\u043c)\",\"Q4 (\\u041f\\u0440\\u0435\\u043c\\u0438\\u0443\\u043c)\",\"Q4 (\\u041f\\u0440\\u0435\\u043c\\u0438\\u0443\\u043c)\",\"Q4 (\\u041f\\u0440\\u0435\\u043c\\u0438\\u0443\\u043c)\",\"Q4 (\\u041f\\u0440\\u0435\\u043c\\u0438\\u0443\\u043c)\",\"Q4 (\\u041f\\u0440\\u0435\\u043c\\u0438\\u0443\\u043c)\",\"Q4 (\\u041f\\u0440\\u0435\\u043c\\u0438\\u0443\\u043c)\",\"Q4 (\\u041f\\u0440\\u0435\\u043c\\u0438\\u0443\\u043c)\",\"Q4 (\\u041f\\u0440\\u0435\\u043c\\u0438\\u0443\\u043c)\",\"Q4 (\\u041f\\u0440\\u0435\\u043c\\u0438\\u0443\\u043c)\",\"Q4 (\\u041f\\u0440\\u0435\\u043c\\u0438\\u0443\\u043c)\",\"Q4 (\\u041f\\u0440\\u0435\\u043c\\u0438\\u0443\\u043c)\",\"Q4 (\\u041f\\u0440\\u0435\\u043c\\u0438\\u0443\\u043c)\",\"Q4 (\\u041f\\u0440\\u0435\\u043c\\u0438\\u0443\\u043c)\",\"Q4 (\\u041f\\u0440\\u0435\\u043c\\u0438\\u0443\\u043c)\",\"Q4 (\\u041f\\u0440\\u0435\\u043c\\u0438\\u0443\\u043c)\",\"Q4 (\\u041f\\u0440\\u0435\\u043c\\u0438\\u0443\\u043c)\",\"Q4 (\\u041f\\u0440\\u0435\\u043c\\u0438\\u0443\\u043c)\",\"Q4 (\\u041f\\u0440\\u0435\\u043c\\u0438\\u0443\\u043c)\",\"Q4 (\\u041f\\u0440\\u0435\\u043c\\u0438\\u0443\\u043c)\",\"Q4 (\\u041f\\u0440\\u0435\\u043c\\u0438\\u0443\\u043c)\",\"Q4 (\\u041f\\u0440\\u0435\\u043c\\u0438\\u0443\\u043c)\",\"Q4 (\\u041f\\u0440\\u0435\\u043c\\u0438\\u0443\\u043c)\",\"Q4 (\\u041f\\u0440\\u0435\\u043c\\u0438\\u0443\\u043c)\",\"Q4 (\\u041f\\u0440\\u0435\\u043c\\u0438\\u0443\\u043c)\",\"Q4 (\\u041f\\u0440\\u0435\\u043c\\u0438\\u0443\\u043c)\",\"Q4 (\\u041f\\u0440\\u0435\\u043c\\u0438\\u0443\\u043c)\",\"Q4 (\\u041f\\u0440\\u0435\\u043c\\u0438\\u0443\\u043c)\",\"Q4 (\\u041f\\u0440\\u0435\\u043c\\u0438\\u0443\\u043c)\",\"Q4 (\\u041f\\u0440\\u0435\\u043c\\u0438\\u0443\\u043c)\",\"Q4 (\\u041f\\u0440\\u0435\\u043c\\u0438\\u0443\\u043c)\",\"Q4 (\\u041f\\u0440\\u0435\\u043c\\u0438\\u0443\\u043c)\",\"Q4 (\\u041f\\u0440\\u0435\\u043c\\u0438\\u0443\\u043c)\",\"Q4 (\\u041f\\u0440\\u0435\\u043c\\u0438\\u0443\\u043c)\",\"Q4 (\\u041f\\u0440\\u0435\\u043c\\u0438\\u0443\\u043c)\",\"Q4 (\\u041f\\u0440\\u0435\\u043c\\u0438\\u0443\\u043c)\",\"Q4 (\\u041f\\u0440\\u0435\\u043c\\u0438\\u0443\\u043c)\",\"Q4 (\\u041f\\u0440\\u0435\\u043c\\u0438\\u0443\\u043c)\",\"Q4 (\\u041f\\u0440\\u0435\\u043c\\u0438\\u0443\\u043c)\",\"Q4 (\\u041f\\u0440\\u0435\\u043c\\u0438\\u0443\\u043c)\",\"Q4 (\\u041f\\u0440\\u0435\\u043c\\u0438\\u0443\\u043c)\",\"Q4 (\\u041f\\u0440\\u0435\\u043c\\u0438\\u0443\\u043c)\",\"Q4 (\\u041f\\u0440\\u0435\\u043c\\u0438\\u0443\\u043c)\",\"Q4 (\\u041f\\u0440\\u0435\\u043c\\u0438\\u0443\\u043c)\",\"Q4 (\\u041f\\u0440\\u0435\\u043c\\u0438\\u0443\\u043c)\",\"Q4 (\\u041f\\u0440\\u0435\\u043c\\u0438\\u0443\\u043c)\",\"Q4 (\\u041f\\u0440\\u0435\\u043c\\u0438\\u0443\\u043c)\",\"Q4 (\\u041f\\u0440\\u0435\\u043c\\u0438\\u0443\\u043c)\",\"Q4 (\\u041f\\u0440\\u0435\\u043c\\u0438\\u0443\\u043c)\",\"Q4 (\\u041f\\u0440\\u0435\\u043c\\u0438\\u0443\\u043c)\",\"Q4 (\\u041f\\u0440\\u0435\\u043c\\u0438\\u0443\\u043c)\",\"Q4 (\\u041f\\u0440\\u0435\\u043c\\u0438\\u0443\\u043c)\",\"Q4 (\\u041f\\u0440\\u0435\\u043c\\u0438\\u0443\\u043c)\",\"Q4 (\\u041f\\u0440\\u0435\\u043c\\u0438\\u0443\\u043c)\",\"Q4 (\\u041f\\u0440\\u0435\\u043c\\u0438\\u0443\\u043c)\",\"Q4 (\\u041f\\u0440\\u0435\\u043c\\u0438\\u0443\\u043c)\",\"Q4 (\\u041f\\u0440\\u0435\\u043c\\u0438\\u0443\\u043c)\",\"Q4 (\\u041f\\u0440\\u0435\\u043c\\u0438\\u0443\\u043c)\",\"Q4 (\\u041f\\u0440\\u0435\\u043c\\u0438\\u0443\\u043c)\",\"Q4 (\\u041f\\u0440\\u0435\\u043c\\u0438\\u0443\\u043c)\",\"Q4 (\\u041f\\u0440\\u0435\\u043c\\u0438\\u0443\\u043c)\",\"Q4 (\\u041f\\u0440\\u0435\\u043c\\u0438\\u0443\\u043c)\",\"Q4 (\\u041f\\u0440\\u0435\\u043c\\u0438\\u0443\\u043c)\",\"Q4 (\\u041f\\u0440\\u0435\\u043c\\u0438\\u0443\\u043c)\",\"Q4 (\\u041f\\u0440\\u0435\\u043c\\u0438\\u0443\\u043c)\",\"Q4 (\\u041f\\u0440\\u0435\\u043c\\u0438\\u0443\\u043c)\",\"Q4 (\\u041f\\u0440\\u0435\\u043c\\u0438\\u0443\\u043c)\",\"Q4 (\\u041f\\u0440\\u0435\\u043c\\u0438\\u0443\\u043c)\",\"Q4 (\\u041f\\u0440\\u0435\\u043c\\u0438\\u0443\\u043c)\",\"Q4 (\\u041f\\u0440\\u0435\\u043c\\u0438\\u0443\\u043c)\",\"Q4 (\\u041f\\u0440\\u0435\\u043c\\u0438\\u0443\\u043c)\",\"Q4 (\\u041f\\u0440\\u0435\\u043c\\u0438\\u0443\\u043c)\",\"Q4 (\\u041f\\u0440\\u0435\\u043c\\u0438\\u0443\\u043c)\",\"Q4 (\\u041f\\u0440\\u0435\\u043c\\u0438\\u0443\\u043c)\",\"Q4 (\\u041f\\u0440\\u0435\\u043c\\u0438\\u0443\\u043c)\",\"Q4 (\\u041f\\u0440\\u0435\\u043c\\u0438\\u0443\\u043c)\",\"Q4 (\\u041f\\u0440\\u0435\\u043c\\u0438\\u0443\\u043c)\",\"Q4 (\\u041f\\u0440\\u0435\\u043c\\u0438\\u0443\\u043c)\",\"Q4 (\\u041f\\u0440\\u0435\\u043c\\u0438\\u0443\\u043c)\",\"Q4 (\\u041f\\u0440\\u0435\\u043c\\u0438\\u0443\\u043c)\",\"Q4 (\\u041f\\u0440\\u0435\\u043c\\u0438\\u0443\\u043c)\",\"Q4 (\\u041f\\u0440\\u0435\\u043c\\u0438\\u0443\\u043c)\",\"Q4 (\\u041f\\u0440\\u0435\\u043c\\u0438\\u0443\\u043c)\",\"Q4 (\\u041f\\u0440\\u0435\\u043c\\u0438\\u0443\\u043c)\",\"Q4 (\\u041f\\u0440\\u0435\\u043c\\u0438\\u0443\\u043c)\",\"Q4 (\\u041f\\u0440\\u0435\\u043c\\u0438\\u0443\\u043c)\",\"Q4 (\\u041f\\u0440\\u0435\\u043c\\u0438\\u0443\\u043c)\",\"Q4 (\\u041f\\u0440\\u0435\\u043c\\u0438\\u0443\\u043c)\",\"Q4 (\\u041f\\u0440\\u0435\\u043c\\u0438\\u0443\\u043c)\",\"Q4 (\\u041f\\u0440\\u0435\\u043c\\u0438\\u0443\\u043c)\",\"Q4 (\\u041f\\u0440\\u0435\\u043c\\u0438\\u0443\\u043c)\",\"Q4 (\\u041f\\u0440\\u0435\\u043c\\u0438\\u0443\\u043c)\",\"Q4 (\\u041f\\u0440\\u0435\\u043c\\u0438\\u0443\\u043c)\",\"Q4 (\\u041f\\u0440\\u0435\\u043c\\u0438\\u0443\\u043c)\",\"Q4 (\\u041f\\u0440\\u0435\\u043c\\u0438\\u0443\\u043c)\",\"Q4 (\\u041f\\u0440\\u0435\\u043c\\u0438\\u0443\\u043c)\",\"Q4 (\\u041f\\u0440\\u0435\\u043c\\u0438\\u0443\\u043c)\",\"Q4 (\\u041f\\u0440\\u0435\\u043c\\u0438\\u0443\\u043c)\",\"Q4 (\\u041f\\u0440\\u0435\\u043c\\u0438\\u0443\\u043c)\",\"Q4 (\\u041f\\u0440\\u0435\\u043c\\u0438\\u0443\\u043c)\",\"Q4 (\\u041f\\u0440\\u0435\\u043c\\u0438\\u0443\\u043c)\",\"Q4 (\\u041f\\u0440\\u0435\\u043c\\u0438\\u0443\\u043c)\",\"Q4 (\\u041f\\u0440\\u0435\\u043c\\u0438\\u0443\\u043c)\",\"Q4 (\\u041f\\u0440\\u0435\\u043c\\u0438\\u0443\\u043c)\",\"Q4 (\\u041f\\u0440\\u0435\\u043c\\u0438\\u0443\\u043c)\",\"Q4 (\\u041f\\u0440\\u0435\\u043c\\u0438\\u0443\\u043c)\",\"Q4 (\\u041f\\u0440\\u0435\\u043c\\u0438\\u0443\\u043c)\",\"Q4 (\\u041f\\u0440\\u0435\\u043c\\u0438\\u0443\\u043c)\",\"Q4 (\\u041f\\u0440\\u0435\\u043c\\u0438\\u0443\\u043c)\",\"Q4 (\\u041f\\u0440\\u0435\\u043c\\u0438\\u0443\\u043c)\",\"Q4 (\\u041f\\u0440\\u0435\\u043c\\u0438\\u0443\\u043c)\",\"Q4 (\\u041f\\u0440\\u0435\\u043c\\u0438\\u0443\\u043c)\",\"Q4 (\\u041f\\u0440\\u0435\\u043c\\u0438\\u0443\\u043c)\",\"Q4 (\\u041f\\u0440\\u0435\\u043c\\u0438\\u0443\\u043c)\",\"Q4 (\\u041f\\u0440\\u0435\\u043c\\u0438\\u0443\\u043c)\",\"Q4 (\\u041f\\u0440\\u0435\\u043c\\u0438\\u0443\\u043c)\",\"Q4 (\\u041f\\u0440\\u0435\\u043c\\u0438\\u0443\\u043c)\",\"Q4 (\\u041f\\u0440\\u0435\\u043c\\u0438\\u0443\\u043c)\",\"Q4 (\\u041f\\u0440\\u0435\\u043c\\u0438\\u0443\\u043c)\",\"Q4 (\\u041f\\u0440\\u0435\\u043c\\u0438\\u0443\\u043c)\",\"Q4 (\\u041f\\u0440\\u0435\\u043c\\u0438\\u0443\\u043c)\",\"Q4 (\\u041f\\u0440\\u0435\\u043c\\u0438\\u0443\\u043c)\",\"Q4 (\\u041f\\u0440\\u0435\\u043c\\u0438\\u0443\\u043c)\",\"Q4 (\\u041f\\u0440\\u0435\\u043c\\u0438\\u0443\\u043c)\",\"Q4 (\\u041f\\u0440\\u0435\\u043c\\u0438\\u0443\\u043c)\",\"Q4 (\\u041f\\u0440\\u0435\\u043c\\u0438\\u0443\\u043c)\",\"Q4 (\\u041f\\u0440\\u0435\\u043c\\u0438\\u0443\\u043c)\",\"Q4 (\\u041f\\u0440\\u0435\\u043c\\u0438\\u0443\\u043c)\",\"Q4 (\\u041f\\u0440\\u0435\\u043c\\u0438\\u0443\\u043c)\",\"Q4 (\\u041f\\u0440\\u0435\\u043c\\u0438\\u0443\\u043c)\",\"Q4 (\\u041f\\u0440\\u0435\\u043c\\u0438\\u0443\\u043c)\",\"Q4 (\\u041f\\u0440\\u0435\\u043c\\u0438\\u0443\\u043c)\",\"Q4 (\\u041f\\u0440\\u0435\\u043c\\u0438\\u0443\\u043c)\",\"Q4 (\\u041f\\u0440\\u0435\\u043c\\u0438\\u0443\\u043c)\",\"Q4 (\\u041f\\u0440\\u0435\\u043c\\u0438\\u0443\\u043c)\",\"Q4 (\\u041f\\u0440\\u0435\\u043c\\u0438\\u0443\\u043c)\",\"Q4 (\\u041f\\u0440\\u0435\\u043c\\u0438\\u0443\\u043c)\",\"Q4 (\\u041f\\u0440\\u0435\\u043c\\u0438\\u0443\\u043c)\",\"Q4 (\\u041f\\u0440\\u0435\\u043c\\u0438\\u0443\\u043c)\",\"Q4 (\\u041f\\u0440\\u0435\\u043c\\u0438\\u0443\\u043c)\",\"Q4 (\\u041f\\u0440\\u0435\\u043c\\u0438\\u0443\\u043c)\",\"Q4 (\\u041f\\u0440\\u0435\\u043c\\u0438\\u0443\\u043c)\",\"Q4 (\\u041f\\u0440\\u0435\\u043c\\u0438\\u0443\\u043c)\",\"Q4 (\\u041f\\u0440\\u0435\\u043c\\u0438\\u0443\\u043c)\",\"Q4 (\\u041f\\u0440\\u0435\\u043c\\u0438\\u0443\\u043c)\",\"Q4 (\\u041f\\u0440\\u0435\\u043c\\u0438\\u0443\\u043c)\",\"Q4 (\\u041f\\u0440\\u0435\\u043c\\u0438\\u0443\\u043c)\",\"Q4 (\\u041f\\u0440\\u0435\\u043c\\u0438\\u0443\\u043c)\",\"Q4 (\\u041f\\u0440\\u0435\\u043c\\u0438\\u0443\\u043c)\",\"Q4 (\\u041f\\u0440\\u0435\\u043c\\u0438\\u0443\\u043c)\",\"Q4 (\\u041f\\u0440\\u0435\\u043c\\u0438\\u0443\\u043c)\",\"Q4 (\\u041f\\u0440\\u0435\\u043c\\u0438\\u0443\\u043c)\",\"Q4 (\\u041f\\u0440\\u0435\\u043c\\u0438\\u0443\\u043c)\",\"Q4 (\\u041f\\u0440\\u0435\\u043c\\u0438\\u0443\\u043c)\",\"Q4 (\\u041f\\u0440\\u0435\\u043c\\u0438\\u0443\\u043c)\",\"Q4 (\\u041f\\u0440\\u0435\\u043c\\u0438\\u0443\\u043c)\",\"Q4 (\\u041f\\u0440\\u0435\\u043c\\u0438\\u0443\\u043c)\",\"Q4 (\\u041f\\u0440\\u0435\\u043c\\u0438\\u0443\\u043c)\",\"Q4 (\\u041f\\u0440\\u0435\\u043c\\u0438\\u0443\\u043c)\",\"Q4 (\\u041f\\u0440\\u0435\\u043c\\u0438\\u0443\\u043c)\",\"Q4 (\\u041f\\u0440\\u0435\\u043c\\u0438\\u0443\\u043c)\",\"Q4 (\\u041f\\u0440\\u0435\\u043c\\u0438\\u0443\\u043c)\",\"Q4 (\\u041f\\u0440\\u0435\\u043c\\u0438\\u0443\\u043c)\"],\"xaxis\":\"x\",\"y\":[345.87735999999995,453.74800000000005,320.9247142857143,517.647375,293.9484782608696,295.34999999999997,311.0821428571429,388.5909285714286,508.9066666666667,333.17939130434786,309.6891818181818,385.3211428571429,439.9021666666667,348.58815384615383,390.8402,351.11442857142856,421.38306666666665,736.851875,396.70283333333333,543.5541818181819,537.4766153846153,325.18559999999997,568.2141428571429,340.77988888888893,402.640875,488.80100000000004,479.2389090909091,781.6524000000001,473.9935882352941,369.64184615384613,399.3866,327.75261538461535,461.3817142857143,464.09071428571434,339.7194636363636,430.86777777777775,441.65199999999993,319.44685714285714,401.7795,333.5854615384615,336.9537142857143,558.2487,594.4875714285714,291.481619047619,312.96200000000005,338.2864,839.8521666666667,303.7481666666667,642.8333636363636,317.9565,895.4019999999998,364.824,382.692875,315.2615,441.12429999999995,300.9747894736842,407.5903448275862,381.8624,289.0532857142857,544.766,321.43075,314.67833333333334,402.504,519.2959117647059,288.23302941176473,331.58875,347.9489230769231,362.1571666666666,419.54975,1558.5353333333333,325.6996923076923,297.12642857142856,358.46718749999997,681.79375,392.5516666666666,438.80724999999995,452.67199999999997,465.01270000000005,325.71090909090907,324.4896,480.384,587.9517142857143,366.4128,1170.2998181818182,310.15375,467.1862222222223,308.3048,642.6020000000001,293.66436363636365,339.22355555555555,1751.2920000000001,289.01390000000004,429.78,283.43044444444445,557.3264,399.47725,361.902,526.4333846153846,294.94350000000003,505.77818181818185,351.3505,374.91335714285714,357.0837230769231,287.60254545454546,332.086375,607.9371153846154,863.88,451.27880000000005,469.8721538461538,490.92440000000005,385.8752857142857,385.55266666666665,305.0692,411.83824000000004,560.0369999999999,723.6785499999999,285.2951111111111,321.6261304347826,443.2138,484.71490909090915,292.1877142857143,632.2283333333332,633.95576,792.7834,551.551,307.4788571428571,353.82933333333335,734.272,537.2935294117647,417.28460000000007,358.14592307692305,383.20057142857144,284.862,391.4802857142857,353.68844444444443,328.8188181818182,299.06415384615383,346.11771428571427,324.616,340.5493846153846,387.74879999999996,326.29963636363635,384.309,361.681875,614.205111111111,322.21500000000003,397.4507272727273,395.3564999999999,361.3676,581.5983333333334,1587.6848333333335,298.91909090909087,589.1258888888889,360.0525714285714,339.8191111111111,381.56428571428575,1669.5366666666666,532.90048,313.33566666666667,357.9211111111111,366.7157142857142,358.142,326.8679166666667,299.6268,549.9969090909091,586.5443076923077,288.214,1459.5620000000001,294.19825,335.4803636363636,330.22619999999995,452.2876,398.42233333333337,298.4948,642.3744615384616,317.25515,378.97228,313.42092307692303,1102.6429090909094,294.768,359.27566666666667,342.9693043478261,388.9366,549.4492666666666,476.99284210526315,285.0492142857143,285.4784,311.92395,325.8695,1166.8503333333333,1048.196,293.4485714285714,326.9746666666667,416.4075555555556,534.2496666666667,718.1575,306.49633846153847,463.8037142857143],\"yaxis\":\"y\",\"type\":\"bar\"}],                        {\"template\":{\"data\":{\"histogram2dcontour\":[{\"type\":\"histogram2dcontour\",\"colorbar\":{\"outlinewidth\":0,\"ticks\":\"\"},\"colorscale\":[[0.0,\"#0d0887\"],[0.1111111111111111,\"#46039f\"],[0.2222222222222222,\"#7201a8\"],[0.3333333333333333,\"#9c179e\"],[0.4444444444444444,\"#bd3786\"],[0.5555555555555556,\"#d8576b\"],[0.6666666666666666,\"#ed7953\"],[0.7777777777777778,\"#fb9f3a\"],[0.8888888888888888,\"#fdca26\"],[1.0,\"#f0f921\"]]}],\"choropleth\":[{\"type\":\"choropleth\",\"colorbar\":{\"outlinewidth\":0,\"ticks\":\"\"}}],\"histogram2d\":[{\"type\":\"histogram2d\",\"colorbar\":{\"outlinewidth\":0,\"ticks\":\"\"},\"colorscale\":[[0.0,\"#0d0887\"],[0.1111111111111111,\"#46039f\"],[0.2222222222222222,\"#7201a8\"],[0.3333333333333333,\"#9c179e\"],[0.4444444444444444,\"#bd3786\"],[0.5555555555555556,\"#d8576b\"],[0.6666666666666666,\"#ed7953\"],[0.7777777777777778,\"#fb9f3a\"],[0.8888888888888888,\"#fdca26\"],[1.0,\"#f0f921\"]]}],\"heatmap\":[{\"type\":\"heatmap\",\"colorbar\":{\"outlinewidth\":0,\"ticks\":\"\"},\"colorscale\":[[0.0,\"#0d0887\"],[0.1111111111111111,\"#46039f\"],[0.2222222222222222,\"#7201a8\"],[0.3333333333333333,\"#9c179e\"],[0.4444444444444444,\"#bd3786\"],[0.5555555555555556,\"#d8576b\"],[0.6666666666666666,\"#ed7953\"],[0.7777777777777778,\"#fb9f3a\"],[0.8888888888888888,\"#fdca26\"],[1.0,\"#f0f921\"]]}],\"heatmapgl\":[{\"type\":\"heatmapgl\",\"colorbar\":{\"outlinewidth\":0,\"ticks\":\"\"},\"colorscale\":[[0.0,\"#0d0887\"],[0.1111111111111111,\"#46039f\"],[0.2222222222222222,\"#7201a8\"],[0.3333333333333333,\"#9c179e\"],[0.4444444444444444,\"#bd3786\"],[0.5555555555555556,\"#d8576b\"],[0.6666666666666666,\"#ed7953\"],[0.7777777777777778,\"#fb9f3a\"],[0.8888888888888888,\"#fdca26\"],[1.0,\"#f0f921\"]]}],\"contourcarpet\":[{\"type\":\"contourcarpet\",\"colorbar\":{\"outlinewidth\":0,\"ticks\":\"\"}}],\"contour\":[{\"type\":\"contour\",\"colorbar\":{\"outlinewidth\":0,\"ticks\":\"\"},\"colorscale\":[[0.0,\"#0d0887\"],[0.1111111111111111,\"#46039f\"],[0.2222222222222222,\"#7201a8\"],[0.3333333333333333,\"#9c179e\"],[0.4444444444444444,\"#bd3786\"],[0.5555555555555556,\"#d8576b\"],[0.6666666666666666,\"#ed7953\"],[0.7777777777777778,\"#fb9f3a\"],[0.8888888888888888,\"#fdca26\"],[1.0,\"#f0f921\"]]}],\"surface\":[{\"type\":\"surface\",\"colorbar\":{\"outlinewidth\":0,\"ticks\":\"\"},\"colorscale\":[[0.0,\"#0d0887\"],[0.1111111111111111,\"#46039f\"],[0.2222222222222222,\"#7201a8\"],[0.3333333333333333,\"#9c179e\"],[0.4444444444444444,\"#bd3786\"],[0.5555555555555556,\"#d8576b\"],[0.6666666666666666,\"#ed7953\"],[0.7777777777777778,\"#fb9f3a\"],[0.8888888888888888,\"#fdca26\"],[1.0,\"#f0f921\"]]}],\"mesh3d\":[{\"type\":\"mesh3d\",\"colorbar\":{\"outlinewidth\":0,\"ticks\":\"\"}}],\"scatter\":[{\"fillpattern\":{\"fillmode\":\"overlay\",\"size\":10,\"solidity\":0.2},\"type\":\"scatter\"}],\"parcoords\":[{\"type\":\"parcoords\",\"line\":{\"colorbar\":{\"outlinewidth\":0,\"ticks\":\"\"}}}],\"scatterpolargl\":[{\"type\":\"scatterpolargl\",\"marker\":{\"colorbar\":{\"outlinewidth\":0,\"ticks\":\"\"}}}],\"bar\":[{\"error_x\":{\"color\":\"#2a3f5f\"},\"error_y\":{\"color\":\"#2a3f5f\"},\"marker\":{\"line\":{\"color\":\"#E5ECF6\",\"width\":0.5},\"pattern\":{\"fillmode\":\"overlay\",\"size\":10,\"solidity\":0.2}},\"type\":\"bar\"}],\"scattergeo\":[{\"type\":\"scattergeo\",\"marker\":{\"colorbar\":{\"outlinewidth\":0,\"ticks\":\"\"}}}],\"scatterpolar\":[{\"type\":\"scatterpolar\",\"marker\":{\"colorbar\":{\"outlinewidth\":0,\"ticks\":\"\"}}}],\"histogram\":[{\"marker\":{\"pattern\":{\"fillmode\":\"overlay\",\"size\":10,\"solidity\":0.2}},\"type\":\"histogram\"}],\"scattergl\":[{\"type\":\"scattergl\",\"marker\":{\"colorbar\":{\"outlinewidth\":0,\"ticks\":\"\"}}}],\"scatter3d\":[{\"type\":\"scatter3d\",\"line\":{\"colorbar\":{\"outlinewidth\":0,\"ticks\":\"\"}},\"marker\":{\"colorbar\":{\"outlinewidth\":0,\"ticks\":\"\"}}}],\"scattermapbox\":[{\"type\":\"scattermapbox\",\"marker\":{\"colorbar\":{\"outlinewidth\":0,\"ticks\":\"\"}}}],\"scatterternary\":[{\"type\":\"scatterternary\",\"marker\":{\"colorbar\":{\"outlinewidth\":0,\"ticks\":\"\"}}}],\"scattercarpet\":[{\"type\":\"scattercarpet\",\"marker\":{\"colorbar\":{\"outlinewidth\":0,\"ticks\":\"\"}}}],\"carpet\":[{\"aaxis\":{\"endlinecolor\":\"#2a3f5f\",\"gridcolor\":\"white\",\"linecolor\":\"white\",\"minorgridcolor\":\"white\",\"startlinecolor\":\"#2a3f5f\"},\"baxis\":{\"endlinecolor\":\"#2a3f5f\",\"gridcolor\":\"white\",\"linecolor\":\"white\",\"minorgridcolor\":\"white\",\"startlinecolor\":\"#2a3f5f\"},\"type\":\"carpet\"}],\"table\":[{\"cells\":{\"fill\":{\"color\":\"#EBF0F8\"},\"line\":{\"color\":\"white\"}},\"header\":{\"fill\":{\"color\":\"#C8D4E3\"},\"line\":{\"color\":\"white\"}},\"type\":\"table\"}],\"barpolar\":[{\"marker\":{\"line\":{\"color\":\"#E5ECF6\",\"width\":0.5},\"pattern\":{\"fillmode\":\"overlay\",\"size\":10,\"solidity\":0.2}},\"type\":\"barpolar\"}],\"pie\":[{\"automargin\":true,\"type\":\"pie\"}]},\"layout\":{\"autotypenumbers\":\"strict\",\"colorway\":[\"#636efa\",\"#EF553B\",\"#00cc96\",\"#ab63fa\",\"#FFA15A\",\"#19d3f3\",\"#FF6692\",\"#B6E880\",\"#FF97FF\",\"#FECB52\"],\"font\":{\"color\":\"#2a3f5f\"},\"hovermode\":\"closest\",\"hoverlabel\":{\"align\":\"left\"},\"paper_bgcolor\":\"white\",\"plot_bgcolor\":\"#E5ECF6\",\"polar\":{\"bgcolor\":\"#E5ECF6\",\"angularaxis\":{\"gridcolor\":\"white\",\"linecolor\":\"white\",\"ticks\":\"\"},\"radialaxis\":{\"gridcolor\":\"white\",\"linecolor\":\"white\",\"ticks\":\"\"}},\"ternary\":{\"bgcolor\":\"#E5ECF6\",\"aaxis\":{\"gridcolor\":\"white\",\"linecolor\":\"white\",\"ticks\":\"\"},\"baxis\":{\"gridcolor\":\"white\",\"linecolor\":\"white\",\"ticks\":\"\"},\"caxis\":{\"gridcolor\":\"white\",\"linecolor\":\"white\",\"ticks\":\"\"}},\"coloraxis\":{\"colorbar\":{\"outlinewidth\":0,\"ticks\":\"\"}},\"colorscale\":{\"sequential\":[[0.0,\"#0d0887\"],[0.1111111111111111,\"#46039f\"],[0.2222222222222222,\"#7201a8\"],[0.3333333333333333,\"#9c179e\"],[0.4444444444444444,\"#bd3786\"],[0.5555555555555556,\"#d8576b\"],[0.6666666666666666,\"#ed7953\"],[0.7777777777777778,\"#fb9f3a\"],[0.8888888888888888,\"#fdca26\"],[1.0,\"#f0f921\"]],\"sequentialminus\":[[0.0,\"#0d0887\"],[0.1111111111111111,\"#46039f\"],[0.2222222222222222,\"#7201a8\"],[0.3333333333333333,\"#9c179e\"],[0.4444444444444444,\"#bd3786\"],[0.5555555555555556,\"#d8576b\"],[0.6666666666666666,\"#ed7953\"],[0.7777777777777778,\"#fb9f3a\"],[0.8888888888888888,\"#fdca26\"],[1.0,\"#f0f921\"]],\"diverging\":[[0,\"#8e0152\"],[0.1,\"#c51b7d\"],[0.2,\"#de77ae\"],[0.3,\"#f1b6da\"],[0.4,\"#fde0ef\"],[0.5,\"#f7f7f7\"],[0.6,\"#e6f5d0\"],[0.7,\"#b8e186\"],[0.8,\"#7fbc41\"],[0.9,\"#4d9221\"],[1,\"#276419\"]]},\"xaxis\":{\"gridcolor\":\"white\",\"linecolor\":\"white\",\"ticks\":\"\",\"title\":{\"standoff\":15},\"zerolinecolor\":\"white\",\"automargin\":true,\"zerolinewidth\":2},\"yaxis\":{\"gridcolor\":\"white\",\"linecolor\":\"white\",\"ticks\":\"\",\"title\":{\"standoff\":15},\"zerolinecolor\":\"white\",\"automargin\":true,\"zerolinewidth\":2},\"scene\":{\"xaxis\":{\"backgroundcolor\":\"#E5ECF6\",\"gridcolor\":\"white\",\"linecolor\":\"white\",\"showbackground\":true,\"ticks\":\"\",\"zerolinecolor\":\"white\",\"gridwidth\":2},\"yaxis\":{\"backgroundcolor\":\"#E5ECF6\",\"gridcolor\":\"white\",\"linecolor\":\"white\",\"showbackground\":true,\"ticks\":\"\",\"zerolinecolor\":\"white\",\"gridwidth\":2},\"zaxis\":{\"backgroundcolor\":\"#E5ECF6\",\"gridcolor\":\"white\",\"linecolor\":\"white\",\"showbackground\":true,\"ticks\":\"\",\"zerolinecolor\":\"white\",\"gridwidth\":2}},\"shapedefaults\":{\"line\":{\"color\":\"#2a3f5f\"}},\"annotationdefaults\":{\"arrowcolor\":\"#2a3f5f\",\"arrowhead\":0,\"arrowwidth\":1},\"geo\":{\"bgcolor\":\"white\",\"landcolor\":\"#E5ECF6\",\"subunitcolor\":\"white\",\"showland\":true,\"showlakes\":true,\"lakecolor\":\"white\"},\"title\":{\"x\":0.05},\"mapbox\":{\"style\":\"light\"}}},\"xaxis\":{\"anchor\":\"y\",\"domain\":[0.0,1.0],\"title\":{\"text\":\"quantile_AOV\"},\"categoryorder\":\"array\",\"categoryarray\":[\"Q1 (\\u042d\\u043a\\u043e\\u043d\\u043e\\u043c\\u043d\\u044b\\u0435)\",\"Q2 (\\u0421\\u0442\\u0430\\u043d\\u0434\\u0430\\u0440\\u0442\\u043d\\u044b\\u0435)\",\"Q3 (\\u041f\\u0440\\u0435\\u043c\\u0438\\u0430\\u043b\\u044c\\u043d\\u044b\\u0435)\",\"Q4 (\\u041f\\u0440\\u0435\\u043c\\u0438\\u0443\\u043c)\",null]},\"yaxis\":{\"anchor\":\"x\",\"domain\":[0.0,1.0],\"title\":{\"text\":\"AOV\"}},\"legend\":{\"title\":{\"text\":\"quantile_AOV\"},\"tracegroupgap\":0},\"title\":{\"text\":\"\\u0421\\u0435\\u0433\\u043c\\u0435\\u043d\\u0442\\u0430\\u0446\\u0438\\u044f \\u043a\\u043b\\u0438\\u0435\\u043d\\u0442\\u043e\\u0432 \\u043f\\u043e \\u0441\\u0440\\u0435\\u0434\\u043d\\u0435\\u043c\\u0443 \\u0447\\u0435\\u043a\\u0443\"},\"barmode\":\"relative\"},                        {\"responsive\": true}                    ).then(function(){\n",
       "                            \n",
       "var gd = document.getElementById('b64b9f09-c8af-4240-a421-65a32e5010e1');\n",
       "var x = new MutationObserver(function (mutations, observer) {{\n",
       "        var display = window.getComputedStyle(gd).display;\n",
       "        if (!display || display === 'none') {{\n",
       "            console.log([gd, 'removed!']);\n",
       "            Plotly.purge(gd);\n",
       "            observer.disconnect();\n",
       "        }}\n",
       "}});\n",
       "\n",
       "// Listen for the removal of the full notebook cells\n",
       "var notebookContainer = gd.closest('#notebook-container');\n",
       "if (notebookContainer) {{\n",
       "    x.observe(notebookContainer, {childList: true});\n",
       "}}\n",
       "\n",
       "// Listen for the clearing of the current output cell\n",
       "var outputEl = gd.closest('.output');\n",
       "if (outputEl) {{\n",
       "    x.observe(outputEl, {childList: true});\n",
       "}}\n",
       "\n",
       "                        })                };                });            </script>        </div>"
      ]
     },
     "metadata": {},
     "output_type": "display_data"
    }
   ],
   "source": [
    "# визуализация квантилей по частоте покупок, визуализация по среднему чеку\n",
    "graph_pf = px.bar(\n",
    "     Superstore_viz,\n",
    "     x = 'quantile_pf_month',\n",
    "     y = 'pf_month',\n",
    "     color = 'quantile_pf_month',\n",
    "     title = 'Сегментация клиентов по частоте покупок',\n",
    "     category_orders={\n",
    "        'quantile_pf_month': ['Q1 (Редкие)', 'Q2 (Умеренные)', 'Q3 (Частые)', 'Q4 (VIP)']\n",
    "    }\n",
    "    )\n",
    "\n",
    "graph_AOV = px.bar(\n",
    "     Superstore_viz,\n",
    "     x = 'quantile_AOV',\n",
    "     y = 'AOV',\n",
    "     color = 'quantile_AOV',\n",
    "     title = 'Сегментация клиентов по среднему чеку',\n",
    "     category_orders={\n",
    "        'quantile_AOV': ['Q1 (Экономные)', 'Q2 (Стандартные)', 'Q3 (Премиальные)', 'Q4 (Премиум)']\n",
    "     }\n",
    "    )\n",
    "\n",
    "graph_pf.show()\n",
    "graph_AOV.show()"
   ]
  }
 ],
 "metadata": {
  "kernelspec": {
   "display_name": "Python 3 (ipykernel)",
   "language": "python",
   "name": "python3"
  },
  "language_info": {
   "codemirror_mode": {
    "name": "ipython",
    "version": 3
   },
   "file_extension": ".py",
   "mimetype": "text/x-python",
   "name": "python",
   "nbconvert_exporter": "python",
   "pygments_lexer": "ipython3",
   "version": "3.11.7"
  }
 },
 "nbformat": 4,
 "nbformat_minor": 5
}
